{
  "nbformat": 4,
  "nbformat_minor": 0,
  "metadata": {
    "colab": {
      "name": "9. Recurrent Neural Networks(1).ipynb",
      "provenance": [],
      "authorship_tag": "ABX9TyOtC8afXQ9s0Q71OScW4o96"
    },
    "kernelspec": {
      "name": "python3",
      "display_name": "Python 3"
    },
    "language_info": {
      "name": "python"
    }
  },
  "cells": [
    {
      "cell_type": "markdown",
      "source": [
        "# **9.5 Machine Translation and the Dataset**\n",
        "\n"
      ],
      "metadata": {
        "id": "Lft0RBMCAEvr"
      }
    },
    {
      "cell_type": "code",
      "execution_count": null,
      "metadata": {
        "id": "ITIWB3K4_9fF"
      },
      "outputs": [],
      "source": [
        "import os\n",
        "import torch\n",
        "from d2l import torch as d2l"
      ]
    },
    {
      "cell_type": "markdown",
      "source": [
        "9.5.1 Downloading and Preprocessing the Dataset"
      ],
      "metadata": {
        "id": "YXfC7APxALJ7"
      }
    },
    {
      "cell_type": "code",
      "source": [
        "#@save\n",
        "d2l.DATA_HUB['fra-eng'] = (d2l.DATA_URL + 'fra-eng.zip',\n",
        "                          '94646ad1522d915e7b0f9296181140edcf86a4f5')\n",
        "\n",
        "#@save\n",
        "def read_data_nmt():\n",
        "  \"\"\"Load the English-French dataset.\"\"\"\n",
        "  data_dir = d2l.download_extract('fra-eng')\n",
        "  with open(os.path.join(data_dir, 'fra.txt'), 'r') as f:\n",
        "    return f.read()\n",
        "    \n",
        "raw_text = read_data_nmt()\n",
        "print(raw_text[:75])"
      ],
      "metadata": {
        "id": "TSYX_MjAANgl"
      },
      "execution_count": null,
      "outputs": []
    },
    {
      "cell_type": "code",
      "source": [
        "#@save\n",
        "def preprocess_nmt(text):\n",
        "  \"\"\"Preprocess the English-French dataset.\"\"\"\n",
        "\n",
        "def no_space(char, prev_char):\n",
        "  return char in set(',.!?') and prev_char != ' '\n",
        "  # Replace non-breaking space with space, and convert uppercase letters to\n",
        "  # lowercase ones\n",
        "  text = text.replace('\\u202f', ' ').replace('\\xa0', ' ').lower()\n",
        "  # Insert space between words and punctuation marks\n",
        "  out = [' ' + char if i > 0 and no_space(char, text[i - 1]) else char\n",
        "        for i, char in enumerate(text)]\n",
        "  return ''.join(out)\n",
        "\n",
        "text = preprocess_nmt(raw_text)\n",
        "print(text[:80])"
      ],
      "metadata": {
        "id": "OGxf9S7cAXz7"
      },
      "execution_count": null,
      "outputs": []
    },
    {
      "cell_type": "markdown",
      "source": [
        "9.5.2 Tokenization"
      ],
      "metadata": {
        "id": "_FKb3H64AqVc"
      }
    },
    {
      "cell_type": "code",
      "source": [
        "#@save\n",
        "def tokenize_nmt(text, num_examples=None):\n",
        "  \"\"\"Tokenize the English-French dataset.\"\"\"\n",
        "  source, target = [], []\n",
        "  for i, line in enumerate(text.split('\\n')):\n",
        "    if num_examples and i > num_examples:\n",
        "      break\n",
        "    parts = line.split('\\t')\n",
        "    if len(parts) == 2:\n",
        "      source.append(parts[0].split(' '))\n",
        "      target.append(parts[1].split(' '))\n",
        "  return source, target\n",
        "\n",
        "source, target = tokenize_nmt(text)\n",
        "source[:6], target[:6]"
      ],
      "metadata": {
        "id": "CnpFDIAIAoGA"
      },
      "execution_count": null,
      "outputs": []
    },
    {
      "cell_type": "code",
      "source": [
        "#@save\n",
        "def show_list_len_pair_hist(legend, xlabel, ylabel, xlist, ylist):\n",
        "  \"\"\"Plot the histogram for list length pairs.\"\"\"\n",
        "  d2l.set_figsize()\n",
        "  _, _, patches = d2l.plt.hist(\n",
        "        [[len(l) for l in xlist], [len(l) for l in ylist]])\n",
        "  d2l.plt.xlabel(xlabel)\n",
        "  d2l.plt.ylabel(ylabel)\n",
        "  for patch in patches[1].patches:\n",
        "    patch.set_hatch('/')\n",
        "  d2l.plt.legend(legend)\n",
        "\n",
        "show_list_len_pair_hist(['source', 'target'], '# tokens per sequence',\n",
        "                            'count', source, target);\n"
      ],
      "metadata": {
        "id": "sjYPCU-VA8IB"
      },
      "execution_count": null,
      "outputs": []
    },
    {
      "cell_type": "markdown",
      "source": [
        "9.5.3 Vocabulary"
      ],
      "metadata": {
        "id": "Gq127HkZBG3s"
      }
    },
    {
      "cell_type": "code",
      "source": [
        "src_vocab = d2l.Vocab(source, min_freq=2,\n",
        "                      reserved_tokens=['<pad>', '<bos>', '<eos>'])\n",
        "len(src_vocab)"
      ],
      "metadata": {
        "id": "9fVTkGB6BJrI"
      },
      "execution_count": null,
      "outputs": []
    },
    {
      "cell_type": "markdown",
      "source": [
        "9.5.4 Reading the Dataset"
      ],
      "metadata": {
        "id": "3cKBolwwBRNg"
      }
    },
    {
      "cell_type": "code",
      "source": [
        "#@save\n",
        "def truncate_pad(line, num_steps, padding_token):\n",
        "  \"\"\"Truncate or pad sequences.\"\"\"\n",
        "  if len(line) > num_steps:\n",
        "    return line[:num_steps] # Truncate\n",
        "  return line + [padding_token] * (num_steps - len(line)) # Pad\n",
        "truncate_pad(src_vocab[source[0]], 10, src_vocab['<pad>'])"
      ],
      "metadata": {
        "id": "xn5xwmoNBRnt"
      },
      "execution_count": null,
      "outputs": []
    },
    {
      "cell_type": "code",
      "source": [
        "#@save\n",
        "def build_array_nmt(lines, vocab, num_steps):\n",
        "  \"\"\"Transform text sequences of machine translation into minibatches.\"\"\"\n",
        "  lines = [vocab[l] for l in lines]\n",
        "  lines = [l + [vocab['<eos>']] for l in lines]\n",
        "  array = torch.tensor([truncate_pad(\n",
        "                      l, num_steps, vocab['<pad>']) for l in lines])\n",
        "  valid_len = (array != vocab['<pad>']).type(torch.int32).sum(1)\n",
        "  return array, valid_len"
      ],
      "metadata": {
        "id": "VRMaOXX_BYGh"
      },
      "execution_count": null,
      "outputs": []
    },
    {
      "cell_type": "markdown",
      "source": [
        "9.5.5 Putting All Things Together"
      ],
      "metadata": {
        "id": "zFVxou4iBeLA"
      }
    },
    {
      "cell_type": "code",
      "source": [
        "#@save\n",
        "def load_data_nmt(batch_size, num_steps, num_examples=600):\n",
        "  \"\"\"Return the iterator and the vocabularies of the translation dataset.\"\"\"\n",
        "  text = preprocess_nmt(read_data_nmt())\n",
        "  source, target = tokenize_nmt(text, num_examples)\n",
        "  src_vocab = d2l.Vocab(source, min_freq=2,\n",
        "                        reserved_tokens=['<pad>', '<bos>', '<eos>'])\n",
        "  tgt_vocab = d2l.Vocab(target, min_freq=2,\n",
        "                        reserved_tokens=['<pad>', '<bos>', '<eos>'])\n",
        "  src_array, src_valid_len = build_array_nmt(source, src_vocab, num_steps)\n",
        "  tgt_array, tgt_valid_len = build_array_nmt(target, tgt_vocab, num_steps)\n",
        "  data_arrays = (src_array, src_valid_len, tgt_array, tgt_valid_len)\n",
        "  data_iter = d2l.load_array(data_arrays, batch_size)\n",
        "  return data_iter, src_vocab, tgt_vocab"
      ],
      "metadata": {
        "id": "HB9K1WR-BepO"
      },
      "execution_count": null,
      "outputs": []
    },
    {
      "cell_type": "code",
      "source": [
        "train_iter, src_vocab, tgt_vocab = load_data_nmt(batch_size=2, num_steps=8)\n",
        "for X, X_valid_len, Y, Y_valid_len in train_iter:\n",
        "  print('X:', X.type(torch.int32))\n",
        "  print('valid lengths for X:', X_valid_len)\n",
        "  print('Y:', Y.type(torch.int32))\n",
        "  print('valid lengths for Y:', Y_valid_len)\n",
        "  break"
      ],
      "metadata": {
        "id": "eBvIMoYXBorM"
      },
      "execution_count": null,
      "outputs": []
    },
    {
      "cell_type": "markdown",
      "source": [
        "# **9.6 Encoder-Decoder Architecture**\n",
        "\n",
        "9.6.1 Encoder"
      ],
      "metadata": {
        "id": "hO0YiN5KBtQC"
      }
    },
    {
      "cell_type": "code",
      "source": [
        "from torch import nn\n",
        "#@save\n",
        "class Encoder(nn.Module):\n",
        "  \"\"\"The base encoder interface for the encoder-decoder architecture.\"\"\"\n",
        "  def __init__(self, **kwargs):\n",
        "    super(Encoder, self).__init__(**kwargs)\n",
        "\n",
        "  def forward(self, X, *args):\n",
        "    raise NotImplementedError"
      ],
      "metadata": {
        "id": "1AOcaFn0BwEw"
      },
      "execution_count": null,
      "outputs": []
    },
    {
      "cell_type": "markdown",
      "source": [
        "9.6.2 Decoder"
      ],
      "metadata": {
        "id": "Ax_dKzWaB3tH"
      }
    },
    {
      "cell_type": "code",
      "source": [
        "#@save\n",
        "class Decoder(nn.Module):\n",
        "  \"\"\"The base decoder interface for the encoder-decoder architecture.\"\"\"\n",
        "  def __init__(self, **kwargs):\n",
        "    super(Decoder, self).__init__(**kwargs)\n",
        "  def init_state(self, enc_outputs, *args):\n",
        "    raise NotImplementedError\n",
        "  def forward(self, X, state):\n",
        "    raise NotImplementedError"
      ],
      "metadata": {
        "id": "qi_GPNHTB2Xz"
      },
      "execution_count": null,
      "outputs": []
    },
    {
      "cell_type": "markdown",
      "source": [
        "9.6.3 Putting the Encoder and Decoder Together"
      ],
      "metadata": {
        "id": "Q5zLlCuLB9-5"
      }
    },
    {
      "cell_type": "code",
      "source": [
        "#@save\n",
        "class EncoderDecoder(nn.Module):\n",
        "  \"\"\"The base class for the encoder-decoder architecture.\"\"\"\n",
        "  def __init__(self, encoder, decoder, **kwargs):\n",
        "    super(EncoderDecoder, self).__init__(**kwargs)\n",
        "    self.encoder = encoder\n",
        "    self.decoder = decoder\n",
        "\n",
        "  def forward(self, enc_X, dec_X, *args):\n",
        "    enc_outputs = self.encoder(enc_X, *args)\n",
        "    dec_state = self.decoder.init_state(enc_outputs, *args)\n",
        "    return self.decoder(dec_X, dec_state)"
      ],
      "metadata": {
        "id": "Aff69RyjB-Td"
      },
      "execution_count": null,
      "outputs": []
    },
    {
      "cell_type": "markdown",
      "source": [
        "# **9.7 Sequence to Sequence Learning**"
      ],
      "metadata": {
        "id": "OVMGYwbmCG_z"
      }
    },
    {
      "cell_type": "code",
      "source": [
        "import collections\n",
        "import math\n",
        "import torch\n",
        "from torch import nn\n",
        "from d2l import torch as d2l"
      ],
      "metadata": {
        "id": "_cuTqx86CJGS"
      },
      "execution_count": null,
      "outputs": []
    },
    {
      "cell_type": "markdown",
      "source": [
        "9.7.1 Encoder"
      ],
      "metadata": {
        "id": "Xs6LrZyVCJiT"
      }
    },
    {
      "cell_type": "code",
      "source": [
        "#@save\n",
        "class Seq2SeqEncoder(d2l.Encoder):\n",
        "  \"\"\"The RNN encoder for sequence to sequence learning.\"\"\"\n",
        "  def __init__(self, vocab_size, embed_size, num_hiddens, num_layers,\n",
        "                dropout=0, **kwargs):\n",
        "    super(Seq2SeqEncoder, self).__init__(**kwargs)\n",
        "    # Embedding layer\n",
        "    self.embedding = nn.Embedding(vocab_size, embed_size)\n",
        "    self.rnn = nn.GRU(embed_size, num_hiddens, num_layers,\n",
        "                      dropout=dropout)\n",
        "  def forward(self, X, *args):\n",
        "    # The output `X` shape: (`batch_size`, `num_steps`, `embed_size`)\n",
        "    X = self.embedding(X)\n",
        "    # In RNN models, the first axis corresponds to time steps\n",
        "    X = X.permute(1, 0, 2)\n",
        "    # When state is not mentioned, it defaults to zeros\n",
        "    output, state = self.rnn(X)\n",
        "    # `output` shape: (`num_steps`, `batch_size`, `num_hiddens`)\n",
        "    # `state` shape: (`num_layers`, `batch_size`, `num_hiddens`)\n",
        "    return output, state"
      ],
      "metadata": {
        "id": "-kmg4J80CLYO"
      },
      "execution_count": null,
      "outputs": []
    },
    {
      "cell_type": "code",
      "source": [
        "encoder = Seq2SeqEncoder(vocab_size=10, embed_size=8, num_hiddens=16,\n",
        "                        num_layers=2)\n",
        "encoder.eval()\n",
        "X = torch.zeros((4, 7), dtype=torch.long)\n",
        "output, state = encoder(X)\n",
        "output.shape"
      ],
      "metadata": {
        "id": "Owc6MRuHCXsj"
      },
      "execution_count": null,
      "outputs": []
    },
    {
      "cell_type": "code",
      "source": [
        "state.shape"
      ],
      "metadata": {
        "id": "-ROnYpHGCbO9"
      },
      "execution_count": null,
      "outputs": []
    },
    {
      "cell_type": "markdown",
      "source": [
        "9.7.2 Decoder"
      ],
      "metadata": {
        "id": "hXj-c6LcCdub"
      }
    },
    {
      "cell_type": "code",
      "source": [
        "class Seq2SeqDecoder(d2l.Decoder):\n",
        "  \"\"\"The RNN decoder for sequence to sequence learning.\"\"\"\n",
        "  def __init__(self, vocab_size, embed_size, num_hiddens, num_layers,\n",
        "              dropout=0, **kwargs):\n",
        "    super(Seq2SeqDecoder, self).__init__(**kwargs)\n",
        "    self.embedding = nn.Embedding(vocab_size, embed_size)\n",
        "    self.rnn = nn.GRU(embed_size + num_hiddens, num_hiddens, num_layers,\n",
        "                      dropout=dropout)\n",
        "    self.dense = nn.Linear(num_hiddens, vocab_size)\n",
        "\n",
        "  def init_state(self, enc_outputs, *args):\n",
        "    return enc_outputs[1]\n",
        "\n",
        "  def forward(self, X, state):\n",
        "    # The output `X` shape: (`num_steps`, `batch_size`, `embed_size`)\n",
        "    X = self.embedding(X).permute(1, 0, 2)\n",
        "    # Broadcast `context` so it has the same `num_steps` as `X`\n",
        "    context = state[-1].repeat(X.shape[0], 1, 1)\n",
        "    X_and_context = torch.cat((X, context), 2)\n",
        "    output, state = self.rnn(X_and_context, state)\n",
        "    output = self.dense(output).permute(1, 0, 2)\n",
        "    # `output` shape: (`batch_size`, `num_steps`, `vocab_size`)\n",
        "    # `state` shape: (`num_layers`, `batch_size`, `num_hiddens`)\n",
        "    return output, state"
      ],
      "metadata": {
        "id": "tu2txH-dCeG2"
      },
      "execution_count": null,
      "outputs": []
    },
    {
      "cell_type": "code",
      "source": [
        "decoder = Seq2SeqDecoder(vocab_size=10, embed_size=8, num_hiddens=16,\n",
        "                        num_layers=2)\n",
        "decoder.eval()\n",
        "state = decoder.init_state(encoder(X))\n",
        "output, state = decoder(X, state)\n",
        "output.shape, state.shape"
      ],
      "metadata": {
        "id": "omZFL_ObCpWJ"
      },
      "execution_count": null,
      "outputs": []
    },
    {
      "cell_type": "markdown",
      "source": [
        "9.7.3 Loss Function"
      ],
      "metadata": {
        "id": "LKsGaY3lCsXT"
      }
    },
    {
      "cell_type": "code",
      "source": [
        "#@save\n",
        "def sequence_mask(X, valid_len, value=0):\n",
        "  \"\"\"Mask irrelevant entries in sequences.\"\"\"\n",
        "    maxlen = X.size(1)\n",
        "    mask = torch.arange((maxlen), dtype=torch.float32,\n",
        "                        device=X.device)[None, :] < valid_len[:, None]\n",
        "    X[~mask] = value\n",
        "    return X\n",
        "X = torch.tensor([[1, 2, 3], [4, 5, 6]])\n",
        "sequence_mask(X, torch.tensor([1, 2]))"
      ],
      "metadata": {
        "id": "PlHdeS-ACszb"
      },
      "execution_count": null,
      "outputs": []
    },
    {
      "cell_type": "code",
      "source": [
        "X = torch.ones(2, 3, 4)\n",
        "sequence_mask(X, torch.tensor([1, 2]), value=-1)"
      ],
      "metadata": {
        "id": "_IjuCFJ-Cyrn"
      },
      "execution_count": null,
      "outputs": []
    },
    {
      "cell_type": "code",
      "source": [
        "#@save\n",
        "class MaskedSoftmaxCELoss(nn.CrossEntropyLoss):\n",
        "    \"\"\"The softmax cross-entropy loss with masks.\"\"\"\n",
        "    # `pred` shape: (`batch_size`, `num_steps`, `vocab_size`)\n",
        "    # `label` shape: (`batch_size`, `num_steps`)\n",
        "    # `valid_len` shape: (`batch_size`,)\n",
        "    def forward(self, pred, label, valid_len):\n",
        "      weights = torch.ones_like(label)\n",
        "      weights = sequence_mask(weights, valid_len)\n",
        "      self.reduction='none'\n",
        "      unweighted_loss = super(MaskedSoftmaxCELoss, self).forward(\n",
        "                              pred.permute(0, 2, 1), label)\n",
        "      weighted_loss = (unweighted_loss * weights).mean(dim=1)\n",
        "      return weighted_loss"
      ],
      "metadata": {
        "id": "f-ifrYnuC1Fx"
      },
      "execution_count": null,
      "outputs": []
    },
    {
      "cell_type": "code",
      "source": [
        "loss = MaskedSoftmaxCELoss()\n",
        "loss(torch.ones(3, 4, 10), torch.ones((3, 4), dtype=torch.long),\n",
        "torch.tensor([4, 2, 0]))"
      ],
      "metadata": {
        "id": "zZf25UzgC7z5"
      },
      "execution_count": null,
      "outputs": []
    },
    {
      "cell_type": "markdown",
      "source": [
        "9.7.4 Training"
      ],
      "metadata": {
        "id": "OHbtVo-0C8a9"
      }
    },
    {
      "cell_type": "code",
      "source": [
        "#@save\n",
        "def train_seq2seq(net, data_iter, lr, num_epochs, tgt_vocab, device):\n",
        "  \"\"\"Train a model for sequence to sequence.\"\"\"\n",
        "\n",
        "  def xavier_init_weights(m):\n",
        "    if type(m) == nn.Linear:\n",
        "      nn.init.xavier_uniform_(m.weight)\n",
        "    if type(m) == nn.GRU:\n",
        "      for param in m._flat_weights_names:\n",
        "        if \"weight\" in param:\n",
        "          nn.init.xavier_uniform_(m._parameters[param])\n",
        "  net.apply(xavier_init_weights)\n",
        "  net.to(device)\n",
        "  optimizer = torch.optim.Adam(net.parameters(), lr=lr)\n",
        "  loss = MaskedSoftmaxCELoss()\n",
        "  net.train()\n",
        "  animator = d2l.Animator(xlabel='epoch', ylabel='loss',\n",
        "                          xlim=[10, num_epochs])\n",
        "  for epoch in range(num_epochs):\n",
        "    timer = d2l.Timer()\n",
        "    metric = d2l.Accumulator(2) # Sum of training loss, no. of tokens\n",
        "    for batch in data_iter:\n",
        "      optimizer.zero_grad()\n",
        "      X, X_valid_len, Y, Y_valid_len = [x.to(device) for x in batch]\n",
        "      bos = torch.tensor([tgt_vocab['<bos>']] * Y.shape[0],\n",
        "                          device=device).reshape(-1, 1)\n",
        "      dec_input = torch.cat([bos, Y[:, :-1]], 1) # Teacher forcing\n",
        "      Y_hat, _ = net(X, dec_input, X_valid_len)\n",
        "      l = loss(Y_hat, Y, Y_valid_len)\n",
        "      l.sum().backward() # Make the loss scalar for `backward`\n",
        "      d2l.grad_clipping(net, 1)\n",
        "      num_tokens = Y_valid_len.sum()\n",
        "      optimizer.step()\n",
        "      with torch.no_grad():\n",
        "        metric.add(l.sum(), num_tokens)\n",
        "    if (epoch + 1) % 10 == 0:\n",
        "      animator.add(epoch + 1, (metric[0] / metric[1],))\n",
        "  print(f'loss {metric[0] / metric[1]:.3f}, {metric[1] / timer.stop():.1f} '\n",
        "            f'tokens/sec on {str(device)}')"
      ],
      "metadata": {
        "id": "9IKY1HmyC-Ai"
      },
      "execution_count": null,
      "outputs": []
    },
    {
      "cell_type": "code",
      "source": [
        "embed_size, num_hiddens, num_layers, dropout = 32, 32, 2, 0.1\n",
        "batch_size, num_steps = 64, 10\n",
        "lr, num_epochs, device = 0.005, 300, d2l.try_gpu()\n",
        "\n",
        "train_iter, src_vocab, tgt_vocab = d2l.load_data_nmt(batch_size, num_steps)\n",
        "\n",
        "encoder = Seq2SeqEncoder(\n",
        "                    len(src_vocab), embed_size, num_hiddens, num_layers, dropout)\n",
        "decoder = Seq2SeqDecoder(\n",
        "                    len(tgt_vocab), embed_size, num_hiddens, num_layers, dropout)\n",
        "net = d2l.EncoderDecoder(encoder, decoder)\n",
        "train_seq2seq(net, train_iter, lr, num_epochs, tgt_vocab, device)"
      ],
      "metadata": {
        "id": "deDD9lMTDixD"
      },
      "execution_count": null,
      "outputs": []
    },
    {
      "cell_type": "markdown",
      "source": [
        "9.7.5 Prediction"
      ],
      "metadata": {
        "id": "5I5ov_9IDrhO"
      }
    },
    {
      "cell_type": "code",
      "source": [
        "#@save\n",
        "def predict_seq2seq(net, src_sentence, src_vocab, tgt_vocab, num_steps,\n",
        "                    device, save_attention_weights=False):\n",
        "  \"\"\"Predict for sequence to sequence.\"\"\"\n",
        "  # Set `net` to eval mode for inference\n",
        "  net.eval()\n",
        "  src_tokens = src_vocab[src_sentence.lower().split(' ')] + [\n",
        "          src_vocab['<eos>']]\n",
        "  enc_valid_len = torch.tensor([len(src_tokens)], device=device)\n",
        "  src_tokens = d2l.truncate_pad(src_tokens, num_steps, src_vocab['<pad>'])\n",
        "  # Add the batch axis\n",
        "  enc_X = torch.unsqueeze(\n",
        "         torch.tensor(src_tokens, dtype=torch.long, device=device), dim=0)\n",
        "  enc_outputs = net.encoder(enc_X, enc_valid_len)\n",
        "  dec_state = net.decoder.init_state(enc_outputs, enc_valid_len)\n",
        "  # Add the batch axis\n",
        "  dec_X = torch.unsqueeze(torch.tensor(\n",
        "        [tgt_vocab['<bos>']], dtype=torch.long, device=device), dim=0)\n",
        "  output_seq, attention_weight_seq = [], []\n",
        "  for _ in range(num_steps):\n",
        "    Y, dec_state = net.decoder(dec_X, dec_state)\n",
        "    # We use the token with the highest prediction likelihood as the input\n",
        "    # of the decoder at the next time step\n",
        "    dec_X = Y.argmax(dim=2)\n",
        "    pred = dec_X.squeeze(dim=0).type(torch.int32).item()\n",
        "    # Save attention weights (to be covered later)\n",
        "    if save_attention_weights:\n",
        "      attention_weight_seq.append(net.decoder.attention_weights)\n",
        "    # Once the end-of-sequence token is predicted, the generation of the\n",
        "    # output sequence is complete\n",
        "    if pred == tgt_vocab['<eos>']:\n",
        "      break\n",
        "    output_seq.append(pred)\n",
        "  return ' '.join(tgt_vocab.to_tokens(output_seq)), attention_weight_seq\n"
      ],
      "metadata": {
        "id": "-pSq_ItCDsCH"
      },
      "execution_count": null,
      "outputs": []
    },
    {
      "cell_type": "markdown",
      "source": [
        "9.7.6 Evaluation of Predicted Sequences"
      ],
      "metadata": {
        "id": "j5UmwaIyELR1"
      }
    },
    {
      "cell_type": "code",
      "source": [
        "def bleu(pred_seq, label_seq, k): #@save\n",
        "  \"\"\"Compute the BLEU.\"\"\"\n",
        "  pred_tokens, label_tokens = pred_seq.split(' '), label_seq.split(' ')\n",
        "  len_pred, len_label = len(pred_tokens), len(label_tokens)\n",
        "  score = math.exp(min(0, 1 - len_label / len_pred))\n",
        "  for n in range(1, k + 1):\n",
        "    num_matches, label_subs = 0, collections.defaultdict(int)\n",
        "    for i in range(len_label - n + 1):\n",
        "      label_subs[' '.join(label_tokens[i: i + n])] += 1\n",
        "    for i in range(len_pred - n + 1):\n",
        "      if label_subs[' '.join(pred_tokens[i: i + n])] > 0:\n",
        "        num_matches += 1\n",
        "        label_subs[' '.join(pred_tokens[i: i + n])] -= 1\n",
        "    score *= math.pow(num_matches / (len_pred - n + 1), math.pow(0.5, n))\n",
        "  return score"
      ],
      "metadata": {
        "id": "jp_BiUHXEMJB"
      },
      "execution_count": null,
      "outputs": []
    },
    {
      "cell_type": "code",
      "source": [
        "engs = ['go .', \"i lost .\", 'he\\'s calm .', 'i\\'m home .']\n",
        "fras = ['va !', 'j\\'ai perdu .', 'il est calme .', 'je suis chez moi .']\n",
        "for eng, fra in zip(engs, fras):\n",
        "  translation, attention_weight_seq = predict_seq2seq(\n",
        "                  net, eng, src_vocab, tgt_vocab, num_steps, device)\n",
        "  print(f'{eng} => {translation}, bleu {bleu(translation, fra, k=2):.3f}')"
      ],
      "metadata": {
        "id": "PABGNYF8EcK3"
      },
      "execution_count": null,
      "outputs": []
    }
  ]
}