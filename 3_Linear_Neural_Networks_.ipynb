{ 
  "nbformat": 4,
  "nbformat_minor": 0,
  "metadata": {
    "colab": {
      "name": "3. Linear Neural Networks .ipynb",
      "provenance": []
    },
    "kernelspec": {
      "name": "python3",
      "display_name": "Python 3"
    },
    "language_info": {
      "name": "python"
    },
    "widgets": {
      "application/vnd.jupyter.widget-state+json": {
        "06a0090eac264544996dbde74ccb8348": {
          "model_module": "@jupyter-widgets/controls",
          "model_name": "HBoxModel",
          "model_module_version": "1.5.0",
          "state": {
            "_view_name": "HBoxView",
            "_dom_classes": [],
            "_model_name": "HBoxModel",
            "_view_module": "@jupyter-widgets/controls",
            "_model_module_version": "1.5.0",
            "_view_count": null,
            "_view_module_version": "1.5.0",
            "box_style": "",
            "layout": "IPY_MODEL_03cef5be71ae4fceaa2e4caf99491e24",
            "_model_module": "@jupyter-widgets/controls",
            "children": [
              "IPY_MODEL_17fe5cb6d00f48c0aee13b650300a9fb",
              "IPY_MODEL_cc30866077ab4d1c9fd0feef18e540fe",
              "IPY_MODEL_bf6417db71d14137aed0212c8bcfc79e"
            ]
          }
        },
        "03cef5be71ae4fceaa2e4caf99491e24": {
          "model_module": "@jupyter-widgets/base",
          "model_name": "LayoutModel",
          "model_module_version": "1.2.0",
          "state": {
            "_view_name": "LayoutView",
            "grid_template_rows": null,
            "right": null,
            "justify_content": null,
            "_view_module": "@jupyter-widgets/base",
            "overflow": null,
            "_model_module_version": "1.2.0",
            "_view_count": null,
            "flex_flow": null,
            "width": null,
            "min_width": null,
            "border": null,
            "align_items": null,
            "bottom": null,
            "_model_module": "@jupyter-widgets/base",
            "top": null,
            "grid_column": null,
            "overflow_y": null,
            "overflow_x": null,
            "grid_auto_flow": null,
            "grid_area": null,
            "grid_template_columns": null,
            "flex": null,
            "_model_name": "LayoutModel",
            "justify_items": null,
            "grid_row": null,
            "max_height": null,
            "align_content": null,
            "visibility": null,
            "align_self": null,
            "height": null,
            "min_height": null,
            "padding": null,
            "grid_auto_rows": null,
            "grid_gap": null,
            "max_width": null,
            "order": null,
            "_view_module_version": "1.2.0",
            "grid_template_areas": null,
            "object_position": null,
            "object_fit": null,
            "grid_auto_columns": null,
            "margin": null,
            "display": null,
            "left": null
          }
        },
        "17fe5cb6d00f48c0aee13b650300a9fb": {
          "model_module": "@jupyter-widgets/controls",
          "model_name": "HTMLModel",
          "model_module_version": "1.5.0",
          "state": {
            "_view_name": "HTMLView",
            "style": "IPY_MODEL_c27c7b15a98a44c3a8ef99360badef30",
            "_dom_classes": [],
            "description": "",
            "_model_name": "HTMLModel",
            "placeholder": "​",
            "_view_module": "@jupyter-widgets/controls",
            "_model_module_version": "1.5.0",
            "value": "",
            "_view_count": null,
            "_view_module_version": "1.5.0",
            "description_tooltip": null,
            "_model_module": "@jupyter-widgets/controls",
            "layout": "IPY_MODEL_abb4f95c45864684ad1842bb0b3764cd"
          }
        },
        "cc30866077ab4d1c9fd0feef18e540fe": {
          "model_module": "@jupyter-widgets/controls",
          "model_name": "FloatProgressModel",
          "model_module_version": "1.5.0",
          "state": {
            "_view_name": "ProgressView",
            "style": "IPY_MODEL_b7f057bff0af4bf3810095b028e56abe",
            "_dom_classes": [],
            "description": "",
            "_model_name": "FloatProgressModel",
            "bar_style": "success",
            "max": 26421880,
            "_view_module": "@jupyter-widgets/controls",
            "_model_module_version": "1.5.0",
            "value": 26421880,
            "_view_count": null,
            "_view_module_version": "1.5.0",
            "orientation": "horizontal",
            "min": 0,
            "description_tooltip": null,
            "_model_module": "@jupyter-widgets/controls",
            "layout": "IPY_MODEL_19174cea36c64751ab96cd18b02e98d5"
          }
        },
        "bf6417db71d14137aed0212c8bcfc79e": {
          "model_module": "@jupyter-widgets/controls",
          "model_name": "HTMLModel",
          "model_module_version": "1.5.0",
          "state": {
            "_view_name": "HTMLView",
            "style": "IPY_MODEL_70dbb8a2ce4a41e585a6b870b2b28666",
            "_dom_classes": [],
            "description": "",
            "_model_name": "HTMLModel",
            "placeholder": "​",
            "_view_module": "@jupyter-widgets/controls",
            "_model_module_version": "1.5.0",
            "value": " 26422272/? [00:01&lt;00:00, 28886096.16it/s]",
            "_view_count": null,
            "_view_module_version": "1.5.0",
            "description_tooltip": null,
            "_model_module": "@jupyter-widgets/controls",
            "layout": "IPY_MODEL_468c0fb1faff4ab894ad460e3ffb23d6"
          }
        },
        "c27c7b15a98a44c3a8ef99360badef30": {
          "model_module": "@jupyter-widgets/controls",
          "model_name": "DescriptionStyleModel",
          "model_module_version": "1.5.0",
          "state": {
            "_view_name": "StyleView",
            "_model_name": "DescriptionStyleModel",
            "description_width": "",
            "_view_module": "@jupyter-widgets/base",
            "_model_module_version": "1.5.0",
            "_view_count": null,
            "_view_module_version": "1.2.0",
            "_model_module": "@jupyter-widgets/controls"
          }
        },
        "abb4f95c45864684ad1842bb0b3764cd": {
          "model_module": "@jupyter-widgets/base",
          "model_name": "LayoutModel",
          "model_module_version": "1.2.0",
          "state": {
            "_view_name": "LayoutView",
            "grid_template_rows": null,
            "right": null,
            "justify_content": null,
            "_view_module": "@jupyter-widgets/base",
            "overflow": null,
            "_model_module_version": "1.2.0",
            "_view_count": null,
            "flex_flow": null,
            "width": null,
            "min_width": null,
            "border": null,
            "align_items": null,
            "bottom": null,
            "_model_module": "@jupyter-widgets/base",
            "top": null,
            "grid_column": null,
            "overflow_y": null,
            "overflow_x": null,
            "grid_auto_flow": null,
            "grid_area": null,
            "grid_template_columns": null,
            "flex": null,
            "_model_name": "LayoutModel",
            "justify_items": null,
            "grid_row": null,
            "max_height": null,
            "align_content": null,
            "visibility": null,
            "align_self": null,
            "height": null,
            "min_height": null,
            "padding": null,
            "grid_auto_rows": null,
            "grid_gap": null,
            "max_width": null,
            "order": null,
            "_view_module_version": "1.2.0",
            "grid_template_areas": null,
            "object_position": null,
            "object_fit": null,
            "grid_auto_columns": null,
            "margin": null,
            "display": null,
            "left": null
          }
        },
        "b7f057bff0af4bf3810095b028e56abe": {
          "model_module": "@jupyter-widgets/controls",
          "model_name": "ProgressStyleModel",
          "model_module_version": "1.5.0",
          "state": {
            "_view_name": "StyleView",
            "_model_name": "ProgressStyleModel",
            "description_width": "",
            "_view_module": "@jupyter-widgets/base",
            "_model_module_version": "1.5.0",
            "_view_count": null,
            "_view_module_version": "1.2.0",
            "bar_color": null,
            "_model_module": "@jupyter-widgets/controls"
          }
        },
        "19174cea36c64751ab96cd18b02e98d5": {
          "model_module": "@jupyter-widgets/base",
          "model_name": "LayoutModel",
          "model_module_version": "1.2.0",
          "state": {
            "_view_name": "LayoutView",
            "grid_template_rows": null,
            "right": null,
            "justify_content": null,
            "_view_module": "@jupyter-widgets/base",
            "overflow": null,
            "_model_module_version": "1.2.0",
            "_view_count": null,
            "flex_flow": null,
            "width": null,
            "min_width": null,
            "border": null,
            "align_items": null,
            "bottom": null,
            "_model_module": "@jupyter-widgets/base",
            "top": null,
            "grid_column": null,
            "overflow_y": null,
            "overflow_x": null,
            "grid_auto_flow": null,
            "grid_area": null,
            "grid_template_columns": null,
            "flex": null,
            "_model_name": "LayoutModel",
            "justify_items": null,
            "grid_row": null,
            "max_height": null,
            "align_content": null,
            "visibility": null,
            "align_self": null,
            "height": null,
            "min_height": null,
            "padding": null,
            "grid_auto_rows": null,
            "grid_gap": null,
            "max_width": null,
            "order": null,
            "_view_module_version": "1.2.0",
            "grid_template_areas": null,
            "object_position": null,
            "object_fit": null,
            "grid_auto_columns": null,
            "margin": null,
            "display": null,
            "left": null
          }
        },
        "70dbb8a2ce4a41e585a6b870b2b28666": {
          "model_module": "@jupyter-widgets/controls",
          "model_name": "DescriptionStyleModel",
          "model_module_version": "1.5.0",
          "state": {
            "_view_name": "StyleView",
            "_model_name": "DescriptionStyleModel",
            "description_width": "",
            "_view_module": "@jupyter-widgets/base",
            "_model_module_version": "1.5.0",
            "_view_count": null,
            "_view_module_version": "1.2.0",
            "_model_module": "@jupyter-widgets/controls"
          }
        },
        "468c0fb1faff4ab894ad460e3ffb23d6": {
          "model_module": "@jupyter-widgets/base",
          "model_name": "LayoutModel",
          "model_module_version": "1.2.0",
          "state": {
            "_view_name": "LayoutView",
            "grid_template_rows": null,
            "right": null,
            "justify_content": null,
            "_view_module": "@jupyter-widgets/base",
            "overflow": null,
            "_model_module_version": "1.2.0",
            "_view_count": null,
            "flex_flow": null,
            "width": null,
            "min_width": null,
            "border": null,
            "align_items": null,
            "bottom": null,
            "_model_module": "@jupyter-widgets/base",
            "top": null,
            "grid_column": null,
            "overflow_y": null,
            "overflow_x": null,
            "grid_auto_flow": null,
            "grid_area": null,
            "grid_template_columns": null,
            "flex": null,
            "_model_name": "LayoutModel",
            "justify_items": null,
            "grid_row": null,
            "max_height": null,
            "align_content": null,
            "visibility": null,
            "align_self": null,
            "height": null,
            "min_height": null,
            "padding": null,
            "grid_auto_rows": null,
            "grid_gap": null,
            "max_width": null,
            "order": null,
            "_view_module_version": "1.2.0",
            "grid_template_areas": null,
            "object_position": null,
            "object_fit": null,
            "grid_auto_columns": null,
            "margin": null,
            "display": null,
            "left": null
          }
        },
        "34ae776c989040278b95287870f9f180": {
          "model_module": "@jupyter-widgets/controls",
          "model_name": "HBoxModel",
          "model_module_version": "1.5.0",
          "state": {
            "_view_name": "HBoxView",
            "_dom_classes": [],
            "_model_name": "HBoxModel",
            "_view_module": "@jupyter-widgets/controls",
            "_model_module_version": "1.5.0",
            "_view_count": null,
            "_view_module_version": "1.5.0",
            "box_style": "",
            "layout": "IPY_MODEL_c42b76314759477297ccbed814a2e935",
            "_model_module": "@jupyter-widgets/controls",
            "children": [
              "IPY_MODEL_bacbe72a9fd84edea5eda937b271670c",
              "IPY_MODEL_2eb8a516bee948cc8d2a1f595f8598b7",
              "IPY_MODEL_fa99e92fb5104ac7bc6a0cc8ab96a507"
            ]
          }
        },
        "c42b76314759477297ccbed814a2e935": {
          "model_module": "@jupyter-widgets/base",
          "model_name": "LayoutModel",
          "model_module_version": "1.2.0",
          "state": {
            "_view_name": "LayoutView",
            "grid_template_rows": null,
            "right": null,
            "justify_content": null,
            "_view_module": "@jupyter-widgets/base",
            "overflow": null,
            "_model_module_version": "1.2.0",
            "_view_count": null,
            "flex_flow": null,
            "width": null,
            "min_width": null,
            "border": null,
            "align_items": null,
            "bottom": null,
            "_model_module": "@jupyter-widgets/base",
            "top": null,
            "grid_column": null,
            "overflow_y": null,
            "overflow_x": null,
            "grid_auto_flow": null,
            "grid_area": null,
            "grid_template_columns": null,
            "flex": null,
            "_model_name": "LayoutModel",
            "justify_items": null,
            "grid_row": null,
            "max_height": null,
            "align_content": null,
            "visibility": null,
            "align_self": null,
            "height": null,
            "min_height": null,
            "padding": null,
            "grid_auto_rows": null,
            "grid_gap": null,
            "max_width": null,
            "order": null,
            "_view_module_version": "1.2.0",
            "grid_template_areas": null,
            "object_position": null,
            "object_fit": null,
            "grid_auto_columns": null,
            "margin": null,
            "display": null,
            "left": null
          }
        },
        "bacbe72a9fd84edea5eda937b271670c": {
          "model_module": "@jupyter-widgets/controls",
          "model_name": "HTMLModel",
          "model_module_version": "1.5.0",
          "state": {
            "_view_name": "HTMLView",
            "style": "IPY_MODEL_17321f1616a64e81a4d2eb0706bb7553",
            "_dom_classes": [],
            "description": "",
            "_model_name": "HTMLModel",
            "placeholder": "​",
            "_view_module": "@jupyter-widgets/controls",
            "_model_module_version": "1.5.0",
            "value": "",
            "_view_count": null,
            "_view_module_version": "1.5.0",
            "description_tooltip": null,
            "_model_module": "@jupyter-widgets/controls",
            "layout": "IPY_MODEL_8c8b027a9e6147a1ae3ca350ab6df60d"
          }
        },
        "2eb8a516bee948cc8d2a1f595f8598b7": {
          "model_module": "@jupyter-widgets/controls",
          "model_name": "FloatProgressModel",
          "model_module_version": "1.5.0",
          "state": {
            "_view_name": "ProgressView",
            "style": "IPY_MODEL_f69a48d264a144f4999477b0e8a50edd",
            "_dom_classes": [],
            "description": "",
            "_model_name": "FloatProgressModel",
            "bar_style": "success",
            "max": 29515,
            "_view_module": "@jupyter-widgets/controls",
            "_model_module_version": "1.5.0",
            "value": 29515,
            "_view_count": null,
            "_view_module_version": "1.5.0",
            "orientation": "horizontal",
            "min": 0,
            "description_tooltip": null,
            "_model_module": "@jupyter-widgets/controls",
            "layout": "IPY_MODEL_1921be2a6e6c426db3ecf6d1e60f9198"
          }
        },
        "fa99e92fb5104ac7bc6a0cc8ab96a507": {
          "model_module": "@jupyter-widgets/controls",
          "model_name": "HTMLModel",
          "model_module_version": "1.5.0",
          "state": {
            "_view_name": "HTMLView",
            "style": "IPY_MODEL_336c399aba034cd983b8473fee51b313",
            "_dom_classes": [],
            "description": "",
            "_model_name": "HTMLModel",
            "placeholder": "​",
            "_view_module": "@jupyter-widgets/controls",
            "_model_module_version": "1.5.0",
            "value": " 29696/? [00:00&lt;00:00, 309012.68it/s]",
            "_view_count": null,
            "_view_module_version": "1.5.0",
            "description_tooltip": null,
            "_model_module": "@jupyter-widgets/controls",
            "layout": "IPY_MODEL_a945ce048dbb4351b2d69d1c3208f8f8"
          }
        },
        "17321f1616a64e81a4d2eb0706bb7553": {
          "model_module": "@jupyter-widgets/controls",
          "model_name": "DescriptionStyleModel",
          "model_module_version": "1.5.0",
          "state": {
            "_view_name": "StyleView",
            "_model_name": "DescriptionStyleModel",
            "description_width": "",
            "_view_module": "@jupyter-widgets/base",
            "_model_module_version": "1.5.0",
            "_view_count": null,
            "_view_module_version": "1.2.0",
            "_model_module": "@jupyter-widgets/controls"
          }
        },
        "8c8b027a9e6147a1ae3ca350ab6df60d": {
          "model_module": "@jupyter-widgets/base",
          "model_name": "LayoutModel",
          "model_module_version": "1.2.0",
          "state": {
            "_view_name": "LayoutView",
            "grid_template_rows": null,
            "right": null,
            "justify_content": null,
            "_view_module": "@jupyter-widgets/base",
            "overflow": null,
            "_model_module_version": "1.2.0",
            "_view_count": null,
            "flex_flow": null,
            "width": null,
            "min_width": null,
            "border": null,
            "align_items": null,
            "bottom": null,
            "_model_module": "@jupyter-widgets/base",
            "top": null,
            "grid_column": null,
            "overflow_y": null,
            "overflow_x": null,
            "grid_auto_flow": null,
            "grid_area": null,
            "grid_template_columns": null,
            "flex": null,
            "_model_name": "LayoutModel",
            "justify_items": null,
            "grid_row": null,
            "max_height": null,
            "align_content": null,
            "visibility": null,
            "align_self": null,
            "height": null,
            "min_height": null,
            "padding": null,
            "grid_auto_rows": null,
            "grid_gap": null,
            "max_width": null,
            "order": null,
            "_view_module_version": "1.2.0",
            "grid_template_areas": null,
            "object_position": null,
            "object_fit": null,
            "grid_auto_columns": null,
            "margin": null,
            "display": null,
            "left": null
          }
        },
        "f69a48d264a144f4999477b0e8a50edd": {
          "model_module": "@jupyter-widgets/controls",
          "model_name": "ProgressStyleModel",
          "model_module_version": "1.5.0",
          "state": {
            "_view_name": "StyleView",
            "_model_name": "ProgressStyleModel",
            "description_width": "",
            "_view_module": "@jupyter-widgets/base",
            "_model_module_version": "1.5.0",
            "_view_count": null,
            "_view_module_version": "1.2.0",
            "bar_color": null,
            "_model_module": "@jupyter-widgets/controls"
          }
        },
        "1921be2a6e6c426db3ecf6d1e60f9198": {
          "model_module": "@jupyter-widgets/base",
          "model_name": "LayoutModel",
          "model_module_version": "1.2.0",
          "state": {
            "_view_name": "LayoutView",
            "grid_template_rows": null,
            "right": null,
            "justify_content": null,
            "_view_module": "@jupyter-widgets/base",
            "overflow": null,
            "_model_module_version": "1.2.0",
            "_view_count": null,
            "flex_flow": null,
            "width": null,
            "min_width": null,
            "border": null,
            "align_items": null,
            "bottom": null,
            "_model_module": "@jupyter-widgets/base",
            "top": null,
            "grid_column": null,
            "overflow_y": null,
            "overflow_x": null,
            "grid_auto_flow": null,
            "grid_area": null,
            "grid_template_columns": null,
            "flex": null,
            "_model_name": "LayoutModel",
            "justify_items": null,
            "grid_row": null,
            "max_height": null,
            "align_content": null,
            "visibility": null,
            "align_self": null,
            "height": null,
            "min_height": null,
            "padding": null,
            "grid_auto_rows": null,
            "grid_gap": null,
            "max_width": null,
            "order": null,
            "_view_module_version": "1.2.0",
            "grid_template_areas": null,
            "object_position": null,
            "object_fit": null,
            "grid_auto_columns": null,
            "margin": null,
            "display": null,
            "left": null
          }
        },
        "336c399aba034cd983b8473fee51b313": {
          "model_module": "@jupyter-widgets/controls",
          "model_name": "DescriptionStyleModel",
          "model_module_version": "1.5.0",
          "state": {
            "_view_name": "StyleView",
            "_model_name": "DescriptionStyleModel",
            "description_width": "",
            "_view_module": "@jupyter-widgets/base",
            "_model_module_version": "1.5.0",
            "_view_count": null,
            "_view_module_version": "1.2.0",
            "_model_module": "@jupyter-widgets/controls"
          }
        },
        "a945ce048dbb4351b2d69d1c3208f8f8": {
          "model_module": "@jupyter-widgets/base",
          "model_name": "LayoutModel",
          "model_module_version": "1.2.0",
          "state": {
            "_view_name": "LayoutView",
            "grid_template_rows": null,
            "right": null,
            "justify_content": null,
            "_view_module": "@jupyter-widgets/base",
            "overflow": null,
            "_model_module_version": "1.2.0",
            "_view_count": null,
            "flex_flow": null,
            "width": null,
            "min_width": null,
            "border": null,
            "align_items": null,
            "bottom": null,
            "_model_module": "@jupyter-widgets/base",
            "top": null,
            "grid_column": null,
            "overflow_y": null,
            "overflow_x": null,
            "grid_auto_flow": null,
            "grid_area": null,
            "grid_template_columns": null,
            "flex": null,
            "_model_name": "LayoutModel",
            "justify_items": null,
            "grid_row": null,
            "max_height": null,
            "align_content": null,
            "visibility": null,
            "align_self": null,
            "height": null,
            "min_height": null,
            "padding": null,
            "grid_auto_rows": null,
            "grid_gap": null,
            "max_width": null,
            "order": null,
            "_view_module_version": "1.2.0",
            "grid_template_areas": null,
            "object_position": null,
            "object_fit": null,
            "grid_auto_columns": null,
            "margin": null,
            "display": null,
            "left": null
          }
        },
        "5aa251657463434da6a8087aff96c596": {
          "model_module": "@jupyter-widgets/controls",
          "model_name": "HBoxModel",
          "model_module_version": "1.5.0",
          "state": {
            "_view_name": "HBoxView",
            "_dom_classes": [],
            "_model_name": "HBoxModel",
            "_view_module": "@jupyter-widgets/controls",
            "_model_module_version": "1.5.0",
            "_view_count": null,
            "_view_module_version": "1.5.0",
            "box_style": "",
            "layout": "IPY_MODEL_7a47c335a62b4d6c97c87bd91f833277",
            "_model_module": "@jupyter-widgets/controls",
            "children": [
              "IPY_MODEL_14bfd47e8bfc4269aa9c91d4e89a5314",
              "IPY_MODEL_64af4d282e584777b822289c3d88ec5d",
              "IPY_MODEL_8bf419f2e9c14e20b05fb93484202777"
            ]
          }
        },
        "7a47c335a62b4d6c97c87bd91f833277": {
          "model_module": "@jupyter-widgets/base",
          "model_name": "LayoutModel",
          "model_module_version": "1.2.0",
          "state": {
            "_view_name": "LayoutView",
            "grid_template_rows": null,
            "right": null,
            "justify_content": null,
            "_view_module": "@jupyter-widgets/base",
            "overflow": null,
            "_model_module_version": "1.2.0",
            "_view_count": null,
            "flex_flow": null,
            "width": null,
            "min_width": null,
            "border": null,
            "align_items": null,
            "bottom": null,
            "_model_module": "@jupyter-widgets/base",
            "top": null,
            "grid_column": null,
            "overflow_y": null,
            "overflow_x": null,
            "grid_auto_flow": null,
            "grid_area": null,
            "grid_template_columns": null,
            "flex": null,
            "_model_name": "LayoutModel",
            "justify_items": null,
            "grid_row": null,
            "max_height": null,
            "align_content": null,
            "visibility": null,
            "align_self": null,
            "height": null,
            "min_height": null,
            "padding": null,
            "grid_auto_rows": null,
            "grid_gap": null,
            "max_width": null,
            "order": null,
            "_view_module_version": "1.2.0",
            "grid_template_areas": null,
            "object_position": null,
            "object_fit": null,
            "grid_auto_columns": null,
            "margin": null,
            "display": null,
            "left": null
          }
        },
        "14bfd47e8bfc4269aa9c91d4e89a5314": {
          "model_module": "@jupyter-widgets/controls",
          "model_name": "HTMLModel",
          "model_module_version": "1.5.0",
          "state": {
            "_view_name": "HTMLView",
            "style": "IPY_MODEL_b6ab41dbb4bf408e9ccd26d67e48fdb7",
            "_dom_classes": [],
            "description": "",
            "_model_name": "HTMLModel",
            "placeholder": "​",
            "_view_module": "@jupyter-widgets/controls",
            "_model_module_version": "1.5.0",
            "value": "",
            "_view_count": null,
            "_view_module_version": "1.5.0",
            "description_tooltip": null,
            "_model_module": "@jupyter-widgets/controls",
            "layout": "IPY_MODEL_5dc6c444bddc4462b73f05d231e0d6f1"
          }
        },
        "64af4d282e584777b822289c3d88ec5d": {
          "model_module": "@jupyter-widgets/controls",
          "model_name": "FloatProgressModel",
          "model_module_version": "1.5.0",
          "state": {
            "_view_name": "ProgressView",
            "style": "IPY_MODEL_2f533cf82ddc4903bc579f50141da723",
            "_dom_classes": [],
            "description": "",
            "_model_name": "FloatProgressModel",
            "bar_style": "success",
            "max": 4422102,
            "_view_module": "@jupyter-widgets/controls",
            "_model_module_version": "1.5.0",
            "value": 4422102,
            "_view_count": null,
            "_view_module_version": "1.5.0",
            "orientation": "horizontal",
            "min": 0,
            "description_tooltip": null,
            "_model_module": "@jupyter-widgets/controls",
            "layout": "IPY_MODEL_cba2b0666add457f849a2ede1f08d6c8"
          }
        },
        "8bf419f2e9c14e20b05fb93484202777": {
          "model_module": "@jupyter-widgets/controls",
          "model_name": "HTMLModel",
          "model_module_version": "1.5.0",
          "state": {
            "_view_name": "HTMLView",
            "style": "IPY_MODEL_5aa8b2bc2daf460faf709fd0daefea26",
            "_dom_classes": [],
            "description": "",
            "_model_name": "HTMLModel",
            "placeholder": "​",
            "_view_module": "@jupyter-widgets/controls",
            "_model_module_version": "1.5.0",
            "value": " 4422656/? [00:00&lt;00:00, 5685380.86it/s]",
            "_view_count": null,
            "_view_module_version": "1.5.0",
            "description_tooltip": null,
            "_model_module": "@jupyter-widgets/controls",
            "layout": "IPY_MODEL_389cce9206e040d187e26fce04daf533"
          }
        },
        "b6ab41dbb4bf408e9ccd26d67e48fdb7": {
          "model_module": "@jupyter-widgets/controls",
          "model_name": "DescriptionStyleModel",
          "model_module_version": "1.5.0",
          "state": {
            "_view_name": "StyleView",
            "_model_name": "DescriptionStyleModel",
            "description_width": "",
            "_view_module": "@jupyter-widgets/base",
            "_model_module_version": "1.5.0",
            "_view_count": null,
            "_view_module_version": "1.2.0",
            "_model_module": "@jupyter-widgets/controls"
          }
        },
        "5dc6c444bddc4462b73f05d231e0d6f1": {
          "model_module": "@jupyter-widgets/base",
          "model_name": "LayoutModel",
          "model_module_version": "1.2.0",
          "state": {
            "_view_name": "LayoutView",
            "grid_template_rows": null,
            "right": null,
            "justify_content": null,
            "_view_module": "@jupyter-widgets/base",
            "overflow": null,
            "_model_module_version": "1.2.0",
            "_view_count": null,
            "flex_flow": null,
            "width": null,
            "min_width": null,
            "border": null,
            "align_items": null,
            "bottom": null,
            "_model_module": "@jupyter-widgets/base",
            "top": null,
            "grid_column": null,
            "overflow_y": null,
            "overflow_x": null,
            "grid_auto_flow": null,
            "grid_area": null,
            "grid_template_columns": null,
            "flex": null,
            "_model_name": "LayoutModel",
            "justify_items": null,
            "grid_row": null,
            "max_height": null,
            "align_content": null,
            "visibility": null,
            "align_self": null,
            "height": null,
            "min_height": null,
            "padding": null,
            "grid_auto_rows": null,
            "grid_gap": null,
            "max_width": null,
            "order": null,
            "_view_module_version": "1.2.0",
            "grid_template_areas": null,
            "object_position": null,
            "object_fit": null,
            "grid_auto_columns": null,
            "margin": null,
            "display": null,
            "left": null
          }
        },
        "2f533cf82ddc4903bc579f50141da723": {
          "model_module": "@jupyter-widgets/controls",
          "model_name": "ProgressStyleModel",
          "model_module_version": "1.5.0",
          "state": {
            "_view_name": "StyleView",
            "_model_name": "ProgressStyleModel",
            "description_width": "",
            "_view_module": "@jupyter-widgets/base",
            "_model_module_version": "1.5.0",
            "_view_count": null,
            "_view_module_version": "1.2.0",
            "bar_color": null,
            "_model_module": "@jupyter-widgets/controls"
          }
        },
        "cba2b0666add457f849a2ede1f08d6c8": {
          "model_module": "@jupyter-widgets/base",
          "model_name": "LayoutModel",
          "model_module_version": "1.2.0",
          "state": {
            "_view_name": "LayoutView",
            "grid_template_rows": null,
            "right": null,
            "justify_content": null,
            "_view_module": "@jupyter-widgets/base",
            "overflow": null,
            "_model_module_version": "1.2.0",
            "_view_count": null,
            "flex_flow": null,
            "width": null,
            "min_width": null,
            "border": null,
            "align_items": null,
            "bottom": null,
            "_model_module": "@jupyter-widgets/base",
            "top": null,
            "grid_column": null,
            "overflow_y": null,
            "overflow_x": null,
            "grid_auto_flow": null,
            "grid_area": null,
            "grid_template_columns": null,
            "flex": null,
            "_model_name": "LayoutModel",
            "justify_items": null,
            "grid_row": null,
            "max_height": null,
            "align_content": null,
            "visibility": null,
            "align_self": null,
            "height": null,
            "min_height": null,
            "padding": null,
            "grid_auto_rows": null,
            "grid_gap": null,
            "max_width": null,
            "order": null,
            "_view_module_version": "1.2.0",
            "grid_template_areas": null,
            "object_position": null,
            "object_fit": null,
            "grid_auto_columns": null,
            "margin": null,
            "display": null,
            "left": null
          }
        },
        "5aa8b2bc2daf460faf709fd0daefea26": {
          "model_module": "@jupyter-widgets/controls",
          "model_name": "DescriptionStyleModel",
          "model_module_version": "1.5.0",
          "state": {
            "_view_name": "StyleView",
            "_model_name": "DescriptionStyleModel",
            "description_width": "",
            "_view_module": "@jupyter-widgets/base",
            "_model_module_version": "1.5.0",
            "_view_count": null,
            "_view_module_version": "1.2.0",
            "_model_module": "@jupyter-widgets/controls"
          }
        },
        "389cce9206e040d187e26fce04daf533": {
          "model_module": "@jupyter-widgets/base",
          "model_name": "LayoutModel",
          "model_module_version": "1.2.0",
          "state": {
            "_view_name": "LayoutView",
            "grid_template_rows": null,
            "right": null,
            "justify_content": null,
            "_view_module": "@jupyter-widgets/base",
            "overflow": null,
            "_model_module_version": "1.2.0",
            "_view_count": null,
            "flex_flow": null,
            "width": null,
            "min_width": null,
            "border": null,
            "align_items": null,
            "bottom": null,
            "_model_module": "@jupyter-widgets/base",
            "top": null,
            "grid_column": null,
            "overflow_y": null,
            "overflow_x": null,
            "grid_auto_flow": null,
            "grid_area": null,
            "grid_template_columns": null,
            "flex": null,
            "_model_name": "LayoutModel",
            "justify_items": null,
            "grid_row": null,
            "max_height": null,
            "align_content": null,
            "visibility": null,
            "align_self": null,
            "height": null,
            "min_height": null,
            "padding": null,
            "grid_auto_rows": null,
            "grid_gap": null,
            "max_width": null,
            "order": null,
            "_view_module_version": "1.2.0",
            "grid_template_areas": null,
            "object_position": null,
            "object_fit": null,
            "grid_auto_columns": null,
            "margin": null,
            "display": null,
            "left": null
          }
        },
        "9d9e139ca94e47399802240cfc18adb5": {
          "model_module": "@jupyter-widgets/controls",
          "model_name": "HBoxModel",
          "model_module_version": "1.5.0",
          "state": {
            "_view_name": "HBoxView",
            "_dom_classes": [],
            "_model_name": "HBoxModel",
            "_view_module": "@jupyter-widgets/controls",
            "_model_module_version": "1.5.0",
            "_view_count": null,
            "_view_module_version": "1.5.0",
            "box_style": "",
            "layout": "IPY_MODEL_901430c47a12469e827d5b6a9afcf77d",
            "_model_module": "@jupyter-widgets/controls",
            "children": [
              "IPY_MODEL_76cbf72be0734fc4991818450ad5bbbf",
              "IPY_MODEL_d59d994fe23b4524aac0df1aa2b70f80",
              "IPY_MODEL_71c0a17454ee48a1a5ad83fb66797ca7"
            ]
          }
        },
        "901430c47a12469e827d5b6a9afcf77d": {
          "model_module": "@jupyter-widgets/base",
          "model_name": "LayoutModel",
          "model_module_version": "1.2.0",
          "state": {
            "_view_name": "LayoutView",
            "grid_template_rows": null,
            "right": null,
            "justify_content": null,
            "_view_module": "@jupyter-widgets/base",
            "overflow": null,
            "_model_module_version": "1.2.0",
            "_view_count": null,
            "flex_flow": null,
            "width": null,
            "min_width": null,
            "border": null,
            "align_items": null,
            "bottom": null,
            "_model_module": "@jupyter-widgets/base",
            "top": null,
            "grid_column": null,
            "overflow_y": null,
            "overflow_x": null,
            "grid_auto_flow": null,
            "grid_area": null,
            "grid_template_columns": null,
            "flex": null,
            "_model_name": "LayoutModel",
            "justify_items": null,
            "grid_row": null,
            "max_height": null,
            "align_content": null,
            "visibility": null,
            "align_self": null,
            "height": null,
            "min_height": null,
            "padding": null,
            "grid_auto_rows": null,
            "grid_gap": null,
            "max_width": null,
            "order": null,
            "_view_module_version": "1.2.0",
            "grid_template_areas": null,
            "object_position": null,
            "object_fit": null,
            "grid_auto_columns": null,
            "margin": null,
            "display": null,
            "left": null
          }
        },
        "76cbf72be0734fc4991818450ad5bbbf": {
          "model_module": "@jupyter-widgets/controls",
          "model_name": "HTMLModel",
          "model_module_version": "1.5.0",
          "state": {
            "_view_name": "HTMLView",
            "style": "IPY_MODEL_2831d4ce389941069cc32cf8a4190539",
            "_dom_classes": [],
            "description": "",
            "_model_name": "HTMLModel",
            "placeholder": "​",
            "_view_module": "@jupyter-widgets/controls",
            "_model_module_version": "1.5.0",
            "value": "",
            "_view_count": null,
            "_view_module_version": "1.5.0",
            "description_tooltip": null,
            "_model_module": "@jupyter-widgets/controls",
            "layout": "IPY_MODEL_f7f629361878463096ae4023301e0892"
          }
        },
        "d59d994fe23b4524aac0df1aa2b70f80": {
          "model_module": "@jupyter-widgets/controls",
          "model_name": "FloatProgressModel",
          "model_module_version": "1.5.0",
          "state": {
            "_view_name": "ProgressView",
            "style": "IPY_MODEL_194309f7332144b794565468ad24e101",
            "_dom_classes": [],
            "description": "",
            "_model_name": "FloatProgressModel",
            "bar_style": "success",
            "max": 5148,
            "_view_module": "@jupyter-widgets/controls",
            "_model_module_version": "1.5.0",
            "value": 5148,
            "_view_count": null,
            "_view_module_version": "1.5.0",
            "orientation": "horizontal",
            "min": 0,
            "description_tooltip": null,
            "_model_module": "@jupyter-widgets/controls",
            "layout": "IPY_MODEL_a1da6ed1ce7044bb844a805acb3af12e"
          }
        },
        "71c0a17454ee48a1a5ad83fb66797ca7": {
          "model_module": "@jupyter-widgets/controls",
          "model_name": "HTMLModel",
          "model_module_version": "1.5.0",
          "state": {
            "_view_name": "HTMLView",
            "style": "IPY_MODEL_1fbbdde81f9f4c3883dbbf9168320bea",
            "_dom_classes": [],
            "description": "",
            "_model_name": "HTMLModel",
            "placeholder": "​",
            "_view_module": "@jupyter-widgets/controls",
            "_model_module_version": "1.5.0",
            "value": " 6144/? [00:00&lt;00:00, 117176.48it/s]",
            "_view_count": null,
            "_view_module_version": "1.5.0",
            "description_tooltip": null,
            "_model_module": "@jupyter-widgets/controls",
            "layout": "IPY_MODEL_59ef02714c414fa09a99332227603982"
          }
        },
        "2831d4ce389941069cc32cf8a4190539": {
          "model_module": "@jupyter-widgets/controls",
          "model_name": "DescriptionStyleModel",
          "model_module_version": "1.5.0",
          "state": {
            "_view_name": "StyleView",
            "_model_name": "DescriptionStyleModel",
            "description_width": "",
            "_view_module": "@jupyter-widgets/base",
            "_model_module_version": "1.5.0",
            "_view_count": null,
            "_view_module_version": "1.2.0",
            "_model_module": "@jupyter-widgets/controls"
          }
        },
        "f7f629361878463096ae4023301e0892": {
          "model_module": "@jupyter-widgets/base",
          "model_name": "LayoutModel",
          "model_module_version": "1.2.0",
          "state": {
            "_view_name": "LayoutView",
            "grid_template_rows": null,
            "right": null,
            "justify_content": null,
            "_view_module": "@jupyter-widgets/base",
            "overflow": null,
            "_model_module_version": "1.2.0",
            "_view_count": null,
            "flex_flow": null,
            "width": null,
            "min_width": null,
            "border": null,
            "align_items": null,
            "bottom": null,
            "_model_module": "@jupyter-widgets/base",
            "top": null,
            "grid_column": null,
            "overflow_y": null,
            "overflow_x": null,
            "grid_auto_flow": null,
            "grid_area": null,
            "grid_template_columns": null,
            "flex": null,
            "_model_name": "LayoutModel",
            "justify_items": null,
            "grid_row": null,
            "max_height": null,
            "align_content": null,
            "visibility": null,
            "align_self": null,
            "height": null,
            "min_height": null,
            "padding": null,
            "grid_auto_rows": null,
            "grid_gap": null,
            "max_width": null,
            "order": null,
            "_view_module_version": "1.2.0",
            "grid_template_areas": null,
            "object_position": null,
            "object_fit": null,
            "grid_auto_columns": null,
            "margin": null,
            "display": null,
            "left": null
          }
        },
        "194309f7332144b794565468ad24e101": {
          "model_module": "@jupyter-widgets/controls",
          "model_name": "ProgressStyleModel",
          "model_module_version": "1.5.0",
          "state": {
            "_view_name": "StyleView",
            "_model_name": "ProgressStyleModel",
            "description_width": "",
            "_view_module": "@jupyter-widgets/base",
            "_model_module_version": "1.5.0",
            "_view_count": null,
            "_view_module_version": "1.2.0",
            "bar_color": null,
            "_model_module": "@jupyter-widgets/controls"
          }
        },
        "a1da6ed1ce7044bb844a805acb3af12e": {
          "model_module": "@jupyter-widgets/base",
          "model_name": "LayoutModel",
          "model_module_version": "1.2.0",
          "state": {
            "_view_name": "LayoutView",
            "grid_template_rows": null,
            "right": null,
            "justify_content": null,
            "_view_module": "@jupyter-widgets/base",
            "overflow": null,
            "_model_module_version": "1.2.0",
            "_view_count": null,
            "flex_flow": null,
            "width": null,
            "min_width": null,
            "border": null,
            "align_items": null,
            "bottom": null,
            "_model_module": "@jupyter-widgets/base",
            "top": null,
            "grid_column": null,
            "overflow_y": null,
            "overflow_x": null,
            "grid_auto_flow": null,
            "grid_area": null,
            "grid_template_columns": null,
            "flex": null,
            "_model_name": "LayoutModel",
            "justify_items": null,
            "grid_row": null,
            "max_height": null,
            "align_content": null,
            "visibility": null,
            "align_self": null,
            "height": null,
            "min_height": null,
            "padding": null,
            "grid_auto_rows": null,
            "grid_gap": null,
            "max_width": null,
            "order": null,
            "_view_module_version": "1.2.0",
            "grid_template_areas": null,
            "object_position": null,
            "object_fit": null,
            "grid_auto_columns": null,
            "margin": null,
            "display": null,
            "left": null
          }
        },
        "1fbbdde81f9f4c3883dbbf9168320bea": {
          "model_module": "@jupyter-widgets/controls",
          "model_name": "DescriptionStyleModel",
          "model_module_version": "1.5.0",
          "state": {
            "_view_name": "StyleView",
            "_model_name": "DescriptionStyleModel",
            "description_width": "",
            "_view_module": "@jupyter-widgets/base",
            "_model_module_version": "1.5.0",
            "_view_count": null,
            "_view_module_version": "1.2.0",
            "_model_module": "@jupyter-widgets/controls"
          }
        },
        "59ef02714c414fa09a99332227603982": {
          "model_module": "@jupyter-widgets/base",
          "model_name": "LayoutModel",
          "model_module_version": "1.2.0",
          "state": {
            "_view_name": "LayoutView",
            "grid_template_rows": null,
            "right": null,
            "justify_content": null,
            "_view_module": "@jupyter-widgets/base",
            "overflow": null,
            "_model_module_version": "1.2.0",
            "_view_count": null,
            "flex_flow": null,
            "width": null,
            "min_width": null,
            "border": null,
            "align_items": null,
            "bottom": null,
            "_model_module": "@jupyter-widgets/base",
            "top": null,
            "grid_column": null,
            "overflow_y": null,
            "overflow_x": null,
            "grid_auto_flow": null,
            "grid_area": null,
            "grid_template_columns": null,
            "flex": null,
            "_model_name": "LayoutModel",
            "justify_items": null,
            "grid_row": null,
            "max_height": null,
            "align_content": null,
            "visibility": null,
            "align_self": null,
            "height": null,
            "min_height": null,
            "padding": null,
            "grid_auto_rows": null,
            "grid_gap": null,
            "max_width": null,
            "order": null,
            "_view_module_version": "1.2.0",
            "grid_template_areas": null,
            "object_position": null,
            "object_fit": null,
            "grid_auto_columns": null,
            "margin": null,
            "display": null,
            "left": null
          }
        }
      }
    }
  },
  "cells": [
    {
      "cell_type": "code",
      "execution_count": null,
      "metadata": {
        "colab": {
          "base_uri": "https://localhost:8080/"
        },
        "id": "ISRYItOafbmN",
        "outputId": "ebb36783-c2dc-4bfe-e779-a29e65ee05db"
      },
      "outputs": [
        {
          "output_type": "stream",
          "name": "stdout",
          "text": [
            "Requirement already satisfied: d2l==0.14.2 in /usr/local/lib/python3.7/dist-packages (0.14.2)\n",
            "Requirement already satisfied: matplotlib in /usr/local/lib/python3.7/dist-packages (from d2l==0.14.2) (3.2.2)\n",
            "Requirement already satisfied: jupyter in /usr/local/lib/python3.7/dist-packages (from d2l==0.14.2) (1.0.0)\n",
            "Requirement already satisfied: pandas in /usr/local/lib/python3.7/dist-packages (from d2l==0.14.2) (1.1.5)\n",
            "Requirement already satisfied: numpy in /usr/local/lib/python3.7/dist-packages (from d2l==0.14.2) (1.19.5)\n",
            "Requirement already satisfied: ipywidgets in /usr/local/lib/python3.7/dist-packages (from jupyter->d2l==0.14.2) (7.6.5)\n",
            "Requirement already satisfied: nbconvert in /usr/local/lib/python3.7/dist-packages (from jupyter->d2l==0.14.2) (5.6.1)\n",
            "Requirement already satisfied: jupyter-console in /usr/local/lib/python3.7/dist-packages (from jupyter->d2l==0.14.2) (5.2.0)\n",
            "Requirement already satisfied: notebook in /usr/local/lib/python3.7/dist-packages (from jupyter->d2l==0.14.2) (5.3.1)\n",
            "Requirement already satisfied: qtconsole in /usr/local/lib/python3.7/dist-packages (from jupyter->d2l==0.14.2) (5.2.2)\n",
            "Requirement already satisfied: ipykernel in /usr/local/lib/python3.7/dist-packages (from jupyter->d2l==0.14.2) (4.10.1)\n",
            "Requirement already satisfied: traitlets>=4.1.0 in /usr/local/lib/python3.7/dist-packages (from ipykernel->jupyter->d2l==0.14.2) (5.1.1)\n",
            "Requirement already satisfied: jupyter-client in /usr/local/lib/python3.7/dist-packages (from ipykernel->jupyter->d2l==0.14.2) (5.3.5)\n",
            "Requirement already satisfied: ipython>=4.0.0 in /usr/local/lib/python3.7/dist-packages (from ipykernel->jupyter->d2l==0.14.2) (5.5.0)\n",
            "Requirement already satisfied: tornado>=4.0 in /usr/local/lib/python3.7/dist-packages (from ipykernel->jupyter->d2l==0.14.2) (5.1.1)\n",
            "Requirement already satisfied: pexpect in /usr/local/lib/python3.7/dist-packages (from ipython>=4.0.0->ipykernel->jupyter->d2l==0.14.2) (4.8.0)\n",
            "Requirement already satisfied: pickleshare in /usr/local/lib/python3.7/dist-packages (from ipython>=4.0.0->ipykernel->jupyter->d2l==0.14.2) (0.7.5)\n",
            "Requirement already satisfied: pygments in /usr/local/lib/python3.7/dist-packages (from ipython>=4.0.0->ipykernel->jupyter->d2l==0.14.2) (2.6.1)\n",
            "Requirement already satisfied: prompt-toolkit<2.0.0,>=1.0.4 in /usr/local/lib/python3.7/dist-packages (from ipython>=4.0.0->ipykernel->jupyter->d2l==0.14.2) (1.0.18)\n",
            "Requirement already satisfied: decorator in /usr/local/lib/python3.7/dist-packages (from ipython>=4.0.0->ipykernel->jupyter->d2l==0.14.2) (4.4.2)\n",
            "Requirement already satisfied: simplegeneric>0.8 in /usr/local/lib/python3.7/dist-packages (from ipython>=4.0.0->ipykernel->jupyter->d2l==0.14.2) (0.8.1)\n",
            "Requirement already satisfied: setuptools>=18.5 in /usr/local/lib/python3.7/dist-packages (from ipython>=4.0.0->ipykernel->jupyter->d2l==0.14.2) (57.4.0)\n",
            "Requirement already satisfied: wcwidth in /usr/local/lib/python3.7/dist-packages (from prompt-toolkit<2.0.0,>=1.0.4->ipython>=4.0.0->ipykernel->jupyter->d2l==0.14.2) (0.2.5)\n",
            "Requirement already satisfied: six>=1.9.0 in /usr/local/lib/python3.7/dist-packages (from prompt-toolkit<2.0.0,>=1.0.4->ipython>=4.0.0->ipykernel->jupyter->d2l==0.14.2) (1.15.0)\n",
            "Requirement already satisfied: widgetsnbextension~=3.5.0 in /usr/local/lib/python3.7/dist-packages (from ipywidgets->jupyter->d2l==0.14.2) (3.5.2)\n",
            "Requirement already satisfied: ipython-genutils~=0.2.0 in /usr/local/lib/python3.7/dist-packages (from ipywidgets->jupyter->d2l==0.14.2) (0.2.0)\n",
            "Requirement already satisfied: nbformat>=4.2.0 in /usr/local/lib/python3.7/dist-packages (from ipywidgets->jupyter->d2l==0.14.2) (5.1.3)\n",
            "Requirement already satisfied: jupyterlab-widgets>=1.0.0 in /usr/local/lib/python3.7/dist-packages (from ipywidgets->jupyter->d2l==0.14.2) (1.0.2)\n",
            "Requirement already satisfied: jsonschema!=2.5.0,>=2.4 in /usr/local/lib/python3.7/dist-packages (from nbformat>=4.2.0->ipywidgets->jupyter->d2l==0.14.2) (4.3.3)\n",
            "Requirement already satisfied: jupyter-core in /usr/local/lib/python3.7/dist-packages (from nbformat>=4.2.0->ipywidgets->jupyter->d2l==0.14.2) (4.9.1)\n",
            "Requirement already satisfied: importlib-resources>=1.4.0 in /usr/local/lib/python3.7/dist-packages (from jsonschema!=2.5.0,>=2.4->nbformat>=4.2.0->ipywidgets->jupyter->d2l==0.14.2) (5.4.0)\n",
            "Requirement already satisfied: typing-extensions in /usr/local/lib/python3.7/dist-packages (from jsonschema!=2.5.0,>=2.4->nbformat>=4.2.0->ipywidgets->jupyter->d2l==0.14.2) (3.10.0.2)\n",
            "Requirement already satisfied: attrs>=17.4.0 in /usr/local/lib/python3.7/dist-packages (from jsonschema!=2.5.0,>=2.4->nbformat>=4.2.0->ipywidgets->jupyter->d2l==0.14.2) (21.4.0)\n",
            "Requirement already satisfied: pyrsistent!=0.17.0,!=0.17.1,!=0.17.2,>=0.14.0 in /usr/local/lib/python3.7/dist-packages (from jsonschema!=2.5.0,>=2.4->nbformat>=4.2.0->ipywidgets->jupyter->d2l==0.14.2) (0.18.1)\n",
            "Requirement already satisfied: importlib-metadata in /usr/local/lib/python3.7/dist-packages (from jsonschema!=2.5.0,>=2.4->nbformat>=4.2.0->ipywidgets->jupyter->d2l==0.14.2) (4.10.1)\n",
            "Requirement already satisfied: zipp>=3.1.0 in /usr/local/lib/python3.7/dist-packages (from importlib-resources>=1.4.0->jsonschema!=2.5.0,>=2.4->nbformat>=4.2.0->ipywidgets->jupyter->d2l==0.14.2) (3.7.0)\n",
            "Requirement already satisfied: jinja2 in /usr/local/lib/python3.7/dist-packages (from notebook->jupyter->d2l==0.14.2) (2.11.3)\n",
            "Requirement already satisfied: terminado>=0.8.1 in /usr/local/lib/python3.7/dist-packages (from notebook->jupyter->d2l==0.14.2) (0.12.1)\n",
            "Requirement already satisfied: Send2Trash in /usr/local/lib/python3.7/dist-packages (from notebook->jupyter->d2l==0.14.2) (1.8.0)\n",
            "Requirement already satisfied: python-dateutil>=2.1 in /usr/local/lib/python3.7/dist-packages (from jupyter-client->ipykernel->jupyter->d2l==0.14.2) (2.8.2)\n",
            "Requirement already satisfied: pyzmq>=13 in /usr/local/lib/python3.7/dist-packages (from jupyter-client->ipykernel->jupyter->d2l==0.14.2) (22.3.0)\n",
            "Requirement already satisfied: ptyprocess in /usr/local/lib/python3.7/dist-packages (from terminado>=0.8.1->notebook->jupyter->d2l==0.14.2) (0.7.0)\n",
            "Requirement already satisfied: MarkupSafe>=0.23 in /usr/local/lib/python3.7/dist-packages (from jinja2->notebook->jupyter->d2l==0.14.2) (2.0.1)\n",
            "Requirement already satisfied: pyparsing!=2.0.4,!=2.1.2,!=2.1.6,>=2.0.1 in /usr/local/lib/python3.7/dist-packages (from matplotlib->d2l==0.14.2) (3.0.7)\n",
            "Requirement already satisfied: cycler>=0.10 in /usr/local/lib/python3.7/dist-packages (from matplotlib->d2l==0.14.2) (0.11.0)\n",
            "Requirement already satisfied: kiwisolver>=1.0.1 in /usr/local/lib/python3.7/dist-packages (from matplotlib->d2l==0.14.2) (1.3.2)\n",
            "Requirement already satisfied: bleach in /usr/local/lib/python3.7/dist-packages (from nbconvert->jupyter->d2l==0.14.2) (4.1.0)\n",
            "Requirement already satisfied: mistune<2,>=0.8.1 in /usr/local/lib/python3.7/dist-packages (from nbconvert->jupyter->d2l==0.14.2) (0.8.4)\n",
            "Requirement already satisfied: defusedxml in /usr/local/lib/python3.7/dist-packages (from nbconvert->jupyter->d2l==0.14.2) (0.7.1)\n",
            "Requirement already satisfied: entrypoints>=0.2.2 in /usr/local/lib/python3.7/dist-packages (from nbconvert->jupyter->d2l==0.14.2) (0.3)\n",
            "Requirement already satisfied: pandocfilters>=1.4.1 in /usr/local/lib/python3.7/dist-packages (from nbconvert->jupyter->d2l==0.14.2) (1.5.0)\n",
            "Requirement already satisfied: testpath in /usr/local/lib/python3.7/dist-packages (from nbconvert->jupyter->d2l==0.14.2) (0.5.0)\n",
            "Requirement already satisfied: packaging in /usr/local/lib/python3.7/dist-packages (from bleach->nbconvert->jupyter->d2l==0.14.2) (21.3)\n",
            "Requirement already satisfied: webencodings in /usr/local/lib/python3.7/dist-packages (from bleach->nbconvert->jupyter->d2l==0.14.2) (0.5.1)\n",
            "Requirement already satisfied: pytz>=2017.2 in /usr/local/lib/python3.7/dist-packages (from pandas->d2l==0.14.2) (2018.9)\n",
            "Requirement already satisfied: qtpy in /usr/local/lib/python3.7/dist-packages (from qtconsole->jupyter->d2l==0.14.2) (2.0.0)\n"
          ]
        }
      ],
      "source": [
        "!pip install d2l==0.14.2"
      ]
    },
    {
      "cell_type": "markdown",
      "source": [
        "3.1.2 Vectorization for Speed"
      ],
      "metadata": {
        "id": "nhe5E7Cpl5Z8"
      }
    },
    {
      "cell_type": "code",
      "source": [
        "%matplotlib inline\n",
        "import math\n",
        "import time\n",
        "import numpy as np\n",
        "import torch\n",
        "from d2l import torch as d2l\n",
        "\n"
      ],
      "metadata": {
        "id": "o58ExuDrfvsE"
      },
      "execution_count": null,
      "outputs": []
    },
    {
      "cell_type": "code",
      "source": [
        "n=10000\n",
        "a=torch.ones(n)\n",
        "b=torch.ones(n)"
      ],
      "metadata": {
        "id": "hloK7d5RmDX2"
      },
      "execution_count": null,
      "outputs": []
    },
    {
      "cell_type": "code",
      "source": [
        "class Timer: #@save\n",
        "    \"\"\"Record multiple runiing times.\"\"\"\n",
        "    def __init__(self):\n",
        "        self.times=[]\n",
        "        self.start()\n",
        "        \n",
        "    def start(self):\n",
        "        \"\"\"Start the timer.\"\"\"\n",
        "        self.tik=time.time()\n",
        "        \n",
        "    def stop(self):\n",
        "        \"\"\"Stop the timer and record the time in a list.\"\"\"\n",
        "        self.times.append(time.time()-self.tik)\n",
        "        return self.times[-1]\n",
        "    \n",
        "    def avg(self):\n",
        "        \"\"\"Return the average time.\"\"\"\n",
        "        return sum(self.times)/len(self.times)\n",
        "    \n",
        "    def sum(self):\n",
        "        \"\"\"Return the sum of time.\"\"\"\n",
        "        return sum(self.times)\n",
        "    \n",
        "    def cumsum(self):\n",
        "        \"\"\"Return the accumulated time.\"\"\"\n",
        "        return np.array(self.times).cumsum().tolist()"
      ],
      "metadata": {
        "id": "PtAkHTp2l-pX"
      },
      "execution_count": null,
      "outputs": []
    },
    {
      "cell_type": "code",
      "source": [
        "c=torch.zeros(n)\n",
        "timer=Timer()\n",
        "for i in range(n):\n",
        "  c[i]=a[i]+b[i]\n",
        "f'{timer.stop():.5f}sec'"
      ],
      "metadata": {
        "colab": {
          "base_uri": "https://localhost:8080/",
          "height": 36
        },
        "id": "u3GtwKnbmGdc",
        "outputId": "90380970-7263-42aa-9922-e53741622a8e"
      },
      "execution_count": null,
      "outputs": [
        {
          "output_type": "execute_result",
          "data": {
            "application/vnd.google.colaboratory.intrinsic+json": {
              "type": "string"
            },
            "text/plain": [
              "'0.08059sec'"
            ]
          },
          "metadata": {},
          "execution_count": 68
        }
      ]
    },
    {
      "cell_type": "code",
      "source": [
        "timer.start()\n",
        "d=a+b\n",
        "f'{timer.stop():.5f}sec'"
      ],
      "metadata": {
        "colab": {
          "base_uri": "https://localhost:8080/",
          "height": 36
        },
        "id": "0cXdwmgBmfWH",
        "outputId": "e2724a45-b235-43d5-fa8a-80c9c71f590f"
      },
      "execution_count": null,
      "outputs": [
        {
          "output_type": "execute_result",
          "data": {
            "application/vnd.google.colaboratory.intrinsic+json": {
              "type": "string"
            },
            "text/plain": [
              "'0.00048sec'"
            ]
          },
          "metadata": {},
          "execution_count": 69
        }
      ]
    },
    {
      "cell_type": "markdown",
      "source": [
        "3.1.3 The Normal Distribution and Squared Loss"
      ],
      "metadata": {
        "id": "oQr-zRTVmmQV"
      }
    },
    {
      "cell_type": "code",
      "source": [
        "def normal(x, mu, sigma):\n",
        "  p=1/math.sqrt(2*math.pi*sigma**2)\n",
        "  return p*np.exp(-0.5/sigma**2*(x-mu)**2)"
      ],
      "metadata": {
        "id": "dNrTAqWBmppg"
      },
      "execution_count": null,
      "outputs": []
    },
    {
      "cell_type": "code",
      "source": [
        "#Use numpy again for visualization\n",
        "x=np.arange(-7, 7, 0.01)\n",
        "\n",
        "#Mean and standard deviation pairs\n",
        "params=[(0,1),(0,2),(3,1)]\n",
        "d2l.plot(x,[normal(x, mu, sigma) for mu, sigma in params], xlabel='x',\n",
        "         ylabel='p(x)', figsize=(4.5, 2.5),\n",
        "         legend=[f'mean {mu},std {sigma}' for mu, sigma in params])"
      ],
      "metadata": {
        "colab": {
          "base_uri": "https://localhost:8080/",
          "height": 261
        },
        "id": "RcNVe7RMm30X",
        "outputId": "26394d37-6163-4407-98dd-63e03b0fe4a4"
      },
      "execution_count": null,
      "outputs": [
        {
          "output_type": "display_data",
          "data": {
            "text/plain": [
              "<Figure size 324x180 with 1 Axes>"
            ],
            "image/svg+xml": "<?xml version=\"1.0\" encoding=\"utf-8\" standalone=\"no\"?>\n<!DOCTYPE svg PUBLIC \"-//W3C//DTD SVG 1.1//EN\"\n  \"http://www.w3.org/Graphics/SVG/1.1/DTD/svg11.dtd\">\n<!-- Created with matplotlib (https://matplotlib.org/) -->\n<svg height=\"180.65625pt\" version=\"1.1\" viewBox=\"0 0 302.08125 180.65625\" width=\"302.08125pt\" xmlns=\"http://www.w3.org/2000/svg\" xmlns:xlink=\"http://www.w3.org/1999/xlink\">\n <defs>\n  <style type=\"text/css\">\n*{stroke-linecap:butt;stroke-linejoin:round;}\n  </style>\n </defs>\n <g id=\"figure_1\">\n  <g id=\"patch_1\">\n   <path d=\"M 0 180.65625 \nL 302.08125 180.65625 \nL 302.08125 0 \nL 0 0 \nz\n\" style=\"fill:none;\"/>\n  </g>\n  <g id=\"axes_1\">\n   <g id=\"patch_2\">\n    <path d=\"M 43.78125 143.1 \nL 294.88125 143.1 \nL 294.88125 7.2 \nL 43.78125 7.2 \nz\n\" style=\"fill:#ffffff;\"/>\n   </g>\n   <g id=\"matplotlib.axis_1\">\n    <g id=\"xtick_1\">\n     <g id=\"line2d_1\">\n      <path clip-path=\"url(#p9130ba1330)\" d=\"M 71.511736 143.1 \nL 71.511736 7.2 \n\" style=\"fill:none;stroke:#b0b0b0;stroke-linecap:square;stroke-width:0.8;\"/>\n     </g>\n     <g id=\"line2d_2\">\n      <defs>\n       <path d=\"M 0 0 \nL 0 3.5 \n\" id=\"m851a8fc15d\" style=\"stroke:#000000;stroke-width:0.8;\"/>\n      </defs>\n      <g>\n       <use style=\"stroke:#000000;stroke-width:0.8;\" x=\"71.511736\" xlink:href=\"#m851a8fc15d\" y=\"143.1\"/>\n      </g>\n     </g>\n     <g id=\"text_1\">\n      <!-- −6 -->\n      <defs>\n       <path d=\"M 10.59375 35.5 \nL 73.1875 35.5 \nL 73.1875 27.203125 \nL 10.59375 27.203125 \nz\n\" id=\"DejaVuSans-8722\"/>\n       <path d=\"M 33.015625 40.375 \nQ 26.375 40.375 22.484375 35.828125 \nQ 18.609375 31.296875 18.609375 23.390625 \nQ 18.609375 15.53125 22.484375 10.953125 \nQ 26.375 6.390625 33.015625 6.390625 \nQ 39.65625 6.390625 43.53125 10.953125 \nQ 47.40625 15.53125 47.40625 23.390625 \nQ 47.40625 31.296875 43.53125 35.828125 \nQ 39.65625 40.375 33.015625 40.375 \nz\nM 52.59375 71.296875 \nL 52.59375 62.3125 \nQ 48.875 64.0625 45.09375 64.984375 \nQ 41.3125 65.921875 37.59375 65.921875 \nQ 27.828125 65.921875 22.671875 59.328125 \nQ 17.53125 52.734375 16.796875 39.40625 \nQ 19.671875 43.65625 24.015625 45.921875 \nQ 28.375 48.1875 33.59375 48.1875 \nQ 44.578125 48.1875 50.953125 41.515625 \nQ 57.328125 34.859375 57.328125 23.390625 \nQ 57.328125 12.15625 50.6875 5.359375 \nQ 44.046875 -1.421875 33.015625 -1.421875 \nQ 20.359375 -1.421875 13.671875 8.265625 \nQ 6.984375 17.96875 6.984375 36.375 \nQ 6.984375 53.65625 15.1875 63.9375 \nQ 23.390625 74.21875 37.203125 74.21875 \nQ 40.921875 74.21875 44.703125 73.484375 \nQ 48.484375 72.75 52.59375 71.296875 \nz\n\" id=\"DejaVuSans-54\"/>\n      </defs>\n      <g transform=\"translate(64.140642 157.698438)scale(0.1 -0.1)\">\n       <use xlink:href=\"#DejaVuSans-8722\"/>\n       <use x=\"83.789062\" xlink:href=\"#DejaVuSans-54\"/>\n      </g>\n     </g>\n    </g>\n    <g id=\"xtick_2\">\n     <g id=\"line2d_3\">\n      <path clip-path=\"url(#p9130ba1330)\" d=\"M 104.145435 143.1 \nL 104.145435 7.2 \n\" style=\"fill:none;stroke:#b0b0b0;stroke-linecap:square;stroke-width:0.8;\"/>\n     </g>\n     <g id=\"line2d_4\">\n      <g>\n       <use style=\"stroke:#000000;stroke-width:0.8;\" x=\"104.145435\" xlink:href=\"#m851a8fc15d\" y=\"143.1\"/>\n      </g>\n     </g>\n     <g id=\"text_2\">\n      <!-- −4 -->\n      <defs>\n       <path d=\"M 37.796875 64.3125 \nL 12.890625 25.390625 \nL 37.796875 25.390625 \nz\nM 35.203125 72.90625 \nL 47.609375 72.90625 \nL 47.609375 25.390625 \nL 58.015625 25.390625 \nL 58.015625 17.1875 \nL 47.609375 17.1875 \nL 47.609375 0 \nL 37.796875 0 \nL 37.796875 17.1875 \nL 4.890625 17.1875 \nL 4.890625 26.703125 \nz\n\" id=\"DejaVuSans-52\"/>\n      </defs>\n      <g transform=\"translate(96.774342 157.698438)scale(0.1 -0.1)\">\n       <use xlink:href=\"#DejaVuSans-8722\"/>\n       <use x=\"83.789062\" xlink:href=\"#DejaVuSans-52\"/>\n      </g>\n     </g>\n    </g>\n    <g id=\"xtick_3\">\n     <g id=\"line2d_5\">\n      <path clip-path=\"url(#p9130ba1330)\" d=\"M 136.779135 143.1 \nL 136.779135 7.2 \n\" style=\"fill:none;stroke:#b0b0b0;stroke-linecap:square;stroke-width:0.8;\"/>\n     </g>\n     <g id=\"line2d_6\">\n      <g>\n       <use style=\"stroke:#000000;stroke-width:0.8;\" x=\"136.779135\" xlink:href=\"#m851a8fc15d\" y=\"143.1\"/>\n      </g>\n     </g>\n     <g id=\"text_3\">\n      <!-- −2 -->\n      <defs>\n       <path d=\"M 19.1875 8.296875 \nL 53.609375 8.296875 \nL 53.609375 0 \nL 7.328125 0 \nL 7.328125 8.296875 \nQ 12.9375 14.109375 22.625 23.890625 \nQ 32.328125 33.6875 34.8125 36.53125 \nQ 39.546875 41.84375 41.421875 45.53125 \nQ 43.3125 49.21875 43.3125 52.78125 \nQ 43.3125 58.59375 39.234375 62.25 \nQ 35.15625 65.921875 28.609375 65.921875 \nQ 23.96875 65.921875 18.8125 64.3125 \nQ 13.671875 62.703125 7.8125 59.421875 \nL 7.8125 69.390625 \nQ 13.765625 71.78125 18.9375 73 \nQ 24.125 74.21875 28.421875 74.21875 \nQ 39.75 74.21875 46.484375 68.546875 \nQ 53.21875 62.890625 53.21875 53.421875 \nQ 53.21875 48.921875 51.53125 44.890625 \nQ 49.859375 40.875 45.40625 35.40625 \nQ 44.1875 33.984375 37.640625 27.21875 \nQ 31.109375 20.453125 19.1875 8.296875 \nz\n\" id=\"DejaVuSans-50\"/>\n      </defs>\n      <g transform=\"translate(129.408041 157.698438)scale(0.1 -0.1)\">\n       <use xlink:href=\"#DejaVuSans-8722\"/>\n       <use x=\"83.789062\" xlink:href=\"#DejaVuSans-50\"/>\n      </g>\n     </g>\n    </g>\n    <g id=\"xtick_4\">\n     <g id=\"line2d_7\">\n      <path clip-path=\"url(#p9130ba1330)\" d=\"M 169.412834 143.1 \nL 169.412834 7.2 \n\" style=\"fill:none;stroke:#b0b0b0;stroke-linecap:square;stroke-width:0.8;\"/>\n     </g>\n     <g id=\"line2d_8\">\n      <g>\n       <use style=\"stroke:#000000;stroke-width:0.8;\" x=\"169.412834\" xlink:href=\"#m851a8fc15d\" y=\"143.1\"/>\n      </g>\n     </g>\n     <g id=\"text_4\">\n      <!-- 0 -->\n      <defs>\n       <path d=\"M 31.78125 66.40625 \nQ 24.171875 66.40625 20.328125 58.90625 \nQ 16.5 51.421875 16.5 36.375 \nQ 16.5 21.390625 20.328125 13.890625 \nQ 24.171875 6.390625 31.78125 6.390625 \nQ 39.453125 6.390625 43.28125 13.890625 \nQ 47.125 21.390625 47.125 36.375 \nQ 47.125 51.421875 43.28125 58.90625 \nQ 39.453125 66.40625 31.78125 66.40625 \nz\nM 31.78125 74.21875 \nQ 44.046875 74.21875 50.515625 64.515625 \nQ 56.984375 54.828125 56.984375 36.375 \nQ 56.984375 17.96875 50.515625 8.265625 \nQ 44.046875 -1.421875 31.78125 -1.421875 \nQ 19.53125 -1.421875 13.0625 8.265625 \nQ 6.59375 17.96875 6.59375 36.375 \nQ 6.59375 54.828125 13.0625 64.515625 \nQ 19.53125 74.21875 31.78125 74.21875 \nz\n\" id=\"DejaVuSans-48\"/>\n      </defs>\n      <g transform=\"translate(166.231584 157.698438)scale(0.1 -0.1)\">\n       <use xlink:href=\"#DejaVuSans-48\"/>\n      </g>\n     </g>\n    </g>\n    <g id=\"xtick_5\">\n     <g id=\"line2d_9\">\n      <path clip-path=\"url(#p9130ba1330)\" d=\"M 202.046534 143.1 \nL 202.046534 7.2 \n\" style=\"fill:none;stroke:#b0b0b0;stroke-linecap:square;stroke-width:0.8;\"/>\n     </g>\n     <g id=\"line2d_10\">\n      <g>\n       <use style=\"stroke:#000000;stroke-width:0.8;\" x=\"202.046534\" xlink:href=\"#m851a8fc15d\" y=\"143.1\"/>\n      </g>\n     </g>\n     <g id=\"text_5\">\n      <!-- 2 -->\n      <g transform=\"translate(198.865284 157.698438)scale(0.1 -0.1)\">\n       <use xlink:href=\"#DejaVuSans-50\"/>\n      </g>\n     </g>\n    </g>\n    <g id=\"xtick_6\">\n     <g id=\"line2d_11\">\n      <path clip-path=\"url(#p9130ba1330)\" d=\"M 234.680233 143.1 \nL 234.680233 7.2 \n\" style=\"fill:none;stroke:#b0b0b0;stroke-linecap:square;stroke-width:0.8;\"/>\n     </g>\n     <g id=\"line2d_12\">\n      <g>\n       <use style=\"stroke:#000000;stroke-width:0.8;\" x=\"234.680233\" xlink:href=\"#m851a8fc15d\" y=\"143.1\"/>\n      </g>\n     </g>\n     <g id=\"text_6\">\n      <!-- 4 -->\n      <g transform=\"translate(231.498983 157.698438)scale(0.1 -0.1)\">\n       <use xlink:href=\"#DejaVuSans-52\"/>\n      </g>\n     </g>\n    </g>\n    <g id=\"xtick_7\">\n     <g id=\"line2d_13\">\n      <path clip-path=\"url(#p9130ba1330)\" d=\"M 267.313932 143.1 \nL 267.313932 7.2 \n\" style=\"fill:none;stroke:#b0b0b0;stroke-linecap:square;stroke-width:0.8;\"/>\n     </g>\n     <g id=\"line2d_14\">\n      <g>\n       <use style=\"stroke:#000000;stroke-width:0.8;\" x=\"267.313932\" xlink:href=\"#m851a8fc15d\" y=\"143.1\"/>\n      </g>\n     </g>\n     <g id=\"text_7\">\n      <!-- 6 -->\n      <g transform=\"translate(264.132682 157.698438)scale(0.1 -0.1)\">\n       <use xlink:href=\"#DejaVuSans-54\"/>\n      </g>\n     </g>\n    </g>\n    <g id=\"text_8\">\n     <!-- x -->\n     <defs>\n      <path d=\"M 54.890625 54.6875 \nL 35.109375 28.078125 \nL 55.90625 0 \nL 45.3125 0 \nL 29.390625 21.484375 \nL 13.484375 0 \nL 2.875 0 \nL 24.125 28.609375 \nL 4.6875 54.6875 \nL 15.28125 54.6875 \nL 29.78125 35.203125 \nL 44.28125 54.6875 \nz\n\" id=\"DejaVuSans-120\"/>\n     </defs>\n     <g transform=\"translate(166.371875 171.376563)scale(0.1 -0.1)\">\n      <use xlink:href=\"#DejaVuSans-120\"/>\n     </g>\n    </g>\n   </g>\n   <g id=\"matplotlib.axis_2\">\n    <g id=\"ytick_1\">\n     <g id=\"line2d_15\">\n      <path clip-path=\"url(#p9130ba1330)\" d=\"M 43.78125 136.922727 \nL 294.88125 136.922727 \n\" style=\"fill:none;stroke:#b0b0b0;stroke-linecap:square;stroke-width:0.8;\"/>\n     </g>\n     <g id=\"line2d_16\">\n      <defs>\n       <path d=\"M 0 0 \nL -3.5 0 \n\" id=\"mc80d06332e\" style=\"stroke:#000000;stroke-width:0.8;\"/>\n      </defs>\n      <g>\n       <use style=\"stroke:#000000;stroke-width:0.8;\" x=\"43.78125\" xlink:href=\"#mc80d06332e\" y=\"136.922727\"/>\n      </g>\n     </g>\n     <g id=\"text_9\">\n      <!-- 0.0 -->\n      <defs>\n       <path d=\"M 10.6875 12.40625 \nL 21 12.40625 \nL 21 0 \nL 10.6875 0 \nz\n\" id=\"DejaVuSans-46\"/>\n      </defs>\n      <g transform=\"translate(20.878125 140.721946)scale(0.1 -0.1)\">\n       <use xlink:href=\"#DejaVuSans-48\"/>\n       <use x=\"63.623047\" xlink:href=\"#DejaVuSans-46\"/>\n       <use x=\"95.410156\" xlink:href=\"#DejaVuSans-48\"/>\n      </g>\n     </g>\n    </g>\n    <g id=\"ytick_2\">\n     <g id=\"line2d_17\">\n      <path clip-path=\"url(#p9130ba1330)\" d=\"M 43.78125 105.954474 \nL 294.88125 105.954474 \n\" style=\"fill:none;stroke:#b0b0b0;stroke-linecap:square;stroke-width:0.8;\"/>\n     </g>\n     <g id=\"line2d_18\">\n      <g>\n       <use style=\"stroke:#000000;stroke-width:0.8;\" x=\"43.78125\" xlink:href=\"#mc80d06332e\" y=\"105.954474\"/>\n      </g>\n     </g>\n     <g id=\"text_10\">\n      <!-- 0.1 -->\n      <defs>\n       <path d=\"M 12.40625 8.296875 \nL 28.515625 8.296875 \nL 28.515625 63.921875 \nL 10.984375 60.40625 \nL 10.984375 69.390625 \nL 28.421875 72.90625 \nL 38.28125 72.90625 \nL 38.28125 8.296875 \nL 54.390625 8.296875 \nL 54.390625 0 \nL 12.40625 0 \nz\n\" id=\"DejaVuSans-49\"/>\n      </defs>\n      <g transform=\"translate(20.878125 109.753693)scale(0.1 -0.1)\">\n       <use xlink:href=\"#DejaVuSans-48\"/>\n       <use x=\"63.623047\" xlink:href=\"#DejaVuSans-46\"/>\n       <use x=\"95.410156\" xlink:href=\"#DejaVuSans-49\"/>\n      </g>\n     </g>\n    </g>\n    <g id=\"ytick_3\">\n     <g id=\"line2d_19\">\n      <path clip-path=\"url(#p9130ba1330)\" d=\"M 43.78125 74.986221 \nL 294.88125 74.986221 \n\" style=\"fill:none;stroke:#b0b0b0;stroke-linecap:square;stroke-width:0.8;\"/>\n     </g>\n     <g id=\"line2d_20\">\n      <g>\n       <use style=\"stroke:#000000;stroke-width:0.8;\" x=\"43.78125\" xlink:href=\"#mc80d06332e\" y=\"74.986221\"/>\n      </g>\n     </g>\n     <g id=\"text_11\">\n      <!-- 0.2 -->\n      <g transform=\"translate(20.878125 78.78544)scale(0.1 -0.1)\">\n       <use xlink:href=\"#DejaVuSans-48\"/>\n       <use x=\"63.623047\" xlink:href=\"#DejaVuSans-46\"/>\n       <use x=\"95.410156\" xlink:href=\"#DejaVuSans-50\"/>\n      </g>\n     </g>\n    </g>\n    <g id=\"ytick_4\">\n     <g id=\"line2d_21\">\n      <path clip-path=\"url(#p9130ba1330)\" d=\"M 43.78125 44.017968 \nL 294.88125 44.017968 \n\" style=\"fill:none;stroke:#b0b0b0;stroke-linecap:square;stroke-width:0.8;\"/>\n     </g>\n     <g id=\"line2d_22\">\n      <g>\n       <use style=\"stroke:#000000;stroke-width:0.8;\" x=\"43.78125\" xlink:href=\"#mc80d06332e\" y=\"44.017968\"/>\n      </g>\n     </g>\n     <g id=\"text_12\">\n      <!-- 0.3 -->\n      <defs>\n       <path d=\"M 40.578125 39.3125 \nQ 47.65625 37.796875 51.625 33 \nQ 55.609375 28.21875 55.609375 21.1875 \nQ 55.609375 10.40625 48.1875 4.484375 \nQ 40.765625 -1.421875 27.09375 -1.421875 \nQ 22.515625 -1.421875 17.65625 -0.515625 \nQ 12.796875 0.390625 7.625 2.203125 \nL 7.625 11.71875 \nQ 11.71875 9.328125 16.59375 8.109375 \nQ 21.484375 6.890625 26.8125 6.890625 \nQ 36.078125 6.890625 40.9375 10.546875 \nQ 45.796875 14.203125 45.796875 21.1875 \nQ 45.796875 27.640625 41.28125 31.265625 \nQ 36.765625 34.90625 28.71875 34.90625 \nL 20.21875 34.90625 \nL 20.21875 43.015625 \nL 29.109375 43.015625 \nQ 36.375 43.015625 40.234375 45.921875 \nQ 44.09375 48.828125 44.09375 54.296875 \nQ 44.09375 59.90625 40.109375 62.90625 \nQ 36.140625 65.921875 28.71875 65.921875 \nQ 24.65625 65.921875 20.015625 65.03125 \nQ 15.375 64.15625 9.8125 62.3125 \nL 9.8125 71.09375 \nQ 15.4375 72.65625 20.34375 73.4375 \nQ 25.25 74.21875 29.59375 74.21875 \nQ 40.828125 74.21875 47.359375 69.109375 \nQ 53.90625 64.015625 53.90625 55.328125 \nQ 53.90625 49.265625 50.4375 45.09375 \nQ 46.96875 40.921875 40.578125 39.3125 \nz\n\" id=\"DejaVuSans-51\"/>\n      </defs>\n      <g transform=\"translate(20.878125 47.817187)scale(0.1 -0.1)\">\n       <use xlink:href=\"#DejaVuSans-48\"/>\n       <use x=\"63.623047\" xlink:href=\"#DejaVuSans-46\"/>\n       <use x=\"95.410156\" xlink:href=\"#DejaVuSans-51\"/>\n      </g>\n     </g>\n    </g>\n    <g id=\"ytick_5\">\n     <g id=\"line2d_23\">\n      <path clip-path=\"url(#p9130ba1330)\" d=\"M 43.78125 13.049715 \nL 294.88125 13.049715 \n\" style=\"fill:none;stroke:#b0b0b0;stroke-linecap:square;stroke-width:0.8;\"/>\n     </g>\n     <g id=\"line2d_24\">\n      <g>\n       <use style=\"stroke:#000000;stroke-width:0.8;\" x=\"43.78125\" xlink:href=\"#mc80d06332e\" y=\"13.049715\"/>\n      </g>\n     </g>\n     <g id=\"text_13\">\n      <!-- 0.4 -->\n      <g transform=\"translate(20.878125 16.848934)scale(0.1 -0.1)\">\n       <use xlink:href=\"#DejaVuSans-48\"/>\n       <use x=\"63.623047\" xlink:href=\"#DejaVuSans-46\"/>\n       <use x=\"95.410156\" xlink:href=\"#DejaVuSans-52\"/>\n      </g>\n     </g>\n    </g>\n    <g id=\"text_14\">\n     <!-- p(x) -->\n     <defs>\n      <path d=\"M 18.109375 8.203125 \nL 18.109375 -20.796875 \nL 9.078125 -20.796875 \nL 9.078125 54.6875 \nL 18.109375 54.6875 \nL 18.109375 46.390625 \nQ 20.953125 51.265625 25.265625 53.625 \nQ 29.59375 56 35.59375 56 \nQ 45.5625 56 51.78125 48.09375 \nQ 58.015625 40.1875 58.015625 27.296875 \nQ 58.015625 14.40625 51.78125 6.484375 \nQ 45.5625 -1.421875 35.59375 -1.421875 \nQ 29.59375 -1.421875 25.265625 0.953125 \nQ 20.953125 3.328125 18.109375 8.203125 \nz\nM 48.6875 27.296875 \nQ 48.6875 37.203125 44.609375 42.84375 \nQ 40.53125 48.484375 33.40625 48.484375 \nQ 26.265625 48.484375 22.1875 42.84375 \nQ 18.109375 37.203125 18.109375 27.296875 \nQ 18.109375 17.390625 22.1875 11.75 \nQ 26.265625 6.109375 33.40625 6.109375 \nQ 40.53125 6.109375 44.609375 11.75 \nQ 48.6875 17.390625 48.6875 27.296875 \nz\n\" id=\"DejaVuSans-112\"/>\n      <path d=\"M 31 75.875 \nQ 24.46875 64.65625 21.28125 53.65625 \nQ 18.109375 42.671875 18.109375 31.390625 \nQ 18.109375 20.125 21.3125 9.0625 \nQ 24.515625 -2 31 -13.1875 \nL 23.1875 -13.1875 \nQ 15.875 -1.703125 12.234375 9.375 \nQ 8.59375 20.453125 8.59375 31.390625 \nQ 8.59375 42.28125 12.203125 53.3125 \nQ 15.828125 64.359375 23.1875 75.875 \nz\n\" id=\"DejaVuSans-40\"/>\n      <path d=\"M 8.015625 75.875 \nL 15.828125 75.875 \nQ 23.140625 64.359375 26.78125 53.3125 \nQ 30.421875 42.28125 30.421875 31.390625 \nQ 30.421875 20.453125 26.78125 9.375 \nQ 23.140625 -1.703125 15.828125 -13.1875 \nL 8.015625 -13.1875 \nQ 14.5 -2 17.703125 9.0625 \nQ 20.90625 20.125 20.90625 31.390625 \nQ 20.90625 42.671875 17.703125 53.65625 \nQ 14.5 64.65625 8.015625 75.875 \nz\n\" id=\"DejaVuSans-41\"/>\n     </defs>\n     <g transform=\"translate(14.798438 85.185156)rotate(-90)scale(0.1 -0.1)\">\n      <use xlink:href=\"#DejaVuSans-112\"/>\n      <use x=\"63.476562\" xlink:href=\"#DejaVuSans-40\"/>\n      <use x=\"102.490234\" xlink:href=\"#DejaVuSans-120\"/>\n      <use x=\"161.669922\" xlink:href=\"#DejaVuSans-41\"/>\n     </g>\n    </g>\n   </g>\n   <g id=\"line2d_25\">\n    <path clip-path=\"url(#p9130ba1330)\" d=\"M 55.194886 136.922727 \nL 108.224648 136.813535 \nL 113.609208 136.566288 \nL 117.198915 136.184417 \nL 119.97278 135.668952 \nL 122.257139 135.025186 \nL 124.215161 134.257847 \nL 126.010014 133.330368 \nL 127.804868 132.138334 \nL 129.436552 130.779445 \nL 131.068237 129.113085 \nL 132.699922 127.093512 \nL 134.331607 124.67477 \nL 135.963292 121.812692 \nL 137.594977 118.467288 \nL 139.226662 114.605495 \nL 141.021516 109.733818 \nL 142.816369 104.197078 \nL 144.774391 97.412516 \nL 146.895582 89.247632 \nL 149.506278 78.224523 \nL 153.259153 61.239305 \nL 157.501534 42.275258 \nL 159.785893 33.113056 \nL 161.580746 26.820515 \nL 163.049263 22.424523 \nL 164.354611 19.173268 \nL 165.49679 16.884633 \nL 166.475801 15.362585 \nL 167.454812 14.263605 \nL 168.270655 13.679589 \nL 169.086497 13.401979 \nL 169.739171 13.401979 \nL 170.391845 13.599455 \nL 171.207688 14.122466 \nL 172.02353 14.948577 \nL 173.002541 16.331186 \nL 173.981552 18.12656 \nL 175.123732 20.717347 \nL 176.42908 24.286979 \nL 177.897596 29.000684 \nL 179.69245 35.615359 \nL 181.81364 44.367165 \nL 184.913841 58.245076 \nL 190.46157 83.161144 \nL 192.909098 93.115047 \nL 195.030288 100.899673 \nL 196.98831 107.299489 \nL 198.783164 112.473243 \nL 200.578017 116.986089 \nL 202.209702 120.534567 \nL 203.841387 123.5855 \nL 205.473072 126.176453 \nL 207.104757 128.35023 \nL 208.736442 130.152334 \nL 210.368127 131.628806 \nL 211.999812 132.824481 \nL 213.794665 133.865803 \nL 215.752687 134.73293 \nL 217.873878 135.421686 \nL 220.321405 135.97206 \nL 223.258438 136.389278 \nL 227.011314 136.67952 \nL 232.395874 136.850878 \nL 243.001826 136.917995 \nL 283.467614 136.922727 \nL 283.467614 136.922727 \n\" style=\"fill:none;stroke:#1f77b4;stroke-linecap:square;stroke-width:1.5;\"/>\n   </g>\n   <g id=\"line2d_26\">\n    <path clip-path=\"url(#p9130ba1330)\" d=\"M 55.194886 136.7876 \nL 65.800839 136.522951 \nL 73.143421 136.126434 \nL 79.017487 135.590287 \nL 83.912542 134.926494 \nL 88.318091 134.105229 \nL 92.234135 133.153577 \nL 95.823842 132.06316 \nL 99.250381 130.798749 \nL 102.51375 129.367709 \nL 105.77712 127.695008 \nL 109.04049 125.764111 \nL 112.30386 123.563438 \nL 115.56723 121.087897 \nL 118.993769 118.196043 \nL 122.583476 114.860886 \nL 126.49952 110.903144 \nL 131.068237 105.948686 \nL 138.247651 97.770807 \nL 144.611223 90.644946 \nL 148.527267 86.589675 \nL 151.790637 83.530672 \nL 154.564501 81.224436 \nL 157.175197 79.344214 \nL 159.459556 77.957408 \nL 161.743915 76.832365 \nL 163.865105 76.036198 \nL 165.823127 75.522597 \nL 167.781149 75.227168 \nL 169.739171 75.153089 \nL 171.697193 75.301158 \nL 173.655215 75.66978 \nL 175.613237 76.254995 \nL 177.734428 77.126088 \nL 179.855618 78.233161 \nL 182.139977 79.673625 \nL 184.587504 81.48006 \nL 187.361369 83.820867 \nL 190.46157 86.751111 \nL 194.051277 90.469337 \nL 198.783164 95.721751 \nL 211.673475 110.215093 \nL 215.752687 114.383393 \nL 219.505563 117.90542 \nL 222.932101 120.82526 \nL 226.195471 123.328273 \nL 229.458841 125.556324 \nL 232.722211 127.513772 \nL 235.985581 129.211619 \nL 239.248951 130.665971 \nL 242.675489 131.95258 \nL 246.265196 133.063568 \nL 250.18124 134.034481 \nL 254.423621 134.846714 \nL 259.155508 135.514669 \nL 264.540068 136.040363 \nL 270.903639 136.432354 \nL 279.225233 136.707949 \nL 283.467614 136.785216 \nL 283.467614 136.785216 \n\" style=\"fill:none;stroke:#bf00bf;stroke-dasharray:5.55,2.4;stroke-dashoffset:0;stroke-width:1.5;\"/>\n   </g>\n   <g id=\"line2d_27\">\n    <path clip-path=\"url(#p9130ba1330)\" d=\"M 55.194886 136.922727 \nL 157.175197 136.813535 \nL 162.559757 136.566288 \nL 166.149464 136.184417 \nL 168.923329 135.668952 \nL 171.207688 135.025186 \nL 173.16571 134.257847 \nL 174.960563 133.330368 \nL 176.755417 132.138334 \nL 178.387102 130.779445 \nL 180.018787 129.113085 \nL 181.650472 127.093512 \nL 183.282156 124.67477 \nL 184.913841 121.812692 \nL 186.545526 118.467288 \nL 188.177211 114.605495 \nL 189.972065 109.733818 \nL 191.766918 104.197078 \nL 193.72494 97.412516 \nL 195.846131 89.247632 \nL 198.456827 78.224523 \nL 202.209702 61.239305 \nL 206.452083 42.275258 \nL 208.736442 33.113056 \nL 210.531295 26.820515 \nL 211.999812 22.424523 \nL 213.30516 19.173268 \nL 214.447339 16.884633 \nL 215.42635 15.362585 \nL 216.405361 14.263605 \nL 217.221204 13.679589 \nL 218.037046 13.401979 \nL 218.68972 13.401979 \nL 219.342394 13.599455 \nL 220.158237 14.122466 \nL 220.974079 14.948577 \nL 221.95309 16.331186 \nL 222.932101 18.12656 \nL 224.074281 20.717347 \nL 225.379629 24.286979 \nL 226.848145 29.000684 \nL 228.642999 35.615359 \nL 230.764189 44.367165 \nL 233.864391 58.245076 \nL 239.412119 83.161144 \nL 241.859647 93.115047 \nL 243.980837 100.899673 \nL 245.938859 107.299489 \nL 247.733713 112.473243 \nL 249.528566 116.986089 \nL 251.160251 120.534567 \nL 252.791936 123.5855 \nL 254.423621 126.176453 \nL 256.055306 128.35023 \nL 257.686991 130.152334 \nL 259.318676 131.628806 \nL 260.950361 132.824481 \nL 262.745215 133.865803 \nL 264.703236 134.73293 \nL 266.824427 135.421686 \nL 269.271954 135.97206 \nL 272.208987 136.389278 \nL 275.961863 136.67952 \nL 281.346423 136.850878 \nL 283.467614 136.879593 \nL 283.467614 136.879593 \n\" style=\"fill:none;stroke:#008000;stroke-dasharray:9.6,2.4,1.5,2.4;stroke-dashoffset:0;stroke-width:1.5;\"/>\n   </g>\n   <g id=\"patch_3\">\n    <path d=\"M 43.78125 143.1 \nL 43.78125 7.2 \n\" style=\"fill:none;stroke:#000000;stroke-linecap:square;stroke-linejoin:miter;stroke-width:0.8;\"/>\n   </g>\n   <g id=\"patch_4\">\n    <path d=\"M 294.88125 143.1 \nL 294.88125 7.2 \n\" style=\"fill:none;stroke:#000000;stroke-linecap:square;stroke-linejoin:miter;stroke-width:0.8;\"/>\n   </g>\n   <g id=\"patch_5\">\n    <path d=\"M 43.78125 143.1 \nL 294.88125 143.1 \n\" style=\"fill:none;stroke:#000000;stroke-linecap:square;stroke-linejoin:miter;stroke-width:0.8;\"/>\n   </g>\n   <g id=\"patch_6\">\n    <path d=\"M 43.78125 7.2 \nL 294.88125 7.2 \n\" style=\"fill:none;stroke:#000000;stroke-linecap:square;stroke-linejoin:miter;stroke-width:0.8;\"/>\n   </g>\n   <g id=\"legend_1\">\n    <g id=\"patch_7\">\n     <path d=\"M 50.78125 59.234375 \nL 148.878125 59.234375 \nQ 150.878125 59.234375 150.878125 57.234375 \nL 150.878125 14.2 \nQ 150.878125 12.2 148.878125 12.2 \nL 50.78125 12.2 \nQ 48.78125 12.2 48.78125 14.2 \nL 48.78125 57.234375 \nQ 48.78125 59.234375 50.78125 59.234375 \nz\n\" style=\"fill:#ffffff;opacity:0.8;stroke:#cccccc;stroke-linejoin:miter;\"/>\n    </g>\n    <g id=\"line2d_28\">\n     <path d=\"M 52.78125 20.298438 \nL 72.78125 20.298438 \n\" style=\"fill:none;stroke:#1f77b4;stroke-linecap:square;stroke-width:1.5;\"/>\n    </g>\n    <g id=\"line2d_29\"/>\n    <g id=\"text_15\">\n     <!-- mean 0,std 1 -->\n     <defs>\n      <path d=\"M 52 44.1875 \nQ 55.375 50.25 60.0625 53.125 \nQ 64.75 56 71.09375 56 \nQ 79.640625 56 84.28125 50.015625 \nQ 88.921875 44.046875 88.921875 33.015625 \nL 88.921875 0 \nL 79.890625 0 \nL 79.890625 32.71875 \nQ 79.890625 40.578125 77.09375 44.375 \nQ 74.3125 48.1875 68.609375 48.1875 \nQ 61.625 48.1875 57.5625 43.546875 \nQ 53.515625 38.921875 53.515625 30.90625 \nL 53.515625 0 \nL 44.484375 0 \nL 44.484375 32.71875 \nQ 44.484375 40.625 41.703125 44.40625 \nQ 38.921875 48.1875 33.109375 48.1875 \nQ 26.21875 48.1875 22.15625 43.53125 \nQ 18.109375 38.875 18.109375 30.90625 \nL 18.109375 0 \nL 9.078125 0 \nL 9.078125 54.6875 \nL 18.109375 54.6875 \nL 18.109375 46.1875 \nQ 21.1875 51.21875 25.484375 53.609375 \nQ 29.78125 56 35.6875 56 \nQ 41.65625 56 45.828125 52.96875 \nQ 50 49.953125 52 44.1875 \nz\n\" id=\"DejaVuSans-109\"/>\n      <path d=\"M 56.203125 29.59375 \nL 56.203125 25.203125 \nL 14.890625 25.203125 \nQ 15.484375 15.921875 20.484375 11.0625 \nQ 25.484375 6.203125 34.421875 6.203125 \nQ 39.59375 6.203125 44.453125 7.46875 \nQ 49.3125 8.734375 54.109375 11.28125 \nL 54.109375 2.78125 \nQ 49.265625 0.734375 44.1875 -0.34375 \nQ 39.109375 -1.421875 33.890625 -1.421875 \nQ 20.796875 -1.421875 13.15625 6.1875 \nQ 5.515625 13.8125 5.515625 26.8125 \nQ 5.515625 40.234375 12.765625 48.109375 \nQ 20.015625 56 32.328125 56 \nQ 43.359375 56 49.78125 48.890625 \nQ 56.203125 41.796875 56.203125 29.59375 \nz\nM 47.21875 32.234375 \nQ 47.125 39.59375 43.09375 43.984375 \nQ 39.0625 48.390625 32.421875 48.390625 \nQ 24.90625 48.390625 20.390625 44.140625 \nQ 15.875 39.890625 15.1875 32.171875 \nz\n\" id=\"DejaVuSans-101\"/>\n      <path d=\"M 34.28125 27.484375 \nQ 23.390625 27.484375 19.1875 25 \nQ 14.984375 22.515625 14.984375 16.5 \nQ 14.984375 11.71875 18.140625 8.90625 \nQ 21.296875 6.109375 26.703125 6.109375 \nQ 34.1875 6.109375 38.703125 11.40625 \nQ 43.21875 16.703125 43.21875 25.484375 \nL 43.21875 27.484375 \nz\nM 52.203125 31.203125 \nL 52.203125 0 \nL 43.21875 0 \nL 43.21875 8.296875 \nQ 40.140625 3.328125 35.546875 0.953125 \nQ 30.953125 -1.421875 24.3125 -1.421875 \nQ 15.921875 -1.421875 10.953125 3.296875 \nQ 6 8.015625 6 15.921875 \nQ 6 25.140625 12.171875 29.828125 \nQ 18.359375 34.515625 30.609375 34.515625 \nL 43.21875 34.515625 \nL 43.21875 35.40625 \nQ 43.21875 41.609375 39.140625 45 \nQ 35.0625 48.390625 27.6875 48.390625 \nQ 23 48.390625 18.546875 47.265625 \nQ 14.109375 46.140625 10.015625 43.890625 \nL 10.015625 52.203125 \nQ 14.9375 54.109375 19.578125 55.046875 \nQ 24.21875 56 28.609375 56 \nQ 40.484375 56 46.34375 49.84375 \nQ 52.203125 43.703125 52.203125 31.203125 \nz\n\" id=\"DejaVuSans-97\"/>\n      <path d=\"M 54.890625 33.015625 \nL 54.890625 0 \nL 45.90625 0 \nL 45.90625 32.71875 \nQ 45.90625 40.484375 42.875 44.328125 \nQ 39.84375 48.1875 33.796875 48.1875 \nQ 26.515625 48.1875 22.3125 43.546875 \nQ 18.109375 38.921875 18.109375 30.90625 \nL 18.109375 0 \nL 9.078125 0 \nL 9.078125 54.6875 \nL 18.109375 54.6875 \nL 18.109375 46.1875 \nQ 21.34375 51.125 25.703125 53.5625 \nQ 30.078125 56 35.796875 56 \nQ 45.21875 56 50.046875 50.171875 \nQ 54.890625 44.34375 54.890625 33.015625 \nz\n\" id=\"DejaVuSans-110\"/>\n      <path id=\"DejaVuSans-32\"/>\n      <path d=\"M 11.71875 12.40625 \nL 22.015625 12.40625 \nL 22.015625 4 \nL 14.015625 -11.625 \nL 7.71875 -11.625 \nL 11.71875 4 \nz\n\" id=\"DejaVuSans-44\"/>\n      <path d=\"M 44.28125 53.078125 \nL 44.28125 44.578125 \nQ 40.484375 46.53125 36.375 47.5 \nQ 32.28125 48.484375 27.875 48.484375 \nQ 21.1875 48.484375 17.84375 46.4375 \nQ 14.5 44.390625 14.5 40.28125 \nQ 14.5 37.15625 16.890625 35.375 \nQ 19.28125 33.59375 26.515625 31.984375 \nL 29.59375 31.296875 \nQ 39.15625 29.25 43.1875 25.515625 \nQ 47.21875 21.78125 47.21875 15.09375 \nQ 47.21875 7.46875 41.1875 3.015625 \nQ 35.15625 -1.421875 24.609375 -1.421875 \nQ 20.21875 -1.421875 15.453125 -0.5625 \nQ 10.6875 0.296875 5.421875 2 \nL 5.421875 11.28125 \nQ 10.40625 8.6875 15.234375 7.390625 \nQ 20.0625 6.109375 24.8125 6.109375 \nQ 31.15625 6.109375 34.5625 8.28125 \nQ 37.984375 10.453125 37.984375 14.40625 \nQ 37.984375 18.0625 35.515625 20.015625 \nQ 33.0625 21.96875 24.703125 23.78125 \nL 21.578125 24.515625 \nQ 13.234375 26.265625 9.515625 29.90625 \nQ 5.8125 33.546875 5.8125 39.890625 \nQ 5.8125 47.609375 11.28125 51.796875 \nQ 16.75 56 26.8125 56 \nQ 31.78125 56 36.171875 55.265625 \nQ 40.578125 54.546875 44.28125 53.078125 \nz\n\" id=\"DejaVuSans-115\"/>\n      <path d=\"M 18.3125 70.21875 \nL 18.3125 54.6875 \nL 36.8125 54.6875 \nL 36.8125 47.703125 \nL 18.3125 47.703125 \nL 18.3125 18.015625 \nQ 18.3125 11.328125 20.140625 9.421875 \nQ 21.96875 7.515625 27.59375 7.515625 \nL 36.8125 7.515625 \nL 36.8125 0 \nL 27.59375 0 \nQ 17.1875 0 13.234375 3.875 \nQ 9.28125 7.765625 9.28125 18.015625 \nL 9.28125 47.703125 \nL 2.6875 47.703125 \nL 2.6875 54.6875 \nL 9.28125 54.6875 \nL 9.28125 70.21875 \nz\n\" id=\"DejaVuSans-116\"/>\n      <path d=\"M 45.40625 46.390625 \nL 45.40625 75.984375 \nL 54.390625 75.984375 \nL 54.390625 0 \nL 45.40625 0 \nL 45.40625 8.203125 \nQ 42.578125 3.328125 38.25 0.953125 \nQ 33.9375 -1.421875 27.875 -1.421875 \nQ 17.96875 -1.421875 11.734375 6.484375 \nQ 5.515625 14.40625 5.515625 27.296875 \nQ 5.515625 40.1875 11.734375 48.09375 \nQ 17.96875 56 27.875 56 \nQ 33.9375 56 38.25 53.625 \nQ 42.578125 51.265625 45.40625 46.390625 \nz\nM 14.796875 27.296875 \nQ 14.796875 17.390625 18.875 11.75 \nQ 22.953125 6.109375 30.078125 6.109375 \nQ 37.203125 6.109375 41.296875 11.75 \nQ 45.40625 17.390625 45.40625 27.296875 \nQ 45.40625 37.203125 41.296875 42.84375 \nQ 37.203125 48.484375 30.078125 48.484375 \nQ 22.953125 48.484375 18.875 42.84375 \nQ 14.796875 37.203125 14.796875 27.296875 \nz\n\" id=\"DejaVuSans-100\"/>\n     </defs>\n     <g transform=\"translate(80.78125 23.798438)scale(0.1 -0.1)\">\n      <use xlink:href=\"#DejaVuSans-109\"/>\n      <use x=\"97.412109\" xlink:href=\"#DejaVuSans-101\"/>\n      <use x=\"158.935547\" xlink:href=\"#DejaVuSans-97\"/>\n      <use x=\"220.214844\" xlink:href=\"#DejaVuSans-110\"/>\n      <use x=\"283.59375\" xlink:href=\"#DejaVuSans-32\"/>\n      <use x=\"315.380859\" xlink:href=\"#DejaVuSans-48\"/>\n      <use x=\"379.003906\" xlink:href=\"#DejaVuSans-44\"/>\n      <use x=\"410.791016\" xlink:href=\"#DejaVuSans-115\"/>\n      <use x=\"462.890625\" xlink:href=\"#DejaVuSans-116\"/>\n      <use x=\"502.099609\" xlink:href=\"#DejaVuSans-100\"/>\n      <use x=\"565.576172\" xlink:href=\"#DejaVuSans-32\"/>\n      <use x=\"597.363281\" xlink:href=\"#DejaVuSans-49\"/>\n     </g>\n    </g>\n    <g id=\"line2d_30\">\n     <path d=\"M 52.78125 34.976562 \nL 72.78125 34.976562 \n\" style=\"fill:none;stroke:#bf00bf;stroke-dasharray:5.55,2.4;stroke-dashoffset:0;stroke-width:1.5;\"/>\n    </g>\n    <g id=\"line2d_31\"/>\n    <g id=\"text_16\">\n     <!-- mean 0,std 2 -->\n     <g transform=\"translate(80.78125 38.476562)scale(0.1 -0.1)\">\n      <use xlink:href=\"#DejaVuSans-109\"/>\n      <use x=\"97.412109\" xlink:href=\"#DejaVuSans-101\"/>\n      <use x=\"158.935547\" xlink:href=\"#DejaVuSans-97\"/>\n      <use x=\"220.214844\" xlink:href=\"#DejaVuSans-110\"/>\n      <use x=\"283.59375\" xlink:href=\"#DejaVuSans-32\"/>\n      <use x=\"315.380859\" xlink:href=\"#DejaVuSans-48\"/>\n      <use x=\"379.003906\" xlink:href=\"#DejaVuSans-44\"/>\n      <use x=\"410.791016\" xlink:href=\"#DejaVuSans-115\"/>\n      <use x=\"462.890625\" xlink:href=\"#DejaVuSans-116\"/>\n      <use x=\"502.099609\" xlink:href=\"#DejaVuSans-100\"/>\n      <use x=\"565.576172\" xlink:href=\"#DejaVuSans-32\"/>\n      <use x=\"597.363281\" xlink:href=\"#DejaVuSans-50\"/>\n     </g>\n    </g>\n    <g id=\"line2d_32\">\n     <path d=\"M 52.78125 49.654688 \nL 72.78125 49.654688 \n\" style=\"fill:none;stroke:#008000;stroke-dasharray:9.6,2.4,1.5,2.4;stroke-dashoffset:0;stroke-width:1.5;\"/>\n    </g>\n    <g id=\"line2d_33\"/>\n    <g id=\"text_17\">\n     <!-- mean 3,std 1 -->\n     <g transform=\"translate(80.78125 53.154688)scale(0.1 -0.1)\">\n      <use xlink:href=\"#DejaVuSans-109\"/>\n      <use x=\"97.412109\" xlink:href=\"#DejaVuSans-101\"/>\n      <use x=\"158.935547\" xlink:href=\"#DejaVuSans-97\"/>\n      <use x=\"220.214844\" xlink:href=\"#DejaVuSans-110\"/>\n      <use x=\"283.59375\" xlink:href=\"#DejaVuSans-32\"/>\n      <use x=\"315.380859\" xlink:href=\"#DejaVuSans-51\"/>\n      <use x=\"379.003906\" xlink:href=\"#DejaVuSans-44\"/>\n      <use x=\"410.791016\" xlink:href=\"#DejaVuSans-115\"/>\n      <use x=\"462.890625\" xlink:href=\"#DejaVuSans-116\"/>\n      <use x=\"502.099609\" xlink:href=\"#DejaVuSans-100\"/>\n      <use x=\"565.576172\" xlink:href=\"#DejaVuSans-32\"/>\n      <use x=\"597.363281\" xlink:href=\"#DejaVuSans-49\"/>\n     </g>\n    </g>\n   </g>\n  </g>\n </g>\n <defs>\n  <clipPath id=\"p9130ba1330\">\n   <rect height=\"135.9\" width=\"251.1\" x=\"43.78125\" y=\"7.2\"/>\n  </clipPath>\n </defs>\n</svg>\n"
          },
          "metadata": {
            "needs_background": "light"
          }
        }
      ]
    },
    {
      "cell_type": "markdown",
      "source": [
        "3.2 Linear Regression Implementation from Scratch\n",
        "\n",
        "3.2.1 Generating the Dataset"
      ],
      "metadata": {
        "id": "k1qh51zQndqw"
      }
    },
    {
      "cell_type": "code",
      "source": [
        "def synthetic_data(w, b, num_examples):\n",
        "  \"\"\"Generate y = Xw + b +noise.\"\"\"\n",
        "  X = torch.normal(0,1, (num_examples, len(w)))\n",
        "  y= torch.matmul(X, w)+b\n",
        "  y+= torch.normal(0, 0.01, y.shape)\n",
        "  return X, y.reshape((-1,1))"
      ],
      "metadata": {
        "id": "pwNOZH_7ndXZ"
      },
      "execution_count": null,
      "outputs": []
    },
    {
      "cell_type": "code",
      "source": [
        "true_w=torch.tensor([2, -3.4])\n",
        "true_b=4.2\n",
        "features, labels=synthetic_data(true_w, true_b, 1000)\n",
        "print('features:', features[0], '\\nlabel:', labels[0])"
      ],
      "metadata": {
        "colab": {
          "base_uri": "https://localhost:8080/"
        },
        "id": "kWXz6EqPn8jG",
        "outputId": "1b0add79-da5a-4330-f911-05303c28138e"
      },
      "execution_count": null,
      "outputs": [
        {
          "output_type": "stream",
          "name": "stdout",
          "text": [
            "features: tensor([ 1.5680, -1.3247]) \n",
            "label: tensor([11.8302])\n"
          ]
        }
      ]
    },
    {
      "cell_type": "code",
      "source": [
        "d2l.set_figsize()\n",
        "#The semicolon is for displaying the plot only\n",
        "d2l.plt.scatter(features[:, (1)].detach().numpy(), labels.detach().numpy(),1);"
      ],
      "metadata": {
        "colab": {
          "base_uri": "https://localhost:8080/",
          "height": 242
        },
        "id": "Zx_xe2HXoYTx",
        "outputId": "9ec60f07-ff81-4f7c-dbdd-ae58ca3be84f"
      },
      "execution_count": null,
      "outputs": [
        {
          "output_type": "display_data",
          "data": {
            "text/plain": [
              "<Figure size 252x180 with 1 Axes>"
            ],
            "image/svg+xml": "<?xml version=\"1.0\" encoding=\"utf-8\" standalone=\"no\"?>\n<!DOCTYPE svg PUBLIC \"-//W3C//DTD SVG 1.1//EN\"\n  \"http://www.w3.org/Graphics/SVG/1.1/DTD/svg11.dtd\">\n<!-- Created with matplotlib (https://matplotlib.org/) -->\n<svg height=\"166.978125pt\" version=\"1.1\" viewBox=\"0 0 237.804688 166.978125\" width=\"237.804688pt\" xmlns=\"http://www.w3.org/2000/svg\" xmlns:xlink=\"http://www.w3.org/1999/xlink\">\n <defs>\n  <style type=\"text/css\">\n*{stroke-linecap:butt;stroke-linejoin:round;}\n  </style>\n </defs>\n <g id=\"figure_1\">\n  <g id=\"patch_1\">\n   <path d=\"M 0 166.978125 \nL 237.804688 166.978125 \nL 237.804688 0 \nL 0 0 \nz\n\" style=\"fill:none;\"/>\n  </g>\n  <g id=\"axes_1\">\n   <g id=\"patch_2\">\n    <path d=\"M 35.304688 143.1 \nL 230.604688 143.1 \nL 230.604688 7.2 \nL 35.304688 7.2 \nz\n\" style=\"fill:#ffffff;\"/>\n   </g>\n   <g id=\"PathCollection_1\">\n    <defs>\n     <path d=\"M 0 0.5 \nC 0.132602 0.5 0.25979 0.447317 0.353553 0.353553 \nC 0.447317 0.25979 0.5 0.132602 0.5 0 \nC 0.5 -0.132602 0.447317 -0.25979 0.353553 -0.353553 \nC 0.25979 -0.447317 0.132602 -0.5 0 -0.5 \nC -0.132602 -0.5 -0.25979 -0.447317 -0.353553 -0.353553 \nC -0.447317 -0.25979 -0.5 -0.132602 -0.5 0 \nC -0.5 0.132602 -0.447317 0.25979 -0.353553 0.353553 \nC -0.25979 0.447317 -0.132602 0.5 0 0.5 \nz\n\" id=\"m8b556cd841\" style=\"stroke:#1f77b4;\"/>\n    </defs>\n    <g clip-path=\"url(#p80dc4bac85)\">\n     <use style=\"fill:#1f77b4;stroke:#1f77b4;\" x=\"93.969953\" xlink:href=\"#m8b556cd841\" y=\"38.091127\"/>\n     <use style=\"fill:#1f77b4;stroke:#1f77b4;\" x=\"118.749212\" xlink:href=\"#m8b556cd841\" y=\"82.697971\"/>\n     <use style=\"fill:#1f77b4;stroke:#1f77b4;\" x=\"126.30813\" xlink:href=\"#m8b556cd841\" y=\"84.906323\"/>\n     <use style=\"fill:#1f77b4;stroke:#1f77b4;\" x=\"154.733639\" xlink:href=\"#m8b556cd841\" y=\"83.88105\"/>\n     <use style=\"fill:#1f77b4;stroke:#1f77b4;\" x=\"98.850167\" xlink:href=\"#m8b556cd841\" y=\"57.87308\"/>\n     <use style=\"fill:#1f77b4;stroke:#1f77b4;\" x=\"127.707411\" xlink:href=\"#m8b556cd841\" y=\"73.469176\"/>\n     <use style=\"fill:#1f77b4;stroke:#1f77b4;\" x=\"115.792386\" xlink:href=\"#m8b556cd841\" y=\"78.527007\"/>\n     <use style=\"fill:#1f77b4;stroke:#1f77b4;\" x=\"134.83759\" xlink:href=\"#m8b556cd841\" y=\"72.426707\"/>\n     <use style=\"fill:#1f77b4;stroke:#1f77b4;\" x=\"160.960444\" xlink:href=\"#m8b556cd841\" y=\"100.326763\"/>\n     <use style=\"fill:#1f77b4;stroke:#1f77b4;\" x=\"136.76185\" xlink:href=\"#m8b556cd841\" y=\"89.678876\"/>\n     <use style=\"fill:#1f77b4;stroke:#1f77b4;\" x=\"157.839591\" xlink:href=\"#m8b556cd841\" y=\"73.198663\"/>\n     <use style=\"fill:#1f77b4;stroke:#1f77b4;\" x=\"144.681377\" xlink:href=\"#m8b556cd841\" y=\"89.502805\"/>\n     <use style=\"fill:#1f77b4;stroke:#1f77b4;\" x=\"158.799611\" xlink:href=\"#m8b556cd841\" y=\"86.031656\"/>\n     <use style=\"fill:#1f77b4;stroke:#1f77b4;\" x=\"155.514266\" xlink:href=\"#m8b556cd841\" y=\"103.164501\"/>\n     <use style=\"fill:#1f77b4;stroke:#1f77b4;\" x=\"44.18196\" xlink:href=\"#m8b556cd841\" y=\"13.377273\"/>\n     <use style=\"fill:#1f77b4;stroke:#1f77b4;\" x=\"116.769364\" xlink:href=\"#m8b556cd841\" y=\"66.713578\"/>\n     <use style=\"fill:#1f77b4;stroke:#1f77b4;\" x=\"135.042732\" xlink:href=\"#m8b556cd841\" y=\"70.102287\"/>\n     <use style=\"fill:#1f77b4;stroke:#1f77b4;\" x=\"99.826629\" xlink:href=\"#m8b556cd841\" y=\"46.109117\"/>\n     <use style=\"fill:#1f77b4;stroke:#1f77b4;\" x=\"77.980553\" xlink:href=\"#m8b556cd841\" y=\"40.66836\"/>\n     <use style=\"fill:#1f77b4;stroke:#1f77b4;\" x=\"150.201198\" xlink:href=\"#m8b556cd841\" y=\"68.825123\"/>\n     <use style=\"fill:#1f77b4;stroke:#1f77b4;\" x=\"155.030902\" xlink:href=\"#m8b556cd841\" y=\"95.971656\"/>\n     <use style=\"fill:#1f77b4;stroke:#1f77b4;\" x=\"138.137533\" xlink:href=\"#m8b556cd841\" y=\"66.422887\"/>\n     <use style=\"fill:#1f77b4;stroke:#1f77b4;\" x=\"111.990247\" xlink:href=\"#m8b556cd841\" y=\"54.813078\"/>\n     <use style=\"fill:#1f77b4;stroke:#1f77b4;\" x=\"142.562649\" xlink:href=\"#m8b556cd841\" y=\"77.307087\"/>\n     <use style=\"fill:#1f77b4;stroke:#1f77b4;\" x=\"74.093718\" xlink:href=\"#m8b556cd841\" y=\"29.273891\"/>\n     <use style=\"fill:#1f77b4;stroke:#1f77b4;\" x=\"141.68802\" xlink:href=\"#m8b556cd841\" y=\"84.489303\"/>\n     <use style=\"fill:#1f77b4;stroke:#1f77b4;\" x=\"110.98784\" xlink:href=\"#m8b556cd841\" y=\"44.97859\"/>\n     <use style=\"fill:#1f77b4;stroke:#1f77b4;\" x=\"106.877313\" xlink:href=\"#m8b556cd841\" y=\"75.086055\"/>\n     <use style=\"fill:#1f77b4;stroke:#1f77b4;\" x=\"152.307874\" xlink:href=\"#m8b556cd841\" y=\"97.576368\"/>\n     <use style=\"fill:#1f77b4;stroke:#1f77b4;\" x=\"120.218706\" xlink:href=\"#m8b556cd841\" y=\"72.268282\"/>\n     <use style=\"fill:#1f77b4;stroke:#1f77b4;\" x=\"123.433345\" xlink:href=\"#m8b556cd841\" y=\"75.391592\"/>\n     <use style=\"fill:#1f77b4;stroke:#1f77b4;\" x=\"157.64893\" xlink:href=\"#m8b556cd841\" y=\"91.61071\"/>\n     <use style=\"fill:#1f77b4;stroke:#1f77b4;\" x=\"125.327316\" xlink:href=\"#m8b556cd841\" y=\"66.944253\"/>\n     <use style=\"fill:#1f77b4;stroke:#1f77b4;\" x=\"128.263111\" xlink:href=\"#m8b556cd841\" y=\"75.25533\"/>\n     <use style=\"fill:#1f77b4;stroke:#1f77b4;\" x=\"54.302301\" xlink:href=\"#m8b556cd841\" y=\"36.964831\"/>\n     <use style=\"fill:#1f77b4;stroke:#1f77b4;\" x=\"128.054705\" xlink:href=\"#m8b556cd841\" y=\"51.662215\"/>\n     <use style=\"fill:#1f77b4;stroke:#1f77b4;\" x=\"111.577426\" xlink:href=\"#m8b556cd841\" y=\"61.225371\"/>\n     <use style=\"fill:#1f77b4;stroke:#1f77b4;\" x=\"166.361648\" xlink:href=\"#m8b556cd841\" y=\"103.73122\"/>\n     <use style=\"fill:#1f77b4;stroke:#1f77b4;\" x=\"87.989159\" xlink:href=\"#m8b556cd841\" y=\"51.862674\"/>\n     <use style=\"fill:#1f77b4;stroke:#1f77b4;\" x=\"101.85232\" xlink:href=\"#m8b556cd841\" y=\"56.761314\"/>\n     <use style=\"fill:#1f77b4;stroke:#1f77b4;\" x=\"152.166972\" xlink:href=\"#m8b556cd841\" y=\"95.146488\"/>\n     <use style=\"fill:#1f77b4;stroke:#1f77b4;\" x=\"95.762672\" xlink:href=\"#m8b556cd841\" y=\"56.723498\"/>\n     <use style=\"fill:#1f77b4;stroke:#1f77b4;\" x=\"112.477828\" xlink:href=\"#m8b556cd841\" y=\"58.778974\"/>\n     <use style=\"fill:#1f77b4;stroke:#1f77b4;\" x=\"144.544514\" xlink:href=\"#m8b556cd841\" y=\"91.465379\"/>\n     <use style=\"fill:#1f77b4;stroke:#1f77b4;\" x=\"121.669299\" xlink:href=\"#m8b556cd841\" y=\"62.373504\"/>\n     <use style=\"fill:#1f77b4;stroke:#1f77b4;\" x=\"129.314144\" xlink:href=\"#m8b556cd841\" y=\"55.808635\"/>\n     <use style=\"fill:#1f77b4;stroke:#1f77b4;\" x=\"153.754019\" xlink:href=\"#m8b556cd841\" y=\"86.974179\"/>\n     <use style=\"fill:#1f77b4;stroke:#1f77b4;\" x=\"100.788232\" xlink:href=\"#m8b556cd841\" y=\"71.722028\"/>\n     <use style=\"fill:#1f77b4;stroke:#1f77b4;\" x=\"90.957894\" xlink:href=\"#m8b556cd841\" y=\"44.087795\"/>\n     <use style=\"fill:#1f77b4;stroke:#1f77b4;\" x=\"170.496983\" xlink:href=\"#m8b556cd841\" y=\"111.109669\"/>\n     <use style=\"fill:#1f77b4;stroke:#1f77b4;\" x=\"133.48008\" xlink:href=\"#m8b556cd841\" y=\"74.094865\"/>\n     <use style=\"fill:#1f77b4;stroke:#1f77b4;\" x=\"141.63251\" xlink:href=\"#m8b556cd841\" y=\"74.056182\"/>\n     <use style=\"fill:#1f77b4;stroke:#1f77b4;\" x=\"122.173973\" xlink:href=\"#m8b556cd841\" y=\"77.16904\"/>\n     <use style=\"fill:#1f77b4;stroke:#1f77b4;\" x=\"128.665528\" xlink:href=\"#m8b556cd841\" y=\"81.304616\"/>\n     <use style=\"fill:#1f77b4;stroke:#1f77b4;\" x=\"122.857707\" xlink:href=\"#m8b556cd841\" y=\"85.873959\"/>\n     <use style=\"fill:#1f77b4;stroke:#1f77b4;\" x=\"180.683042\" xlink:href=\"#m8b556cd841\" y=\"101.614287\"/>\n     <use style=\"fill:#1f77b4;stroke:#1f77b4;\" x=\"106.460688\" xlink:href=\"#m8b556cd841\" y=\"53.958456\"/>\n     <use style=\"fill:#1f77b4;stroke:#1f77b4;\" x=\"119.793584\" xlink:href=\"#m8b556cd841\" y=\"79.103344\"/>\n     <use style=\"fill:#1f77b4;stroke:#1f77b4;\" x=\"141.846196\" xlink:href=\"#m8b556cd841\" y=\"81.642681\"/>\n     <use style=\"fill:#1f77b4;stroke:#1f77b4;\" x=\"176.424865\" xlink:href=\"#m8b556cd841\" y=\"92.571921\"/>\n     <use style=\"fill:#1f77b4;stroke:#1f77b4;\" x=\"124.475996\" xlink:href=\"#m8b556cd841\" y=\"78.141283\"/>\n     <use style=\"fill:#1f77b4;stroke:#1f77b4;\" x=\"140.978595\" xlink:href=\"#m8b556cd841\" y=\"87.632955\"/>\n     <use style=\"fill:#1f77b4;stroke:#1f77b4;\" x=\"126.768904\" xlink:href=\"#m8b556cd841\" y=\"70.246136\"/>\n     <use style=\"fill:#1f77b4;stroke:#1f77b4;\" x=\"122.110826\" xlink:href=\"#m8b556cd841\" y=\"49.829043\"/>\n     <use style=\"fill:#1f77b4;stroke:#1f77b4;\" x=\"160.896734\" xlink:href=\"#m8b556cd841\" y=\"94.725753\"/>\n     <use style=\"fill:#1f77b4;stroke:#1f77b4;\" x=\"124.240015\" xlink:href=\"#m8b556cd841\" y=\"57.100655\"/>\n     <use style=\"fill:#1f77b4;stroke:#1f77b4;\" x=\"169.299371\" xlink:href=\"#m8b556cd841\" y=\"107.739522\"/>\n     <use style=\"fill:#1f77b4;stroke:#1f77b4;\" x=\"120.954493\" xlink:href=\"#m8b556cd841\" y=\"69.363615\"/>\n     <use style=\"fill:#1f77b4;stroke:#1f77b4;\" x=\"137.485819\" xlink:href=\"#m8b556cd841\" y=\"88.62863\"/>\n     <use style=\"fill:#1f77b4;stroke:#1f77b4;\" x=\"107.145602\" xlink:href=\"#m8b556cd841\" y=\"65.545422\"/>\n     <use style=\"fill:#1f77b4;stroke:#1f77b4;\" x=\"96.54763\" xlink:href=\"#m8b556cd841\" y=\"59.099071\"/>\n     <use style=\"fill:#1f77b4;stroke:#1f77b4;\" x=\"121.968601\" xlink:href=\"#m8b556cd841\" y=\"58.151321\"/>\n     <use style=\"fill:#1f77b4;stroke:#1f77b4;\" x=\"117.886858\" xlink:href=\"#m8b556cd841\" y=\"64.652606\"/>\n     <use style=\"fill:#1f77b4;stroke:#1f77b4;\" x=\"137.843117\" xlink:href=\"#m8b556cd841\" y=\"72.456097\"/>\n     <use style=\"fill:#1f77b4;stroke:#1f77b4;\" x=\"113.411797\" xlink:href=\"#m8b556cd841\" y=\"85.455858\"/>\n     <use style=\"fill:#1f77b4;stroke:#1f77b4;\" x=\"121.587675\" xlink:href=\"#m8b556cd841\" y=\"73.739973\"/>\n     <use style=\"fill:#1f77b4;stroke:#1f77b4;\" x=\"128.930504\" xlink:href=\"#m8b556cd841\" y=\"79.130282\"/>\n     <use style=\"fill:#1f77b4;stroke:#1f77b4;\" x=\"122.444539\" xlink:href=\"#m8b556cd841\" y=\"73.041604\"/>\n     <use style=\"fill:#1f77b4;stroke:#1f77b4;\" x=\"174.063071\" xlink:href=\"#m8b556cd841\" y=\"105.802777\"/>\n     <use style=\"fill:#1f77b4;stroke:#1f77b4;\" x=\"114.135423\" xlink:href=\"#m8b556cd841\" y=\"52.736441\"/>\n     <use style=\"fill:#1f77b4;stroke:#1f77b4;\" x=\"121.809445\" xlink:href=\"#m8b556cd841\" y=\"62.001752\"/>\n     <use style=\"fill:#1f77b4;stroke:#1f77b4;\" x=\"88.709366\" xlink:href=\"#m8b556cd841\" y=\"50.63303\"/>\n     <use style=\"fill:#1f77b4;stroke:#1f77b4;\" x=\"121.60929\" xlink:href=\"#m8b556cd841\" y=\"58.318007\"/>\n     <use style=\"fill:#1f77b4;stroke:#1f77b4;\" x=\"152.984487\" xlink:href=\"#m8b556cd841\" y=\"98.439572\"/>\n     <use style=\"fill:#1f77b4;stroke:#1f77b4;\" x=\"130.927879\" xlink:href=\"#m8b556cd841\" y=\"80.456812\"/>\n     <use style=\"fill:#1f77b4;stroke:#1f77b4;\" x=\"132.844508\" xlink:href=\"#m8b556cd841\" y=\"86.593569\"/>\n     <use style=\"fill:#1f77b4;stroke:#1f77b4;\" x=\"106.630816\" xlink:href=\"#m8b556cd841\" y=\"44.427896\"/>\n     <use style=\"fill:#1f77b4;stroke:#1f77b4;\" x=\"90.602204\" xlink:href=\"#m8b556cd841\" y=\"35.906319\"/>\n     <use style=\"fill:#1f77b4;stroke:#1f77b4;\" x=\"135.342056\" xlink:href=\"#m8b556cd841\" y=\"61.500327\"/>\n     <use style=\"fill:#1f77b4;stroke:#1f77b4;\" x=\"82.747726\" xlink:href=\"#m8b556cd841\" y=\"36.326776\"/>\n     <use style=\"fill:#1f77b4;stroke:#1f77b4;\" x=\"122.022336\" xlink:href=\"#m8b556cd841\" y=\"70.663014\"/>\n     <use style=\"fill:#1f77b4;stroke:#1f77b4;\" x=\"119.412403\" xlink:href=\"#m8b556cd841\" y=\"63.212414\"/>\n     <use style=\"fill:#1f77b4;stroke:#1f77b4;\" x=\"70.074729\" xlink:href=\"#m8b556cd841\" y=\"52.025152\"/>\n     <use style=\"fill:#1f77b4;stroke:#1f77b4;\" x=\"117.154819\" xlink:href=\"#m8b556cd841\" y=\"71.698744\"/>\n     <use style=\"fill:#1f77b4;stroke:#1f77b4;\" x=\"84.354545\" xlink:href=\"#m8b556cd841\" y=\"51.848351\"/>\n     <use style=\"fill:#1f77b4;stroke:#1f77b4;\" x=\"146.782343\" xlink:href=\"#m8b556cd841\" y=\"92.590301\"/>\n     <use style=\"fill:#1f77b4;stroke:#1f77b4;\" x=\"174.3926\" xlink:href=\"#m8b556cd841\" y=\"101.819724\"/>\n     <use style=\"fill:#1f77b4;stroke:#1f77b4;\" x=\"99.500371\" xlink:href=\"#m8b556cd841\" y=\"72.333451\"/>\n     <use style=\"fill:#1f77b4;stroke:#1f77b4;\" x=\"101.63\" xlink:href=\"#m8b556cd841\" y=\"44.103854\"/>\n     <use style=\"fill:#1f77b4;stroke:#1f77b4;\" x=\"103.284254\" xlink:href=\"#m8b556cd841\" y=\"59.652882\"/>\n     <use style=\"fill:#1f77b4;stroke:#1f77b4;\" x=\"130.261977\" xlink:href=\"#m8b556cd841\" y=\"66.5096\"/>\n     <use style=\"fill:#1f77b4;stroke:#1f77b4;\" x=\"75.903232\" xlink:href=\"#m8b556cd841\" y=\"38.542454\"/>\n     <use style=\"fill:#1f77b4;stroke:#1f77b4;\" x=\"110.256227\" xlink:href=\"#m8b556cd841\" y=\"68.171798\"/>\n     <use style=\"fill:#1f77b4;stroke:#1f77b4;\" x=\"113.611265\" xlink:href=\"#m8b556cd841\" y=\"68.293777\"/>\n     <use style=\"fill:#1f77b4;stroke:#1f77b4;\" x=\"55.158399\" xlink:href=\"#m8b556cd841\" y=\"21.179634\"/>\n     <use style=\"fill:#1f77b4;stroke:#1f77b4;\" x=\"108.780173\" xlink:href=\"#m8b556cd841\" y=\"74.923576\"/>\n     <use style=\"fill:#1f77b4;stroke:#1f77b4;\" x=\"144.303635\" xlink:href=\"#m8b556cd841\" y=\"84.672112\"/>\n     <use style=\"fill:#1f77b4;stroke:#1f77b4;\" x=\"221.727415\" xlink:href=\"#m8b556cd841\" y=\"136.922727\"/>\n     <use style=\"fill:#1f77b4;stroke:#1f77b4;\" x=\"94.870999\" xlink:href=\"#m8b556cd841\" y=\"51.806421\"/>\n     <use style=\"fill:#1f77b4;stroke:#1f77b4;\" x=\"93.118832\" xlink:href=\"#m8b556cd841\" y=\"52.185872\"/>\n     <use style=\"fill:#1f77b4;stroke:#1f77b4;\" x=\"116.936423\" xlink:href=\"#m8b556cd841\" y=\"56.060527\"/>\n     <use style=\"fill:#1f77b4;stroke:#1f77b4;\" x=\"70.27739\" xlink:href=\"#m8b556cd841\" y=\"42.778008\"/>\n     <use style=\"fill:#1f77b4;stroke:#1f77b4;\" x=\"115.523666\" xlink:href=\"#m8b556cd841\" y=\"75.944046\"/>\n     <use style=\"fill:#1f77b4;stroke:#1f77b4;\" x=\"142.95917\" xlink:href=\"#m8b556cd841\" y=\"92.289485\"/>\n     <use style=\"fill:#1f77b4;stroke:#1f77b4;\" x=\"126.5065\" xlink:href=\"#m8b556cd841\" y=\"70.531061\"/>\n     <use style=\"fill:#1f77b4;stroke:#1f77b4;\" x=\"139.242068\" xlink:href=\"#m8b556cd841\" y=\"80.542559\"/>\n     <use style=\"fill:#1f77b4;stroke:#1f77b4;\" x=\"122.521581\" xlink:href=\"#m8b556cd841\" y=\"69.662378\"/>\n     <use style=\"fill:#1f77b4;stroke:#1f77b4;\" x=\"119.205303\" xlink:href=\"#m8b556cd841\" y=\"69.861588\"/>\n     <use style=\"fill:#1f77b4;stroke:#1f77b4;\" x=\"92.204047\" xlink:href=\"#m8b556cd841\" y=\"60.247021\"/>\n     <use style=\"fill:#1f77b4;stroke:#1f77b4;\" x=\"134.23086\" xlink:href=\"#m8b556cd841\" y=\"68.649422\"/>\n     <use style=\"fill:#1f77b4;stroke:#1f77b4;\" x=\"136.079526\" xlink:href=\"#m8b556cd841\" y=\"83.036063\"/>\n     <use style=\"fill:#1f77b4;stroke:#1f77b4;\" x=\"94.274784\" xlink:href=\"#m8b556cd841\" y=\"44.91945\"/>\n     <use style=\"fill:#1f77b4;stroke:#1f77b4;\" x=\"99.419342\" xlink:href=\"#m8b556cd841\" y=\"57.161368\"/>\n     <use style=\"fill:#1f77b4;stroke:#1f77b4;\" x=\"117.472106\" xlink:href=\"#m8b556cd841\" y=\"68.643438\"/>\n     <use style=\"fill:#1f77b4;stroke:#1f77b4;\" x=\"128.492093\" xlink:href=\"#m8b556cd841\" y=\"84.008923\"/>\n     <use style=\"fill:#1f77b4;stroke:#1f77b4;\" x=\"116.594763\" xlink:href=\"#m8b556cd841\" y=\"67.832862\"/>\n     <use style=\"fill:#1f77b4;stroke:#1f77b4;\" x=\"135.567979\" xlink:href=\"#m8b556cd841\" y=\"98.810248\"/>\n     <use style=\"fill:#1f77b4;stroke:#1f77b4;\" x=\"94.835703\" xlink:href=\"#m8b556cd841\" y=\"61.725424\"/>\n     <use style=\"fill:#1f77b4;stroke:#1f77b4;\" x=\"105.368493\" xlink:href=\"#m8b556cd841\" y=\"60.170582\"/>\n     <use style=\"fill:#1f77b4;stroke:#1f77b4;\" x=\"122.595266\" xlink:href=\"#m8b556cd841\" y=\"73.465308\"/>\n     <use style=\"fill:#1f77b4;stroke:#1f77b4;\" x=\"123.408291\" xlink:href=\"#m8b556cd841\" y=\"55.963284\"/>\n     <use style=\"fill:#1f77b4;stroke:#1f77b4;\" x=\"164.430632\" xlink:href=\"#m8b556cd841\" y=\"92.994997\"/>\n     <use style=\"fill:#1f77b4;stroke:#1f77b4;\" x=\"144.426767\" xlink:href=\"#m8b556cd841\" y=\"63.35052\"/>\n     <use style=\"fill:#1f77b4;stroke:#1f77b4;\" x=\"113.473833\" xlink:href=\"#m8b556cd841\" y=\"62.72009\"/>\n     <use style=\"fill:#1f77b4;stroke:#1f77b4;\" x=\"109.073141\" xlink:href=\"#m8b556cd841\" y=\"59.92513\"/>\n     <use style=\"fill:#1f77b4;stroke:#1f77b4;\" x=\"104.571753\" xlink:href=\"#m8b556cd841\" y=\"39.156096\"/>\n     <use style=\"fill:#1f77b4;stroke:#1f77b4;\" x=\"117.629011\" xlink:href=\"#m8b556cd841\" y=\"81.273941\"/>\n     <use style=\"fill:#1f77b4;stroke:#1f77b4;\" x=\"96.401988\" xlink:href=\"#m8b556cd841\" y=\"45.553115\"/>\n     <use style=\"fill:#1f77b4;stroke:#1f77b4;\" x=\"110.218829\" xlink:href=\"#m8b556cd841\" y=\"55.168513\"/>\n     <use style=\"fill:#1f77b4;stroke:#1f77b4;\" x=\"109.822555\" xlink:href=\"#m8b556cd841\" y=\"64.147604\"/>\n     <use style=\"fill:#1f77b4;stroke:#1f77b4;\" x=\"143.504237\" xlink:href=\"#m8b556cd841\" y=\"86.244549\"/>\n     <use style=\"fill:#1f77b4;stroke:#1f77b4;\" x=\"149.387202\" xlink:href=\"#m8b556cd841\" y=\"100.72161\"/>\n     <use style=\"fill:#1f77b4;stroke:#1f77b4;\" x=\"134.595276\" xlink:href=\"#m8b556cd841\" y=\"79.205037\"/>\n     <use style=\"fill:#1f77b4;stroke:#1f77b4;\" x=\"141.887893\" xlink:href=\"#m8b556cd841\" y=\"75.995625\"/>\n     <use style=\"fill:#1f77b4;stroke:#1f77b4;\" x=\"88.114317\" xlink:href=\"#m8b556cd841\" y=\"68.780072\"/>\n     <use style=\"fill:#1f77b4;stroke:#1f77b4;\" x=\"165.070553\" xlink:href=\"#m8b556cd841\" y=\"94.498761\"/>\n     <use style=\"fill:#1f77b4;stroke:#1f77b4;\" x=\"136.116371\" xlink:href=\"#m8b556cd841\" y=\"80.493707\"/>\n     <use style=\"fill:#1f77b4;stroke:#1f77b4;\" x=\"100.976679\" xlink:href=\"#m8b556cd841\" y=\"46.499131\"/>\n     <use style=\"fill:#1f77b4;stroke:#1f77b4;\" x=\"155.348213\" xlink:href=\"#m8b556cd841\" y=\"107.982269\"/>\n     <use style=\"fill:#1f77b4;stroke:#1f77b4;\" x=\"117.911623\" xlink:href=\"#m8b556cd841\" y=\"60.565388\"/>\n     <use style=\"fill:#1f77b4;stroke:#1f77b4;\" x=\"158.564441\" xlink:href=\"#m8b556cd841\" y=\"94.624481\"/>\n     <use style=\"fill:#1f77b4;stroke:#1f77b4;\" x=\"171.686481\" xlink:href=\"#m8b556cd841\" y=\"98.115598\"/>\n     <use style=\"fill:#1f77b4;stroke:#1f77b4;\" x=\"119.168334\" xlink:href=\"#m8b556cd841\" y=\"57.134698\"/>\n     <use style=\"fill:#1f77b4;stroke:#1f77b4;\" x=\"99.223686\" xlink:href=\"#m8b556cd841\" y=\"77.965807\"/>\n     <use style=\"fill:#1f77b4;stroke:#1f77b4;\" x=\"98.519335\" xlink:href=\"#m8b556cd841\" y=\"55.637186\"/>\n     <use style=\"fill:#1f77b4;stroke:#1f77b4;\" x=\"111.584775\" xlink:href=\"#m8b556cd841\" y=\"52.187665\"/>\n     <use style=\"fill:#1f77b4;stroke:#1f77b4;\" x=\"136.587286\" xlink:href=\"#m8b556cd841\" y=\"85.686666\"/>\n     <use style=\"fill:#1f77b4;stroke:#1f77b4;\" x=\"123.992256\" xlink:href=\"#m8b556cd841\" y=\"86.673995\"/>\n     <use style=\"fill:#1f77b4;stroke:#1f77b4;\" x=\"97.094363\" xlink:href=\"#m8b556cd841\" y=\"45.927078\"/>\n     <use style=\"fill:#1f77b4;stroke:#1f77b4;\" x=\"95.201713\" xlink:href=\"#m8b556cd841\" y=\"47.631278\"/>\n     <use style=\"fill:#1f77b4;stroke:#1f77b4;\" x=\"102.652943\" xlink:href=\"#m8b556cd841\" y=\"60.114173\"/>\n     <use style=\"fill:#1f77b4;stroke:#1f77b4;\" x=\"86.064321\" xlink:href=\"#m8b556cd841\" y=\"76.318589\"/>\n     <use style=\"fill:#1f77b4;stroke:#1f77b4;\" x=\"166.505144\" xlink:href=\"#m8b556cd841\" y=\"105.862777\"/>\n     <use style=\"fill:#1f77b4;stroke:#1f77b4;\" x=\"158.271603\" xlink:href=\"#m8b556cd841\" y=\"105.932822\"/>\n     <use style=\"fill:#1f77b4;stroke:#1f77b4;\" x=\"107.3873\" xlink:href=\"#m8b556cd841\" y=\"63.569792\"/>\n     <use style=\"fill:#1f77b4;stroke:#1f77b4;\" x=\"156.135423\" xlink:href=\"#m8b556cd841\" y=\"94.364915\"/>\n     <use style=\"fill:#1f77b4;stroke:#1f77b4;\" x=\"113.116589\" xlink:href=\"#m8b556cd841\" y=\"55.111145\"/>\n     <use style=\"fill:#1f77b4;stroke:#1f77b4;\" x=\"125.599158\" xlink:href=\"#m8b556cd841\" y=\"73.527074\"/>\n     <use style=\"fill:#1f77b4;stroke:#1f77b4;\" x=\"138.779218\" xlink:href=\"#m8b556cd841\" y=\"67.681205\"/>\n     <use style=\"fill:#1f77b4;stroke:#1f77b4;\" x=\"145.139693\" xlink:href=\"#m8b556cd841\" y=\"77.507752\"/>\n     <use style=\"fill:#1f77b4;stroke:#1f77b4;\" x=\"147.986341\" xlink:href=\"#m8b556cd841\" y=\"83.794055\"/>\n     <use style=\"fill:#1f77b4;stroke:#1f77b4;\" x=\"130.156186\" xlink:href=\"#m8b556cd841\" y=\"88.100015\"/>\n     <use style=\"fill:#1f77b4;stroke:#1f77b4;\" x=\"128.854766\" xlink:href=\"#m8b556cd841\" y=\"70.094609\"/>\n     <use style=\"fill:#1f77b4;stroke:#1f77b4;\" x=\"86.625523\" xlink:href=\"#m8b556cd841\" y=\"63.085699\"/>\n     <use style=\"fill:#1f77b4;stroke:#1f77b4;\" x=\"119.131128\" xlink:href=\"#m8b556cd841\" y=\"69.43733\"/>\n     <use style=\"fill:#1f77b4;stroke:#1f77b4;\" x=\"147.178096\" xlink:href=\"#m8b556cd841\" y=\"80.74011\"/>\n     <use style=\"fill:#1f77b4;stroke:#1f77b4;\" x=\"150.109471\" xlink:href=\"#m8b556cd841\" y=\"82.51213\"/>\n     <use style=\"fill:#1f77b4;stroke:#1f77b4;\" x=\"125.193822\" xlink:href=\"#m8b556cd841\" y=\"81.301063\"/>\n     <use style=\"fill:#1f77b4;stroke:#1f77b4;\" x=\"139.134682\" xlink:href=\"#m8b556cd841\" y=\"76.121118\"/>\n     <use style=\"fill:#1f77b4;stroke:#1f77b4;\" x=\"113.79942\" xlink:href=\"#m8b556cd841\" y=\"73.000681\"/>\n     <use style=\"fill:#1f77b4;stroke:#1f77b4;\" x=\"100.686728\" xlink:href=\"#m8b556cd841\" y=\"46.162781\"/>\n     <use style=\"fill:#1f77b4;stroke:#1f77b4;\" x=\"119.644574\" xlink:href=\"#m8b556cd841\" y=\"68.242873\"/>\n     <use style=\"fill:#1f77b4;stroke:#1f77b4;\" x=\"132.778028\" xlink:href=\"#m8b556cd841\" y=\"76.129401\"/>\n     <use style=\"fill:#1f77b4;stroke:#1f77b4;\" x=\"111.934271\" xlink:href=\"#m8b556cd841\" y=\"61.728869\"/>\n     <use style=\"fill:#1f77b4;stroke:#1f77b4;\" x=\"128.366681\" xlink:href=\"#m8b556cd841\" y=\"78.22828\"/>\n     <use style=\"fill:#1f77b4;stroke:#1f77b4;\" x=\"108.233343\" xlink:href=\"#m8b556cd841\" y=\"68.297064\"/>\n     <use style=\"fill:#1f77b4;stroke:#1f77b4;\" x=\"95.586704\" xlink:href=\"#m8b556cd841\" y=\"51.745444\"/>\n     <use style=\"fill:#1f77b4;stroke:#1f77b4;\" x=\"86.217608\" xlink:href=\"#m8b556cd841\" y=\"28.583835\"/>\n     <use style=\"fill:#1f77b4;stroke:#1f77b4;\" x=\"124.753357\" xlink:href=\"#m8b556cd841\" y=\"80.314393\"/>\n     <use style=\"fill:#1f77b4;stroke:#1f77b4;\" x=\"163.539567\" xlink:href=\"#m8b556cd841\" y=\"103.86027\"/>\n     <use style=\"fill:#1f77b4;stroke:#1f77b4;\" x=\"102.54901\" xlink:href=\"#m8b556cd841\" y=\"56.443793\"/>\n     <use style=\"fill:#1f77b4;stroke:#1f77b4;\" x=\"93.985012\" xlink:href=\"#m8b556cd841\" y=\"66.12972\"/>\n     <use style=\"fill:#1f77b4;stroke:#1f77b4;\" x=\"124.826328\" xlink:href=\"#m8b556cd841\" y=\"73.799987\"/>\n     <use style=\"fill:#1f77b4;stroke:#1f77b4;\" x=\"134.985477\" xlink:href=\"#m8b556cd841\" y=\"86.458787\"/>\n     <use style=\"fill:#1f77b4;stroke:#1f77b4;\" x=\"133.740188\" xlink:href=\"#m8b556cd841\" y=\"83.860949\"/>\n     <use style=\"fill:#1f77b4;stroke:#1f77b4;\" x=\"110.47648\" xlink:href=\"#m8b556cd841\" y=\"57.123824\"/>\n     <use style=\"fill:#1f77b4;stroke:#1f77b4;\" x=\"122.570723\" xlink:href=\"#m8b556cd841\" y=\"64.941549\"/>\n     <use style=\"fill:#1f77b4;stroke:#1f77b4;\" x=\"119.723722\" xlink:href=\"#m8b556cd841\" y=\"51.914553\"/>\n     <use style=\"fill:#1f77b4;stroke:#1f77b4;\" x=\"173.941951\" xlink:href=\"#m8b556cd841\" y=\"86.10784\"/>\n     <use style=\"fill:#1f77b4;stroke:#1f77b4;\" x=\"128.481989\" xlink:href=\"#m8b556cd841\" y=\"77.439989\"/>\n     <use style=\"fill:#1f77b4;stroke:#1f77b4;\" x=\"106.988526\" xlink:href=\"#m8b556cd841\" y=\"70.932674\"/>\n     <use style=\"fill:#1f77b4;stroke:#1f77b4;\" x=\"158.825977\" xlink:href=\"#m8b556cd841\" y=\"92.960652\"/>\n     <use style=\"fill:#1f77b4;stroke:#1f77b4;\" x=\"120.799546\" xlink:href=\"#m8b556cd841\" y=\"70.556058\"/>\n     <use style=\"fill:#1f77b4;stroke:#1f77b4;\" x=\"103.71837\" xlink:href=\"#m8b556cd841\" y=\"70.316949\"/>\n     <use style=\"fill:#1f77b4;stroke:#1f77b4;\" x=\"150.780756\" xlink:href=\"#m8b556cd841\" y=\"90.190035\"/>\n     <use style=\"fill:#1f77b4;stroke:#1f77b4;\" x=\"148.427692\" xlink:href=\"#m8b556cd841\" y=\"62.482734\"/>\n     <use style=\"fill:#1f77b4;stroke:#1f77b4;\" x=\"149.687911\" xlink:href=\"#m8b556cd841\" y=\"90.700412\"/>\n     <use style=\"fill:#1f77b4;stroke:#1f77b4;\" x=\"104.586948\" xlink:href=\"#m8b556cd841\" y=\"59.053146\"/>\n     <use style=\"fill:#1f77b4;stroke:#1f77b4;\" x=\"126.51148\" xlink:href=\"#m8b556cd841\" y=\"67.984469\"/>\n     <use style=\"fill:#1f77b4;stroke:#1f77b4;\" x=\"150.483727\" xlink:href=\"#m8b556cd841\" y=\"95.538628\"/>\n     <use style=\"fill:#1f77b4;stroke:#1f77b4;\" x=\"106.534086\" xlink:href=\"#m8b556cd841\" y=\"58.474545\"/>\n     <use style=\"fill:#1f77b4;stroke:#1f77b4;\" x=\"99.645236\" xlink:href=\"#m8b556cd841\" y=\"58.505299\"/>\n     <use style=\"fill:#1f77b4;stroke:#1f77b4;\" x=\"108.502916\" xlink:href=\"#m8b556cd841\" y=\"58.171432\"/>\n     <use style=\"fill:#1f77b4;stroke:#1f77b4;\" x=\"117.134669\" xlink:href=\"#m8b556cd841\" y=\"72.984645\"/>\n     <use style=\"fill:#1f77b4;stroke:#1f77b4;\" x=\"137.199913\" xlink:href=\"#m8b556cd841\" y=\"79.635805\"/>\n     <use style=\"fill:#1f77b4;stroke:#1f77b4;\" x=\"175.713161\" xlink:href=\"#m8b556cd841\" y=\"89.59957\"/>\n     <use style=\"fill:#1f77b4;stroke:#1f77b4;\" x=\"152.515688\" xlink:href=\"#m8b556cd841\" y=\"94.674942\"/>\n     <use style=\"fill:#1f77b4;stroke:#1f77b4;\" x=\"130.978417\" xlink:href=\"#m8b556cd841\" y=\"83.990359\"/>\n     <use style=\"fill:#1f77b4;stroke:#1f77b4;\" x=\"140.392587\" xlink:href=\"#m8b556cd841\" y=\"77.650095\"/>\n     <use style=\"fill:#1f77b4;stroke:#1f77b4;\" x=\"145.677845\" xlink:href=\"#m8b556cd841\" y=\"93.928335\"/>\n     <use style=\"fill:#1f77b4;stroke:#1f77b4;\" x=\"131.144685\" xlink:href=\"#m8b556cd841\" y=\"96.085638\"/>\n     <use style=\"fill:#1f77b4;stroke:#1f77b4;\" x=\"118.038362\" xlink:href=\"#m8b556cd841\" y=\"67.35247\"/>\n     <use style=\"fill:#1f77b4;stroke:#1f77b4;\" x=\"145.940521\" xlink:href=\"#m8b556cd841\" y=\"87.377031\"/>\n     <use style=\"fill:#1f77b4;stroke:#1f77b4;\" x=\"121.734595\" xlink:href=\"#m8b556cd841\" y=\"79.975341\"/>\n     <use style=\"fill:#1f77b4;stroke:#1f77b4;\" x=\"109.806282\" xlink:href=\"#m8b556cd841\" y=\"73.436959\"/>\n     <use style=\"fill:#1f77b4;stroke:#1f77b4;\" x=\"101.492334\" xlink:href=\"#m8b556cd841\" y=\"55.227415\"/>\n     <use style=\"fill:#1f77b4;stroke:#1f77b4;\" x=\"105.854946\" xlink:href=\"#m8b556cd841\" y=\"49.970738\"/>\n     <use style=\"fill:#1f77b4;stroke:#1f77b4;\" x=\"55.435376\" xlink:href=\"#m8b556cd841\" y=\"23.484195\"/>\n     <use style=\"fill:#1f77b4;stroke:#1f77b4;\" x=\"188.822298\" xlink:href=\"#m8b556cd841\" y=\"107.690568\"/>\n     <use style=\"fill:#1f77b4;stroke:#1f77b4;\" x=\"157.201908\" xlink:href=\"#m8b556cd841\" y=\"92.483612\"/>\n     <use style=\"fill:#1f77b4;stroke:#1f77b4;\" x=\"124.421755\" xlink:href=\"#m8b556cd841\" y=\"57.807075\"/>\n     <use style=\"fill:#1f77b4;stroke:#1f77b4;\" x=\"145.55883\" xlink:href=\"#m8b556cd841\" y=\"79.37261\"/>\n     <use style=\"fill:#1f77b4;stroke:#1f77b4;\" x=\"91.800439\" xlink:href=\"#m8b556cd841\" y=\"64.308861\"/>\n     <use style=\"fill:#1f77b4;stroke:#1f77b4;\" x=\"89.591963\" xlink:href=\"#m8b556cd841\" y=\"50.425527\"/>\n     <use style=\"fill:#1f77b4;stroke:#1f77b4;\" x=\"105.545167\" xlink:href=\"#m8b556cd841\" y=\"44.836731\"/>\n     <use style=\"fill:#1f77b4;stroke:#1f77b4;\" x=\"146.795667\" xlink:href=\"#m8b556cd841\" y=\"93.118989\"/>\n     <use style=\"fill:#1f77b4;stroke:#1f77b4;\" x=\"145.360283\" xlink:href=\"#m8b556cd841\" y=\"78.097269\"/>\n     <use style=\"fill:#1f77b4;stroke:#1f77b4;\" x=\"91.619113\" xlink:href=\"#m8b556cd841\" y=\"51.286096\"/>\n     <use style=\"fill:#1f77b4;stroke:#1f77b4;\" x=\"115.979476\" xlink:href=\"#m8b556cd841\" y=\"60.683799\"/>\n     <use style=\"fill:#1f77b4;stroke:#1f77b4;\" x=\"136.978973\" xlink:href=\"#m8b556cd841\" y=\"75.662109\"/>\n     <use style=\"fill:#1f77b4;stroke:#1f77b4;\" x=\"131.928999\" xlink:href=\"#m8b556cd841\" y=\"99.216589\"/>\n     <use style=\"fill:#1f77b4;stroke:#1f77b4;\" x=\"105.768421\" xlink:href=\"#m8b556cd841\" y=\"65.577691\"/>\n     <use style=\"fill:#1f77b4;stroke:#1f77b4;\" x=\"161.859324\" xlink:href=\"#m8b556cd841\" y=\"103.278592\"/>\n     <use style=\"fill:#1f77b4;stroke:#1f77b4;\" x=\"144.640606\" xlink:href=\"#m8b556cd841\" y=\"79.325873\"/>\n     <use style=\"fill:#1f77b4;stroke:#1f77b4;\" x=\"130.777252\" xlink:href=\"#m8b556cd841\" y=\"80.34635\"/>\n     <use style=\"fill:#1f77b4;stroke:#1f77b4;\" x=\"149.946068\" xlink:href=\"#m8b556cd841\" y=\"76.299434\"/>\n     <use style=\"fill:#1f77b4;stroke:#1f77b4;\" x=\"123.217807\" xlink:href=\"#m8b556cd841\" y=\"65.372953\"/>\n     <use style=\"fill:#1f77b4;stroke:#1f77b4;\" x=\"129.202709\" xlink:href=\"#m8b556cd841\" y=\"75.668439\"/>\n     <use style=\"fill:#1f77b4;stroke:#1f77b4;\" x=\"93.062194\" xlink:href=\"#m8b556cd841\" y=\"54.119613\"/>\n     <use style=\"fill:#1f77b4;stroke:#1f77b4;\" x=\"173.038725\" xlink:href=\"#m8b556cd841\" y=\"105.298304\"/>\n     <use style=\"fill:#1f77b4;stroke:#1f77b4;\" x=\"110.056559\" xlink:href=\"#m8b556cd841\" y=\"68.443172\"/>\n     <use style=\"fill:#1f77b4;stroke:#1f77b4;\" x=\"97.497566\" xlink:href=\"#m8b556cd841\" y=\"51.591445\"/>\n     <use style=\"fill:#1f77b4;stroke:#1f77b4;\" x=\"125.507326\" xlink:href=\"#m8b556cd841\" y=\"76.03417\"/>\n     <use style=\"fill:#1f77b4;stroke:#1f77b4;\" x=\"156.137513\" xlink:href=\"#m8b556cd841\" y=\"91.000071\"/>\n     <use style=\"fill:#1f77b4;stroke:#1f77b4;\" x=\"151.591643\" xlink:href=\"#m8b556cd841\" y=\"91.775983\"/>\n     <use style=\"fill:#1f77b4;stroke:#1f77b4;\" x=\"120.631125\" xlink:href=\"#m8b556cd841\" y=\"74.951586\"/>\n     <use style=\"fill:#1f77b4;stroke:#1f77b4;\" x=\"156.232654\" xlink:href=\"#m8b556cd841\" y=\"83.622367\"/>\n     <use style=\"fill:#1f77b4;stroke:#1f77b4;\" x=\"147.896272\" xlink:href=\"#m8b556cd841\" y=\"73.406035\"/>\n     <use style=\"fill:#1f77b4;stroke:#1f77b4;\" x=\"126.413132\" xlink:href=\"#m8b556cd841\" y=\"73.812888\"/>\n     <use style=\"fill:#1f77b4;stroke:#1f77b4;\" x=\"134.329747\" xlink:href=\"#m8b556cd841\" y=\"92.84059\"/>\n     <use style=\"fill:#1f77b4;stroke:#1f77b4;\" x=\"136.157176\" xlink:href=\"#m8b556cd841\" y=\"83.94165\"/>\n     <use style=\"fill:#1f77b4;stroke:#1f77b4;\" x=\"97.736236\" xlink:href=\"#m8b556cd841\" y=\"55.284217\"/>\n     <use style=\"fill:#1f77b4;stroke:#1f77b4;\" x=\"128.610406\" xlink:href=\"#m8b556cd841\" y=\"82.747151\"/>\n     <use style=\"fill:#1f77b4;stroke:#1f77b4;\" x=\"126.878218\" xlink:href=\"#m8b556cd841\" y=\"88.352668\"/>\n     <use style=\"fill:#1f77b4;stroke:#1f77b4;\" x=\"85.116978\" xlink:href=\"#m8b556cd841\" y=\"48.217117\"/>\n     <use style=\"fill:#1f77b4;stroke:#1f77b4;\" x=\"188.323989\" xlink:href=\"#m8b556cd841\" y=\"131.162368\"/>\n     <use style=\"fill:#1f77b4;stroke:#1f77b4;\" x=\"127.057483\" xlink:href=\"#m8b556cd841\" y=\"81.615522\"/>\n     <use style=\"fill:#1f77b4;stroke:#1f77b4;\" x=\"158.822008\" xlink:href=\"#m8b556cd841\" y=\"107.248519\"/>\n     <use style=\"fill:#1f77b4;stroke:#1f77b4;\" x=\"142.440092\" xlink:href=\"#m8b556cd841\" y=\"73.17493\"/>\n     <use style=\"fill:#1f77b4;stroke:#1f77b4;\" x=\"132.316785\" xlink:href=\"#m8b556cd841\" y=\"79.872555\"/>\n     <use style=\"fill:#1f77b4;stroke:#1f77b4;\" x=\"129.22585\" xlink:href=\"#m8b556cd841\" y=\"82.189208\"/>\n     <use style=\"fill:#1f77b4;stroke:#1f77b4;\" x=\"126.905248\" xlink:href=\"#m8b556cd841\" y=\"99.688528\"/>\n     <use style=\"fill:#1f77b4;stroke:#1f77b4;\" x=\"151.493337\" xlink:href=\"#m8b556cd841\" y=\"86.906961\"/>\n     <use style=\"fill:#1f77b4;stroke:#1f77b4;\" x=\"112.365147\" xlink:href=\"#m8b556cd841\" y=\"49.851084\"/>\n     <use style=\"fill:#1f77b4;stroke:#1f77b4;\" x=\"118.82156\" xlink:href=\"#m8b556cd841\" y=\"58.852328\"/>\n     <use style=\"fill:#1f77b4;stroke:#1f77b4;\" x=\"113.902364\" xlink:href=\"#m8b556cd841\" y=\"78.013685\"/>\n     <use style=\"fill:#1f77b4;stroke:#1f77b4;\" x=\"122.556693\" xlink:href=\"#m8b556cd841\" y=\"61.871452\"/>\n     <use style=\"fill:#1f77b4;stroke:#1f77b4;\" x=\"133.705928\" xlink:href=\"#m8b556cd841\" y=\"85.062989\"/>\n     <use style=\"fill:#1f77b4;stroke:#1f77b4;\" x=\"146.262683\" xlink:href=\"#m8b556cd841\" y=\"78.020456\"/>\n     <use style=\"fill:#1f77b4;stroke:#1f77b4;\" x=\"175.908081\" xlink:href=\"#m8b556cd841\" y=\"108.928497\"/>\n     <use style=\"fill:#1f77b4;stroke:#1f77b4;\" x=\"127.225369\" xlink:href=\"#m8b556cd841\" y=\"74.143827\"/>\n     <use style=\"fill:#1f77b4;stroke:#1f77b4;\" x=\"141.15489\" xlink:href=\"#m8b556cd841\" y=\"87.125171\"/>\n     <use style=\"fill:#1f77b4;stroke:#1f77b4;\" x=\"95.946884\" xlink:href=\"#m8b556cd841\" y=\"52.335791\"/>\n     <use style=\"fill:#1f77b4;stroke:#1f77b4;\" x=\"119.902151\" xlink:href=\"#m8b556cd841\" y=\"82.653474\"/>\n     <use style=\"fill:#1f77b4;stroke:#1f77b4;\" x=\"153.496376\" xlink:href=\"#m8b556cd841\" y=\"94.376079\"/>\n     <use style=\"fill:#1f77b4;stroke:#1f77b4;\" x=\"109.995806\" xlink:href=\"#m8b556cd841\" y=\"68.963304\"/>\n     <use style=\"fill:#1f77b4;stroke:#1f77b4;\" x=\"127.138283\" xlink:href=\"#m8b556cd841\" y=\"76.332799\"/>\n     <use style=\"fill:#1f77b4;stroke:#1f77b4;\" x=\"117.167343\" xlink:href=\"#m8b556cd841\" y=\"62.835102\"/>\n     <use style=\"fill:#1f77b4;stroke:#1f77b4;\" x=\"152.908134\" xlink:href=\"#m8b556cd841\" y=\"92.485244\"/>\n     <use style=\"fill:#1f77b4;stroke:#1f77b4;\" x=\"124.361715\" xlink:href=\"#m8b556cd841\" y=\"82.497627\"/>\n     <use style=\"fill:#1f77b4;stroke:#1f77b4;\" x=\"116.732095\" xlink:href=\"#m8b556cd841\" y=\"79.923446\"/>\n     <use style=\"fill:#1f77b4;stroke:#1f77b4;\" x=\"119.701001\" xlink:href=\"#m8b556cd841\" y=\"75.68036\"/>\n     <use style=\"fill:#1f77b4;stroke:#1f77b4;\" x=\"116.888928\" xlink:href=\"#m8b556cd841\" y=\"61.098642\"/>\n     <use style=\"fill:#1f77b4;stroke:#1f77b4;\" x=\"105.581805\" xlink:href=\"#m8b556cd841\" y=\"57.586608\"/>\n     <use style=\"fill:#1f77b4;stroke:#1f77b4;\" x=\"77.591838\" xlink:href=\"#m8b556cd841\" y=\"43.388788\"/>\n     <use style=\"fill:#1f77b4;stroke:#1f77b4;\" x=\"145.038812\" xlink:href=\"#m8b556cd841\" y=\"83.275739\"/>\n     <use style=\"fill:#1f77b4;stroke:#1f77b4;\" x=\"79.237066\" xlink:href=\"#m8b556cd841\" y=\"33.829855\"/>\n     <use style=\"fill:#1f77b4;stroke:#1f77b4;\" x=\"117.060976\" xlink:href=\"#m8b556cd841\" y=\"64.628445\"/>\n     <use style=\"fill:#1f77b4;stroke:#1f77b4;\" x=\"175.463262\" xlink:href=\"#m8b556cd841\" y=\"102.279187\"/>\n     <use style=\"fill:#1f77b4;stroke:#1f77b4;\" x=\"86.440819\" xlink:href=\"#m8b556cd841\" y=\"58.878319\"/>\n     <use style=\"fill:#1f77b4;stroke:#1f77b4;\" x=\"105.504337\" xlink:href=\"#m8b556cd841\" y=\"73.494083\"/>\n     <use style=\"fill:#1f77b4;stroke:#1f77b4;\" x=\"89.764242\" xlink:href=\"#m8b556cd841\" y=\"66.076672\"/>\n     <use style=\"fill:#1f77b4;stroke:#1f77b4;\" x=\"151.882677\" xlink:href=\"#m8b556cd841\" y=\"70.30273\"/>\n     <use style=\"fill:#1f77b4;stroke:#1f77b4;\" x=\"119.913641\" xlink:href=\"#m8b556cd841\" y=\"56.90073\"/>\n     <use style=\"fill:#1f77b4;stroke:#1f77b4;\" x=\"101.538096\" xlink:href=\"#m8b556cd841\" y=\"70.202415\"/>\n     <use style=\"fill:#1f77b4;stroke:#1f77b4;\" x=\"154.637238\" xlink:href=\"#m8b556cd841\" y=\"74.815163\"/>\n     <use style=\"fill:#1f77b4;stroke:#1f77b4;\" x=\"119.022863\" xlink:href=\"#m8b556cd841\" y=\"58.913449\"/>\n     <use style=\"fill:#1f77b4;stroke:#1f77b4;\" x=\"133.422804\" xlink:href=\"#m8b556cd841\" y=\"82.953818\"/>\n     <use style=\"fill:#1f77b4;stroke:#1f77b4;\" x=\"120.219563\" xlink:href=\"#m8b556cd841\" y=\"56.523152\"/>\n     <use style=\"fill:#1f77b4;stroke:#1f77b4;\" x=\"83.675816\" xlink:href=\"#m8b556cd841\" y=\"49.881004\"/>\n     <use style=\"fill:#1f77b4;stroke:#1f77b4;\" x=\"117.237929\" xlink:href=\"#m8b556cd841\" y=\"69.492396\"/>\n     <use style=\"fill:#1f77b4;stroke:#1f77b4;\" x=\"95.098753\" xlink:href=\"#m8b556cd841\" y=\"57.183389\"/>\n     <use style=\"fill:#1f77b4;stroke:#1f77b4;\" x=\"145.005997\" xlink:href=\"#m8b556cd841\" y=\"88.731426\"/>\n     <use style=\"fill:#1f77b4;stroke:#1f77b4;\" x=\"139.529171\" xlink:href=\"#m8b556cd841\" y=\"79.697681\"/>\n     <use style=\"fill:#1f77b4;stroke:#1f77b4;\" x=\"89.49221\" xlink:href=\"#m8b556cd841\" y=\"48.139221\"/>\n     <use style=\"fill:#1f77b4;stroke:#1f77b4;\" x=\"132.948558\" xlink:href=\"#m8b556cd841\" y=\"84.86424\"/>\n     <use style=\"fill:#1f77b4;stroke:#1f77b4;\" x=\"136.161145\" xlink:href=\"#m8b556cd841\" y=\"69.106426\"/>\n     <use style=\"fill:#1f77b4;stroke:#1f77b4;\" x=\"148.892605\" xlink:href=\"#m8b556cd841\" y=\"87.193661\"/>\n     <use style=\"fill:#1f77b4;stroke:#1f77b4;\" x=\"155.72498\" xlink:href=\"#m8b556cd841\" y=\"85.735932\"/>\n     <use style=\"fill:#1f77b4;stroke:#1f77b4;\" x=\"115.616619\" xlink:href=\"#m8b556cd841\" y=\"50.687126\"/>\n     <use style=\"fill:#1f77b4;stroke:#1f77b4;\" x=\"149.067282\" xlink:href=\"#m8b556cd841\" y=\"81.021301\"/>\n     <use style=\"fill:#1f77b4;stroke:#1f77b4;\" x=\"112.396472\" xlink:href=\"#m8b556cd841\" y=\"60.54978\"/>\n     <use style=\"fill:#1f77b4;stroke:#1f77b4;\" x=\"99.918126\" xlink:href=\"#m8b556cd841\" y=\"55.874432\"/>\n     <use style=\"fill:#1f77b4;stroke:#1f77b4;\" x=\"117.263243\" xlink:href=\"#m8b556cd841\" y=\"67.387002\"/>\n     <use style=\"fill:#1f77b4;stroke:#1f77b4;\" x=\"124.232566\" xlink:href=\"#m8b556cd841\" y=\"63.436096\"/>\n     <use style=\"fill:#1f77b4;stroke:#1f77b4;\" x=\"78.484472\" xlink:href=\"#m8b556cd841\" y=\"39.909056\"/>\n     <use style=\"fill:#1f77b4;stroke:#1f77b4;\" x=\"129.743889\" xlink:href=\"#m8b556cd841\" y=\"62.013655\"/>\n     <use style=\"fill:#1f77b4;stroke:#1f77b4;\" x=\"136.286381\" xlink:href=\"#m8b556cd841\" y=\"83.393551\"/>\n     <use style=\"fill:#1f77b4;stroke:#1f77b4;\" x=\"95.263074\" xlink:href=\"#m8b556cd841\" y=\"44.737031\"/>\n     <use style=\"fill:#1f77b4;stroke:#1f77b4;\" x=\"167.825627\" xlink:href=\"#m8b556cd841\" y=\"103.968317\"/>\n     <use style=\"fill:#1f77b4;stroke:#1f77b4;\" x=\"128.411164\" xlink:href=\"#m8b556cd841\" y=\"56.891855\"/>\n     <use style=\"fill:#1f77b4;stroke:#1f77b4;\" x=\"122.675862\" xlink:href=\"#m8b556cd841\" y=\"83.098272\"/>\n     <use style=\"fill:#1f77b4;stroke:#1f77b4;\" x=\"107.87633\" xlink:href=\"#m8b556cd841\" y=\"55.127815\"/>\n     <use style=\"fill:#1f77b4;stroke:#1f77b4;\" x=\"171.815847\" xlink:href=\"#m8b556cd841\" y=\"93.323251\"/>\n     <use style=\"fill:#1f77b4;stroke:#1f77b4;\" x=\"115.559077\" xlink:href=\"#m8b556cd841\" y=\"55.219061\"/>\n     <use style=\"fill:#1f77b4;stroke:#1f77b4;\" x=\"109.713423\" xlink:href=\"#m8b556cd841\" y=\"70.839867\"/>\n     <use style=\"fill:#1f77b4;stroke:#1f77b4;\" x=\"108.298893\" xlink:href=\"#m8b556cd841\" y=\"58.979111\"/>\n     <use style=\"fill:#1f77b4;stroke:#1f77b4;\" x=\"118.50975\" xlink:href=\"#m8b556cd841\" y=\"62.964766\"/>\n     <use style=\"fill:#1f77b4;stroke:#1f77b4;\" x=\"113.161411\" xlink:href=\"#m8b556cd841\" y=\"64.735509\"/>\n     <use style=\"fill:#1f77b4;stroke:#1f77b4;\" x=\"76.337711\" xlink:href=\"#m8b556cd841\" y=\"52.732884\"/>\n     <use style=\"fill:#1f77b4;stroke:#1f77b4;\" x=\"137.740272\" xlink:href=\"#m8b556cd841\" y=\"78.14007\"/>\n     <use style=\"fill:#1f77b4;stroke:#1f77b4;\" x=\"98.116682\" xlink:href=\"#m8b556cd841\" y=\"43.34484\"/>\n     <use style=\"fill:#1f77b4;stroke:#1f77b4;\" x=\"149.4392\" xlink:href=\"#m8b556cd841\" y=\"90.571798\"/>\n     <use style=\"fill:#1f77b4;stroke:#1f77b4;\" x=\"143.523567\" xlink:href=\"#m8b556cd841\" y=\"69.361715\"/>\n     <use style=\"fill:#1f77b4;stroke:#1f77b4;\" x=\"106.831676\" xlink:href=\"#m8b556cd841\" y=\"73.63469\"/>\n     <use style=\"fill:#1f77b4;stroke:#1f77b4;\" x=\"127.22962\" xlink:href=\"#m8b556cd841\" y=\"84.165603\"/>\n     <use style=\"fill:#1f77b4;stroke:#1f77b4;\" x=\"123.938001\" xlink:href=\"#m8b556cd841\" y=\"73.91436\"/>\n     <use style=\"fill:#1f77b4;stroke:#1f77b4;\" x=\"145.76926\" xlink:href=\"#m8b556cd841\" y=\"80.130729\"/>\n     <use style=\"fill:#1f77b4;stroke:#1f77b4;\" x=\"119.772252\" xlink:href=\"#m8b556cd841\" y=\"63.366003\"/>\n     <use style=\"fill:#1f77b4;stroke:#1f77b4;\" x=\"170.826796\" xlink:href=\"#m8b556cd841\" y=\"99.078561\"/>\n     <use style=\"fill:#1f77b4;stroke:#1f77b4;\" x=\"151.613597\" xlink:href=\"#m8b556cd841\" y=\"104.480529\"/>\n     <use style=\"fill:#1f77b4;stroke:#1f77b4;\" x=\"154.244793\" xlink:href=\"#m8b556cd841\" y=\"87.864113\"/>\n     <use style=\"fill:#1f77b4;stroke:#1f77b4;\" x=\"127.589542\" xlink:href=\"#m8b556cd841\" y=\"66.994008\"/>\n     <use style=\"fill:#1f77b4;stroke:#1f77b4;\" x=\"115.910686\" xlink:href=\"#m8b556cd841\" y=\"62.592286\"/>\n     <use style=\"fill:#1f77b4;stroke:#1f77b4;\" x=\"111.289677\" xlink:href=\"#m8b556cd841\" y=\"71.049953\"/>\n     <use style=\"fill:#1f77b4;stroke:#1f77b4;\" x=\"117.87346\" xlink:href=\"#m8b556cd841\" y=\"64.309077\"/>\n     <use style=\"fill:#1f77b4;stroke:#1f77b4;\" x=\"187.559825\" xlink:href=\"#m8b556cd841\" y=\"102.311066\"/>\n     <use style=\"fill:#1f77b4;stroke:#1f77b4;\" x=\"125.956107\" xlink:href=\"#m8b556cd841\" y=\"74.307485\"/>\n     <use style=\"fill:#1f77b4;stroke:#1f77b4;\" x=\"129.375108\" xlink:href=\"#m8b556cd841\" y=\"78.425295\"/>\n     <use style=\"fill:#1f77b4;stroke:#1f77b4;\" x=\"115.635635\" xlink:href=\"#m8b556cd841\" y=\"70.247612\"/>\n     <use style=\"fill:#1f77b4;stroke:#1f77b4;\" x=\"150.093309\" xlink:href=\"#m8b556cd841\" y=\"79.124018\"/>\n     <use style=\"fill:#1f77b4;stroke:#1f77b4;\" x=\"116.085977\" xlink:href=\"#m8b556cd841\" y=\"64.73402\"/>\n     <use style=\"fill:#1f77b4;stroke:#1f77b4;\" x=\"141.303665\" xlink:href=\"#m8b556cd841\" y=\"81.976665\"/>\n     <use style=\"fill:#1f77b4;stroke:#1f77b4;\" x=\"90.874054\" xlink:href=\"#m8b556cd841\" y=\"54.295511\"/>\n     <use style=\"fill:#1f77b4;stroke:#1f77b4;\" x=\"178.410223\" xlink:href=\"#m8b556cd841\" y=\"102.317771\"/>\n     <use style=\"fill:#1f77b4;stroke:#1f77b4;\" x=\"117.268258\" xlink:href=\"#m8b556cd841\" y=\"59.984071\"/>\n     <use style=\"fill:#1f77b4;stroke:#1f77b4;\" x=\"118.489527\" xlink:href=\"#m8b556cd841\" y=\"64.034005\"/>\n     <use style=\"fill:#1f77b4;stroke:#1f77b4;\" x=\"133.682446\" xlink:href=\"#m8b556cd841\" y=\"78.260286\"/>\n     <use style=\"fill:#1f77b4;stroke:#1f77b4;\" x=\"118.535589\" xlink:href=\"#m8b556cd841\" y=\"82.691176\"/>\n     <use style=\"fill:#1f77b4;stroke:#1f77b4;\" x=\"174.591515\" xlink:href=\"#m8b556cd841\" y=\"98.549224\"/>\n     <use style=\"fill:#1f77b4;stroke:#1f77b4;\" x=\"100.154326\" xlink:href=\"#m8b556cd841\" y=\"55.381354\"/>\n     <use style=\"fill:#1f77b4;stroke:#1f77b4;\" x=\"109.348746\" xlink:href=\"#m8b556cd841\" y=\"52.646266\"/>\n     <use style=\"fill:#1f77b4;stroke:#1f77b4;\" x=\"145.872558\" xlink:href=\"#m8b556cd841\" y=\"92.72861\"/>\n     <use style=\"fill:#1f77b4;stroke:#1f77b4;\" x=\"144.811019\" xlink:href=\"#m8b556cd841\" y=\"89.448032\"/>\n     <use style=\"fill:#1f77b4;stroke:#1f77b4;\" x=\"119.089052\" xlink:href=\"#m8b556cd841\" y=\"85.627653\"/>\n     <use style=\"fill:#1f77b4;stroke:#1f77b4;\" x=\"146.513605\" xlink:href=\"#m8b556cd841\" y=\"92.750708\"/>\n     <use style=\"fill:#1f77b4;stroke:#1f77b4;\" x=\"91.510528\" xlink:href=\"#m8b556cd841\" y=\"47.214551\"/>\n     <use style=\"fill:#1f77b4;stroke:#1f77b4;\" x=\"116.030481\" xlink:href=\"#m8b556cd841\" y=\"70.921295\"/>\n     <use style=\"fill:#1f77b4;stroke:#1f77b4;\" x=\"109.297366\" xlink:href=\"#m8b556cd841\" y=\"69.246481\"/>\n     <use style=\"fill:#1f77b4;stroke:#1f77b4;\" x=\"109.167284\" xlink:href=\"#m8b556cd841\" y=\"56.751821\"/>\n     <use style=\"fill:#1f77b4;stroke:#1f77b4;\" x=\"133.208791\" xlink:href=\"#m8b556cd841\" y=\"71.500243\"/>\n     <use style=\"fill:#1f77b4;stroke:#1f77b4;\" x=\"105.834949\" xlink:href=\"#m8b556cd841\" y=\"69.782455\"/>\n     <use style=\"fill:#1f77b4;stroke:#1f77b4;\" x=\"121.529941\" xlink:href=\"#m8b556cd841\" y=\"65.922468\"/>\n     <use style=\"fill:#1f77b4;stroke:#1f77b4;\" x=\"135.926034\" xlink:href=\"#m8b556cd841\" y=\"83.595292\"/>\n     <use style=\"fill:#1f77b4;stroke:#1f77b4;\" x=\"103.584061\" xlink:href=\"#m8b556cd841\" y=\"58.426733\"/>\n     <use style=\"fill:#1f77b4;stroke:#1f77b4;\" x=\"121.640997\" xlink:href=\"#m8b556cd841\" y=\"56.045797\"/>\n     <use style=\"fill:#1f77b4;stroke:#1f77b4;\" x=\"139.030947\" xlink:href=\"#m8b556cd841\" y=\"75.340859\"/>\n     <use style=\"fill:#1f77b4;stroke:#1f77b4;\" x=\"142.023517\" xlink:href=\"#m8b556cd841\" y=\"90.710669\"/>\n     <use style=\"fill:#1f77b4;stroke:#1f77b4;\" x=\"130.600507\" xlink:href=\"#m8b556cd841\" y=\"84.00185\"/>\n     <use style=\"fill:#1f77b4;stroke:#1f77b4;\" x=\"130.919763\" xlink:href=\"#m8b556cd841\" y=\"74.894942\"/>\n     <use style=\"fill:#1f77b4;stroke:#1f77b4;\" x=\"144.038218\" xlink:href=\"#m8b556cd841\" y=\"79.235324\"/>\n     <use style=\"fill:#1f77b4;stroke:#1f77b4;\" x=\"117.528964\" xlink:href=\"#m8b556cd841\" y=\"70.405892\"/>\n     <use style=\"fill:#1f77b4;stroke:#1f77b4;\" x=\"112.819892\" xlink:href=\"#m8b556cd841\" y=\"68.414235\"/>\n     <use style=\"fill:#1f77b4;stroke:#1f77b4;\" x=\"142.594524\" xlink:href=\"#m8b556cd841\" y=\"82.029011\"/>\n     <use style=\"fill:#1f77b4;stroke:#1f77b4;\" x=\"194.356352\" xlink:href=\"#m8b556cd841\" y=\"94.348705\"/>\n     <use style=\"fill:#1f77b4;stroke:#1f77b4;\" x=\"121.53435\" xlink:href=\"#m8b556cd841\" y=\"77.632114\"/>\n     <use style=\"fill:#1f77b4;stroke:#1f77b4;\" x=\"110.041857\" xlink:href=\"#m8b556cd841\" y=\"63.582489\"/>\n     <use style=\"fill:#1f77b4;stroke:#1f77b4;\" x=\"130.84632\" xlink:href=\"#m8b556cd841\" y=\"70.255123\"/>\n     <use style=\"fill:#1f77b4;stroke:#1f77b4;\" x=\"118.007336\" xlink:href=\"#m8b556cd841\" y=\"54.843214\"/>\n     <use style=\"fill:#1f77b4;stroke:#1f77b4;\" x=\"119.03212\" xlink:href=\"#m8b556cd841\" y=\"70.43218\"/>\n     <use style=\"fill:#1f77b4;stroke:#1f77b4;\" x=\"166.913071\" xlink:href=\"#m8b556cd841\" y=\"96.244774\"/>\n     <use style=\"fill:#1f77b4;stroke:#1f77b4;\" x=\"111.872978\" xlink:href=\"#m8b556cd841\" y=\"62.618934\"/>\n     <use style=\"fill:#1f77b4;stroke:#1f77b4;\" x=\"127.57118\" xlink:href=\"#m8b556cd841\" y=\"75.641187\"/>\n     <use style=\"fill:#1f77b4;stroke:#1f77b4;\" x=\"159.684321\" xlink:href=\"#m8b556cd841\" y=\"108.700516\"/>\n     <use style=\"fill:#1f77b4;stroke:#1f77b4;\" x=\"94.026976\" xlink:href=\"#m8b556cd841\" y=\"48.470315\"/>\n     <use style=\"fill:#1f77b4;stroke:#1f77b4;\" x=\"160.405245\" xlink:href=\"#m8b556cd841\" y=\"97.059944\"/>\n     <use style=\"fill:#1f77b4;stroke:#1f77b4;\" x=\"108.167108\" xlink:href=\"#m8b556cd841\" y=\"64.660171\"/>\n     <use style=\"fill:#1f77b4;stroke:#1f77b4;\" x=\"154.27392\" xlink:href=\"#m8b556cd841\" y=\"93.91443\"/>\n     <use style=\"fill:#1f77b4;stroke:#1f77b4;\" x=\"89.094415\" xlink:href=\"#m8b556cd841\" y=\"50.955818\"/>\n     <use style=\"fill:#1f77b4;stroke:#1f77b4;\" x=\"110.44875\" xlink:href=\"#m8b556cd841\" y=\"64.442967\"/>\n     <use style=\"fill:#1f77b4;stroke:#1f77b4;\" x=\"120.147886\" xlink:href=\"#m8b556cd841\" y=\"61.12626\"/>\n     <use style=\"fill:#1f77b4;stroke:#1f77b4;\" x=\"141.888967\" xlink:href=\"#m8b556cd841\" y=\"74.644221\"/>\n     <use style=\"fill:#1f77b4;stroke:#1f77b4;\" x=\"129.523498\" xlink:href=\"#m8b556cd841\" y=\"77.952733\"/>\n     <use style=\"fill:#1f77b4;stroke:#1f77b4;\" x=\"96.749483\" xlink:href=\"#m8b556cd841\" y=\"57.551403\"/>\n     <use style=\"fill:#1f77b4;stroke:#1f77b4;\" x=\"168.158677\" xlink:href=\"#m8b556cd841\" y=\"98.707483\"/>\n     <use style=\"fill:#1f77b4;stroke:#1f77b4;\" x=\"122.590884\" xlink:href=\"#m8b556cd841\" y=\"76.176296\"/>\n     <use style=\"fill:#1f77b4;stroke:#1f77b4;\" x=\"128.944219\" xlink:href=\"#m8b556cd841\" y=\"81.728505\"/>\n     <use style=\"fill:#1f77b4;stroke:#1f77b4;\" x=\"125.579638\" xlink:href=\"#m8b556cd841\" y=\"73.172499\"/>\n     <use style=\"fill:#1f77b4;stroke:#1f77b4;\" x=\"92.519863\" xlink:href=\"#m8b556cd841\" y=\"55.104766\"/>\n     <use style=\"fill:#1f77b4;stroke:#1f77b4;\" x=\"107.45622\" xlink:href=\"#m8b556cd841\" y=\"50.086722\"/>\n     <use style=\"fill:#1f77b4;stroke:#1f77b4;\" x=\"149.305467\" xlink:href=\"#m8b556cd841\" y=\"86.503002\"/>\n     <use style=\"fill:#1f77b4;stroke:#1f77b4;\" x=\"118.827539\" xlink:href=\"#m8b556cd841\" y=\"86.856508\"/>\n     <use style=\"fill:#1f77b4;stroke:#1f77b4;\" x=\"132.97361\" xlink:href=\"#m8b556cd841\" y=\"81.477716\"/>\n     <use style=\"fill:#1f77b4;stroke:#1f77b4;\" x=\"68.991735\" xlink:href=\"#m8b556cd841\" y=\"45.608746\"/>\n     <use style=\"fill:#1f77b4;stroke:#1f77b4;\" x=\"128.489522\" xlink:href=\"#m8b556cd841\" y=\"79.858186\"/>\n     <use style=\"fill:#1f77b4;stroke:#1f77b4;\" x=\"155.580248\" xlink:href=\"#m8b556cd841\" y=\"100.749998\"/>\n     <use style=\"fill:#1f77b4;stroke:#1f77b4;\" x=\"109.820307\" xlink:href=\"#m8b556cd841\" y=\"73.97459\"/>\n     <use style=\"fill:#1f77b4;stroke:#1f77b4;\" x=\"63.428195\" xlink:href=\"#m8b556cd841\" y=\"34.114049\"/>\n     <use style=\"fill:#1f77b4;stroke:#1f77b4;\" x=\"121.34298\" xlink:href=\"#m8b556cd841\" y=\"63.92833\"/>\n     <use style=\"fill:#1f77b4;stroke:#1f77b4;\" x=\"150.362389\" xlink:href=\"#m8b556cd841\" y=\"93.526288\"/>\n     <use style=\"fill:#1f77b4;stroke:#1f77b4;\" x=\"160.533993\" xlink:href=\"#m8b556cd841\" y=\"87.071284\"/>\n     <use style=\"fill:#1f77b4;stroke:#1f77b4;\" x=\"103.687771\" xlink:href=\"#m8b556cd841\" y=\"61.054447\"/>\n     <use style=\"fill:#1f77b4;stroke:#1f77b4;\" x=\"134.86011\" xlink:href=\"#m8b556cd841\" y=\"78.99138\"/>\n     <use style=\"fill:#1f77b4;stroke:#1f77b4;\" x=\"132.796469\" xlink:href=\"#m8b556cd841\" y=\"70.334226\"/>\n     <use style=\"fill:#1f77b4;stroke:#1f77b4;\" x=\"141.514323\" xlink:href=\"#m8b556cd841\" y=\"81.055486\"/>\n     <use style=\"fill:#1f77b4;stroke:#1f77b4;\" x=\"121.716854\" xlink:href=\"#m8b556cd841\" y=\"63.029651\"/>\n     <use style=\"fill:#1f77b4;stroke:#1f77b4;\" x=\"144.979316\" xlink:href=\"#m8b556cd841\" y=\"87.475503\"/>\n     <use style=\"fill:#1f77b4;stroke:#1f77b4;\" x=\"145.506128\" xlink:href=\"#m8b556cd841\" y=\"75.413\"/>\n     <use style=\"fill:#1f77b4;stroke:#1f77b4;\" x=\"116.454291\" xlink:href=\"#m8b556cd841\" y=\"82.4062\"/>\n     <use style=\"fill:#1f77b4;stroke:#1f77b4;\" x=\"144.681975\" xlink:href=\"#m8b556cd841\" y=\"90.581475\"/>\n     <use style=\"fill:#1f77b4;stroke:#1f77b4;\" x=\"128.917299\" xlink:href=\"#m8b556cd841\" y=\"71.808099\"/>\n     <use style=\"fill:#1f77b4;stroke:#1f77b4;\" x=\"179.83685\" xlink:href=\"#m8b556cd841\" y=\"108.051966\"/>\n     <use style=\"fill:#1f77b4;stroke:#1f77b4;\" x=\"108.589067\" xlink:href=\"#m8b556cd841\" y=\"67.673702\"/>\n     <use style=\"fill:#1f77b4;stroke:#1f77b4;\" x=\"124.231031\" xlink:href=\"#m8b556cd841\" y=\"90.998732\"/>\n     <use style=\"fill:#1f77b4;stroke:#1f77b4;\" x=\"125.14329\" xlink:href=\"#m8b556cd841\" y=\"72.750597\"/>\n     <use style=\"fill:#1f77b4;stroke:#1f77b4;\" x=\"129.060211\" xlink:href=\"#m8b556cd841\" y=\"69.163439\"/>\n     <use style=\"fill:#1f77b4;stroke:#1f77b4;\" x=\"140.658428\" xlink:href=\"#m8b556cd841\" y=\"80.762571\"/>\n     <use style=\"fill:#1f77b4;stroke:#1f77b4;\" x=\"170.992218\" xlink:href=\"#m8b556cd841\" y=\"112.525988\"/>\n     <use style=\"fill:#1f77b4;stroke:#1f77b4;\" x=\"105.708655\" xlink:href=\"#m8b556cd841\" y=\"63.138641\"/>\n     <use style=\"fill:#1f77b4;stroke:#1f77b4;\" x=\"133.888363\" xlink:href=\"#m8b556cd841\" y=\"80.726631\"/>\n     <use style=\"fill:#1f77b4;stroke:#1f77b4;\" x=\"111.278951\" xlink:href=\"#m8b556cd841\" y=\"59.635843\"/>\n     <use style=\"fill:#1f77b4;stroke:#1f77b4;\" x=\"139.498788\" xlink:href=\"#m8b556cd841\" y=\"81.519156\"/>\n     <use style=\"fill:#1f77b4;stroke:#1f77b4;\" x=\"115.136355\" xlink:href=\"#m8b556cd841\" y=\"59.881888\"/>\n     <use style=\"fill:#1f77b4;stroke:#1f77b4;\" x=\"142.378842\" xlink:href=\"#m8b556cd841\" y=\"91.724118\"/>\n     <use style=\"fill:#1f77b4;stroke:#1f77b4;\" x=\"128.848769\" xlink:href=\"#m8b556cd841\" y=\"72.659091\"/>\n     <use style=\"fill:#1f77b4;stroke:#1f77b4;\" x=\"173.708307\" xlink:href=\"#m8b556cd841\" y=\"95.526023\"/>\n     <use style=\"fill:#1f77b4;stroke:#1f77b4;\" x=\"89.168152\" xlink:href=\"#m8b556cd841\" y=\"40.009448\"/>\n     <use style=\"fill:#1f77b4;stroke:#1f77b4;\" x=\"172.286832\" xlink:href=\"#m8b556cd841\" y=\"101.982394\"/>\n     <use style=\"fill:#1f77b4;stroke:#1f77b4;\" x=\"93.00657\" xlink:href=\"#m8b556cd841\" y=\"59.859389\"/>\n     <use style=\"fill:#1f77b4;stroke:#1f77b4;\" x=\"132.223793\" xlink:href=\"#m8b556cd841\" y=\"87.115975\"/>\n     <use style=\"fill:#1f77b4;stroke:#1f77b4;\" x=\"144.962188\" xlink:href=\"#m8b556cd841\" y=\"81.005461\"/>\n     <use style=\"fill:#1f77b4;stroke:#1f77b4;\" x=\"144.462975\" xlink:href=\"#m8b556cd841\" y=\"78.800752\"/>\n     <use style=\"fill:#1f77b4;stroke:#1f77b4;\" x=\"118.996459\" xlink:href=\"#m8b556cd841\" y=\"59.530823\"/>\n     <use style=\"fill:#1f77b4;stroke:#1f77b4;\" x=\"124.26274\" xlink:href=\"#m8b556cd841\" y=\"91.201058\"/>\n     <use style=\"fill:#1f77b4;stroke:#1f77b4;\" x=\"134.540862\" xlink:href=\"#m8b556cd841\" y=\"86.918295\"/>\n     <use style=\"fill:#1f77b4;stroke:#1f77b4;\" x=\"105.338627\" xlink:href=\"#m8b556cd841\" y=\"46.361463\"/>\n     <use style=\"fill:#1f77b4;stroke:#1f77b4;\" x=\"201.123432\" xlink:href=\"#m8b556cd841\" y=\"116.214387\"/>\n     <use style=\"fill:#1f77b4;stroke:#1f77b4;\" x=\"104.522328\" xlink:href=\"#m8b556cd841\" y=\"52.627091\"/>\n     <use style=\"fill:#1f77b4;stroke:#1f77b4;\" x=\"89.006291\" xlink:href=\"#m8b556cd841\" y=\"49.500364\"/>\n     <use style=\"fill:#1f77b4;stroke:#1f77b4;\" x=\"98.159563\" xlink:href=\"#m8b556cd841\" y=\"48.390976\"/>\n     <use style=\"fill:#1f77b4;stroke:#1f77b4;\" x=\"151.117583\" xlink:href=\"#m8b556cd841\" y=\"81.664563\"/>\n     <use style=\"fill:#1f77b4;stroke:#1f77b4;\" x=\"110.670239\" xlink:href=\"#m8b556cd841\" y=\"58.537235\"/>\n     <use style=\"fill:#1f77b4;stroke:#1f77b4;\" x=\"100.862539\" xlink:href=\"#m8b556cd841\" y=\"64.183591\"/>\n     <use style=\"fill:#1f77b4;stroke:#1f77b4;\" x=\"143.076084\" xlink:href=\"#m8b556cd841\" y=\"82.944473\"/>\n     <use style=\"fill:#1f77b4;stroke:#1f77b4;\" x=\"151.96841\" xlink:href=\"#m8b556cd841\" y=\"89.853755\"/>\n     <use style=\"fill:#1f77b4;stroke:#1f77b4;\" x=\"147.366609\" xlink:href=\"#m8b556cd841\" y=\"88.146845\"/>\n     <use style=\"fill:#1f77b4;stroke:#1f77b4;\" x=\"126.046271\" xlink:href=\"#m8b556cd841\" y=\"70.540612\"/>\n     <use style=\"fill:#1f77b4;stroke:#1f77b4;\" x=\"153.897107\" xlink:href=\"#m8b556cd841\" y=\"79.001204\"/>\n     <use style=\"fill:#1f77b4;stroke:#1f77b4;\" x=\"84.38644\" xlink:href=\"#m8b556cd841\" y=\"39.441029\"/>\n     <use style=\"fill:#1f77b4;stroke:#1f77b4;\" x=\"122.140076\" xlink:href=\"#m8b556cd841\" y=\"82.82068\"/>\n     <use style=\"fill:#1f77b4;stroke:#1f77b4;\" x=\"137.969385\" xlink:href=\"#m8b556cd841\" y=\"87.048892\"/>\n     <use style=\"fill:#1f77b4;stroke:#1f77b4;\" x=\"98.680643\" xlink:href=\"#m8b556cd841\" y=\"51.106382\"/>\n     <use style=\"fill:#1f77b4;stroke:#1f77b4;\" x=\"109.488149\" xlink:href=\"#m8b556cd841\" y=\"61.093475\"/>\n     <use style=\"fill:#1f77b4;stroke:#1f77b4;\" x=\"119.96373\" xlink:href=\"#m8b556cd841\" y=\"84.286549\"/>\n     <use style=\"fill:#1f77b4;stroke:#1f77b4;\" x=\"155.926796\" xlink:href=\"#m8b556cd841\" y=\"94.266516\"/>\n     <use style=\"fill:#1f77b4;stroke:#1f77b4;\" x=\"134.396097\" xlink:href=\"#m8b556cd841\" y=\"67.404056\"/>\n     <use style=\"fill:#1f77b4;stroke:#1f77b4;\" x=\"84.982377\" xlink:href=\"#m8b556cd841\" y=\"46.146025\"/>\n     <use style=\"fill:#1f77b4;stroke:#1f77b4;\" x=\"152.810011\" xlink:href=\"#m8b556cd841\" y=\"79.907357\"/>\n     <use style=\"fill:#1f77b4;stroke:#1f77b4;\" x=\"105.134883\" xlink:href=\"#m8b556cd841\" y=\"48.88272\"/>\n     <use style=\"fill:#1f77b4;stroke:#1f77b4;\" x=\"136.943748\" xlink:href=\"#m8b556cd841\" y=\"66.292906\"/>\n     <use style=\"fill:#1f77b4;stroke:#1f77b4;\" x=\"125.522377\" xlink:href=\"#m8b556cd841\" y=\"71.756192\"/>\n     <use style=\"fill:#1f77b4;stroke:#1f77b4;\" x=\"144.619676\" xlink:href=\"#m8b556cd841\" y=\"88.315783\"/>\n     <use style=\"fill:#1f77b4;stroke:#1f77b4;\" x=\"129.049167\" xlink:href=\"#m8b556cd841\" y=\"73.159739\"/>\n     <use style=\"fill:#1f77b4;stroke:#1f77b4;\" x=\"116.946025\" xlink:href=\"#m8b556cd841\" y=\"67.216625\"/>\n     <use style=\"fill:#1f77b4;stroke:#1f77b4;\" x=\"143.977179\" xlink:href=\"#m8b556cd841\" y=\"101.452986\"/>\n     <use style=\"fill:#1f77b4;stroke:#1f77b4;\" x=\"118.732705\" xlink:href=\"#m8b556cd841\" y=\"82.911141\"/>\n     <use style=\"fill:#1f77b4;stroke:#1f77b4;\" x=\"176.640865\" xlink:href=\"#m8b556cd841\" y=\"101.589681\"/>\n     <use style=\"fill:#1f77b4;stroke:#1f77b4;\" x=\"119.466419\" xlink:href=\"#m8b556cd841\" y=\"66.766832\"/>\n     <use style=\"fill:#1f77b4;stroke:#1f77b4;\" x=\"166.823288\" xlink:href=\"#m8b556cd841\" y=\"91.523024\"/>\n     <use style=\"fill:#1f77b4;stroke:#1f77b4;\" x=\"130.973503\" xlink:href=\"#m8b556cd841\" y=\"70.35276\"/>\n     <use style=\"fill:#1f77b4;stroke:#1f77b4;\" x=\"99.536429\" xlink:href=\"#m8b556cd841\" y=\"57.216825\"/>\n     <use style=\"fill:#1f77b4;stroke:#1f77b4;\" x=\"107.735624\" xlink:href=\"#m8b556cd841\" y=\"67.582616\"/>\n     <use style=\"fill:#1f77b4;stroke:#1f77b4;\" x=\"120.178927\" xlink:href=\"#m8b556cd841\" y=\"64.704567\"/>\n     <use style=\"fill:#1f77b4;stroke:#1f77b4;\" x=\"113.876421\" xlink:href=\"#m8b556cd841\" y=\"49.636549\"/>\n     <use style=\"fill:#1f77b4;stroke:#1f77b4;\" x=\"140.294168\" xlink:href=\"#m8b556cd841\" y=\"83.159876\"/>\n     <use style=\"fill:#1f77b4;stroke:#1f77b4;\" x=\"138.883614\" xlink:href=\"#m8b556cd841\" y=\"78.340524\"/>\n     <use style=\"fill:#1f77b4;stroke:#1f77b4;\" x=\"127.268143\" xlink:href=\"#m8b556cd841\" y=\"73.640092\"/>\n     <use style=\"fill:#1f77b4;stroke:#1f77b4;\" x=\"157.499137\" xlink:href=\"#m8b556cd841\" y=\"92.232921\"/>\n     <use style=\"fill:#1f77b4;stroke:#1f77b4;\" x=\"134.287371\" xlink:href=\"#m8b556cd841\" y=\"73.490297\"/>\n     <use style=\"fill:#1f77b4;stroke:#1f77b4;\" x=\"147.705582\" xlink:href=\"#m8b556cd841\" y=\"92.457637\"/>\n     <use style=\"fill:#1f77b4;stroke:#1f77b4;\" x=\"131.021313\" xlink:href=\"#m8b556cd841\" y=\"67.008115\"/>\n     <use style=\"fill:#1f77b4;stroke:#1f77b4;\" x=\"133.953111\" xlink:href=\"#m8b556cd841\" y=\"69.464847\"/>\n     <use style=\"fill:#1f77b4;stroke:#1f77b4;\" x=\"109.365846\" xlink:href=\"#m8b556cd841\" y=\"65.839947\"/>\n     <use style=\"fill:#1f77b4;stroke:#1f77b4;\" x=\"110.099801\" xlink:href=\"#m8b556cd841\" y=\"64.031662\"/>\n     <use style=\"fill:#1f77b4;stroke:#1f77b4;\" x=\"129.620083\" xlink:href=\"#m8b556cd841\" y=\"83.800182\"/>\n     <use style=\"fill:#1f77b4;stroke:#1f77b4;\" x=\"113.222968\" xlink:href=\"#m8b556cd841\" y=\"55.531157\"/>\n     <use style=\"fill:#1f77b4;stroke:#1f77b4;\" x=\"101.620112\" xlink:href=\"#m8b556cd841\" y=\"43.299119\"/>\n     <use style=\"fill:#1f77b4;stroke:#1f77b4;\" x=\"111.27304\" xlink:href=\"#m8b556cd841\" y=\"74.507042\"/>\n     <use style=\"fill:#1f77b4;stroke:#1f77b4;\" x=\"130.812116\" xlink:href=\"#m8b556cd841\" y=\"81.502662\"/>\n     <use style=\"fill:#1f77b4;stroke:#1f77b4;\" x=\"126.294698\" xlink:href=\"#m8b556cd841\" y=\"58.144166\"/>\n     <use style=\"fill:#1f77b4;stroke:#1f77b4;\" x=\"125.46392\" xlink:href=\"#m8b556cd841\" y=\"80.220169\"/>\n     <use style=\"fill:#1f77b4;stroke:#1f77b4;\" x=\"124.353814\" xlink:href=\"#m8b556cd841\" y=\"81.859601\"/>\n     <use style=\"fill:#1f77b4;stroke:#1f77b4;\" x=\"148.962343\" xlink:href=\"#m8b556cd841\" y=\"92.540872\"/>\n     <use style=\"fill:#1f77b4;stroke:#1f77b4;\" x=\"112.948795\" xlink:href=\"#m8b556cd841\" y=\"79.809133\"/>\n     <use style=\"fill:#1f77b4;stroke:#1f77b4;\" x=\"84.426096\" xlink:href=\"#m8b556cd841\" y=\"37.178459\"/>\n     <use style=\"fill:#1f77b4;stroke:#1f77b4;\" x=\"111.650204\" xlink:href=\"#m8b556cd841\" y=\"72.290375\"/>\n     <use style=\"fill:#1f77b4;stroke:#1f77b4;\" x=\"127.754694\" xlink:href=\"#m8b556cd841\" y=\"76.810548\"/>\n     <use style=\"fill:#1f77b4;stroke:#1f77b4;\" x=\"158.987143\" xlink:href=\"#m8b556cd841\" y=\"88.226742\"/>\n     <use style=\"fill:#1f77b4;stroke:#1f77b4;\" x=\"82.411076\" xlink:href=\"#m8b556cd841\" y=\"36.022338\"/>\n     <use style=\"fill:#1f77b4;stroke:#1f77b4;\" x=\"167.48061\" xlink:href=\"#m8b556cd841\" y=\"100.280599\"/>\n     <use style=\"fill:#1f77b4;stroke:#1f77b4;\" x=\"107.845433\" xlink:href=\"#m8b556cd841\" y=\"64.641477\"/>\n     <use style=\"fill:#1f77b4;stroke:#1f77b4;\" x=\"127.77948\" xlink:href=\"#m8b556cd841\" y=\"62.42652\"/>\n     <use style=\"fill:#1f77b4;stroke:#1f77b4;\" x=\"118.163616\" xlink:href=\"#m8b556cd841\" y=\"76.227563\"/>\n     <use style=\"fill:#1f77b4;stroke:#1f77b4;\" x=\"135.033991\" xlink:href=\"#m8b556cd841\" y=\"74.153901\"/>\n     <use style=\"fill:#1f77b4;stroke:#1f77b4;\" x=\"140.622928\" xlink:href=\"#m8b556cd841\" y=\"87.137818\"/>\n     <use style=\"fill:#1f77b4;stroke:#1f77b4;\" x=\"109.077792\" xlink:href=\"#m8b556cd841\" y=\"56.519558\"/>\n     <use style=\"fill:#1f77b4;stroke:#1f77b4;\" x=\"150.444183\" xlink:href=\"#m8b556cd841\" y=\"107.034623\"/>\n     <use style=\"fill:#1f77b4;stroke:#1f77b4;\" x=\"117.365675\" xlink:href=\"#m8b556cd841\" y=\"75.234913\"/>\n     <use style=\"fill:#1f77b4;stroke:#1f77b4;\" x=\"128.138125\" xlink:href=\"#m8b556cd841\" y=\"61.749536\"/>\n     <use style=\"fill:#1f77b4;stroke:#1f77b4;\" x=\"118.406711\" xlink:href=\"#m8b556cd841\" y=\"53.427288\"/>\n     <use style=\"fill:#1f77b4;stroke:#1f77b4;\" x=\"142.146938\" xlink:href=\"#m8b556cd841\" y=\"65.932041\"/>\n     <use style=\"fill:#1f77b4;stroke:#1f77b4;\" x=\"138.947667\" xlink:href=\"#m8b556cd841\" y=\"77.067591\"/>\n     <use style=\"fill:#1f77b4;stroke:#1f77b4;\" x=\"104.140301\" xlink:href=\"#m8b556cd841\" y=\"68.268369\"/>\n     <use style=\"fill:#1f77b4;stroke:#1f77b4;\" x=\"101.494407\" xlink:href=\"#m8b556cd841\" y=\"47.50168\"/>\n     <use style=\"fill:#1f77b4;stroke:#1f77b4;\" x=\"111.320475\" xlink:href=\"#m8b556cd841\" y=\"62.093943\"/>\n     <use style=\"fill:#1f77b4;stroke:#1f77b4;\" x=\"91.702125\" xlink:href=\"#m8b556cd841\" y=\"54.971425\"/>\n     <use style=\"fill:#1f77b4;stroke:#1f77b4;\" x=\"135.812002\" xlink:href=\"#m8b556cd841\" y=\"81.733069\"/>\n     <use style=\"fill:#1f77b4;stroke:#1f77b4;\" x=\"157.393189\" xlink:href=\"#m8b556cd841\" y=\"76.008001\"/>\n     <use style=\"fill:#1f77b4;stroke:#1f77b4;\" x=\"123.825256\" xlink:href=\"#m8b556cd841\" y=\"82.518466\"/>\n     <use style=\"fill:#1f77b4;stroke:#1f77b4;\" x=\"115.293286\" xlink:href=\"#m8b556cd841\" y=\"70.262905\"/>\n     <use style=\"fill:#1f77b4;stroke:#1f77b4;\" x=\"122.695725\" xlink:href=\"#m8b556cd841\" y=\"73.462073\"/>\n     <use style=\"fill:#1f77b4;stroke:#1f77b4;\" x=\"164.508231\" xlink:href=\"#m8b556cd841\" y=\"101.308245\"/>\n     <use style=\"fill:#1f77b4;stroke:#1f77b4;\" x=\"119.580772\" xlink:href=\"#m8b556cd841\" y=\"54.39222\"/>\n     <use style=\"fill:#1f77b4;stroke:#1f77b4;\" x=\"150.754951\" xlink:href=\"#m8b556cd841\" y=\"83.348809\"/>\n     <use style=\"fill:#1f77b4;stroke:#1f77b4;\" x=\"136.609976\" xlink:href=\"#m8b556cd841\" y=\"82.646262\"/>\n     <use style=\"fill:#1f77b4;stroke:#1f77b4;\" x=\"123.72584\" xlink:href=\"#m8b556cd841\" y=\"65.785596\"/>\n     <use style=\"fill:#1f77b4;stroke:#1f77b4;\" x=\"105.574148\" xlink:href=\"#m8b556cd841\" y=\"44.280759\"/>\n     <use style=\"fill:#1f77b4;stroke:#1f77b4;\" x=\"114.00014\" xlink:href=\"#m8b556cd841\" y=\"56.097531\"/>\n     <use style=\"fill:#1f77b4;stroke:#1f77b4;\" x=\"150.426647\" xlink:href=\"#m8b556cd841\" y=\"93.674149\"/>\n     <use style=\"fill:#1f77b4;stroke:#1f77b4;\" x=\"77.258468\" xlink:href=\"#m8b556cd841\" y=\"45.737562\"/>\n     <use style=\"fill:#1f77b4;stroke:#1f77b4;\" x=\"132.357958\" xlink:href=\"#m8b556cd841\" y=\"84.894725\"/>\n     <use style=\"fill:#1f77b4;stroke:#1f77b4;\" x=\"124.450216\" xlink:href=\"#m8b556cd841\" y=\"81.292848\"/>\n     <use style=\"fill:#1f77b4;stroke:#1f77b4;\" x=\"125.908744\" xlink:href=\"#m8b556cd841\" y=\"76.124496\"/>\n     <use style=\"fill:#1f77b4;stroke:#1f77b4;\" x=\"131.442848\" xlink:href=\"#m8b556cd841\" y=\"70.966641\"/>\n     <use style=\"fill:#1f77b4;stroke:#1f77b4;\" x=\"135.752327\" xlink:href=\"#m8b556cd841\" y=\"90.509825\"/>\n     <use style=\"fill:#1f77b4;stroke:#1f77b4;\" x=\"148.305823\" xlink:href=\"#m8b556cd841\" y=\"82.149395\"/>\n     <use style=\"fill:#1f77b4;stroke:#1f77b4;\" x=\"152.459942\" xlink:href=\"#m8b556cd841\" y=\"90.067574\"/>\n     <use style=\"fill:#1f77b4;stroke:#1f77b4;\" x=\"133.503823\" xlink:href=\"#m8b556cd841\" y=\"71.358377\"/>\n     <use style=\"fill:#1f77b4;stroke:#1f77b4;\" x=\"104.542035\" xlink:href=\"#m8b556cd841\" y=\"52.113309\"/>\n     <use style=\"fill:#1f77b4;stroke:#1f77b4;\" x=\"157.723118\" xlink:href=\"#m8b556cd841\" y=\"111.900034\"/>\n     <use style=\"fill:#1f77b4;stroke:#1f77b4;\" x=\"113.292976\" xlink:href=\"#m8b556cd841\" y=\"77.999263\"/>\n     <use style=\"fill:#1f77b4;stroke:#1f77b4;\" x=\"120.30514\" xlink:href=\"#m8b556cd841\" y=\"62.593312\"/>\n     <use style=\"fill:#1f77b4;stroke:#1f77b4;\" x=\"127.00418\" xlink:href=\"#m8b556cd841\" y=\"70.86314\"/>\n     <use style=\"fill:#1f77b4;stroke:#1f77b4;\" x=\"134.905995\" xlink:href=\"#m8b556cd841\" y=\"58.130336\"/>\n     <use style=\"fill:#1f77b4;stroke:#1f77b4;\" x=\"159.449893\" xlink:href=\"#m8b556cd841\" y=\"94.783221\"/>\n     <use style=\"fill:#1f77b4;stroke:#1f77b4;\" x=\"179.048497\" xlink:href=\"#m8b556cd841\" y=\"96.450447\"/>\n     <use style=\"fill:#1f77b4;stroke:#1f77b4;\" x=\"149.830304\" xlink:href=\"#m8b556cd841\" y=\"101.29823\"/>\n     <use style=\"fill:#1f77b4;stroke:#1f77b4;\" x=\"96.343232\" xlink:href=\"#m8b556cd841\" y=\"58.734124\"/>\n     <use style=\"fill:#1f77b4;stroke:#1f77b4;\" x=\"120.06144\" xlink:href=\"#m8b556cd841\" y=\"75.440489\"/>\n     <use style=\"fill:#1f77b4;stroke:#1f77b4;\" x=\"119.97655\" xlink:href=\"#m8b556cd841\" y=\"66.7096\"/>\n     <use style=\"fill:#1f77b4;stroke:#1f77b4;\" x=\"71.790353\" xlink:href=\"#m8b556cd841\" y=\"40.506577\"/>\n     <use style=\"fill:#1f77b4;stroke:#1f77b4;\" x=\"144.726222\" xlink:href=\"#m8b556cd841\" y=\"91.15161\"/>\n     <use style=\"fill:#1f77b4;stroke:#1f77b4;\" x=\"136.562019\" xlink:href=\"#m8b556cd841\" y=\"71.935636\"/>\n     <use style=\"fill:#1f77b4;stroke:#1f77b4;\" x=\"98.444706\" xlink:href=\"#m8b556cd841\" y=\"67.398174\"/>\n     <use style=\"fill:#1f77b4;stroke:#1f77b4;\" x=\"137.837515\" xlink:href=\"#m8b556cd841\" y=\"84.110824\"/>\n     <use style=\"fill:#1f77b4;stroke:#1f77b4;\" x=\"101.891806\" xlink:href=\"#m8b556cd841\" y=\"47.952704\"/>\n     <use style=\"fill:#1f77b4;stroke:#1f77b4;\" x=\"85.463234\" xlink:href=\"#m8b556cd841\" y=\"46.50184\"/>\n     <use style=\"fill:#1f77b4;stroke:#1f77b4;\" x=\"119.02295\" xlink:href=\"#m8b556cd841\" y=\"83.824462\"/>\n     <use style=\"fill:#1f77b4;stroke:#1f77b4;\" x=\"99.985752\" xlink:href=\"#m8b556cd841\" y=\"54.761009\"/>\n     <use style=\"fill:#1f77b4;stroke:#1f77b4;\" x=\"105.56109\" xlink:href=\"#m8b556cd841\" y=\"50.679892\"/>\n     <use style=\"fill:#1f77b4;stroke:#1f77b4;\" x=\"113.010508\" xlink:href=\"#m8b556cd841\" y=\"79.49218\"/>\n     <use style=\"fill:#1f77b4;stroke:#1f77b4;\" x=\"94.634064\" xlink:href=\"#m8b556cd841\" y=\"43.775059\"/>\n     <use style=\"fill:#1f77b4;stroke:#1f77b4;\" x=\"96.761204\" xlink:href=\"#m8b556cd841\" y=\"43.250287\"/>\n     <use style=\"fill:#1f77b4;stroke:#1f77b4;\" x=\"103.845992\" xlink:href=\"#m8b556cd841\" y=\"51.618919\"/>\n     <use style=\"fill:#1f77b4;stroke:#1f77b4;\" x=\"156.214321\" xlink:href=\"#m8b556cd841\" y=\"107.35316\"/>\n     <use style=\"fill:#1f77b4;stroke:#1f77b4;\" x=\"129.321478\" xlink:href=\"#m8b556cd841\" y=\"65.391937\"/>\n     <use style=\"fill:#1f77b4;stroke:#1f77b4;\" x=\"171.134626\" xlink:href=\"#m8b556cd841\" y=\"98.111551\"/>\n     <use style=\"fill:#1f77b4;stroke:#1f77b4;\" x=\"110.955288\" xlink:href=\"#m8b556cd841\" y=\"63.099142\"/>\n     <use style=\"fill:#1f77b4;stroke:#1f77b4;\" x=\"118.88664\" xlink:href=\"#m8b556cd841\" y=\"70.303651\"/>\n     <use style=\"fill:#1f77b4;stroke:#1f77b4;\" x=\"96.235292\" xlink:href=\"#m8b556cd841\" y=\"55.011644\"/>\n     <use style=\"fill:#1f77b4;stroke:#1f77b4;\" x=\"109.01882\" xlink:href=\"#m8b556cd841\" y=\"84.440477\"/>\n     <use style=\"fill:#1f77b4;stroke:#1f77b4;\" x=\"129.426462\" xlink:href=\"#m8b556cd841\" y=\"73.624028\"/>\n     <use style=\"fill:#1f77b4;stroke:#1f77b4;\" x=\"96.713512\" xlink:href=\"#m8b556cd841\" y=\"66.921808\"/>\n     <use style=\"fill:#1f77b4;stroke:#1f77b4;\" x=\"186.108395\" xlink:href=\"#m8b556cd841\" y=\"133.006237\"/>\n     <use style=\"fill:#1f77b4;stroke:#1f77b4;\" x=\"159.64644\" xlink:href=\"#m8b556cd841\" y=\"112.534893\"/>\n     <use style=\"fill:#1f77b4;stroke:#1f77b4;\" x=\"120.701101\" xlink:href=\"#m8b556cd841\" y=\"70.70649\"/>\n     <use style=\"fill:#1f77b4;stroke:#1f77b4;\" x=\"107.131995\" xlink:href=\"#m8b556cd841\" y=\"67.479251\"/>\n     <use style=\"fill:#1f77b4;stroke:#1f77b4;\" x=\"175.742237\" xlink:href=\"#m8b556cd841\" y=\"106.015531\"/>\n     <use style=\"fill:#1f77b4;stroke:#1f77b4;\" x=\"142.408953\" xlink:href=\"#m8b556cd841\" y=\"77.61427\"/>\n     <use style=\"fill:#1f77b4;stroke:#1f77b4;\" x=\"143.939646\" xlink:href=\"#m8b556cd841\" y=\"84.913997\"/>\n     <use style=\"fill:#1f77b4;stroke:#1f77b4;\" x=\"142.099795\" xlink:href=\"#m8b556cd841\" y=\"72.047402\"/>\n     <use style=\"fill:#1f77b4;stroke:#1f77b4;\" x=\"129.273805\" xlink:href=\"#m8b556cd841\" y=\"56.448596\"/>\n     <use style=\"fill:#1f77b4;stroke:#1f77b4;\" x=\"120.005122\" xlink:href=\"#m8b556cd841\" y=\"75.466992\"/>\n     <use style=\"fill:#1f77b4;stroke:#1f77b4;\" x=\"148.217225\" xlink:href=\"#m8b556cd841\" y=\"89.046602\"/>\n     <use style=\"fill:#1f77b4;stroke:#1f77b4;\" x=\"111.344111\" xlink:href=\"#m8b556cd841\" y=\"62.456125\"/>\n     <use style=\"fill:#1f77b4;stroke:#1f77b4;\" x=\"143.855696\" xlink:href=\"#m8b556cd841\" y=\"93.791105\"/>\n     <use style=\"fill:#1f77b4;stroke:#1f77b4;\" x=\"145.989758\" xlink:href=\"#m8b556cd841\" y=\"79.920478\"/>\n     <use style=\"fill:#1f77b4;stroke:#1f77b4;\" x=\"112.138675\" xlink:href=\"#m8b556cd841\" y=\"69.550551\"/>\n     <use style=\"fill:#1f77b4;stroke:#1f77b4;\" x=\"125.507855\" xlink:href=\"#m8b556cd841\" y=\"79.362514\"/>\n     <use style=\"fill:#1f77b4;stroke:#1f77b4;\" x=\"138.217271\" xlink:href=\"#m8b556cd841\" y=\"80.454954\"/>\n     <use style=\"fill:#1f77b4;stroke:#1f77b4;\" x=\"156.949488\" xlink:href=\"#m8b556cd841\" y=\"83.929221\"/>\n     <use style=\"fill:#1f77b4;stroke:#1f77b4;\" x=\"115.176921\" xlink:href=\"#m8b556cd841\" y=\"73.574021\"/>\n     <use style=\"fill:#1f77b4;stroke:#1f77b4;\" x=\"117.947891\" xlink:href=\"#m8b556cd841\" y=\"69.423241\"/>\n     <use style=\"fill:#1f77b4;stroke:#1f77b4;\" x=\"97.942773\" xlink:href=\"#m8b556cd841\" y=\"51.376102\"/>\n     <use style=\"fill:#1f77b4;stroke:#1f77b4;\" x=\"135.657945\" xlink:href=\"#m8b556cd841\" y=\"107.371752\"/>\n     <use style=\"fill:#1f77b4;stroke:#1f77b4;\" x=\"154.852813\" xlink:href=\"#m8b556cd841\" y=\"85.051511\"/>\n     <use style=\"fill:#1f77b4;stroke:#1f77b4;\" x=\"151.641512\" xlink:href=\"#m8b556cd841\" y=\"93.481524\"/>\n     <use style=\"fill:#1f77b4;stroke:#1f77b4;\" x=\"112.371157\" xlink:href=\"#m8b556cd841\" y=\"57.789312\"/>\n     <use style=\"fill:#1f77b4;stroke:#1f77b4;\" x=\"107.799691\" xlink:href=\"#m8b556cd841\" y=\"59.161249\"/>\n     <use style=\"fill:#1f77b4;stroke:#1f77b4;\" x=\"149.733343\" xlink:href=\"#m8b556cd841\" y=\"77.952856\"/>\n     <use style=\"fill:#1f77b4;stroke:#1f77b4;\" x=\"146.97817\" xlink:href=\"#m8b556cd841\" y=\"89.503391\"/>\n     <use style=\"fill:#1f77b4;stroke:#1f77b4;\" x=\"113.584427\" xlink:href=\"#m8b556cd841\" y=\"60.87134\"/>\n     <use style=\"fill:#1f77b4;stroke:#1f77b4;\" x=\"130.896846\" xlink:href=\"#m8b556cd841\" y=\"79.310708\"/>\n     <use style=\"fill:#1f77b4;stroke:#1f77b4;\" x=\"82.650848\" xlink:href=\"#m8b556cd841\" y=\"51.591333\"/>\n     <use style=\"fill:#1f77b4;stroke:#1f77b4;\" x=\"157.369663\" xlink:href=\"#m8b556cd841\" y=\"90.271941\"/>\n     <use style=\"fill:#1f77b4;stroke:#1f77b4;\" x=\"114.993208\" xlink:href=\"#m8b556cd841\" y=\"65.347629\"/>\n     <use style=\"fill:#1f77b4;stroke:#1f77b4;\" x=\"135.845087\" xlink:href=\"#m8b556cd841\" y=\"68.218906\"/>\n     <use style=\"fill:#1f77b4;stroke:#1f77b4;\" x=\"121.714564\" xlink:href=\"#m8b556cd841\" y=\"81.256477\"/>\n     <use style=\"fill:#1f77b4;stroke:#1f77b4;\" x=\"92.577925\" xlink:href=\"#m8b556cd841\" y=\"46.553598\"/>\n     <use style=\"fill:#1f77b4;stroke:#1f77b4;\" x=\"147.770121\" xlink:href=\"#m8b556cd841\" y=\"94.484527\"/>\n     <use style=\"fill:#1f77b4;stroke:#1f77b4;\" x=\"162.92935\" xlink:href=\"#m8b556cd841\" y=\"86.920225\"/>\n     <use style=\"fill:#1f77b4;stroke:#1f77b4;\" x=\"147.193329\" xlink:href=\"#m8b556cd841\" y=\"84.188934\"/>\n     <use style=\"fill:#1f77b4;stroke:#1f77b4;\" x=\"146.871378\" xlink:href=\"#m8b556cd841\" y=\"82.936132\"/>\n     <use style=\"fill:#1f77b4;stroke:#1f77b4;\" x=\"104.382032\" xlink:href=\"#m8b556cd841\" y=\"66.150502\"/>\n     <use style=\"fill:#1f77b4;stroke:#1f77b4;\" x=\"71.29187\" xlink:href=\"#m8b556cd841\" y=\"28.320511\"/>\n     <use style=\"fill:#1f77b4;stroke:#1f77b4;\" x=\"112.623256\" xlink:href=\"#m8b556cd841\" y=\"58.120813\"/>\n     <use style=\"fill:#1f77b4;stroke:#1f77b4;\" x=\"124.486581\" xlink:href=\"#m8b556cd841\" y=\"73.037827\"/>\n     <use style=\"fill:#1f77b4;stroke:#1f77b4;\" x=\"125.227827\" xlink:href=\"#m8b556cd841\" y=\"62.752376\"/>\n     <use style=\"fill:#1f77b4;stroke:#1f77b4;\" x=\"118.059522\" xlink:href=\"#m8b556cd841\" y=\"64.724266\"/>\n     <use style=\"fill:#1f77b4;stroke:#1f77b4;\" x=\"133.040452\" xlink:href=\"#m8b556cd841\" y=\"74.954512\"/>\n     <use style=\"fill:#1f77b4;stroke:#1f77b4;\" x=\"122.760356\" xlink:href=\"#m8b556cd841\" y=\"79.244268\"/>\n     <use style=\"fill:#1f77b4;stroke:#1f77b4;\" x=\"134.22825\" xlink:href=\"#m8b556cd841\" y=\"85.95987\"/>\n     <use style=\"fill:#1f77b4;stroke:#1f77b4;\" x=\"128.100168\" xlink:href=\"#m8b556cd841\" y=\"74.922249\"/>\n     <use style=\"fill:#1f77b4;stroke:#1f77b4;\" x=\"168.215085\" xlink:href=\"#m8b556cd841\" y=\"113.679622\"/>\n     <use style=\"fill:#1f77b4;stroke:#1f77b4;\" x=\"126.963791\" xlink:href=\"#m8b556cd841\" y=\"64.262339\"/>\n     <use style=\"fill:#1f77b4;stroke:#1f77b4;\" x=\"133.418383\" xlink:href=\"#m8b556cd841\" y=\"72.67203\"/>\n     <use style=\"fill:#1f77b4;stroke:#1f77b4;\" x=\"154.565137\" xlink:href=\"#m8b556cd841\" y=\"85.478639\"/>\n     <use style=\"fill:#1f77b4;stroke:#1f77b4;\" x=\"111.940698\" xlink:href=\"#m8b556cd841\" y=\"55.294326\"/>\n     <use style=\"fill:#1f77b4;stroke:#1f77b4;\" x=\"124.929875\" xlink:href=\"#m8b556cd841\" y=\"59.976912\"/>\n     <use style=\"fill:#1f77b4;stroke:#1f77b4;\" x=\"140.282116\" xlink:href=\"#m8b556cd841\" y=\"83.031208\"/>\n     <use style=\"fill:#1f77b4;stroke:#1f77b4;\" x=\"150.05929\" xlink:href=\"#m8b556cd841\" y=\"87.789475\"/>\n     <use style=\"fill:#1f77b4;stroke:#1f77b4;\" x=\"133.484341\" xlink:href=\"#m8b556cd841\" y=\"69.217954\"/>\n     <use style=\"fill:#1f77b4;stroke:#1f77b4;\" x=\"174.609515\" xlink:href=\"#m8b556cd841\" y=\"119.058498\"/>\n     <use style=\"fill:#1f77b4;stroke:#1f77b4;\" x=\"143.545711\" xlink:href=\"#m8b556cd841\" y=\"72.139941\"/>\n     <use style=\"fill:#1f77b4;stroke:#1f77b4;\" x=\"122.690855\" xlink:href=\"#m8b556cd841\" y=\"70.02589\"/>\n     <use style=\"fill:#1f77b4;stroke:#1f77b4;\" x=\"108.816299\" xlink:href=\"#m8b556cd841\" y=\"80.456804\"/>\n     <use style=\"fill:#1f77b4;stroke:#1f77b4;\" x=\"85.90457\" xlink:href=\"#m8b556cd841\" y=\"41.80397\"/>\n     <use style=\"fill:#1f77b4;stroke:#1f77b4;\" x=\"136.00315\" xlink:href=\"#m8b556cd841\" y=\"85.091669\"/>\n     <use style=\"fill:#1f77b4;stroke:#1f77b4;\" x=\"125.19403\" xlink:href=\"#m8b556cd841\" y=\"74.300252\"/>\n     <use style=\"fill:#1f77b4;stroke:#1f77b4;\" x=\"130.7525\" xlink:href=\"#m8b556cd841\" y=\"81.201575\"/>\n     <use style=\"fill:#1f77b4;stroke:#1f77b4;\" x=\"123.859813\" xlink:href=\"#m8b556cd841\" y=\"65.382718\"/>\n     <use style=\"fill:#1f77b4;stroke:#1f77b4;\" x=\"107.88198\" xlink:href=\"#m8b556cd841\" y=\"50.525153\"/>\n     <use style=\"fill:#1f77b4;stroke:#1f77b4;\" x=\"122.568605\" xlink:href=\"#m8b556cd841\" y=\"72.652228\"/>\n     <use style=\"fill:#1f77b4;stroke:#1f77b4;\" x=\"108.711559\" xlink:href=\"#m8b556cd841\" y=\"61.615032\"/>\n     <use style=\"fill:#1f77b4;stroke:#1f77b4;\" x=\"151.445775\" xlink:href=\"#m8b556cd841\" y=\"82.376526\"/>\n     <use style=\"fill:#1f77b4;stroke:#1f77b4;\" x=\"121.857\" xlink:href=\"#m8b556cd841\" y=\"52.166774\"/>\n     <use style=\"fill:#1f77b4;stroke:#1f77b4;\" x=\"142.530713\" xlink:href=\"#m8b556cd841\" y=\"88.195577\"/>\n     <use style=\"fill:#1f77b4;stroke:#1f77b4;\" x=\"144.590044\" xlink:href=\"#m8b556cd841\" y=\"88.186083\"/>\n     <use style=\"fill:#1f77b4;stroke:#1f77b4;\" x=\"102.677096\" xlink:href=\"#m8b556cd841\" y=\"53.308516\"/>\n     <use style=\"fill:#1f77b4;stroke:#1f77b4;\" x=\"130.81569\" xlink:href=\"#m8b556cd841\" y=\"73.715719\"/>\n     <use style=\"fill:#1f77b4;stroke:#1f77b4;\" x=\"125.838488\" xlink:href=\"#m8b556cd841\" y=\"59.12073\"/>\n     <use style=\"fill:#1f77b4;stroke:#1f77b4;\" x=\"130.388924\" xlink:href=\"#m8b556cd841\" y=\"86.486671\"/>\n     <use style=\"fill:#1f77b4;stroke:#1f77b4;\" x=\"110.827747\" xlink:href=\"#m8b556cd841\" y=\"63.440943\"/>\n     <use style=\"fill:#1f77b4;stroke:#1f77b4;\" x=\"122.798514\" xlink:href=\"#m8b556cd841\" y=\"64.283901\"/>\n     <use style=\"fill:#1f77b4;stroke:#1f77b4;\" x=\"110.899322\" xlink:href=\"#m8b556cd841\" y=\"55.875681\"/>\n     <use style=\"fill:#1f77b4;stroke:#1f77b4;\" x=\"113.091679\" xlink:href=\"#m8b556cd841\" y=\"61.055839\"/>\n     <use style=\"fill:#1f77b4;stroke:#1f77b4;\" x=\"100.301751\" xlink:href=\"#m8b556cd841\" y=\"46.024772\"/>\n     <use style=\"fill:#1f77b4;stroke:#1f77b4;\" x=\"166.031096\" xlink:href=\"#m8b556cd841\" y=\"88.246683\"/>\n     <use style=\"fill:#1f77b4;stroke:#1f77b4;\" x=\"131.223423\" xlink:href=\"#m8b556cd841\" y=\"84.100306\"/>\n     <use style=\"fill:#1f77b4;stroke:#1f77b4;\" x=\"111.056187\" xlink:href=\"#m8b556cd841\" y=\"58.790692\"/>\n     <use style=\"fill:#1f77b4;stroke:#1f77b4;\" x=\"107.132554\" xlink:href=\"#m8b556cd841\" y=\"48.093457\"/>\n     <use style=\"fill:#1f77b4;stroke:#1f77b4;\" x=\"103.099542\" xlink:href=\"#m8b556cd841\" y=\"49.624539\"/>\n     <use style=\"fill:#1f77b4;stroke:#1f77b4;\" x=\"118.621498\" xlink:href=\"#m8b556cd841\" y=\"62.652287\"/>\n     <use style=\"fill:#1f77b4;stroke:#1f77b4;\" x=\"96.52804\" xlink:href=\"#m8b556cd841\" y=\"40.68238\"/>\n     <use style=\"fill:#1f77b4;stroke:#1f77b4;\" x=\"119.843068\" xlink:href=\"#m8b556cd841\" y=\"69.785346\"/>\n     <use style=\"fill:#1f77b4;stroke:#1f77b4;\" x=\"104.153934\" xlink:href=\"#m8b556cd841\" y=\"59.441234\"/>\n     <use style=\"fill:#1f77b4;stroke:#1f77b4;\" x=\"116.550919\" xlink:href=\"#m8b556cd841\" y=\"62.071772\"/>\n     <use style=\"fill:#1f77b4;stroke:#1f77b4;\" x=\"112.939223\" xlink:href=\"#m8b556cd841\" y=\"61.368859\"/>\n     <use style=\"fill:#1f77b4;stroke:#1f77b4;\" x=\"111.321103\" xlink:href=\"#m8b556cd841\" y=\"56.63625\"/>\n     <use style=\"fill:#1f77b4;stroke:#1f77b4;\" x=\"115.544922\" xlink:href=\"#m8b556cd841\" y=\"57.59625\"/>\n     <use style=\"fill:#1f77b4;stroke:#1f77b4;\" x=\"135.658954\" xlink:href=\"#m8b556cd841\" y=\"103.565752\"/>\n     <use style=\"fill:#1f77b4;stroke:#1f77b4;\" x=\"56.355548\" xlink:href=\"#m8b556cd841\" y=\"47.490041\"/>\n     <use style=\"fill:#1f77b4;stroke:#1f77b4;\" x=\"127.419251\" xlink:href=\"#m8b556cd841\" y=\"66.63391\"/>\n     <use style=\"fill:#1f77b4;stroke:#1f77b4;\" x=\"129.408323\" xlink:href=\"#m8b556cd841\" y=\"77.330866\"/>\n     <use style=\"fill:#1f77b4;stroke:#1f77b4;\" x=\"164.338545\" xlink:href=\"#m8b556cd841\" y=\"112.781697\"/>\n     <use style=\"fill:#1f77b4;stroke:#1f77b4;\" x=\"128.66308\" xlink:href=\"#m8b556cd841\" y=\"62.352686\"/>\n     <use style=\"fill:#1f77b4;stroke:#1f77b4;\" x=\"80.654887\" xlink:href=\"#m8b556cd841\" y=\"49.13065\"/>\n     <use style=\"fill:#1f77b4;stroke:#1f77b4;\" x=\"113.13115\" xlink:href=\"#m8b556cd841\" y=\"47.652865\"/>\n     <use style=\"fill:#1f77b4;stroke:#1f77b4;\" x=\"101.95941\" xlink:href=\"#m8b556cd841\" y=\"46.400688\"/>\n     <use style=\"fill:#1f77b4;stroke:#1f77b4;\" x=\"145.340648\" xlink:href=\"#m8b556cd841\" y=\"82.455029\"/>\n     <use style=\"fill:#1f77b4;stroke:#1f77b4;\" x=\"120.086908\" xlink:href=\"#m8b556cd841\" y=\"60.642327\"/>\n     <use style=\"fill:#1f77b4;stroke:#1f77b4;\" x=\"86.335676\" xlink:href=\"#m8b556cd841\" y=\"35.193937\"/>\n     <use style=\"fill:#1f77b4;stroke:#1f77b4;\" x=\"72.404281\" xlink:href=\"#m8b556cd841\" y=\"46.886145\"/>\n     <use style=\"fill:#1f77b4;stroke:#1f77b4;\" x=\"122.257087\" xlink:href=\"#m8b556cd841\" y=\"68.691054\"/>\n     <use style=\"fill:#1f77b4;stroke:#1f77b4;\" x=\"153.859465\" xlink:href=\"#m8b556cd841\" y=\"92.314701\"/>\n     <use style=\"fill:#1f77b4;stroke:#1f77b4;\" x=\"130.408838\" xlink:href=\"#m8b556cd841\" y=\"89.05407\"/>\n     <use style=\"fill:#1f77b4;stroke:#1f77b4;\" x=\"147.011721\" xlink:href=\"#m8b556cd841\" y=\"74.169005\"/>\n     <use style=\"fill:#1f77b4;stroke:#1f77b4;\" x=\"126.117101\" xlink:href=\"#m8b556cd841\" y=\"64.996404\"/>\n     <use style=\"fill:#1f77b4;stroke:#1f77b4;\" x=\"130.693008\" xlink:href=\"#m8b556cd841\" y=\"63.145513\"/>\n     <use style=\"fill:#1f77b4;stroke:#1f77b4;\" x=\"99.595503\" xlink:href=\"#m8b556cd841\" y=\"49.698126\"/>\n     <use style=\"fill:#1f77b4;stroke:#1f77b4;\" x=\"98.641123\" xlink:href=\"#m8b556cd841\" y=\"59.701396\"/>\n     <use style=\"fill:#1f77b4;stroke:#1f77b4;\" x=\"77.989472\" xlink:href=\"#m8b556cd841\" y=\"47.94381\"/>\n     <use style=\"fill:#1f77b4;stroke:#1f77b4;\" x=\"146.483446\" xlink:href=\"#m8b556cd841\" y=\"85.84912\"/>\n     <use style=\"fill:#1f77b4;stroke:#1f77b4;\" x=\"125.897705\" xlink:href=\"#m8b556cd841\" y=\"73.061757\"/>\n     <use style=\"fill:#1f77b4;stroke:#1f77b4;\" x=\"85.707042\" xlink:href=\"#m8b556cd841\" y=\"47.035576\"/>\n     <use style=\"fill:#1f77b4;stroke:#1f77b4;\" x=\"122.013451\" xlink:href=\"#m8b556cd841\" y=\"55.168656\"/>\n     <use style=\"fill:#1f77b4;stroke:#1f77b4;\" x=\"108.007222\" xlink:href=\"#m8b556cd841\" y=\"61.296594\"/>\n     <use style=\"fill:#1f77b4;stroke:#1f77b4;\" x=\"153.707033\" xlink:href=\"#m8b556cd841\" y=\"95.533325\"/>\n     <use style=\"fill:#1f77b4;stroke:#1f77b4;\" x=\"94.687198\" xlink:href=\"#m8b556cd841\" y=\"28.402198\"/>\n     <use style=\"fill:#1f77b4;stroke:#1f77b4;\" x=\"138.580146\" xlink:href=\"#m8b556cd841\" y=\"98.377451\"/>\n     <use style=\"fill:#1f77b4;stroke:#1f77b4;\" x=\"162.155031\" xlink:href=\"#m8b556cd841\" y=\"101.929388\"/>\n     <use style=\"fill:#1f77b4;stroke:#1f77b4;\" x=\"155.282139\" xlink:href=\"#m8b556cd841\" y=\"83.469946\"/>\n     <use style=\"fill:#1f77b4;stroke:#1f77b4;\" x=\"146.258901\" xlink:href=\"#m8b556cd841\" y=\"106.152151\"/>\n     <use style=\"fill:#1f77b4;stroke:#1f77b4;\" x=\"125.116536\" xlink:href=\"#m8b556cd841\" y=\"59.275259\"/>\n     <use style=\"fill:#1f77b4;stroke:#1f77b4;\" x=\"146.185584\" xlink:href=\"#m8b556cd841\" y=\"83.906259\"/>\n     <use style=\"fill:#1f77b4;stroke:#1f77b4;\" x=\"103.622168\" xlink:href=\"#m8b556cd841\" y=\"66.883249\"/>\n     <use style=\"fill:#1f77b4;stroke:#1f77b4;\" x=\"98.123546\" xlink:href=\"#m8b556cd841\" y=\"47.319442\"/>\n     <use style=\"fill:#1f77b4;stroke:#1f77b4;\" x=\"148.180683\" xlink:href=\"#m8b556cd841\" y=\"72.601933\"/>\n     <use style=\"fill:#1f77b4;stroke:#1f77b4;\" x=\"86.031766\" xlink:href=\"#m8b556cd841\" y=\"56.144751\"/>\n     <use style=\"fill:#1f77b4;stroke:#1f77b4;\" x=\"158.059827\" xlink:href=\"#m8b556cd841\" y=\"101.698839\"/>\n     <use style=\"fill:#1f77b4;stroke:#1f77b4;\" x=\"151.604609\" xlink:href=\"#m8b556cd841\" y=\"102.938857\"/>\n     <use style=\"fill:#1f77b4;stroke:#1f77b4;\" x=\"108.323583\" xlink:href=\"#m8b556cd841\" y=\"62.391863\"/>\n     <use style=\"fill:#1f77b4;stroke:#1f77b4;\" x=\"126.60511\" xlink:href=\"#m8b556cd841\" y=\"68.597769\"/>\n     <use style=\"fill:#1f77b4;stroke:#1f77b4;\" x=\"89.411323\" xlink:href=\"#m8b556cd841\" y=\"45.65693\"/>\n     <use style=\"fill:#1f77b4;stroke:#1f77b4;\" x=\"104.616623\" xlink:href=\"#m8b556cd841\" y=\"37.167836\"/>\n     <use style=\"fill:#1f77b4;stroke:#1f77b4;\" x=\"125.994235\" xlink:href=\"#m8b556cd841\" y=\"65.327874\"/>\n     <use style=\"fill:#1f77b4;stroke:#1f77b4;\" x=\"158.153969\" xlink:href=\"#m8b556cd841\" y=\"89.043349\"/>\n     <use style=\"fill:#1f77b4;stroke:#1f77b4;\" x=\"156.639183\" xlink:href=\"#m8b556cd841\" y=\"95.043612\"/>\n     <use style=\"fill:#1f77b4;stroke:#1f77b4;\" x=\"95.495167\" xlink:href=\"#m8b556cd841\" y=\"49.856443\"/>\n     <use style=\"fill:#1f77b4;stroke:#1f77b4;\" x=\"127.235583\" xlink:href=\"#m8b556cd841\" y=\"74.253647\"/>\n     <use style=\"fill:#1f77b4;stroke:#1f77b4;\" x=\"121.223251\" xlink:href=\"#m8b556cd841\" y=\"67.661841\"/>\n     <use style=\"fill:#1f77b4;stroke:#1f77b4;\" x=\"135.297495\" xlink:href=\"#m8b556cd841\" y=\"71.045763\"/>\n     <use style=\"fill:#1f77b4;stroke:#1f77b4;\" x=\"95.647015\" xlink:href=\"#m8b556cd841\" y=\"56.232784\"/>\n     <use style=\"fill:#1f77b4;stroke:#1f77b4;\" x=\"146.896976\" xlink:href=\"#m8b556cd841\" y=\"89.763947\"/>\n     <use style=\"fill:#1f77b4;stroke:#1f77b4;\" x=\"119.563727\" xlink:href=\"#m8b556cd841\" y=\"61.701788\"/>\n     <use style=\"fill:#1f77b4;stroke:#1f77b4;\" x=\"110.562015\" xlink:href=\"#m8b556cd841\" y=\"75.653784\"/>\n     <use style=\"fill:#1f77b4;stroke:#1f77b4;\" x=\"162.16881\" xlink:href=\"#m8b556cd841\" y=\"100.493074\"/>\n     <use style=\"fill:#1f77b4;stroke:#1f77b4;\" x=\"160.290249\" xlink:href=\"#m8b556cd841\" y=\"100.04527\"/>\n     <use style=\"fill:#1f77b4;stroke:#1f77b4;\" x=\"146.924882\" xlink:href=\"#m8b556cd841\" y=\"74.154453\"/>\n     <use style=\"fill:#1f77b4;stroke:#1f77b4;\" x=\"173.065277\" xlink:href=\"#m8b556cd841\" y=\"98.958509\"/>\n     <use style=\"fill:#1f77b4;stroke:#1f77b4;\" x=\"172.11809\" xlink:href=\"#m8b556cd841\" y=\"93.396106\"/>\n     <use style=\"fill:#1f77b4;stroke:#1f77b4;\" x=\"123.072246\" xlink:href=\"#m8b556cd841\" y=\"71.327671\"/>\n     <use style=\"fill:#1f77b4;stroke:#1f77b4;\" x=\"108.827365\" xlink:href=\"#m8b556cd841\" y=\"68.242214\"/>\n     <use style=\"fill:#1f77b4;stroke:#1f77b4;\" x=\"104.178359\" xlink:href=\"#m8b556cd841\" y=\"39.403002\"/>\n     <use style=\"fill:#1f77b4;stroke:#1f77b4;\" x=\"147.417568\" xlink:href=\"#m8b556cd841\" y=\"92.114231\"/>\n     <use style=\"fill:#1f77b4;stroke:#1f77b4;\" x=\"111.967555\" xlink:href=\"#m8b556cd841\" y=\"51.79202\"/>\n     <use style=\"fill:#1f77b4;stroke:#1f77b4;\" x=\"149.526003\" xlink:href=\"#m8b556cd841\" y=\"90.180125\"/>\n     <use style=\"fill:#1f77b4;stroke:#1f77b4;\" x=\"190.55433\" xlink:href=\"#m8b556cd841\" y=\"95.662147\"/>\n     <use style=\"fill:#1f77b4;stroke:#1f77b4;\" x=\"102.162619\" xlink:href=\"#m8b556cd841\" y=\"49.090457\"/>\n     <use style=\"fill:#1f77b4;stroke:#1f77b4;\" x=\"83.486622\" xlink:href=\"#m8b556cd841\" y=\"64.194318\"/>\n     <use style=\"fill:#1f77b4;stroke:#1f77b4;\" x=\"107.830136\" xlink:href=\"#m8b556cd841\" y=\"74.62345\"/>\n     <use style=\"fill:#1f77b4;stroke:#1f77b4;\" x=\"104.082063\" xlink:href=\"#m8b556cd841\" y=\"54.189436\"/>\n     <use style=\"fill:#1f77b4;stroke:#1f77b4;\" x=\"79.047307\" xlink:href=\"#m8b556cd841\" y=\"33.518572\"/>\n     <use style=\"fill:#1f77b4;stroke:#1f77b4;\" x=\"126.47469\" xlink:href=\"#m8b556cd841\" y=\"57.194905\"/>\n     <use style=\"fill:#1f77b4;stroke:#1f77b4;\" x=\"151.972442\" xlink:href=\"#m8b556cd841\" y=\"75.75396\"/>\n     <use style=\"fill:#1f77b4;stroke:#1f77b4;\" x=\"91.470959\" xlink:href=\"#m8b556cd841\" y=\"49.998605\"/>\n     <use style=\"fill:#1f77b4;stroke:#1f77b4;\" x=\"97.878108\" xlink:href=\"#m8b556cd841\" y=\"72.673995\"/>\n     <use style=\"fill:#1f77b4;stroke:#1f77b4;\" x=\"124.255602\" xlink:href=\"#m8b556cd841\" y=\"69.755139\"/>\n     <use style=\"fill:#1f77b4;stroke:#1f77b4;\" x=\"82.732954\" xlink:href=\"#m8b556cd841\" y=\"51.288053\"/>\n     <use style=\"fill:#1f77b4;stroke:#1f77b4;\" x=\"131.968179\" xlink:href=\"#m8b556cd841\" y=\"79.754984\"/>\n     <use style=\"fill:#1f77b4;stroke:#1f77b4;\" x=\"89.207793\" xlink:href=\"#m8b556cd841\" y=\"50.476079\"/>\n     <use style=\"fill:#1f77b4;stroke:#1f77b4;\" x=\"122.260717\" xlink:href=\"#m8b556cd841\" y=\"85.891116\"/>\n     <use style=\"fill:#1f77b4;stroke:#1f77b4;\" x=\"102.829953\" xlink:href=\"#m8b556cd841\" y=\"50.639401\"/>\n     <use style=\"fill:#1f77b4;stroke:#1f77b4;\" x=\"156.107187\" xlink:href=\"#m8b556cd841\" y=\"82.025282\"/>\n     <use style=\"fill:#1f77b4;stroke:#1f77b4;\" x=\"138.21117\" xlink:href=\"#m8b556cd841\" y=\"91.028461\"/>\n     <use style=\"fill:#1f77b4;stroke:#1f77b4;\" x=\"96.087506\" xlink:href=\"#m8b556cd841\" y=\"59.191329\"/>\n     <use style=\"fill:#1f77b4;stroke:#1f77b4;\" x=\"115.296491\" xlink:href=\"#m8b556cd841\" y=\"76.584009\"/>\n     <use style=\"fill:#1f77b4;stroke:#1f77b4;\" x=\"127.678741\" xlink:href=\"#m8b556cd841\" y=\"73.077788\"/>\n     <use style=\"fill:#1f77b4;stroke:#1f77b4;\" x=\"172.741598\" xlink:href=\"#m8b556cd841\" y=\"83.213506\"/>\n     <use style=\"fill:#1f77b4;stroke:#1f77b4;\" x=\"118.970448\" xlink:href=\"#m8b556cd841\" y=\"65.065067\"/>\n     <use style=\"fill:#1f77b4;stroke:#1f77b4;\" x=\"134.866608\" xlink:href=\"#m8b556cd841\" y=\"85.708073\"/>\n     <use style=\"fill:#1f77b4;stroke:#1f77b4;\" x=\"82.413814\" xlink:href=\"#m8b556cd841\" y=\"34.351701\"/>\n     <use style=\"fill:#1f77b4;stroke:#1f77b4;\" x=\"131.49025\" xlink:href=\"#m8b556cd841\" y=\"73.855404\"/>\n     <use style=\"fill:#1f77b4;stroke:#1f77b4;\" x=\"162.17306\" xlink:href=\"#m8b556cd841\" y=\"89.263372\"/>\n     <use style=\"fill:#1f77b4;stroke:#1f77b4;\" x=\"84.489261\" xlink:href=\"#m8b556cd841\" y=\"50.852639\"/>\n     <use style=\"fill:#1f77b4;stroke:#1f77b4;\" x=\"108.028751\" xlink:href=\"#m8b556cd841\" y=\"54.560576\"/>\n     <use style=\"fill:#1f77b4;stroke:#1f77b4;\" x=\"173.368979\" xlink:href=\"#m8b556cd841\" y=\"110.33884\"/>\n     <use style=\"fill:#1f77b4;stroke:#1f77b4;\" x=\"100.718096\" xlink:href=\"#m8b556cd841\" y=\"64.240527\"/>\n     <use style=\"fill:#1f77b4;stroke:#1f77b4;\" x=\"134.158199\" xlink:href=\"#m8b556cd841\" y=\"79.137581\"/>\n     <use style=\"fill:#1f77b4;stroke:#1f77b4;\" x=\"169.751012\" xlink:href=\"#m8b556cd841\" y=\"99.743827\"/>\n     <use style=\"fill:#1f77b4;stroke:#1f77b4;\" x=\"98.859578\" xlink:href=\"#m8b556cd841\" y=\"53.740516\"/>\n     <use style=\"fill:#1f77b4;stroke:#1f77b4;\" x=\"109.750937\" xlink:href=\"#m8b556cd841\" y=\"44.836705\"/>\n     <use style=\"fill:#1f77b4;stroke:#1f77b4;\" x=\"151.619413\" xlink:href=\"#m8b556cd841\" y=\"89.283091\"/>\n     <use style=\"fill:#1f77b4;stroke:#1f77b4;\" x=\"104.201776\" xlink:href=\"#m8b556cd841\" y=\"51.822256\"/>\n     <use style=\"fill:#1f77b4;stroke:#1f77b4;\" x=\"113.038711\" xlink:href=\"#m8b556cd841\" y=\"69.004085\"/>\n     <use style=\"fill:#1f77b4;stroke:#1f77b4;\" x=\"103.000771\" xlink:href=\"#m8b556cd841\" y=\"47.154685\"/>\n     <use style=\"fill:#1f77b4;stroke:#1f77b4;\" x=\"84.234575\" xlink:href=\"#m8b556cd841\" y=\"42.734763\"/>\n     <use style=\"fill:#1f77b4;stroke:#1f77b4;\" x=\"105.786908\" xlink:href=\"#m8b556cd841\" y=\"70.758561\"/>\n     <use style=\"fill:#1f77b4;stroke:#1f77b4;\" x=\"89.906572\" xlink:href=\"#m8b556cd841\" y=\"63.331178\"/>\n     <use style=\"fill:#1f77b4;stroke:#1f77b4;\" x=\"130.395773\" xlink:href=\"#m8b556cd841\" y=\"75.485385\"/>\n     <use style=\"fill:#1f77b4;stroke:#1f77b4;\" x=\"143.404609\" xlink:href=\"#m8b556cd841\" y=\"82.459282\"/>\n     <use style=\"fill:#1f77b4;stroke:#1f77b4;\" x=\"75.463352\" xlink:href=\"#m8b556cd841\" y=\"40.380164\"/>\n     <use style=\"fill:#1f77b4;stroke:#1f77b4;\" x=\"97.565907\" xlink:href=\"#m8b556cd841\" y=\"51.787686\"/>\n     <use style=\"fill:#1f77b4;stroke:#1f77b4;\" x=\"133.056617\" xlink:href=\"#m8b556cd841\" y=\"89.563803\"/>\n     <use style=\"fill:#1f77b4;stroke:#1f77b4;\" x=\"97.599536\" xlink:href=\"#m8b556cd841\" y=\"57.140925\"/>\n     <use style=\"fill:#1f77b4;stroke:#1f77b4;\" x=\"192.246169\" xlink:href=\"#m8b556cd841\" y=\"108.854749\"/>\n     <use style=\"fill:#1f77b4;stroke:#1f77b4;\" x=\"61.205178\" xlink:href=\"#m8b556cd841\" y=\"22.969285\"/>\n     <use style=\"fill:#1f77b4;stroke:#1f77b4;\" x=\"82.560779\" xlink:href=\"#m8b556cd841\" y=\"34.935345\"/>\n     <use style=\"fill:#1f77b4;stroke:#1f77b4;\" x=\"163.330694\" xlink:href=\"#m8b556cd841\" y=\"91.365282\"/>\n     <use style=\"fill:#1f77b4;stroke:#1f77b4;\" x=\"97.369557\" xlink:href=\"#m8b556cd841\" y=\"61.54385\"/>\n     <use style=\"fill:#1f77b4;stroke:#1f77b4;\" x=\"136.320809\" xlink:href=\"#m8b556cd841\" y=\"79.517027\"/>\n     <use style=\"fill:#1f77b4;stroke:#1f77b4;\" x=\"168.914677\" xlink:href=\"#m8b556cd841\" y=\"109.490052\"/>\n     <use style=\"fill:#1f77b4;stroke:#1f77b4;\" x=\"124.670435\" xlink:href=\"#m8b556cd841\" y=\"81.474303\"/>\n     <use style=\"fill:#1f77b4;stroke:#1f77b4;\" x=\"94.495477\" xlink:href=\"#m8b556cd841\" y=\"50.418897\"/>\n     <use style=\"fill:#1f77b4;stroke:#1f77b4;\" x=\"126.501274\" xlink:href=\"#m8b556cd841\" y=\"76.198689\"/>\n     <use style=\"fill:#1f77b4;stroke:#1f77b4;\" x=\"127.173505\" xlink:href=\"#m8b556cd841\" y=\"80.862697\"/>\n     <use style=\"fill:#1f77b4;stroke:#1f77b4;\" x=\"95.031066\" xlink:href=\"#m8b556cd841\" y=\"62.956727\"/>\n     <use style=\"fill:#1f77b4;stroke:#1f77b4;\" x=\"106.77643\" xlink:href=\"#m8b556cd841\" y=\"61.0467\"/>\n     <use style=\"fill:#1f77b4;stroke:#1f77b4;\" x=\"141.846301\" xlink:href=\"#m8b556cd841\" y=\"70.947165\"/>\n     <use style=\"fill:#1f77b4;stroke:#1f77b4;\" x=\"142.060141\" xlink:href=\"#m8b556cd841\" y=\"74.101327\"/>\n     <use style=\"fill:#1f77b4;stroke:#1f77b4;\" x=\"154.909534\" xlink:href=\"#m8b556cd841\" y=\"86.435058\"/>\n     <use style=\"fill:#1f77b4;stroke:#1f77b4;\" x=\"93.791713\" xlink:href=\"#m8b556cd841\" y=\"55.268053\"/>\n     <use style=\"fill:#1f77b4;stroke:#1f77b4;\" x=\"91.810151\" xlink:href=\"#m8b556cd841\" y=\"47.543087\"/>\n     <use style=\"fill:#1f77b4;stroke:#1f77b4;\" x=\"129.367066\" xlink:href=\"#m8b556cd841\" y=\"72.393148\"/>\n     <use style=\"fill:#1f77b4;stroke:#1f77b4;\" x=\"143.524671\" xlink:href=\"#m8b556cd841\" y=\"87.550018\"/>\n     <use style=\"fill:#1f77b4;stroke:#1f77b4;\" x=\"88.545475\" xlink:href=\"#m8b556cd841\" y=\"49.892677\"/>\n     <use style=\"fill:#1f77b4;stroke:#1f77b4;\" x=\"132.441517\" xlink:href=\"#m8b556cd841\" y=\"79.089263\"/>\n     <use style=\"fill:#1f77b4;stroke:#1f77b4;\" x=\"128.396818\" xlink:href=\"#m8b556cd841\" y=\"65.458994\"/>\n     <use style=\"fill:#1f77b4;stroke:#1f77b4;\" x=\"135.958019\" xlink:href=\"#m8b556cd841\" y=\"69.153585\"/>\n     <use style=\"fill:#1f77b4;stroke:#1f77b4;\" x=\"149.354026\" xlink:href=\"#m8b556cd841\" y=\"80.374449\"/>\n     <use style=\"fill:#1f77b4;stroke:#1f77b4;\" x=\"104.229221\" xlink:href=\"#m8b556cd841\" y=\"46.874377\"/>\n     <use style=\"fill:#1f77b4;stroke:#1f77b4;\" x=\"117.326635\" xlink:href=\"#m8b556cd841\" y=\"46.86754\"/>\n     <use style=\"fill:#1f77b4;stroke:#1f77b4;\" x=\"120.50651\" xlink:href=\"#m8b556cd841\" y=\"79.385499\"/>\n     <use style=\"fill:#1f77b4;stroke:#1f77b4;\" x=\"118.448912\" xlink:href=\"#m8b556cd841\" y=\"76.736808\"/>\n     <use style=\"fill:#1f77b4;stroke:#1f77b4;\" x=\"105.680242\" xlink:href=\"#m8b556cd841\" y=\"58.94958\"/>\n     <use style=\"fill:#1f77b4;stroke:#1f77b4;\" x=\"136.775264\" xlink:href=\"#m8b556cd841\" y=\"96.920508\"/>\n     <use style=\"fill:#1f77b4;stroke:#1f77b4;\" x=\"142.603958\" xlink:href=\"#m8b556cd841\" y=\"59.207962\"/>\n     <use style=\"fill:#1f77b4;stroke:#1f77b4;\" x=\"79.773002\" xlink:href=\"#m8b556cd841\" y=\"34.240462\"/>\n     <use style=\"fill:#1f77b4;stroke:#1f77b4;\" x=\"150.202765\" xlink:href=\"#m8b556cd841\" y=\"84.632544\"/>\n     <use style=\"fill:#1f77b4;stroke:#1f77b4;\" x=\"120.732561\" xlink:href=\"#m8b556cd841\" y=\"66.109047\"/>\n     <use style=\"fill:#1f77b4;stroke:#1f77b4;\" x=\"74.268496\" xlink:href=\"#m8b556cd841\" y=\"19.381387\"/>\n     <use style=\"fill:#1f77b4;stroke:#1f77b4;\" x=\"129.570723\" xlink:href=\"#m8b556cd841\" y=\"60.605938\"/>\n     <use style=\"fill:#1f77b4;stroke:#1f77b4;\" x=\"89.234987\" xlink:href=\"#m8b556cd841\" y=\"36.661704\"/>\n     <use style=\"fill:#1f77b4;stroke:#1f77b4;\" x=\"105.869773\" xlink:href=\"#m8b556cd841\" y=\"68.247294\"/>\n     <use style=\"fill:#1f77b4;stroke:#1f77b4;\" x=\"101.139614\" xlink:href=\"#m8b556cd841\" y=\"53.838301\"/>\n     <use style=\"fill:#1f77b4;stroke:#1f77b4;\" x=\"141.957153\" xlink:href=\"#m8b556cd841\" y=\"87.730462\"/>\n     <use style=\"fill:#1f77b4;stroke:#1f77b4;\" x=\"155.152659\" xlink:href=\"#m8b556cd841\" y=\"96.345508\"/>\n     <use style=\"fill:#1f77b4;stroke:#1f77b4;\" x=\"121.250288\" xlink:href=\"#m8b556cd841\" y=\"65.530004\"/>\n     <use style=\"fill:#1f77b4;stroke:#1f77b4;\" x=\"145.5674\" xlink:href=\"#m8b556cd841\" y=\"85.173718\"/>\n     <use style=\"fill:#1f77b4;stroke:#1f77b4;\" x=\"95.858496\" xlink:href=\"#m8b556cd841\" y=\"45.337409\"/>\n     <use style=\"fill:#1f77b4;stroke:#1f77b4;\" x=\"132.815394\" xlink:href=\"#m8b556cd841\" y=\"94.377583\"/>\n     <use style=\"fill:#1f77b4;stroke:#1f77b4;\" x=\"103.825599\" xlink:href=\"#m8b556cd841\" y=\"64.909367\"/>\n     <use style=\"fill:#1f77b4;stroke:#1f77b4;\" x=\"111.865802\" xlink:href=\"#m8b556cd841\" y=\"61.107554\"/>\n     <use style=\"fill:#1f77b4;stroke:#1f77b4;\" x=\"138.603018\" xlink:href=\"#m8b556cd841\" y=\"101.810688\"/>\n     <use style=\"fill:#1f77b4;stroke:#1f77b4;\" x=\"98.524919\" xlink:href=\"#m8b556cd841\" y=\"57.65786\"/>\n     <use style=\"fill:#1f77b4;stroke:#1f77b4;\" x=\"124.176172\" xlink:href=\"#m8b556cd841\" y=\"73.248662\"/>\n     <use style=\"fill:#1f77b4;stroke:#1f77b4;\" x=\"93.775661\" xlink:href=\"#m8b556cd841\" y=\"63.790978\"/>\n     <use style=\"fill:#1f77b4;stroke:#1f77b4;\" x=\"91.699618\" xlink:href=\"#m8b556cd841\" y=\"59.444097\"/>\n     <use style=\"fill:#1f77b4;stroke:#1f77b4;\" x=\"127.129402\" xlink:href=\"#m8b556cd841\" y=\"83.908784\"/>\n     <use style=\"fill:#1f77b4;stroke:#1f77b4;\" x=\"137.311198\" xlink:href=\"#m8b556cd841\" y=\"62.967465\"/>\n     <use style=\"fill:#1f77b4;stroke:#1f77b4;\" x=\"111.449992\" xlink:href=\"#m8b556cd841\" y=\"57.02651\"/>\n     <use style=\"fill:#1f77b4;stroke:#1f77b4;\" x=\"120.221589\" xlink:href=\"#m8b556cd841\" y=\"66.257259\"/>\n     <use style=\"fill:#1f77b4;stroke:#1f77b4;\" x=\"115.710353\" xlink:href=\"#m8b556cd841\" y=\"61.771551\"/>\n     <use style=\"fill:#1f77b4;stroke:#1f77b4;\" x=\"112.176701\" xlink:href=\"#m8b556cd841\" y=\"63.112077\"/>\n     <use style=\"fill:#1f77b4;stroke:#1f77b4;\" x=\"152.788004\" xlink:href=\"#m8b556cd841\" y=\"94.681325\"/>\n     <use style=\"fill:#1f77b4;stroke:#1f77b4;\" x=\"121.246465\" xlink:href=\"#m8b556cd841\" y=\"49.39199\"/>\n     <use style=\"fill:#1f77b4;stroke:#1f77b4;\" x=\"89.921298\" xlink:href=\"#m8b556cd841\" y=\"52.355071\"/>\n     <use style=\"fill:#1f77b4;stroke:#1f77b4;\" x=\"140.481801\" xlink:href=\"#m8b556cd841\" y=\"75.111783\"/>\n     <use style=\"fill:#1f77b4;stroke:#1f77b4;\" x=\"124.064745\" xlink:href=\"#m8b556cd841\" y=\"67.146847\"/>\n     <use style=\"fill:#1f77b4;stroke:#1f77b4;\" x=\"145.970015\" xlink:href=\"#m8b556cd841\" y=\"77.472542\"/>\n     <use style=\"fill:#1f77b4;stroke:#1f77b4;\" x=\"153.303894\" xlink:href=\"#m8b556cd841\" y=\"82.139109\"/>\n     <use style=\"fill:#1f77b4;stroke:#1f77b4;\" x=\"133.373263\" xlink:href=\"#m8b556cd841\" y=\"80.739529\"/>\n     <use style=\"fill:#1f77b4;stroke:#1f77b4;\" x=\"107.482649\" xlink:href=\"#m8b556cd841\" y=\"60.935584\"/>\n     <use style=\"fill:#1f77b4;stroke:#1f77b4;\" x=\"142.509141\" xlink:href=\"#m8b556cd841\" y=\"90.080157\"/>\n     <use style=\"fill:#1f77b4;stroke:#1f77b4;\" x=\"125.17508\" xlink:href=\"#m8b556cd841\" y=\"62.835744\"/>\n     <use style=\"fill:#1f77b4;stroke:#1f77b4;\" x=\"130.893342\" xlink:href=\"#m8b556cd841\" y=\"54.526559\"/>\n     <use style=\"fill:#1f77b4;stroke:#1f77b4;\" x=\"115.871451\" xlink:href=\"#m8b556cd841\" y=\"66.114322\"/>\n     <use style=\"fill:#1f77b4;stroke:#1f77b4;\" x=\"130.15037\" xlink:href=\"#m8b556cd841\" y=\"75.964208\"/>\n     <use style=\"fill:#1f77b4;stroke:#1f77b4;\" x=\"105.792302\" xlink:href=\"#m8b556cd841\" y=\"59.297657\"/>\n     <use style=\"fill:#1f77b4;stroke:#1f77b4;\" x=\"143.381469\" xlink:href=\"#m8b556cd841\" y=\"74.540809\"/>\n     <use style=\"fill:#1f77b4;stroke:#1f77b4;\" x=\"92.069061\" xlink:href=\"#m8b556cd841\" y=\"47.384524\"/>\n     <use style=\"fill:#1f77b4;stroke:#1f77b4;\" x=\"155.846855\" xlink:href=\"#m8b556cd841\" y=\"111.293698\"/>\n     <use style=\"fill:#1f77b4;stroke:#1f77b4;\" x=\"105.965676\" xlink:href=\"#m8b556cd841\" y=\"59.722565\"/>\n     <use style=\"fill:#1f77b4;stroke:#1f77b4;\" x=\"154.169547\" xlink:href=\"#m8b556cd841\" y=\"82.370164\"/>\n     <use style=\"fill:#1f77b4;stroke:#1f77b4;\" x=\"114.390238\" xlink:href=\"#m8b556cd841\" y=\"79.851104\"/>\n     <use style=\"fill:#1f77b4;stroke:#1f77b4;\" x=\"149.162574\" xlink:href=\"#m8b556cd841\" y=\"70.593561\"/>\n     <use style=\"fill:#1f77b4;stroke:#1f77b4;\" x=\"117.433746\" xlink:href=\"#m8b556cd841\" y=\"76.576275\"/>\n     <use style=\"fill:#1f77b4;stroke:#1f77b4;\" x=\"138.064794\" xlink:href=\"#m8b556cd841\" y=\"83.35973\"/>\n     <use style=\"fill:#1f77b4;stroke:#1f77b4;\" x=\"113.725815\" xlink:href=\"#m8b556cd841\" y=\"53.399127\"/>\n     <use style=\"fill:#1f77b4;stroke:#1f77b4;\" x=\"145.359039\" xlink:href=\"#m8b556cd841\" y=\"82.755687\"/>\n     <use style=\"fill:#1f77b4;stroke:#1f77b4;\" x=\"117.274274\" xlink:href=\"#m8b556cd841\" y=\"59.780149\"/>\n     <use style=\"fill:#1f77b4;stroke:#1f77b4;\" x=\"132.379017\" xlink:href=\"#m8b556cd841\" y=\"77.94724\"/>\n     <use style=\"fill:#1f77b4;stroke:#1f77b4;\" x=\"90.583463\" xlink:href=\"#m8b556cd841\" y=\"40.059425\"/>\n     <use style=\"fill:#1f77b4;stroke:#1f77b4;\" x=\"150.085445\" xlink:href=\"#m8b556cd841\" y=\"99.799961\"/>\n     <use style=\"fill:#1f77b4;stroke:#1f77b4;\" x=\"92.320876\" xlink:href=\"#m8b556cd841\" y=\"37.613074\"/>\n     <use style=\"fill:#1f77b4;stroke:#1f77b4;\" x=\"128.408536\" xlink:href=\"#m8b556cd841\" y=\"83.601004\"/>\n     <use style=\"fill:#1f77b4;stroke:#1f77b4;\" x=\"152.564527\" xlink:href=\"#m8b556cd841\" y=\"91.906751\"/>\n     <use style=\"fill:#1f77b4;stroke:#1f77b4;\" x=\"168.308067\" xlink:href=\"#m8b556cd841\" y=\"108.252493\"/>\n     <use style=\"fill:#1f77b4;stroke:#1f77b4;\" x=\"123.08393\" xlink:href=\"#m8b556cd841\" y=\"64.547192\"/>\n     <use style=\"fill:#1f77b4;stroke:#1f77b4;\" x=\"87.548402\" xlink:href=\"#m8b556cd841\" y=\"58.157851\"/>\n     <use style=\"fill:#1f77b4;stroke:#1f77b4;\" x=\"124.503142\" xlink:href=\"#m8b556cd841\" y=\"80.303018\"/>\n     <use style=\"fill:#1f77b4;stroke:#1f77b4;\" x=\"144.980484\" xlink:href=\"#m8b556cd841\" y=\"96.620375\"/>\n     <use style=\"fill:#1f77b4;stroke:#1f77b4;\" x=\"132.481465\" xlink:href=\"#m8b556cd841\" y=\"68.961502\"/>\n     <use style=\"fill:#1f77b4;stroke:#1f77b4;\" x=\"158.309809\" xlink:href=\"#m8b556cd841\" y=\"96.089292\"/>\n     <use style=\"fill:#1f77b4;stroke:#1f77b4;\" x=\"109.899683\" xlink:href=\"#m8b556cd841\" y=\"62.100216\"/>\n     <use style=\"fill:#1f77b4;stroke:#1f77b4;\" x=\"103.786594\" xlink:href=\"#m8b556cd841\" y=\"54.833896\"/>\n     <use style=\"fill:#1f77b4;stroke:#1f77b4;\" x=\"120.624433\" xlink:href=\"#m8b556cd841\" y=\"58.081783\"/>\n     <use style=\"fill:#1f77b4;stroke:#1f77b4;\" x=\"156.314931\" xlink:href=\"#m8b556cd841\" y=\"85.735723\"/>\n     <use style=\"fill:#1f77b4;stroke:#1f77b4;\" x=\"141.001185\" xlink:href=\"#m8b556cd841\" y=\"87.462878\"/>\n     <use style=\"fill:#1f77b4;stroke:#1f77b4;\" x=\"135.829516\" xlink:href=\"#m8b556cd841\" y=\"79.964943\"/>\n     <use style=\"fill:#1f77b4;stroke:#1f77b4;\" x=\"103.344954\" xlink:href=\"#m8b556cd841\" y=\"45.130044\"/>\n     <use style=\"fill:#1f77b4;stroke:#1f77b4;\" x=\"73.968801\" xlink:href=\"#m8b556cd841\" y=\"31.007121\"/>\n     <use style=\"fill:#1f77b4;stroke:#1f77b4;\" x=\"100.005981\" xlink:href=\"#m8b556cd841\" y=\"73.645553\"/>\n     <use style=\"fill:#1f77b4;stroke:#1f77b4;\" x=\"143.889749\" xlink:href=\"#m8b556cd841\" y=\"79.929602\"/>\n     <use style=\"fill:#1f77b4;stroke:#1f77b4;\" x=\"93.761086\" xlink:href=\"#m8b556cd841\" y=\"56.036474\"/>\n     <use style=\"fill:#1f77b4;stroke:#1f77b4;\" x=\"112.829043\" xlink:href=\"#m8b556cd841\" y=\"52.086738\"/>\n     <use style=\"fill:#1f77b4;stroke:#1f77b4;\" x=\"141.246335\" xlink:href=\"#m8b556cd841\" y=\"82.160021\"/>\n     <use style=\"fill:#1f77b4;stroke:#1f77b4;\" x=\"138.850724\" xlink:href=\"#m8b556cd841\" y=\"90.101997\"/>\n     <use style=\"fill:#1f77b4;stroke:#1f77b4;\" x=\"132.930545\" xlink:href=\"#m8b556cd841\" y=\"72.994954\"/>\n     <use style=\"fill:#1f77b4;stroke:#1f77b4;\" x=\"144.897147\" xlink:href=\"#m8b556cd841\" y=\"84.787397\"/>\n     <use style=\"fill:#1f77b4;stroke:#1f77b4;\" x=\"157.686539\" xlink:href=\"#m8b556cd841\" y=\"74.645547\"/>\n     <use style=\"fill:#1f77b4;stroke:#1f77b4;\" x=\"110.121846\" xlink:href=\"#m8b556cd841\" y=\"67.450228\"/>\n     <use style=\"fill:#1f77b4;stroke:#1f77b4;\" x=\"83.592604\" xlink:href=\"#m8b556cd841\" y=\"48.453577\"/>\n     <use style=\"fill:#1f77b4;stroke:#1f77b4;\" x=\"81.657315\" xlink:href=\"#m8b556cd841\" y=\"43.905345\"/>\n     <use style=\"fill:#1f77b4;stroke:#1f77b4;\" x=\"118.781671\" xlink:href=\"#m8b556cd841\" y=\"61.701458\"/>\n     <use style=\"fill:#1f77b4;stroke:#1f77b4;\" x=\"121.143761\" xlink:href=\"#m8b556cd841\" y=\"66.868851\"/>\n     <use style=\"fill:#1f77b4;stroke:#1f77b4;\" x=\"141.805651\" xlink:href=\"#m8b556cd841\" y=\"89.408791\"/>\n     <use style=\"fill:#1f77b4;stroke:#1f77b4;\" x=\"125.181973\" xlink:href=\"#m8b556cd841\" y=\"74.958247\"/>\n     <use style=\"fill:#1f77b4;stroke:#1f77b4;\" x=\"115.799734\" xlink:href=\"#m8b556cd841\" y=\"65.342041\"/>\n     <use style=\"fill:#1f77b4;stroke:#1f77b4;\" x=\"124.651772\" xlink:href=\"#m8b556cd841\" y=\"63.12141\"/>\n     <use style=\"fill:#1f77b4;stroke:#1f77b4;\" x=\"102.240518\" xlink:href=\"#m8b556cd841\" y=\"58.823223\"/>\n     <use style=\"fill:#1f77b4;stroke:#1f77b4;\" x=\"134.769792\" xlink:href=\"#m8b556cd841\" y=\"59.204904\"/>\n     <use style=\"fill:#1f77b4;stroke:#1f77b4;\" x=\"128.841768\" xlink:href=\"#m8b556cd841\" y=\"85.831557\"/>\n     <use style=\"fill:#1f77b4;stroke:#1f77b4;\" x=\"197.579171\" xlink:href=\"#m8b556cd841\" y=\"122.268385\"/>\n     <use style=\"fill:#1f77b4;stroke:#1f77b4;\" x=\"117.20452\" xlink:href=\"#m8b556cd841\" y=\"79.173617\"/>\n     <use style=\"fill:#1f77b4;stroke:#1f77b4;\" x=\"135.156741\" xlink:href=\"#m8b556cd841\" y=\"75.644387\"/>\n     <use style=\"fill:#1f77b4;stroke:#1f77b4;\" x=\"122.444651\" xlink:href=\"#m8b556cd841\" y=\"72.88596\"/>\n     <use style=\"fill:#1f77b4;stroke:#1f77b4;\" x=\"149.473238\" xlink:href=\"#m8b556cd841\" y=\"74.896636\"/>\n     <use style=\"fill:#1f77b4;stroke:#1f77b4;\" x=\"99.216617\" xlink:href=\"#m8b556cd841\" y=\"56.937919\"/>\n     <use style=\"fill:#1f77b4;stroke:#1f77b4;\" x=\"147.716717\" xlink:href=\"#m8b556cd841\" y=\"86.416263\"/>\n     <use style=\"fill:#1f77b4;stroke:#1f77b4;\" x=\"73.930994\" xlink:href=\"#m8b556cd841\" y=\"50.928971\"/>\n     <use style=\"fill:#1f77b4;stroke:#1f77b4;\" x=\"145.651561\" xlink:href=\"#m8b556cd841\" y=\"68.015387\"/>\n     <use style=\"fill:#1f77b4;stroke:#1f77b4;\" x=\"192.220081\" xlink:href=\"#m8b556cd841\" y=\"112.214779\"/>\n     <use style=\"fill:#1f77b4;stroke:#1f77b4;\" x=\"90.361016\" xlink:href=\"#m8b556cd841\" y=\"44.678328\"/>\n     <use style=\"fill:#1f77b4;stroke:#1f77b4;\" x=\"133.209107\" xlink:href=\"#m8b556cd841\" y=\"67.999356\"/>\n     <use style=\"fill:#1f77b4;stroke:#1f77b4;\" x=\"146.050051\" xlink:href=\"#m8b556cd841\" y=\"83.346266\"/>\n     <use style=\"fill:#1f77b4;stroke:#1f77b4;\" x=\"163.553324\" xlink:href=\"#m8b556cd841\" y=\"101.192125\"/>\n     <use style=\"fill:#1f77b4;stroke:#1f77b4;\" x=\"120.284006\" xlink:href=\"#m8b556cd841\" y=\"70.271609\"/>\n     <use style=\"fill:#1f77b4;stroke:#1f77b4;\" x=\"126.622157\" xlink:href=\"#m8b556cd841\" y=\"70.983484\"/>\n     <use style=\"fill:#1f77b4;stroke:#1f77b4;\" x=\"113.646559\" xlink:href=\"#m8b556cd841\" y=\"63.785695\"/>\n     <use style=\"fill:#1f77b4;stroke:#1f77b4;\" x=\"95.999341\" xlink:href=\"#m8b556cd841\" y=\"60.301485\"/>\n     <use style=\"fill:#1f77b4;stroke:#1f77b4;\" x=\"121.505164\" xlink:href=\"#m8b556cd841\" y=\"81.950333\"/>\n     <use style=\"fill:#1f77b4;stroke:#1f77b4;\" x=\"115.502669\" xlink:href=\"#m8b556cd841\" y=\"72.716722\"/>\n     <use style=\"fill:#1f77b4;stroke:#1f77b4;\" x=\"81.669566\" xlink:href=\"#m8b556cd841\" y=\"50.038314\"/>\n     <use style=\"fill:#1f77b4;stroke:#1f77b4;\" x=\"109.553435\" xlink:href=\"#m8b556cd841\" y=\"55.336118\"/>\n     <use style=\"fill:#1f77b4;stroke:#1f77b4;\" x=\"125.34274\" xlink:href=\"#m8b556cd841\" y=\"67.295297\"/>\n     <use style=\"fill:#1f77b4;stroke:#1f77b4;\" x=\"170.238003\" xlink:href=\"#m8b556cd841\" y=\"96.391199\"/>\n     <use style=\"fill:#1f77b4;stroke:#1f77b4;\" x=\"140.883303\" xlink:href=\"#m8b556cd841\" y=\"69.346323\"/>\n     <use style=\"fill:#1f77b4;stroke:#1f77b4;\" x=\"159.399384\" xlink:href=\"#m8b556cd841\" y=\"91.082121\"/>\n     <use style=\"fill:#1f77b4;stroke:#1f77b4;\" x=\"114.627699\" xlink:href=\"#m8b556cd841\" y=\"66.578042\"/>\n     <use style=\"fill:#1f77b4;stroke:#1f77b4;\" x=\"117.773824\" xlink:href=\"#m8b556cd841\" y=\"61.456406\"/>\n     <use style=\"fill:#1f77b4;stroke:#1f77b4;\" x=\"116.827788\" xlink:href=\"#m8b556cd841\" y=\"55.257992\"/>\n     <use style=\"fill:#1f77b4;stroke:#1f77b4;\" x=\"171.714262\" xlink:href=\"#m8b556cd841\" y=\"87.509915\"/>\n     <use style=\"fill:#1f77b4;stroke:#1f77b4;\" x=\"134.421113\" xlink:href=\"#m8b556cd841\" y=\"77.759981\"/>\n     <use style=\"fill:#1f77b4;stroke:#1f77b4;\" x=\"117.591968\" xlink:href=\"#m8b556cd841\" y=\"59.569112\"/>\n     <use style=\"fill:#1f77b4;stroke:#1f77b4;\" x=\"115.584715\" xlink:href=\"#m8b556cd841\" y=\"54.304098\"/>\n     <use style=\"fill:#1f77b4;stroke:#1f77b4;\" x=\"135.046134\" xlink:href=\"#m8b556cd841\" y=\"71.407436\"/>\n     <use style=\"fill:#1f77b4;stroke:#1f77b4;\" x=\"122.102547\" xlink:href=\"#m8b556cd841\" y=\"65.94812\"/>\n     <use style=\"fill:#1f77b4;stroke:#1f77b4;\" x=\"143.693457\" xlink:href=\"#m8b556cd841\" y=\"69.944523\"/>\n     <use style=\"fill:#1f77b4;stroke:#1f77b4;\" x=\"121.422266\" xlink:href=\"#m8b556cd841\" y=\"70.051704\"/>\n     <use style=\"fill:#1f77b4;stroke:#1f77b4;\" x=\"132.375395\" xlink:href=\"#m8b556cd841\" y=\"93.420315\"/>\n     <use style=\"fill:#1f77b4;stroke:#1f77b4;\" x=\"129.932464\" xlink:href=\"#m8b556cd841\" y=\"69.413491\"/>\n     <use style=\"fill:#1f77b4;stroke:#1f77b4;\" x=\"141.768041\" xlink:href=\"#m8b556cd841\" y=\"97.514494\"/>\n     <use style=\"fill:#1f77b4;stroke:#1f77b4;\" x=\"74.174217\" xlink:href=\"#m8b556cd841\" y=\"20.074878\"/>\n     <use style=\"fill:#1f77b4;stroke:#1f77b4;\" x=\"127.690464\" xlink:href=\"#m8b556cd841\" y=\"80.408884\"/>\n     <use style=\"fill:#1f77b4;stroke:#1f77b4;\" x=\"170.517924\" xlink:href=\"#m8b556cd841\" y=\"98.699919\"/>\n     <use style=\"fill:#1f77b4;stroke:#1f77b4;\" x=\"125.048038\" xlink:href=\"#m8b556cd841\" y=\"80.480384\"/>\n     <use style=\"fill:#1f77b4;stroke:#1f77b4;\" x=\"130.416125\" xlink:href=\"#m8b556cd841\" y=\"68.860205\"/>\n     <use style=\"fill:#1f77b4;stroke:#1f77b4;\" x=\"184.551882\" xlink:href=\"#m8b556cd841\" y=\"113.955462\"/>\n     <use style=\"fill:#1f77b4;stroke:#1f77b4;\" x=\"127.020032\" xlink:href=\"#m8b556cd841\" y=\"62.948729\"/>\n     <use style=\"fill:#1f77b4;stroke:#1f77b4;\" x=\"122.495432\" xlink:href=\"#m8b556cd841\" y=\"71.335346\"/>\n     <use style=\"fill:#1f77b4;stroke:#1f77b4;\" x=\"108.166494\" xlink:href=\"#m8b556cd841\" y=\"56.498786\"/>\n     <use style=\"fill:#1f77b4;stroke:#1f77b4;\" x=\"139.795288\" xlink:href=\"#m8b556cd841\" y=\"80.377909\"/>\n     <use style=\"fill:#1f77b4;stroke:#1f77b4;\" x=\"112.879835\" xlink:href=\"#m8b556cd841\" y=\"76.589637\"/>\n     <use style=\"fill:#1f77b4;stroke:#1f77b4;\" x=\"141.387496\" xlink:href=\"#m8b556cd841\" y=\"85.51906\"/>\n     <use style=\"fill:#1f77b4;stroke:#1f77b4;\" x=\"152.588571\" xlink:href=\"#m8b556cd841\" y=\"86.113322\"/>\n     <use style=\"fill:#1f77b4;stroke:#1f77b4;\" x=\"130.209901\" xlink:href=\"#m8b556cd841\" y=\"62.794268\"/>\n     <use style=\"fill:#1f77b4;stroke:#1f77b4;\" x=\"142.949699\" xlink:href=\"#m8b556cd841\" y=\"78.130599\"/>\n     <use style=\"fill:#1f77b4;stroke:#1f77b4;\" x=\"85.673468\" xlink:href=\"#m8b556cd841\" y=\"37.49055\"/>\n     <use style=\"fill:#1f77b4;stroke:#1f77b4;\" x=\"137.357094\" xlink:href=\"#m8b556cd841\" y=\"86.889343\"/>\n    </g>\n   </g>\n   <g id=\"matplotlib.axis_1\">\n    <g id=\"xtick_1\">\n     <g id=\"line2d_1\">\n      <defs>\n       <path d=\"M 0 0 \nL 0 3.5 \n\" id=\"m29083efef2\" style=\"stroke:#000000;stroke-width:0.8;\"/>\n      </defs>\n      <g>\n       <use style=\"stroke:#000000;stroke-width:0.8;\" x=\"77.571798\" xlink:href=\"#m29083efef2\" y=\"143.1\"/>\n      </g>\n     </g>\n     <g id=\"text_1\">\n      <!-- −2 -->\n      <defs>\n       <path d=\"M 10.59375 35.5 \nL 73.1875 35.5 \nL 73.1875 27.203125 \nL 10.59375 27.203125 \nz\n\" id=\"DejaVuSans-8722\"/>\n       <path d=\"M 19.1875 8.296875 \nL 53.609375 8.296875 \nL 53.609375 0 \nL 7.328125 0 \nL 7.328125 8.296875 \nQ 12.9375 14.109375 22.625 23.890625 \nQ 32.328125 33.6875 34.8125 36.53125 \nQ 39.546875 41.84375 41.421875 45.53125 \nQ 43.3125 49.21875 43.3125 52.78125 \nQ 43.3125 58.59375 39.234375 62.25 \nQ 35.15625 65.921875 28.609375 65.921875 \nQ 23.96875 65.921875 18.8125 64.3125 \nQ 13.671875 62.703125 7.8125 59.421875 \nL 7.8125 69.390625 \nQ 13.765625 71.78125 18.9375 73 \nQ 24.125 74.21875 28.421875 74.21875 \nQ 39.75 74.21875 46.484375 68.546875 \nQ 53.21875 62.890625 53.21875 53.421875 \nQ 53.21875 48.921875 51.53125 44.890625 \nQ 49.859375 40.875 45.40625 35.40625 \nQ 44.1875 33.984375 37.640625 27.21875 \nQ 31.109375 20.453125 19.1875 8.296875 \nz\n\" id=\"DejaVuSans-50\"/>\n      </defs>\n      <g transform=\"translate(70.200704 157.698438)scale(0.1 -0.1)\">\n       <use xlink:href=\"#DejaVuSans-8722\"/>\n       <use x=\"83.789062\" xlink:href=\"#DejaVuSans-50\"/>\n      </g>\n     </g>\n    </g>\n    <g id=\"xtick_2\">\n     <g id=\"line2d_2\">\n      <g>\n       <use style=\"stroke:#000000;stroke-width:0.8;\" x=\"126.138893\" xlink:href=\"#m29083efef2\" y=\"143.1\"/>\n      </g>\n     </g>\n     <g id=\"text_2\">\n      <!-- 0 -->\n      <defs>\n       <path d=\"M 31.78125 66.40625 \nQ 24.171875 66.40625 20.328125 58.90625 \nQ 16.5 51.421875 16.5 36.375 \nQ 16.5 21.390625 20.328125 13.890625 \nQ 24.171875 6.390625 31.78125 6.390625 \nQ 39.453125 6.390625 43.28125 13.890625 \nQ 47.125 21.390625 47.125 36.375 \nQ 47.125 51.421875 43.28125 58.90625 \nQ 39.453125 66.40625 31.78125 66.40625 \nz\nM 31.78125 74.21875 \nQ 44.046875 74.21875 50.515625 64.515625 \nQ 56.984375 54.828125 56.984375 36.375 \nQ 56.984375 17.96875 50.515625 8.265625 \nQ 44.046875 -1.421875 31.78125 -1.421875 \nQ 19.53125 -1.421875 13.0625 8.265625 \nQ 6.59375 17.96875 6.59375 36.375 \nQ 6.59375 54.828125 13.0625 64.515625 \nQ 19.53125 74.21875 31.78125 74.21875 \nz\n\" id=\"DejaVuSans-48\"/>\n      </defs>\n      <g transform=\"translate(122.957643 157.698438)scale(0.1 -0.1)\">\n       <use xlink:href=\"#DejaVuSans-48\"/>\n      </g>\n     </g>\n    </g>\n    <g id=\"xtick_3\">\n     <g id=\"line2d_3\">\n      <g>\n       <use style=\"stroke:#000000;stroke-width:0.8;\" x=\"174.705988\" xlink:href=\"#m29083efef2\" y=\"143.1\"/>\n      </g>\n     </g>\n     <g id=\"text_3\">\n      <!-- 2 -->\n      <g transform=\"translate(171.524738 157.698438)scale(0.1 -0.1)\">\n       <use xlink:href=\"#DejaVuSans-50\"/>\n      </g>\n     </g>\n    </g>\n    <g id=\"xtick_4\">\n     <g id=\"line2d_4\">\n      <g>\n       <use style=\"stroke:#000000;stroke-width:0.8;\" x=\"223.273083\" xlink:href=\"#m29083efef2\" y=\"143.1\"/>\n      </g>\n     </g>\n     <g id=\"text_4\">\n      <!-- 4 -->\n      <defs>\n       <path d=\"M 37.796875 64.3125 \nL 12.890625 25.390625 \nL 37.796875 25.390625 \nz\nM 35.203125 72.90625 \nL 47.609375 72.90625 \nL 47.609375 25.390625 \nL 58.015625 25.390625 \nL 58.015625 17.1875 \nL 47.609375 17.1875 \nL 47.609375 0 \nL 37.796875 0 \nL 37.796875 17.1875 \nL 4.890625 17.1875 \nL 4.890625 26.703125 \nz\n\" id=\"DejaVuSans-52\"/>\n      </defs>\n      <g transform=\"translate(220.091833 157.698438)scale(0.1 -0.1)\">\n       <use xlink:href=\"#DejaVuSans-52\"/>\n      </g>\n     </g>\n    </g>\n   </g>\n   <g id=\"matplotlib.axis_2\">\n    <g id=\"ytick_1\">\n     <g id=\"line2d_5\">\n      <defs>\n       <path d=\"M 0 0 \nL -3.5 0 \n\" id=\"m0ba80c3a3b\" style=\"stroke:#000000;stroke-width:0.8;\"/>\n      </defs>\n      <g>\n       <use style=\"stroke:#000000;stroke-width:0.8;\" x=\"35.304688\" xlink:href=\"#m0ba80c3a3b\" y=\"137.020426\"/>\n      </g>\n     </g>\n     <g id=\"text_5\">\n      <!-- −10 -->\n      <defs>\n       <path d=\"M 12.40625 8.296875 \nL 28.515625 8.296875 \nL 28.515625 63.921875 \nL 10.984375 60.40625 \nL 10.984375 69.390625 \nL 28.421875 72.90625 \nL 38.28125 72.90625 \nL 38.28125 8.296875 \nL 54.390625 8.296875 \nL 54.390625 0 \nL 12.40625 0 \nz\n\" id=\"DejaVuSans-49\"/>\n      </defs>\n      <g transform=\"translate(7.2 140.819645)scale(0.1 -0.1)\">\n       <use xlink:href=\"#DejaVuSans-8722\"/>\n       <use x=\"83.789062\" xlink:href=\"#DejaVuSans-49\"/>\n       <use x=\"147.412109\" xlink:href=\"#DejaVuSans-48\"/>\n      </g>\n     </g>\n    </g>\n    <g id=\"ytick_2\">\n     <g id=\"line2d_6\">\n      <g>\n       <use style=\"stroke:#000000;stroke-width:0.8;\" x=\"35.304688\" xlink:href=\"#m0ba80c3a3b\" y=\"114.36166\"/>\n      </g>\n     </g>\n     <g id=\"text_6\">\n      <!-- −5 -->\n      <defs>\n       <path d=\"M 10.796875 72.90625 \nL 49.515625 72.90625 \nL 49.515625 64.59375 \nL 19.828125 64.59375 \nL 19.828125 46.734375 \nQ 21.96875 47.46875 24.109375 47.828125 \nQ 26.265625 48.1875 28.421875 48.1875 \nQ 40.625 48.1875 47.75 41.5 \nQ 54.890625 34.8125 54.890625 23.390625 \nQ 54.890625 11.625 47.5625 5.09375 \nQ 40.234375 -1.421875 26.90625 -1.421875 \nQ 22.3125 -1.421875 17.546875 -0.640625 \nQ 12.796875 0.140625 7.71875 1.703125 \nL 7.71875 11.625 \nQ 12.109375 9.234375 16.796875 8.0625 \nQ 21.484375 6.890625 26.703125 6.890625 \nQ 35.15625 6.890625 40.078125 11.328125 \nQ 45.015625 15.765625 45.015625 23.390625 \nQ 45.015625 31 40.078125 35.4375 \nQ 35.15625 39.890625 26.703125 39.890625 \nQ 22.75 39.890625 18.8125 39.015625 \nQ 14.890625 38.140625 10.796875 36.28125 \nz\n\" id=\"DejaVuSans-53\"/>\n      </defs>\n      <g transform=\"translate(13.5625 118.160879)scale(0.1 -0.1)\">\n       <use xlink:href=\"#DejaVuSans-8722\"/>\n       <use x=\"83.789062\" xlink:href=\"#DejaVuSans-53\"/>\n      </g>\n     </g>\n    </g>\n    <g id=\"ytick_3\">\n     <g id=\"line2d_7\">\n      <g>\n       <use style=\"stroke:#000000;stroke-width:0.8;\" x=\"35.304688\" xlink:href=\"#m0ba80c3a3b\" y=\"91.702895\"/>\n      </g>\n     </g>\n     <g id=\"text_7\">\n      <!-- 0 -->\n      <g transform=\"translate(21.942187 95.502113)scale(0.1 -0.1)\">\n       <use xlink:href=\"#DejaVuSans-48\"/>\n      </g>\n     </g>\n    </g>\n    <g id=\"ytick_4\">\n     <g id=\"line2d_8\">\n      <g>\n       <use style=\"stroke:#000000;stroke-width:0.8;\" x=\"35.304688\" xlink:href=\"#m0ba80c3a3b\" y=\"69.044129\"/>\n      </g>\n     </g>\n     <g id=\"text_8\">\n      <!-- 5 -->\n      <g transform=\"translate(21.942187 72.843348)scale(0.1 -0.1)\">\n       <use xlink:href=\"#DejaVuSans-53\"/>\n      </g>\n     </g>\n    </g>\n    <g id=\"ytick_5\">\n     <g id=\"line2d_9\">\n      <g>\n       <use style=\"stroke:#000000;stroke-width:0.8;\" x=\"35.304688\" xlink:href=\"#m0ba80c3a3b\" y=\"46.385363\"/>\n      </g>\n     </g>\n     <g id=\"text_9\">\n      <!-- 10 -->\n      <g transform=\"translate(15.579687 50.184582)scale(0.1 -0.1)\">\n       <use xlink:href=\"#DejaVuSans-49\"/>\n       <use x=\"63.623047\" xlink:href=\"#DejaVuSans-48\"/>\n      </g>\n     </g>\n    </g>\n    <g id=\"ytick_6\">\n     <g id=\"line2d_10\">\n      <g>\n       <use style=\"stroke:#000000;stroke-width:0.8;\" x=\"35.304688\" xlink:href=\"#m0ba80c3a3b\" y=\"23.726597\"/>\n      </g>\n     </g>\n     <g id=\"text_10\">\n      <!-- 15 -->\n      <g transform=\"translate(15.579687 27.525816)scale(0.1 -0.1)\">\n       <use xlink:href=\"#DejaVuSans-49\"/>\n       <use x=\"63.623047\" xlink:href=\"#DejaVuSans-53\"/>\n      </g>\n     </g>\n    </g>\n   </g>\n   <g id=\"patch_3\">\n    <path d=\"M 35.304688 143.1 \nL 35.304688 7.2 \n\" style=\"fill:none;stroke:#000000;stroke-linecap:square;stroke-linejoin:miter;stroke-width:0.8;\"/>\n   </g>\n   <g id=\"patch_4\">\n    <path d=\"M 230.604688 143.1 \nL 230.604688 7.2 \n\" style=\"fill:none;stroke:#000000;stroke-linecap:square;stroke-linejoin:miter;stroke-width:0.8;\"/>\n   </g>\n   <g id=\"patch_5\">\n    <path d=\"M 35.304688 143.1 \nL 230.604688 143.1 \n\" style=\"fill:none;stroke:#000000;stroke-linecap:square;stroke-linejoin:miter;stroke-width:0.8;\"/>\n   </g>\n   <g id=\"patch_6\">\n    <path d=\"M 35.304688 7.2 \nL 230.604688 7.2 \n\" style=\"fill:none;stroke:#000000;stroke-linecap:square;stroke-linejoin:miter;stroke-width:0.8;\"/>\n   </g>\n  </g>\n </g>\n <defs>\n  <clipPath id=\"p80dc4bac85\">\n   <rect height=\"135.9\" width=\"195.3\" x=\"35.304688\" y=\"7.2\"/>\n  </clipPath>\n </defs>\n</svg>\n"
          },
          "metadata": {
            "needs_background": "light"
          }
        }
      ]
    },
    {
      "cell_type": "markdown",
      "source": [
        "3.2.2 Reading the Dataset"
      ],
      "metadata": {
        "id": "F64u3qn_o2SM"
      }
    },
    {
      "cell_type": "code",
      "source": [
        "import random\n",
        "\n",
        "def data_iter(batch_size, features, labels):\n",
        "  num_examples=len(features)\n",
        "  indices= list(range(num_examples))\n",
        "  #The examples are read at random, in no particular order\n",
        "  random.shuffle(indices)\n",
        "  for i in range(0, num_examples, batch_size):\n",
        "    batch_indices=torch.tensor(\n",
        "        indices[i: min(i+batch_size, num_examples)])\n",
        "    yield features[batch_indices], labels[batch_indices]"
      ],
      "metadata": {
        "id": "QXXhqfSMo7GX"
      },
      "execution_count": null,
      "outputs": []
    },
    {
      "cell_type": "code",
      "source": [
        "batch_size=10\n",
        "\n",
        "for X, y in data_iter(batch_size, features, labels):\n",
        "  print(X, '\\n', y)\n",
        "  break"
      ],
      "metadata": {
        "colab": {
          "base_uri": "https://localhost:8080/"
        },
        "id": "heDVnC-jpXwJ",
        "outputId": "34c2dd36-655d-4be5-9c3e-1946c0999d87"
      },
      "execution_count": null,
      "outputs": [
        {
          "output_type": "stream",
          "name": "stdout",
          "text": [
            "tensor([[-0.7490,  0.0639],\n",
            "        [ 0.5934, -0.1203],\n",
            "        [ 1.5277,  0.7229],\n",
            "        [-0.4390, -0.1874],\n",
            "        [-0.3411,  0.9595],\n",
            "        [-0.1059,  0.0113],\n",
            "        [ 0.7201,  0.1761],\n",
            "        [ 1.1898, -0.4357],\n",
            "        [ 0.0980,  0.9540],\n",
            "        [-0.8346,  0.8126]]) \n",
            " tensor([[ 2.4922],\n",
            "        [ 5.8101],\n",
            "        [ 4.8013],\n",
            "        [ 3.9638],\n",
            "        [ 0.2496],\n",
            "        [ 3.9477],\n",
            "        [ 5.0406],\n",
            "        [ 8.0507],\n",
            "        [ 1.1474],\n",
            "        [-0.2263]])\n"
          ]
        }
      ]
    },
    {
      "cell_type": "code",
      "source": [
        "w = torch.normal(0, 0.01, size=(2,1), requires_grad=True)\n",
        "b= torch.zeros(1, requires_grad=True)"
      ],
      "metadata": {
        "id": "4nzPDw1eq73B"
      },
      "execution_count": null,
      "outputs": []
    },
    {
      "cell_type": "markdown",
      "source": [
        "3.2.4 Defining the Model"
      ],
      "metadata": {
        "id": "vLUPgPwwrHHq"
      }
    },
    {
      "cell_type": "code",
      "source": [
        "def linreg(X, w, b):\n",
        "  \"\"\"The linear regression model.\"\"\"\n",
        "  return torch.matmul(X, w)+b"
      ],
      "metadata": {
        "id": "Jfhs72rfrIrm"
      },
      "execution_count": null,
      "outputs": []
    },
    {
      "cell_type": "markdown",
      "source": [
        "3.2.5 Defining the Loss Function"
      ],
      "metadata": {
        "id": "dde5eb9XrPLp"
      }
    },
    {
      "cell_type": "code",
      "source": [
        "def squared_loss(y_hat, y):\n",
        "  \"\"\"Squared loss.\"\"\"\n",
        "  return (y_hat - y.reshape(y_hat.shape))**2 / 2"
      ],
      "metadata": {
        "id": "mjVpfayerRLe"
      },
      "execution_count": null,
      "outputs": []
    },
    {
      "cell_type": "markdown",
      "source": [
        "3.2.6 Defining the Optimization Algorithm"
      ],
      "metadata": {
        "id": "Pj0F2Y0Vrbt_"
      }
    },
    {
      "cell_type": "code",
      "source": [
        "def sgd(params, lr, batch_size):\n",
        "  \"\"\"Minibatch stochastic gradient descent.\"\"\"\n",
        "  with torch.no_grad():\n",
        "    for param in params:\n",
        "      param -= lr * param.grad / batch_size\n",
        "      param.grad.zero_()"
      ],
      "metadata": {
        "id": "xhq7hORkrecv"
      },
      "execution_count": null,
      "outputs": []
    },
    {
      "cell_type": "markdown",
      "source": [
        "3.2.7 Training"
      ],
      "metadata": {
        "id": "uyODqhkxrvrM"
      }
    },
    {
      "cell_type": "code",
      "source": [
        "lr=0.03\n",
        "num_epochs=3\n",
        "net=linreg\n",
        "loss=squared_loss"
      ],
      "metadata": {
        "id": "cjcJIFbdrxVY"
      },
      "execution_count": null,
      "outputs": []
    },
    {
      "cell_type": "code",
      "source": [
        "for epoch in range(num_epochs):\n",
        "  for X, y in data_iter(batch_size, features, labels):\n",
        "    l = loss(net(X, w, b), y)  #Minibatch loss in 'X' and 'y'\n",
        "    #Compute gradient on 'l' with respect to ['w', 'b']\n",
        "    l.sum().backward()\n",
        "    sgd([w, b], lr, batch_size)  #Update parameters using their gradient\n",
        "  with torch.no_grad():\n",
        "    train_1 = loss(net(features, w, b), labels)\n",
        "    print(f'epoch {epoch+1}, loss {float(train_1.mean()):f}')"
      ],
      "metadata": {
        "colab": {
          "base_uri": "https://localhost:8080/"
        },
        "id": "eKe2xb5_r6G3",
        "outputId": "c9b5a4ef-6509-48d5-f82a-ba1e2da9fe95"
      },
      "execution_count": null,
      "outputs": [
        {
          "output_type": "stream",
          "name": "stdout",
          "text": [
            "epoch 1, loss 0.029170\n",
            "epoch 2, loss 0.000101\n",
            "epoch 3, loss 0.000048\n"
          ]
        }
      ]
    },
    {
      "cell_type": "code",
      "source": [
        "print(f'error in estimating w: {true_w -w.reshape(true_w.shape)}')\n",
        "print(f'error in estimating b: {true_b -b}')"
      ],
      "metadata": {
        "colab": {
          "base_uri": "https://localhost:8080/"
        },
        "id": "V33UC6VcsnjO",
        "outputId": "41217c3b-7f36-40f2-b760-1246e3b31d83"
      },
      "execution_count": null,
      "outputs": [
        {
          "output_type": "stream",
          "name": "stdout",
          "text": [
            "error in estimating w: tensor([-8.6069e-05, -4.2725e-04], grad_fn=<SubBackward0>)\n",
            "error in estimating b: tensor([0.0004], grad_fn=<RsubBackward1>)\n"
          ]
        }
      ]
    },
    {
      "cell_type": "markdown",
      "source": [
        "3.3 Concise Implementation of Linear regression\n",
        "\n",
        "3.3.1 Generating the Dataset"
      ],
      "metadata": {
        "id": "emhe-dAqs-CR"
      }
    },
    {
      "cell_type": "code",
      "source": [
        "import numpy as np\n",
        "import torch\n",
        "from torch.utils import data\n",
        "from d2l import torch as d2l"
      ],
      "metadata": {
        "id": "Z2c78isQs90M"
      },
      "execution_count": null,
      "outputs": []
    },
    {
      "cell_type": "code",
      "source": [
        "true_w= torch.tensor([2, -3.4])\n",
        "true_b = 4.2\n",
        "features, labels= d2l.synthetic_data(true_w, true_b, 1000)"
      ],
      "metadata": {
        "id": "53jZ7J3ws3Na"
      },
      "execution_count": null,
      "outputs": []
    },
    {
      "cell_type": "markdown",
      "source": [
        "3.3.2 Reading the Dataset"
      ],
      "metadata": {
        "id": "h4OlYM9ytPGY"
      }
    },
    {
      "cell_type": "code",
      "source": [
        "def load_array(data_arrays, batch_size, is_train=True):\n",
        "  \"\"\"Construct a PyTorch data iterator.\"\"\"\n",
        "  dataset = data.TensorDataset(*data_arrays)\n",
        "  return data.DataLoader(dataset, batch_size, shuffle=is_train)"
      ],
      "metadata": {
        "id": "Hsw8uwUPtQqj"
      },
      "execution_count": null,
      "outputs": []
    },
    {
      "cell_type": "code",
      "source": [
        "batch_size=10\n",
        "data_iter= load_array((features, labels), batch_size)"
      ],
      "metadata": {
        "id": "v0QsjCzHtiZ1"
      },
      "execution_count": null,
      "outputs": []
    },
    {
      "cell_type": "code",
      "source": [
        "next(iter(data_iter))"
      ],
      "metadata": {
        "colab": {
          "base_uri": "https://localhost:8080/"
        },
        "id": "BOWl7SBitpXF",
        "outputId": "952c109f-f301-47c2-f874-949b53958776"
      },
      "execution_count": null,
      "outputs": [
        {
          "output_type": "execute_result",
          "data": {
            "text/plain": [
              "[tensor([[ 0.5861,  1.8447],\n",
              "         [-0.8367,  0.3385],\n",
              "         [-0.1067, -0.0998],\n",
              "         [ 0.1463,  0.5981],\n",
              "         [-0.2019,  1.3173],\n",
              "         [ 0.4007, -1.2496],\n",
              "         [-0.0128, -1.2420],\n",
              "         [-0.5327, -1.4789],\n",
              "         [ 0.5510, -0.7618],\n",
              "         [-0.0667, -0.8040]]), tensor([[-0.9079],\n",
              "         [ 1.3711],\n",
              "         [ 4.3149],\n",
              "         [ 2.4410],\n",
              "         [-0.6822],\n",
              "         [ 9.2595],\n",
              "         [ 8.3968],\n",
              "         [ 8.1640],\n",
              "         [ 7.8926],\n",
              "         [ 6.8131]])]"
            ]
          },
          "metadata": {},
          "execution_count": 88
        }
      ]
    },
    {
      "cell_type": "markdown",
      "source": [
        "3.3.3 Defining the Model"
      ],
      "metadata": {
        "id": "Orm7nfAxttXV"
      }
    },
    {
      "cell_type": "code",
      "source": [
        "#'nn' is an abbreviation for neural networks\n",
        "from torch import nn\n",
        "\n",
        "net=nn.Sequential(nn.Linear(2,1))"
      ],
      "metadata": {
        "id": "Wd2RyL17tuwb"
      },
      "execution_count": null,
      "outputs": []
    },
    {
      "cell_type": "markdown",
      "source": [
        "3.3.4 Initializing Model Parameters"
      ],
      "metadata": {
        "id": "8cvXnOC3t4AE"
      }
    },
    {
      "cell_type": "code",
      "source": [
        "net[0].weight.data.normal_(0, 0.01)\n",
        "net[0].bias.data.fill_(0)"
      ],
      "metadata": {
        "colab": {
          "base_uri": "https://localhost:8080/"
        },
        "id": "9diGBd8Et7Lk",
        "outputId": "5e224eb5-c7d6-4395-957b-170ad14eb99e"
      },
      "execution_count": null,
      "outputs": [
        {
          "output_type": "execute_result",
          "data": {
            "text/plain": [
              "tensor([0.])"
            ]
          },
          "metadata": {},
          "execution_count": 90
        }
      ]
    },
    {
      "cell_type": "markdown",
      "source": [
        "3.3.5 Defining the Loss Function"
      ],
      "metadata": {
        "id": "z1M006HYuDYa"
      }
    },
    {
      "cell_type": "code",
      "source": [
        "loss=nn.MSELoss()"
      ],
      "metadata": {
        "id": "XiwizSIVuFPT"
      },
      "execution_count": null,
      "outputs": []
    },
    {
      "cell_type": "markdown",
      "source": [
        "3.3.6 Defining the Optimization Algorithm"
      ],
      "metadata": {
        "id": "VT4p436xuHSZ"
      }
    },
    {
      "cell_type": "code",
      "source": [
        "trainer=torch.optim.SGD(net.parameters(), lr=0.03)"
      ],
      "metadata": {
        "id": "6rxKZUbFuKP8"
      },
      "execution_count": null,
      "outputs": []
    },
    {
      "cell_type": "markdown",
      "source": [
        "3.3.7 Training"
      ],
      "metadata": {
        "id": "IwgxL0pPuQkw"
      }
    },
    {
      "cell_type": "code",
      "source": [
        "num_epochs=3\n",
        "for epoch in range(num_epochs):\n",
        "  for X, y in data_iter:\n",
        "    l=loss(net(X), y)\n",
        "    trainer.zero_grad()\n",
        "    l.backward()\n",
        "    trainer.step()\n",
        "  l=loss(net(features), labels)\n",
        "  print(f'epoch {epoch+1}, loss {l:f}')"
      ],
      "metadata": {
        "colab": {
          "base_uri": "https://localhost:8080/"
        },
        "id": "9ADoL3n2uTRa",
        "outputId": "28c8c8d9-8930-486d-9cd0-c9026b205e30"
      },
      "execution_count": null,
      "outputs": [
        {
          "output_type": "stream",
          "name": "stdout",
          "text": [
            "epoch 1, loss 0.000192\n",
            "epoch 2, loss 0.000105\n",
            "epoch 3, loss 0.000104\n"
          ]
        }
      ]
    },
    {
      "cell_type": "code",
      "source": [
        "w=net[0].weight.data\n",
        "print('error in estimating w:', true_w -w.reshape(true_w.shape))\n",
        "b=net[0].bias.data\n",
        "print('error in estimating b:', true_b -b)"
      ],
      "metadata": {
        "colab": {
          "base_uri": "https://localhost:8080/"
        },
        "id": "TedAW5ZAuo-v",
        "outputId": "c5efcac1-8587-44da-fe9c-3761f8c0180a"
      },
      "execution_count": null,
      "outputs": [
        {
          "output_type": "stream",
          "name": "stdout",
          "text": [
            "error in estimating w: tensor([-0.0002,  0.0007])\n",
            "error in estimating b: tensor([-0.0002])\n"
          ]
        }
      ]
    },
    {
      "cell_type": "markdown",
      "source": [
        "3.5 The Image Classification Dataset"
      ],
      "metadata": {
        "id": "o6C102p-u8WI"
      }
    },
    {
      "cell_type": "code",
      "source": [
        "%matplotlib inline\n",
        "import torch\n",
        "import torchvision\n",
        "from torch.utils import data\n",
        "from torchvision import transforms\n",
        "from d2l import torch as d2l\n",
        "\n",
        "d2l.use_svg_display()"
      ],
      "metadata": {
        "id": "B4gGeiEju-bG"
      },
      "execution_count": null,
      "outputs": []
    },
    {
      "cell_type": "markdown",
      "source": [
        "3.5.1 Reading the Dataset"
      ],
      "metadata": {
        "id": "27uDq5tEvLre"
      }
    },
    {
      "cell_type": "code",
      "source": [
        "#'ToTensor' converts the image data from PIL type to 32-bit floating point\n",
        "# tensors. It divides all numbers by 255 so that all pixel values are between 0 and 1\n",
        "trans=transforms.ToTensor()\n",
        "mnist_train = torchvision.datasets.FashionMNIST(\n",
        "    root=\"../data\", train=True, transform=trans, download=True)\n",
        "mnist_test = torchvision.datasets.FashionMNIST(\n",
        "    root=\"../data\", train=False, transform=trans, download=True)"
      ],
      "metadata": {
        "colab": {
          "base_uri": "https://localhost:8080/",
          "height": 444,
          "referenced_widgets": [
            "06a0090eac264544996dbde74ccb8348",
            "03cef5be71ae4fceaa2e4caf99491e24",
            "17fe5cb6d00f48c0aee13b650300a9fb",
            "cc30866077ab4d1c9fd0feef18e540fe",
            "bf6417db71d14137aed0212c8bcfc79e",
            "c27c7b15a98a44c3a8ef99360badef30",
            "abb4f95c45864684ad1842bb0b3764cd",
            "b7f057bff0af4bf3810095b028e56abe",
            "19174cea36c64751ab96cd18b02e98d5",
            "70dbb8a2ce4a41e585a6b870b2b28666",
            "468c0fb1faff4ab894ad460e3ffb23d6",
            "34ae776c989040278b95287870f9f180",
            "c42b76314759477297ccbed814a2e935",
            "bacbe72a9fd84edea5eda937b271670c",
            "2eb8a516bee948cc8d2a1f595f8598b7",
            "fa99e92fb5104ac7bc6a0cc8ab96a507",
            "17321f1616a64e81a4d2eb0706bb7553",
            "8c8b027a9e6147a1ae3ca350ab6df60d",
            "f69a48d264a144f4999477b0e8a50edd",
            "1921be2a6e6c426db3ecf6d1e60f9198",
            "336c399aba034cd983b8473fee51b313",
            "a945ce048dbb4351b2d69d1c3208f8f8",
            "5aa251657463434da6a8087aff96c596",
            "7a47c335a62b4d6c97c87bd91f833277",
            "14bfd47e8bfc4269aa9c91d4e89a5314",
            "64af4d282e584777b822289c3d88ec5d",
            "8bf419f2e9c14e20b05fb93484202777",
            "b6ab41dbb4bf408e9ccd26d67e48fdb7",
            "5dc6c444bddc4462b73f05d231e0d6f1",
            "2f533cf82ddc4903bc579f50141da723",
            "cba2b0666add457f849a2ede1f08d6c8",
            "5aa8b2bc2daf460faf709fd0daefea26",
            "389cce9206e040d187e26fce04daf533",
            "9d9e139ca94e47399802240cfc18adb5",
            "901430c47a12469e827d5b6a9afcf77d",
            "76cbf72be0734fc4991818450ad5bbbf",
            "d59d994fe23b4524aac0df1aa2b70f80",
            "71c0a17454ee48a1a5ad83fb66797ca7",
            "2831d4ce389941069cc32cf8a4190539",
            "f7f629361878463096ae4023301e0892",
            "194309f7332144b794565468ad24e101",
            "a1da6ed1ce7044bb844a805acb3af12e",
            "1fbbdde81f9f4c3883dbbf9168320bea",
            "59ef02714c414fa09a99332227603982"
          ]
        },
        "id": "9KF0hAaUvN5G",
        "outputId": "868eb1e1-0507-4da2-9666-1de1fa25396c"
      },
      "execution_count": null,
      "outputs": [
        {
          "output_type": "stream",
          "name": "stdout",
          "text": [
            "Downloading http://fashion-mnist.s3-website.eu-central-1.amazonaws.com/train-images-idx3-ubyte.gz\n",
            "Downloading http://fashion-mnist.s3-website.eu-central-1.amazonaws.com/train-images-idx3-ubyte.gz to ../data/FashionMNIST/raw/train-images-idx3-ubyte.gz\n"
          ]
        },
        {
          "output_type": "display_data",
          "data": {
            "application/vnd.jupyter.widget-view+json": {
              "model_id": "06a0090eac264544996dbde74ccb8348",
              "version_minor": 0,
              "version_major": 2
            },
            "text/plain": [
              "  0%|          | 0/26421880 [00:00<?, ?it/s]"
            ]
          },
          "metadata": {}
        },
        {
          "output_type": "stream",
          "name": "stdout",
          "text": [
            "Extracting ../data/FashionMNIST/raw/train-images-idx3-ubyte.gz to ../data/FashionMNIST/raw\n",
            "\n",
            "Downloading http://fashion-mnist.s3-website.eu-central-1.amazonaws.com/train-labels-idx1-ubyte.gz\n",
            "Downloading http://fashion-mnist.s3-website.eu-central-1.amazonaws.com/train-labels-idx1-ubyte.gz to ../data/FashionMNIST/raw/train-labels-idx1-ubyte.gz\n"
          ]
        },
        {
          "output_type": "display_data",
          "data": {
            "application/vnd.jupyter.widget-view+json": {
              "model_id": "34ae776c989040278b95287870f9f180",
              "version_minor": 0,
              "version_major": 2
            },
            "text/plain": [
              "  0%|          | 0/29515 [00:00<?, ?it/s]"
            ]
          },
          "metadata": {}
        },
        {
          "output_type": "stream",
          "name": "stdout",
          "text": [
            "Extracting ../data/FashionMNIST/raw/train-labels-idx1-ubyte.gz to ../data/FashionMNIST/raw\n",
            "\n",
            "Downloading http://fashion-mnist.s3-website.eu-central-1.amazonaws.com/t10k-images-idx3-ubyte.gz\n",
            "Downloading http://fashion-mnist.s3-website.eu-central-1.amazonaws.com/t10k-images-idx3-ubyte.gz to ../data/FashionMNIST/raw/t10k-images-idx3-ubyte.gz\n"
          ]
        },
        {
          "output_type": "display_data",
          "data": {
            "application/vnd.jupyter.widget-view+json": {
              "model_id": "5aa251657463434da6a8087aff96c596",
              "version_minor": 0,
              "version_major": 2
            },
            "text/plain": [
              "  0%|          | 0/4422102 [00:00<?, ?it/s]"
            ]
          },
          "metadata": {}
        },
        {
          "output_type": "stream",
          "name": "stdout",
          "text": [
            "Extracting ../data/FashionMNIST/raw/t10k-images-idx3-ubyte.gz to ../data/FashionMNIST/raw\n",
            "\n",
            "Downloading http://fashion-mnist.s3-website.eu-central-1.amazonaws.com/t10k-labels-idx1-ubyte.gz\n",
            "Downloading http://fashion-mnist.s3-website.eu-central-1.amazonaws.com/t10k-labels-idx1-ubyte.gz to ../data/FashionMNIST/raw/t10k-labels-idx1-ubyte.gz\n"
          ]
        },
        {
          "output_type": "display_data",
          "data": {
            "application/vnd.jupyter.widget-view+json": {
              "model_id": "9d9e139ca94e47399802240cfc18adb5",
              "version_minor": 0,
              "version_major": 2
            },
            "text/plain": [
              "  0%|          | 0/5148 [00:00<?, ?it/s]"
            ]
          },
          "metadata": {}
        },
        {
          "output_type": "stream",
          "name": "stdout",
          "text": [
            "Extracting ../data/FashionMNIST/raw/t10k-labels-idx1-ubyte.gz to ../data/FashionMNIST/raw\n",
            "\n"
          ]
        }
      ]
    },
    {
      "cell_type": "code",
      "source": [
        "len(mnist_train), len(mnist_test)"
      ],
      "metadata": {
        "colab": {
          "base_uri": "https://localhost:8080/"
        },
        "id": "7OoMDwzgvuvA",
        "outputId": "13b4c37f-89b1-4d5e-af08-c4dd550248c5"
      },
      "execution_count": null,
      "outputs": [
        {
          "output_type": "execute_result",
          "data": {
            "text/plain": [
              "(60000, 10000)"
            ]
          },
          "metadata": {},
          "execution_count": 99
        }
      ]
    },
    {
      "cell_type": "code",
      "source": [
        "mnist_train[0][0].shape"
      ],
      "metadata": {
        "colab": {
          "base_uri": "https://localhost:8080/"
        },
        "id": "l_odL56qv5xp",
        "outputId": "07b10a45-42cc-4acc-b4f3-ac3386907a3f"
      },
      "execution_count": null,
      "outputs": [
        {
          "output_type": "execute_result",
          "data": {
            "text/plain": [
              "torch.Size([1, 28, 28])"
            ]
          },
          "metadata": {},
          "execution_count": 100
        }
      ]
    },
    {
      "cell_type": "code",
      "source": [
        "def get_fashion_mnist_labels(labels):\n",
        "  \"\"\"Return text labels for the Fashion-MNIST dataset.\"\"\"\n",
        "  text_labels = ['t-shirt', 'trouser', 'pullover', 'dress', 'coat',\n",
        "                 'sandal', 'shirt', 'sneaker', 'bag', 'ankle boot']\n",
        "  return[text_labels[int(i)] for i in labels]"
      ],
      "metadata": {
        "id": "M_djKzZnwAD6"
      },
      "execution_count": null,
      "outputs": []
    },
    {
      "cell_type": "code",
      "source": [
        "def show_images(imgs, num_rows, num_cols, titles=None, scale=1.5):\n",
        "  \"\"\"Plot a list of images.\"\"\"\n",
        "  figsize = (num_cols*scale, num_rows*scale)\n",
        "  _, axes = d2l.plt.subplots(num_rows, num_cols, figsize=figsize)\n",
        "  axes=axes.flatten()\n",
        "  for i, (ax, img) in enumerate(zip(axes, imgs)):\n",
        "    if torch.is_tensor(img):\n",
        "      #Tensor Image\n",
        "      ax.imshow(img.numpy())\n",
        "    else:\n",
        "      #PIL Image\n",
        "      ax.imshow(img)\n",
        "    ax.axes.get_xaxis().set_visible(False)\n",
        "    ax.axes.get_yaxis().set_visible(False)\n",
        "    if titles:\n",
        "      ax.set_title(titles[i])\n",
        "  return axes"
      ],
      "metadata": {
        "id": "9S4f9il4wXbZ"
      },
      "execution_count": null,
      "outputs": []
    },
    {
      "cell_type": "code",
      "source": [
        "X, y = next(iter(data.DataLoader(mnist_train, batch_size=18)))\n",
        "show_images(X.reshape(18, 28, 28), 2, 9, titles=get_fashion_mnist_labels(y));"
      ],
      "metadata": {
        "colab": {
          "base_uri": "https://localhost:8080/",
          "height": 277
        },
        "id": "iCi_iiP7xEH2",
        "outputId": "70a7d08a-9642-4cbf-84f2-037d031d348f"
      },
      "execution_count": null,
      "outputs": [
        {
          "output_type": "display_data",
          "data": {
            "text/plain": [
              "<Figure size 972x216 with 18 Axes>"
            ],
            "image/svg+xml": "<?xml version=\"1.0\" encoding=\"utf-8\" standalone=\"no\"?>\n<!DOCTYPE svg PUBLIC \"-//W3C//DTD SVG 1.1//EN\"\n  \"http://www.w3.org/Graphics/SVG/1.1/DTD/svg11.dtd\">\n<!-- Created with matplotlib (https://matplotlib.org/) -->\n<svg height=\"193.03689pt\" version=\"1.1\" viewBox=\"0 0 771.2 193.03689\" width=\"771.2pt\" xmlns=\"http://www.w3.org/2000/svg\" xmlns:xlink=\"http://www.w3.org/1999/xlink\">\n <defs>\n  <style type=\"text/css\">\n*{stroke-linecap:butt;stroke-linejoin:round;}\n  </style>\n </defs>\n <g id=\"figure_1\">\n  <g id=\"patch_1\">\n   <path d=\"M 0 193.03689 \nL 771.2 193.03689 \nL 771.2 -0 \nL 0 -0 \nz\n\" style=\"fill:none;\"/>\n  </g>\n  <g id=\"axes_1\">\n   <g id=\"patch_2\">\n    <path d=\"M 10.7 93.384163 \nL 81.766038 93.384163 \nL 81.766038 22.318125 \nL 10.7 22.318125 \nz\n\" style=\"fill:#ffffff;\"/>\n   </g>\n   <g clip-path=\"url(#p35ca6aab8d)\">\n    <image height=\"72\" id=\"imagef944a1e69e\" transform=\"scale(1 -1)translate(0 -72)\" width=\"72\" x=\"10.7\" xlink:href=\"data:image/png;base64,\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\" y=\"-21.384163\"/>\n   </g>\n   <g id=\"patch_3\">\n    <path d=\"M 10.7 93.384163 \nL 10.7 22.318125 \n\" style=\"fill:none;stroke:#000000;stroke-linecap:square;stroke-linejoin:miter;stroke-width:0.8;\"/>\n   </g>\n   <g id=\"patch_4\">\n    <path d=\"M 81.766038 93.384163 \nL 81.766038 22.318125 \n\" style=\"fill:none;stroke:#000000;stroke-linecap:square;stroke-linejoin:miter;stroke-width:0.8;\"/>\n   </g>\n   <g id=\"patch_5\">\n    <path d=\"M 10.7 93.384163 \nL 81.766038 93.384163 \n\" style=\"fill:none;stroke:#000000;stroke-linecap:square;stroke-linejoin:miter;stroke-width:0.8;\"/>\n   </g>\n   <g id=\"patch_6\">\n    <path d=\"M 10.7 22.318125 \nL 81.766038 22.318125 \n\" style=\"fill:none;stroke:#000000;stroke-linecap:square;stroke-linejoin:miter;stroke-width:0.8;\"/>\n   </g>\n   <g id=\"text_1\">\n    <!-- ankle boot -->\n    <defs>\n     <path d=\"M 34.28125 27.484375 \nQ 23.390625 27.484375 19.1875 25 \nQ 14.984375 22.515625 14.984375 16.5 \nQ 14.984375 11.71875 18.140625 8.90625 \nQ 21.296875 6.109375 26.703125 6.109375 \nQ 34.1875 6.109375 38.703125 11.40625 \nQ 43.21875 16.703125 43.21875 25.484375 \nL 43.21875 27.484375 \nz\nM 52.203125 31.203125 \nL 52.203125 0 \nL 43.21875 0 \nL 43.21875 8.296875 \nQ 40.140625 3.328125 35.546875 0.953125 \nQ 30.953125 -1.421875 24.3125 -1.421875 \nQ 15.921875 -1.421875 10.953125 3.296875 \nQ 6 8.015625 6 15.921875 \nQ 6 25.140625 12.171875 29.828125 \nQ 18.359375 34.515625 30.609375 34.515625 \nL 43.21875 34.515625 \nL 43.21875 35.40625 \nQ 43.21875 41.609375 39.140625 45 \nQ 35.0625 48.390625 27.6875 48.390625 \nQ 23 48.390625 18.546875 47.265625 \nQ 14.109375 46.140625 10.015625 43.890625 \nL 10.015625 52.203125 \nQ 14.9375 54.109375 19.578125 55.046875 \nQ 24.21875 56 28.609375 56 \nQ 40.484375 56 46.34375 49.84375 \nQ 52.203125 43.703125 52.203125 31.203125 \nz\n\" id=\"DejaVuSans-97\"/>\n     <path d=\"M 54.890625 33.015625 \nL 54.890625 0 \nL 45.90625 0 \nL 45.90625 32.71875 \nQ 45.90625 40.484375 42.875 44.328125 \nQ 39.84375 48.1875 33.796875 48.1875 \nQ 26.515625 48.1875 22.3125 43.546875 \nQ 18.109375 38.921875 18.109375 30.90625 \nL 18.109375 0 \nL 9.078125 0 \nL 9.078125 54.6875 \nL 18.109375 54.6875 \nL 18.109375 46.1875 \nQ 21.34375 51.125 25.703125 53.5625 \nQ 30.078125 56 35.796875 56 \nQ 45.21875 56 50.046875 50.171875 \nQ 54.890625 44.34375 54.890625 33.015625 \nz\n\" id=\"DejaVuSans-110\"/>\n     <path d=\"M 9.078125 75.984375 \nL 18.109375 75.984375 \nL 18.109375 31.109375 \nL 44.921875 54.6875 \nL 56.390625 54.6875 \nL 27.390625 29.109375 \nL 57.625 0 \nL 45.90625 0 \nL 18.109375 26.703125 \nL 18.109375 0 \nL 9.078125 0 \nz\n\" id=\"DejaVuSans-107\"/>\n     <path d=\"M 9.421875 75.984375 \nL 18.40625 75.984375 \nL 18.40625 0 \nL 9.421875 0 \nz\n\" id=\"DejaVuSans-108\"/>\n     <path d=\"M 56.203125 29.59375 \nL 56.203125 25.203125 \nL 14.890625 25.203125 \nQ 15.484375 15.921875 20.484375 11.0625 \nQ 25.484375 6.203125 34.421875 6.203125 \nQ 39.59375 6.203125 44.453125 7.46875 \nQ 49.3125 8.734375 54.109375 11.28125 \nL 54.109375 2.78125 \nQ 49.265625 0.734375 44.1875 -0.34375 \nQ 39.109375 -1.421875 33.890625 -1.421875 \nQ 20.796875 -1.421875 13.15625 6.1875 \nQ 5.515625 13.8125 5.515625 26.8125 \nQ 5.515625 40.234375 12.765625 48.109375 \nQ 20.015625 56 32.328125 56 \nQ 43.359375 56 49.78125 48.890625 \nQ 56.203125 41.796875 56.203125 29.59375 \nz\nM 47.21875 32.234375 \nQ 47.125 39.59375 43.09375 43.984375 \nQ 39.0625 48.390625 32.421875 48.390625 \nQ 24.90625 48.390625 20.390625 44.140625 \nQ 15.875 39.890625 15.1875 32.171875 \nz\n\" id=\"DejaVuSans-101\"/>\n     <path id=\"DejaVuSans-32\"/>\n     <path d=\"M 48.6875 27.296875 \nQ 48.6875 37.203125 44.609375 42.84375 \nQ 40.53125 48.484375 33.40625 48.484375 \nQ 26.265625 48.484375 22.1875 42.84375 \nQ 18.109375 37.203125 18.109375 27.296875 \nQ 18.109375 17.390625 22.1875 11.75 \nQ 26.265625 6.109375 33.40625 6.109375 \nQ 40.53125 6.109375 44.609375 11.75 \nQ 48.6875 17.390625 48.6875 27.296875 \nz\nM 18.109375 46.390625 \nQ 20.953125 51.265625 25.265625 53.625 \nQ 29.59375 56 35.59375 56 \nQ 45.5625 56 51.78125 48.09375 \nQ 58.015625 40.1875 58.015625 27.296875 \nQ 58.015625 14.40625 51.78125 6.484375 \nQ 45.5625 -1.421875 35.59375 -1.421875 \nQ 29.59375 -1.421875 25.265625 0.953125 \nQ 20.953125 3.328125 18.109375 8.203125 \nL 18.109375 0 \nL 9.078125 0 \nL 9.078125 75.984375 \nL 18.109375 75.984375 \nz\n\" id=\"DejaVuSans-98\"/>\n     <path d=\"M 30.609375 48.390625 \nQ 23.390625 48.390625 19.1875 42.75 \nQ 14.984375 37.109375 14.984375 27.296875 \nQ 14.984375 17.484375 19.15625 11.84375 \nQ 23.34375 6.203125 30.609375 6.203125 \nQ 37.796875 6.203125 41.984375 11.859375 \nQ 46.1875 17.53125 46.1875 27.296875 \nQ 46.1875 37.015625 41.984375 42.703125 \nQ 37.796875 48.390625 30.609375 48.390625 \nz\nM 30.609375 56 \nQ 42.328125 56 49.015625 48.375 \nQ 55.71875 40.765625 55.71875 27.296875 \nQ 55.71875 13.875 49.015625 6.21875 \nQ 42.328125 -1.421875 30.609375 -1.421875 \nQ 18.84375 -1.421875 12.171875 6.21875 \nQ 5.515625 13.875 5.515625 27.296875 \nQ 5.515625 40.765625 12.171875 48.375 \nQ 18.84375 56 30.609375 56 \nz\n\" id=\"DejaVuSans-111\"/>\n     <path d=\"M 18.3125 70.21875 \nL 18.3125 54.6875 \nL 36.8125 54.6875 \nL 36.8125 47.703125 \nL 18.3125 47.703125 \nL 18.3125 18.015625 \nQ 18.3125 11.328125 20.140625 9.421875 \nQ 21.96875 7.515625 27.59375 7.515625 \nL 36.8125 7.515625 \nL 36.8125 0 \nL 27.59375 0 \nQ 17.1875 0 13.234375 3.875 \nQ 9.28125 7.765625 9.28125 18.015625 \nL 9.28125 47.703125 \nL 2.6875 47.703125 \nL 2.6875 54.6875 \nL 9.28125 54.6875 \nL 9.28125 70.21875 \nz\n\" id=\"DejaVuSans-116\"/>\n    </defs>\n    <g transform=\"translate(14.509894 16.318125)scale(0.12 -0.12)\">\n     <use xlink:href=\"#DejaVuSans-97\"/>\n     <use x=\"61.279297\" xlink:href=\"#DejaVuSans-110\"/>\n     <use x=\"124.658203\" xlink:href=\"#DejaVuSans-107\"/>\n     <use x=\"182.568359\" xlink:href=\"#DejaVuSans-108\"/>\n     <use x=\"210.351562\" xlink:href=\"#DejaVuSans-101\"/>\n     <use x=\"271.875\" xlink:href=\"#DejaVuSans-32\"/>\n     <use x=\"303.662109\" xlink:href=\"#DejaVuSans-98\"/>\n     <use x=\"367.138672\" xlink:href=\"#DejaVuSans-111\"/>\n     <use x=\"428.320312\" xlink:href=\"#DejaVuSans-111\"/>\n     <use x=\"489.501953\" xlink:href=\"#DejaVuSans-116\"/>\n    </g>\n   </g>\n  </g>\n  <g id=\"axes_2\">\n   <g id=\"patch_7\">\n    <path d=\"M 95.979245 93.384163 \nL 167.045283 93.384163 \nL 167.045283 22.318125 \nL 95.979245 22.318125 \nz\n\" style=\"fill:#ffffff;\"/>\n   </g>\n   <g clip-path=\"url(#p4272d9a1c4)\">\n    <image height=\"72\" id=\"image9719a8a8f7\" transform=\"scale(1 -1)translate(0 -72)\" width=\"72\" x=\"95.979245\" xlink:href=\"data:image/png;base64,\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\" y=\"-21.384163\"/>\n   </g>\n   <g id=\"patch_8\">\n    <path d=\"M 95.979245 93.384163 \nL 95.979245 22.318125 \n\" style=\"fill:none;stroke:#000000;stroke-linecap:square;stroke-linejoin:miter;stroke-width:0.8;\"/>\n   </g>\n   <g id=\"patch_9\">\n    <path d=\"M 167.045283 93.384163 \nL 167.045283 22.318125 \n\" style=\"fill:none;stroke:#000000;stroke-linecap:square;stroke-linejoin:miter;stroke-width:0.8;\"/>\n   </g>\n   <g id=\"patch_10\">\n    <path d=\"M 95.979245 93.384163 \nL 167.045283 93.384163 \n\" style=\"fill:none;stroke:#000000;stroke-linecap:square;stroke-linejoin:miter;stroke-width:0.8;\"/>\n   </g>\n   <g id=\"patch_11\">\n    <path d=\"M 95.979245 22.318125 \nL 167.045283 22.318125 \n\" style=\"fill:none;stroke:#000000;stroke-linecap:square;stroke-linejoin:miter;stroke-width:0.8;\"/>\n   </g>\n   <g id=\"text_2\">\n    <!-- t-shirt -->\n    <defs>\n     <path d=\"M 4.890625 31.390625 \nL 31.203125 31.390625 \nL 31.203125 23.390625 \nL 4.890625 23.390625 \nz\n\" id=\"DejaVuSans-45\"/>\n     <path d=\"M 44.28125 53.078125 \nL 44.28125 44.578125 \nQ 40.484375 46.53125 36.375 47.5 \nQ 32.28125 48.484375 27.875 48.484375 \nQ 21.1875 48.484375 17.84375 46.4375 \nQ 14.5 44.390625 14.5 40.28125 \nQ 14.5 37.15625 16.890625 35.375 \nQ 19.28125 33.59375 26.515625 31.984375 \nL 29.59375 31.296875 \nQ 39.15625 29.25 43.1875 25.515625 \nQ 47.21875 21.78125 47.21875 15.09375 \nQ 47.21875 7.46875 41.1875 3.015625 \nQ 35.15625 -1.421875 24.609375 -1.421875 \nQ 20.21875 -1.421875 15.453125 -0.5625 \nQ 10.6875 0.296875 5.421875 2 \nL 5.421875 11.28125 \nQ 10.40625 8.6875 15.234375 7.390625 \nQ 20.0625 6.109375 24.8125 6.109375 \nQ 31.15625 6.109375 34.5625 8.28125 \nQ 37.984375 10.453125 37.984375 14.40625 \nQ 37.984375 18.0625 35.515625 20.015625 \nQ 33.0625 21.96875 24.703125 23.78125 \nL 21.578125 24.515625 \nQ 13.234375 26.265625 9.515625 29.90625 \nQ 5.8125 33.546875 5.8125 39.890625 \nQ 5.8125 47.609375 11.28125 51.796875 \nQ 16.75 56 26.8125 56 \nQ 31.78125 56 36.171875 55.265625 \nQ 40.578125 54.546875 44.28125 53.078125 \nz\n\" id=\"DejaVuSans-115\"/>\n     <path d=\"M 54.890625 33.015625 \nL 54.890625 0 \nL 45.90625 0 \nL 45.90625 32.71875 \nQ 45.90625 40.484375 42.875 44.328125 \nQ 39.84375 48.1875 33.796875 48.1875 \nQ 26.515625 48.1875 22.3125 43.546875 \nQ 18.109375 38.921875 18.109375 30.90625 \nL 18.109375 0 \nL 9.078125 0 \nL 9.078125 75.984375 \nL 18.109375 75.984375 \nL 18.109375 46.1875 \nQ 21.34375 51.125 25.703125 53.5625 \nQ 30.078125 56 35.796875 56 \nQ 45.21875 56 50.046875 50.171875 \nQ 54.890625 44.34375 54.890625 33.015625 \nz\n\" id=\"DejaVuSans-104\"/>\n     <path d=\"M 9.421875 54.6875 \nL 18.40625 54.6875 \nL 18.40625 0 \nL 9.421875 0 \nz\nM 9.421875 75.984375 \nL 18.40625 75.984375 \nL 18.40625 64.59375 \nL 9.421875 64.59375 \nz\n\" id=\"DejaVuSans-105\"/>\n     <path d=\"M 41.109375 46.296875 \nQ 39.59375 47.171875 37.8125 47.578125 \nQ 36.03125 48 33.890625 48 \nQ 26.265625 48 22.1875 43.046875 \nQ 18.109375 38.09375 18.109375 28.8125 \nL 18.109375 0 \nL 9.078125 0 \nL 9.078125 54.6875 \nL 18.109375 54.6875 \nL 18.109375 46.1875 \nQ 20.953125 51.171875 25.484375 53.578125 \nQ 30.03125 56 36.53125 56 \nQ 37.453125 56 38.578125 55.875 \nQ 39.703125 55.765625 41.0625 55.515625 \nz\n\" id=\"DejaVuSans-114\"/>\n    </defs>\n    <g transform=\"translate(113.581639 16.318125)scale(0.12 -0.12)\">\n     <use xlink:href=\"#DejaVuSans-116\"/>\n     <use x=\"39.208984\" xlink:href=\"#DejaVuSans-45\"/>\n     <use x=\"75.292969\" xlink:href=\"#DejaVuSans-115\"/>\n     <use x=\"127.392578\" xlink:href=\"#DejaVuSans-104\"/>\n     <use x=\"190.771484\" xlink:href=\"#DejaVuSans-105\"/>\n     <use x=\"218.554688\" xlink:href=\"#DejaVuSans-114\"/>\n     <use x=\"259.667969\" xlink:href=\"#DejaVuSans-116\"/>\n    </g>\n   </g>\n  </g>\n  <g id=\"axes_3\">\n   <g id=\"patch_12\">\n    <path d=\"M 181.258491 93.384163 \nL 252.324528 93.384163 \nL 252.324528 22.318125 \nL 181.258491 22.318125 \nz\n\" style=\"fill:#ffffff;\"/>\n   </g>\n   <g clip-path=\"url(#p311f72a09c)\">\n    <image height=\"72\" id=\"image9b9a4008a6\" transform=\"scale(1 -1)translate(0 -72)\" width=\"72\" x=\"181.258491\" xlink:href=\"data:image/png;base64,\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\" y=\"-21.384163\"/>\n   </g>\n   <g id=\"patch_13\">\n    <path d=\"M 181.258491 93.384163 \nL 181.258491 22.318125 \n\" style=\"fill:none;stroke:#000000;stroke-linecap:square;stroke-linejoin:miter;stroke-width:0.8;\"/>\n   </g>\n   <g id=\"patch_14\">\n    <path d=\"M 252.324528 93.384163 \nL 252.324528 22.318125 \n\" style=\"fill:none;stroke:#000000;stroke-linecap:square;stroke-linejoin:miter;stroke-width:0.8;\"/>\n   </g>\n   <g id=\"patch_15\">\n    <path d=\"M 181.258491 93.384163 \nL 252.324528 93.384163 \n\" style=\"fill:none;stroke:#000000;stroke-linecap:square;stroke-linejoin:miter;stroke-width:0.8;\"/>\n   </g>\n   <g id=\"patch_16\">\n    <path d=\"M 181.258491 22.318125 \nL 252.324528 22.318125 \n\" style=\"fill:none;stroke:#000000;stroke-linecap:square;stroke-linejoin:miter;stroke-width:0.8;\"/>\n   </g>\n   <g id=\"text_3\">\n    <!-- t-shirt -->\n    <g transform=\"translate(198.860884 16.318125)scale(0.12 -0.12)\">\n     <use xlink:href=\"#DejaVuSans-116\"/>\n     <use x=\"39.208984\" xlink:href=\"#DejaVuSans-45\"/>\n     <use x=\"75.292969\" xlink:href=\"#DejaVuSans-115\"/>\n     <use x=\"127.392578\" xlink:href=\"#DejaVuSans-104\"/>\n     <use x=\"190.771484\" xlink:href=\"#DejaVuSans-105\"/>\n     <use x=\"218.554688\" xlink:href=\"#DejaVuSans-114\"/>\n     <use x=\"259.667969\" xlink:href=\"#DejaVuSans-116\"/>\n    </g>\n   </g>\n  </g>\n  <g id=\"axes_4\">\n   <g id=\"patch_17\">\n    <path d=\"M 266.537736 93.384163 \nL 337.603774 93.384163 \nL 337.603774 22.318125 \nL 266.537736 22.318125 \nz\n\" style=\"fill:#ffffff;\"/>\n   </g>\n   <g clip-path=\"url(#p9bea089af2)\">\n    <image height=\"72\" id=\"image145cc310c5\" transform=\"scale(1 -1)translate(0 -72)\" width=\"72\" x=\"266.537736\" xlink:href=\"data:image/png;base64,\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\" y=\"-21.384163\"/>\n   </g>\n   <g id=\"patch_18\">\n    <path d=\"M 266.537736 93.384163 \nL 266.537736 22.318125 \n\" style=\"fill:none;stroke:#000000;stroke-linecap:square;stroke-linejoin:miter;stroke-width:0.8;\"/>\n   </g>\n   <g id=\"patch_19\">\n    <path d=\"M 337.603774 93.384163 \nL 337.603774 22.318125 \n\" style=\"fill:none;stroke:#000000;stroke-linecap:square;stroke-linejoin:miter;stroke-width:0.8;\"/>\n   </g>\n   <g id=\"patch_20\">\n    <path d=\"M 266.537736 93.384163 \nL 337.603774 93.384163 \n\" style=\"fill:none;stroke:#000000;stroke-linecap:square;stroke-linejoin:miter;stroke-width:0.8;\"/>\n   </g>\n   <g id=\"patch_21\">\n    <path d=\"M 266.537736 22.318125 \nL 337.603774 22.318125 \n\" style=\"fill:none;stroke:#000000;stroke-linecap:square;stroke-linejoin:miter;stroke-width:0.8;\"/>\n   </g>\n   <g id=\"text_4\">\n    <!-- dress -->\n    <defs>\n     <path d=\"M 45.40625 46.390625 \nL 45.40625 75.984375 \nL 54.390625 75.984375 \nL 54.390625 0 \nL 45.40625 0 \nL 45.40625 8.203125 \nQ 42.578125 3.328125 38.25 0.953125 \nQ 33.9375 -1.421875 27.875 -1.421875 \nQ 17.96875 -1.421875 11.734375 6.484375 \nQ 5.515625 14.40625 5.515625 27.296875 \nQ 5.515625 40.1875 11.734375 48.09375 \nQ 17.96875 56 27.875 56 \nQ 33.9375 56 38.25 53.625 \nQ 42.578125 51.265625 45.40625 46.390625 \nz\nM 14.796875 27.296875 \nQ 14.796875 17.390625 18.875 11.75 \nQ 22.953125 6.109375 30.078125 6.109375 \nQ 37.203125 6.109375 41.296875 11.75 \nQ 45.40625 17.390625 45.40625 27.296875 \nQ 45.40625 37.203125 41.296875 42.84375 \nQ 37.203125 48.484375 30.078125 48.484375 \nQ 22.953125 48.484375 18.875 42.84375 \nQ 14.796875 37.203125 14.796875 27.296875 \nz\n\" id=\"DejaVuSans-100\"/>\n    </defs>\n    <g transform=\"translate(285.987005 16.318125)scale(0.12 -0.12)\">\n     <use xlink:href=\"#DejaVuSans-100\"/>\n     <use x=\"63.476562\" xlink:href=\"#DejaVuSans-114\"/>\n     <use x=\"102.339844\" xlink:href=\"#DejaVuSans-101\"/>\n     <use x=\"163.863281\" xlink:href=\"#DejaVuSans-115\"/>\n     <use x=\"215.962891\" xlink:href=\"#DejaVuSans-115\"/>\n    </g>\n   </g>\n  </g>\n  <g id=\"axes_5\">\n   <g id=\"patch_22\">\n    <path d=\"M 351.816981 93.384163 \nL 422.883019 93.384163 \nL 422.883019 22.318125 \nL 351.816981 22.318125 \nz\n\" style=\"fill:#ffffff;\"/>\n   </g>\n   <g clip-path=\"url(#p823b78e3e1)\">\n    <image height=\"72\" id=\"image002061095a\" transform=\"scale(1 -1)translate(0 -72)\" width=\"72\" x=\"351.816981\" xlink:href=\"data:image/png;base64,\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\" y=\"-21.384163\"/>\n   </g>\n   <g id=\"patch_23\">\n    <path d=\"M 351.816981 93.384163 \nL 351.816981 22.318125 \n\" style=\"fill:none;stroke:#000000;stroke-linecap:square;stroke-linejoin:miter;stroke-width:0.8;\"/>\n   </g>\n   <g id=\"patch_24\">\n    <path d=\"M 422.883019 93.384163 \nL 422.883019 22.318125 \n\" style=\"fill:none;stroke:#000000;stroke-linecap:square;stroke-linejoin:miter;stroke-width:0.8;\"/>\n   </g>\n   <g id=\"patch_25\">\n    <path d=\"M 351.816981 93.384163 \nL 422.883019 93.384163 \n\" style=\"fill:none;stroke:#000000;stroke-linecap:square;stroke-linejoin:miter;stroke-width:0.8;\"/>\n   </g>\n   <g id=\"patch_26\">\n    <path d=\"M 351.816981 22.318125 \nL 422.883019 22.318125 \n\" style=\"fill:none;stroke:#000000;stroke-linecap:square;stroke-linejoin:miter;stroke-width:0.8;\"/>\n   </g>\n   <g id=\"text_5\">\n    <!-- t-shirt -->\n    <g transform=\"translate(369.419375 16.318125)scale(0.12 -0.12)\">\n     <use xlink:href=\"#DejaVuSans-116\"/>\n     <use x=\"39.208984\" xlink:href=\"#DejaVuSans-45\"/>\n     <use x=\"75.292969\" xlink:href=\"#DejaVuSans-115\"/>\n     <use x=\"127.392578\" xlink:href=\"#DejaVuSans-104\"/>\n     <use x=\"190.771484\" xlink:href=\"#DejaVuSans-105\"/>\n     <use x=\"218.554688\" xlink:href=\"#DejaVuSans-114\"/>\n     <use x=\"259.667969\" xlink:href=\"#DejaVuSans-116\"/>\n    </g>\n   </g>\n  </g>\n  <g id=\"axes_6\">\n   <g id=\"patch_27\">\n    <path d=\"M 437.096226 93.384163 \nL 508.162264 93.384163 \nL 508.162264 22.318125 \nL 437.096226 22.318125 \nz\n\" style=\"fill:#ffffff;\"/>\n   </g>\n   <g clip-path=\"url(#pef7f18a401)\">\n    <image height=\"72\" id=\"image41ea350256\" transform=\"scale(1 -1)translate(0 -72)\" width=\"72\" x=\"437.096226\" xlink:href=\"data:image/png;base64,\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\" y=\"-21.384163\"/>\n   </g>\n   <g id=\"patch_28\">\n    <path d=\"M 437.096226 93.384163 \nL 437.096226 22.318125 \n\" style=\"fill:none;stroke:#000000;stroke-linecap:square;stroke-linejoin:miter;stroke-width:0.8;\"/>\n   </g>\n   <g id=\"patch_29\">\n    <path d=\"M 508.162264 93.384163 \nL 508.162264 22.318125 \n\" style=\"fill:none;stroke:#000000;stroke-linecap:square;stroke-linejoin:miter;stroke-width:0.8;\"/>\n   </g>\n   <g id=\"patch_30\">\n    <path d=\"M 437.096226 93.384163 \nL 508.162264 93.384163 \n\" style=\"fill:none;stroke:#000000;stroke-linecap:square;stroke-linejoin:miter;stroke-width:0.8;\"/>\n   </g>\n   <g id=\"patch_31\">\n    <path d=\"M 437.096226 22.318125 \nL 508.162264 22.318125 \n\" style=\"fill:none;stroke:#000000;stroke-linecap:square;stroke-linejoin:miter;stroke-width:0.8;\"/>\n   </g>\n   <g id=\"text_6\">\n    <!-- pullover -->\n    <defs>\n     <path d=\"M 18.109375 8.203125 \nL 18.109375 -20.796875 \nL 9.078125 -20.796875 \nL 9.078125 54.6875 \nL 18.109375 54.6875 \nL 18.109375 46.390625 \nQ 20.953125 51.265625 25.265625 53.625 \nQ 29.59375 56 35.59375 56 \nQ 45.5625 56 51.78125 48.09375 \nQ 58.015625 40.1875 58.015625 27.296875 \nQ 58.015625 14.40625 51.78125 6.484375 \nQ 45.5625 -1.421875 35.59375 -1.421875 \nQ 29.59375 -1.421875 25.265625 0.953125 \nQ 20.953125 3.328125 18.109375 8.203125 \nz\nM 48.6875 27.296875 \nQ 48.6875 37.203125 44.609375 42.84375 \nQ 40.53125 48.484375 33.40625 48.484375 \nQ 26.265625 48.484375 22.1875 42.84375 \nQ 18.109375 37.203125 18.109375 27.296875 \nQ 18.109375 17.390625 22.1875 11.75 \nQ 26.265625 6.109375 33.40625 6.109375 \nQ 40.53125 6.109375 44.609375 11.75 \nQ 48.6875 17.390625 48.6875 27.296875 \nz\n\" id=\"DejaVuSans-112\"/>\n     <path d=\"M 8.5 21.578125 \nL 8.5 54.6875 \nL 17.484375 54.6875 \nL 17.484375 21.921875 \nQ 17.484375 14.15625 20.5 10.265625 \nQ 23.53125 6.390625 29.59375 6.390625 \nQ 36.859375 6.390625 41.078125 11.03125 \nQ 45.3125 15.671875 45.3125 23.6875 \nL 45.3125 54.6875 \nL 54.296875 54.6875 \nL 54.296875 0 \nL 45.3125 0 \nL 45.3125 8.40625 \nQ 42.046875 3.421875 37.71875 1 \nQ 33.40625 -1.421875 27.6875 -1.421875 \nQ 18.265625 -1.421875 13.375 4.4375 \nQ 8.5 10.296875 8.5 21.578125 \nz\nM 31.109375 56 \nz\n\" id=\"DejaVuSans-117\"/>\n     <path d=\"M 2.984375 54.6875 \nL 12.5 54.6875 \nL 29.59375 8.796875 \nL 46.6875 54.6875 \nL 56.203125 54.6875 \nL 35.6875 0 \nL 23.484375 0 \nz\n\" id=\"DejaVuSans-118\"/>\n    </defs>\n    <g transform=\"translate(448.302995 16.318125)scale(0.12 -0.12)\">\n     <use xlink:href=\"#DejaVuSans-112\"/>\n     <use x=\"63.476562\" xlink:href=\"#DejaVuSans-117\"/>\n     <use x=\"126.855469\" xlink:href=\"#DejaVuSans-108\"/>\n     <use x=\"154.638672\" xlink:href=\"#DejaVuSans-108\"/>\n     <use x=\"182.421875\" xlink:href=\"#DejaVuSans-111\"/>\n     <use x=\"243.603516\" xlink:href=\"#DejaVuSans-118\"/>\n     <use x=\"302.783203\" xlink:href=\"#DejaVuSans-101\"/>\n     <use x=\"364.306641\" xlink:href=\"#DejaVuSans-114\"/>\n    </g>\n   </g>\n  </g>\n  <g id=\"axes_7\">\n   <g id=\"patch_32\">\n    <path d=\"M 522.375472 93.384163 \nL 593.441509 93.384163 \nL 593.441509 22.318125 \nL 522.375472 22.318125 \nz\n\" style=\"fill:#ffffff;\"/>\n   </g>\n   <g clip-path=\"url(#pf57cf1c883)\">\n    <image height=\"72\" id=\"image7d5d6b5107\" transform=\"scale(1 -1)translate(0 -72)\" width=\"72\" x=\"522.375472\" xlink:href=\"data:image/png;base64,\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\" y=\"-21.384163\"/>\n   </g>\n   <g id=\"patch_33\">\n    <path d=\"M 522.375472 93.384163 \nL 522.375472 22.318125 \n\" style=\"fill:none;stroke:#000000;stroke-linecap:square;stroke-linejoin:miter;stroke-width:0.8;\"/>\n   </g>\n   <g id=\"patch_34\">\n    <path d=\"M 593.441509 93.384163 \nL 593.441509 22.318125 \n\" style=\"fill:none;stroke:#000000;stroke-linecap:square;stroke-linejoin:miter;stroke-width:0.8;\"/>\n   </g>\n   <g id=\"patch_35\">\n    <path d=\"M 522.375472 93.384163 \nL 593.441509 93.384163 \n\" style=\"fill:none;stroke:#000000;stroke-linecap:square;stroke-linejoin:miter;stroke-width:0.8;\"/>\n   </g>\n   <g id=\"patch_36\">\n    <path d=\"M 522.375472 22.318125 \nL 593.441509 22.318125 \n\" style=\"fill:none;stroke:#000000;stroke-linecap:square;stroke-linejoin:miter;stroke-width:0.8;\"/>\n   </g>\n   <g id=\"text_7\">\n    <!-- sneaker -->\n    <g transform=\"translate(534.196303 16.318125)scale(0.12 -0.12)\">\n     <use xlink:href=\"#DejaVuSans-115\"/>\n     <use x=\"52.099609\" xlink:href=\"#DejaVuSans-110\"/>\n     <use x=\"115.478516\" xlink:href=\"#DejaVuSans-101\"/>\n     <use x=\"177.001953\" xlink:href=\"#DejaVuSans-97\"/>\n     <use x=\"238.28125\" xlink:href=\"#DejaVuSans-107\"/>\n     <use x=\"292.566406\" xlink:href=\"#DejaVuSans-101\"/>\n     <use x=\"354.089844\" xlink:href=\"#DejaVuSans-114\"/>\n    </g>\n   </g>\n  </g>\n  <g id=\"axes_8\">\n   <g id=\"patch_37\">\n    <path d=\"M 607.654717 93.384163 \nL 678.720755 93.384163 \nL 678.720755 22.318125 \nL 607.654717 22.318125 \nz\n\" style=\"fill:#ffffff;\"/>\n   </g>\n   <g clip-path=\"url(#pd88a397c23)\">\n    <image height=\"72\" id=\"imagef2717cc7f0\" transform=\"scale(1 -1)translate(0 -72)\" width=\"72\" x=\"607.654717\" xlink:href=\"data:image/png;base64,\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\" y=\"-21.384163\"/>\n   </g>\n   <g id=\"patch_38\">\n    <path d=\"M 607.654717 93.384163 \nL 607.654717 22.318125 \n\" style=\"fill:none;stroke:#000000;stroke-linecap:square;stroke-linejoin:miter;stroke-width:0.8;\"/>\n   </g>\n   <g id=\"patch_39\">\n    <path d=\"M 678.720755 93.384163 \nL 678.720755 22.318125 \n\" style=\"fill:none;stroke:#000000;stroke-linecap:square;stroke-linejoin:miter;stroke-width:0.8;\"/>\n   </g>\n   <g id=\"patch_40\">\n    <path d=\"M 607.654717 93.384163 \nL 678.720755 93.384163 \n\" style=\"fill:none;stroke:#000000;stroke-linecap:square;stroke-linejoin:miter;stroke-width:0.8;\"/>\n   </g>\n   <g id=\"patch_41\">\n    <path d=\"M 607.654717 22.318125 \nL 678.720755 22.318125 \n\" style=\"fill:none;stroke:#000000;stroke-linecap:square;stroke-linejoin:miter;stroke-width:0.8;\"/>\n   </g>\n   <g id=\"text_8\">\n    <!-- pullover -->\n    <g transform=\"translate(618.861486 16.318125)scale(0.12 -0.12)\">\n     <use xlink:href=\"#DejaVuSans-112\"/>\n     <use x=\"63.476562\" xlink:href=\"#DejaVuSans-117\"/>\n     <use x=\"126.855469\" xlink:href=\"#DejaVuSans-108\"/>\n     <use x=\"154.638672\" xlink:href=\"#DejaVuSans-108\"/>\n     <use x=\"182.421875\" xlink:href=\"#DejaVuSans-111\"/>\n     <use x=\"243.603516\" xlink:href=\"#DejaVuSans-118\"/>\n     <use x=\"302.783203\" xlink:href=\"#DejaVuSans-101\"/>\n     <use x=\"364.306641\" xlink:href=\"#DejaVuSans-114\"/>\n    </g>\n   </g>\n  </g>\n  <g id=\"axes_9\">\n   <g id=\"patch_42\">\n    <path d=\"M 692.933962 93.384163 \nL 764 93.384163 \nL 764 22.318125 \nL 692.933962 22.318125 \nz\n\" style=\"fill:#ffffff;\"/>\n   </g>\n   <g clip-path=\"url(#pb07a17173d)\">\n    <image height=\"72\" id=\"image2f8bea269d\" transform=\"scale(1 -1)translate(0 -72)\" width=\"72\" x=\"692.933962\" xlink:href=\"data:image/png;base64,\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\" y=\"-21.384163\"/>\n   </g>\n   <g id=\"patch_43\">\n    <path d=\"M 692.933962 93.384163 \nL 692.933962 22.318125 \n\" style=\"fill:none;stroke:#000000;stroke-linecap:square;stroke-linejoin:miter;stroke-width:0.8;\"/>\n   </g>\n   <g id=\"patch_44\">\n    <path d=\"M 764 93.384163 \nL 764 22.318125 \n\" style=\"fill:none;stroke:#000000;stroke-linecap:square;stroke-linejoin:miter;stroke-width:0.8;\"/>\n   </g>\n   <g id=\"patch_45\">\n    <path d=\"M 692.933962 93.384163 \nL 764 93.384163 \n\" style=\"fill:none;stroke:#000000;stroke-linecap:square;stroke-linejoin:miter;stroke-width:0.8;\"/>\n   </g>\n   <g id=\"patch_46\">\n    <path d=\"M 692.933962 22.318125 \nL 764 22.318125 \n\" style=\"fill:none;stroke:#000000;stroke-linecap:square;stroke-linejoin:miter;stroke-width:0.8;\"/>\n   </g>\n   <g id=\"text_9\">\n    <!-- sandal -->\n    <g transform=\"translate(708.709169 16.318125)scale(0.12 -0.12)\">\n     <use xlink:href=\"#DejaVuSans-115\"/>\n     <use x=\"52.099609\" xlink:href=\"#DejaVuSans-97\"/>\n     <use x=\"113.378906\" xlink:href=\"#DejaVuSans-110\"/>\n     <use x=\"176.757812\" xlink:href=\"#DejaVuSans-100\"/>\n     <use x=\"240.234375\" xlink:href=\"#DejaVuSans-97\"/>\n     <use x=\"301.513672\" xlink:href=\"#DejaVuSans-108\"/>\n    </g>\n   </g>\n  </g>\n  <g id=\"axes_10\">\n   <g id=\"patch_47\">\n    <path d=\"M 10.7 182.33689 \nL 81.766038 182.33689 \nL 81.766038 111.270852 \nL 10.7 111.270852 \nz\n\" style=\"fill:#ffffff;\"/>\n   </g>\n   <g clip-path=\"url(#p1ef703bc4d)\">\n    <image height=\"72\" id=\"image8967a01392\" transform=\"scale(1 -1)translate(0 -72)\" width=\"72\" x=\"10.7\" xlink:href=\"data:image/png;base64,\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\" y=\"-110.33689\"/>\n   </g>\n   <g id=\"patch_48\">\n    <path d=\"M 10.7 182.33689 \nL 10.7 111.270852 \n\" style=\"fill:none;stroke:#000000;stroke-linecap:square;stroke-linejoin:miter;stroke-width:0.8;\"/>\n   </g>\n   <g id=\"patch_49\">\n    <path d=\"M 81.766038 182.33689 \nL 81.766038 111.270852 \n\" style=\"fill:none;stroke:#000000;stroke-linecap:square;stroke-linejoin:miter;stroke-width:0.8;\"/>\n   </g>\n   <g id=\"patch_50\">\n    <path d=\"M 10.7 182.33689 \nL 81.766038 182.33689 \n\" style=\"fill:none;stroke:#000000;stroke-linecap:square;stroke-linejoin:miter;stroke-width:0.8;\"/>\n   </g>\n   <g id=\"patch_51\">\n    <path d=\"M 10.7 111.270852 \nL 81.766038 111.270852 \n\" style=\"fill:none;stroke:#000000;stroke-linecap:square;stroke-linejoin:miter;stroke-width:0.8;\"/>\n   </g>\n   <g id=\"text_10\">\n    <!-- sandal -->\n    <g transform=\"translate(26.475206 105.270852)scale(0.12 -0.12)\">\n     <use xlink:href=\"#DejaVuSans-115\"/>\n     <use x=\"52.099609\" xlink:href=\"#DejaVuSans-97\"/>\n     <use x=\"113.378906\" xlink:href=\"#DejaVuSans-110\"/>\n     <use x=\"176.757812\" xlink:href=\"#DejaVuSans-100\"/>\n     <use x=\"240.234375\" xlink:href=\"#DejaVuSans-97\"/>\n     <use x=\"301.513672\" xlink:href=\"#DejaVuSans-108\"/>\n    </g>\n   </g>\n  </g>\n  <g id=\"axes_11\">\n   <g id=\"patch_52\">\n    <path d=\"M 95.979245 182.33689 \nL 167.045283 182.33689 \nL 167.045283 111.270852 \nL 95.979245 111.270852 \nz\n\" style=\"fill:#ffffff;\"/>\n   </g>\n   <g clip-path=\"url(#pb5960d4dbe)\">\n    <image height=\"72\" id=\"image07c57bd734\" transform=\"scale(1 -1)translate(0 -72)\" width=\"72\" x=\"95.979245\" xlink:href=\"data:image/png;base64,\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\" y=\"-110.33689\"/>\n   </g>\n   <g id=\"patch_53\">\n    <path d=\"M 95.979245 182.33689 \nL 95.979245 111.270852 \n\" style=\"fill:none;stroke:#000000;stroke-linecap:square;stroke-linejoin:miter;stroke-width:0.8;\"/>\n   </g>\n   <g id=\"patch_54\">\n    <path d=\"M 167.045283 182.33689 \nL 167.045283 111.270852 \n\" style=\"fill:none;stroke:#000000;stroke-linecap:square;stroke-linejoin:miter;stroke-width:0.8;\"/>\n   </g>\n   <g id=\"patch_55\">\n    <path d=\"M 95.979245 182.33689 \nL 167.045283 182.33689 \n\" style=\"fill:none;stroke:#000000;stroke-linecap:square;stroke-linejoin:miter;stroke-width:0.8;\"/>\n   </g>\n   <g id=\"patch_56\">\n    <path d=\"M 95.979245 111.270852 \nL 167.045283 111.270852 \n\" style=\"fill:none;stroke:#000000;stroke-linecap:square;stroke-linejoin:miter;stroke-width:0.8;\"/>\n   </g>\n   <g id=\"text_11\">\n    <!-- t-shirt -->\n    <g transform=\"translate(113.581639 105.270852)scale(0.12 -0.12)\">\n     <use xlink:href=\"#DejaVuSans-116\"/>\n     <use x=\"39.208984\" xlink:href=\"#DejaVuSans-45\"/>\n     <use x=\"75.292969\" xlink:href=\"#DejaVuSans-115\"/>\n     <use x=\"127.392578\" xlink:href=\"#DejaVuSans-104\"/>\n     <use x=\"190.771484\" xlink:href=\"#DejaVuSans-105\"/>\n     <use x=\"218.554688\" xlink:href=\"#DejaVuSans-114\"/>\n     <use x=\"259.667969\" xlink:href=\"#DejaVuSans-116\"/>\n    </g>\n   </g>\n  </g>\n  <g id=\"axes_12\">\n   <g id=\"patch_57\">\n    <path d=\"M 181.258491 182.33689 \nL 252.324528 182.33689 \nL 252.324528 111.270852 \nL 181.258491 111.270852 \nz\n\" style=\"fill:#ffffff;\"/>\n   </g>\n   <g clip-path=\"url(#pb2aa23a8f8)\">\n    <image height=\"72\" id=\"image4d4b6c9cde\" transform=\"scale(1 -1)translate(0 -72)\" width=\"72\" x=\"181.258491\" xlink:href=\"data:image/png;base64,\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\" y=\"-110.33689\"/>\n   </g>\n   <g id=\"patch_58\">\n    <path d=\"M 181.258491 182.33689 \nL 181.258491 111.270852 \n\" style=\"fill:none;stroke:#000000;stroke-linecap:square;stroke-linejoin:miter;stroke-width:0.8;\"/>\n   </g>\n   <g id=\"patch_59\">\n    <path d=\"M 252.324528 182.33689 \nL 252.324528 111.270852 \n\" style=\"fill:none;stroke:#000000;stroke-linecap:square;stroke-linejoin:miter;stroke-width:0.8;\"/>\n   </g>\n   <g id=\"patch_60\">\n    <path d=\"M 181.258491 182.33689 \nL 252.324528 182.33689 \n\" style=\"fill:none;stroke:#000000;stroke-linecap:square;stroke-linejoin:miter;stroke-width:0.8;\"/>\n   </g>\n   <g id=\"patch_61\">\n    <path d=\"M 181.258491 111.270852 \nL 252.324528 111.270852 \n\" style=\"fill:none;stroke:#000000;stroke-linecap:square;stroke-linejoin:miter;stroke-width:0.8;\"/>\n   </g>\n   <g id=\"text_12\">\n    <!-- ankle boot -->\n    <g transform=\"translate(185.068384 105.270852)scale(0.12 -0.12)\">\n     <use xlink:href=\"#DejaVuSans-97\"/>\n     <use x=\"61.279297\" xlink:href=\"#DejaVuSans-110\"/>\n     <use x=\"124.658203\" xlink:href=\"#DejaVuSans-107\"/>\n     <use x=\"182.568359\" xlink:href=\"#DejaVuSans-108\"/>\n     <use x=\"210.351562\" xlink:href=\"#DejaVuSans-101\"/>\n     <use x=\"271.875\" xlink:href=\"#DejaVuSans-32\"/>\n     <use x=\"303.662109\" xlink:href=\"#DejaVuSans-98\"/>\n     <use x=\"367.138672\" xlink:href=\"#DejaVuSans-111\"/>\n     <use x=\"428.320312\" xlink:href=\"#DejaVuSans-111\"/>\n     <use x=\"489.501953\" xlink:href=\"#DejaVuSans-116\"/>\n    </g>\n   </g>\n  </g>\n  <g id=\"axes_13\">\n   <g id=\"patch_62\">\n    <path d=\"M 266.537736 182.33689 \nL 337.603774 182.33689 \nL 337.603774 111.270852 \nL 266.537736 111.270852 \nz\n\" style=\"fill:#ffffff;\"/>\n   </g>\n   <g clip-path=\"url(#pfc16b04db6)\">\n    <image height=\"72\" id=\"image118a14d1bc\" transform=\"scale(1 -1)translate(0 -72)\" width=\"72\" x=\"266.537736\" xlink:href=\"data:image/png;base64,\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\" y=\"-110.33689\"/>\n   </g>\n   <g id=\"patch_63\">\n    <path d=\"M 266.537736 182.33689 \nL 266.537736 111.270852 \n\" style=\"fill:none;stroke:#000000;stroke-linecap:square;stroke-linejoin:miter;stroke-width:0.8;\"/>\n   </g>\n   <g id=\"patch_64\">\n    <path d=\"M 337.603774 182.33689 \nL 337.603774 111.270852 \n\" style=\"fill:none;stroke:#000000;stroke-linecap:square;stroke-linejoin:miter;stroke-width:0.8;\"/>\n   </g>\n   <g id=\"patch_65\">\n    <path d=\"M 266.537736 182.33689 \nL 337.603774 182.33689 \n\" style=\"fill:none;stroke:#000000;stroke-linecap:square;stroke-linejoin:miter;stroke-width:0.8;\"/>\n   </g>\n   <g id=\"patch_66\">\n    <path d=\"M 266.537736 111.270852 \nL 337.603774 111.270852 \n\" style=\"fill:none;stroke:#000000;stroke-linecap:square;stroke-linejoin:miter;stroke-width:0.8;\"/>\n   </g>\n   <g id=\"text_13\">\n    <!-- sandal -->\n    <g transform=\"translate(282.312942 105.270852)scale(0.12 -0.12)\">\n     <use xlink:href=\"#DejaVuSans-115\"/>\n     <use x=\"52.099609\" xlink:href=\"#DejaVuSans-97\"/>\n     <use x=\"113.378906\" xlink:href=\"#DejaVuSans-110\"/>\n     <use x=\"176.757812\" xlink:href=\"#DejaVuSans-100\"/>\n     <use x=\"240.234375\" xlink:href=\"#DejaVuSans-97\"/>\n     <use x=\"301.513672\" xlink:href=\"#DejaVuSans-108\"/>\n    </g>\n   </g>\n  </g>\n  <g id=\"axes_14\">\n   <g id=\"patch_67\">\n    <path d=\"M 351.816981 182.33689 \nL 422.883019 182.33689 \nL 422.883019 111.270852 \nL 351.816981 111.270852 \nz\n\" style=\"fill:#ffffff;\"/>\n   </g>\n   <g clip-path=\"url(#p6ce2ee7752)\">\n    <image height=\"72\" id=\"image56e8e90342\" transform=\"scale(1 -1)translate(0 -72)\" width=\"72\" x=\"351.816981\" xlink:href=\"data:image/png;base64,\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\" y=\"-110.33689\"/>\n   </g>\n   <g id=\"patch_68\">\n    <path d=\"M 351.816981 182.33689 \nL 351.816981 111.270852 \n\" style=\"fill:none;stroke:#000000;stroke-linecap:square;stroke-linejoin:miter;stroke-width:0.8;\"/>\n   </g>\n   <g id=\"patch_69\">\n    <path d=\"M 422.883019 182.33689 \nL 422.883019 111.270852 \n\" style=\"fill:none;stroke:#000000;stroke-linecap:square;stroke-linejoin:miter;stroke-width:0.8;\"/>\n   </g>\n   <g id=\"patch_70\">\n    <path d=\"M 351.816981 182.33689 \nL 422.883019 182.33689 \n\" style=\"fill:none;stroke:#000000;stroke-linecap:square;stroke-linejoin:miter;stroke-width:0.8;\"/>\n   </g>\n   <g id=\"patch_71\">\n    <path d=\"M 351.816981 111.270852 \nL 422.883019 111.270852 \n\" style=\"fill:none;stroke:#000000;stroke-linecap:square;stroke-linejoin:miter;stroke-width:0.8;\"/>\n   </g>\n   <g id=\"text_14\">\n    <!-- sandal -->\n    <g transform=\"translate(367.592188 105.270852)scale(0.12 -0.12)\">\n     <use xlink:href=\"#DejaVuSans-115\"/>\n     <use x=\"52.099609\" xlink:href=\"#DejaVuSans-97\"/>\n     <use x=\"113.378906\" xlink:href=\"#DejaVuSans-110\"/>\n     <use x=\"176.757812\" xlink:href=\"#DejaVuSans-100\"/>\n     <use x=\"240.234375\" xlink:href=\"#DejaVuSans-97\"/>\n     <use x=\"301.513672\" xlink:href=\"#DejaVuSans-108\"/>\n    </g>\n   </g>\n  </g>\n  <g id=\"axes_15\">\n   <g id=\"patch_72\">\n    <path d=\"M 437.096226 182.33689 \nL 508.162264 182.33689 \nL 508.162264 111.270852 \nL 437.096226 111.270852 \nz\n\" style=\"fill:#ffffff;\"/>\n   </g>\n   <g clip-path=\"url(#p27ce512827)\">\n    <image height=\"72\" id=\"image0fcba54466\" transform=\"scale(1 -1)translate(0 -72)\" width=\"72\" x=\"437.096226\" xlink:href=\"data:image/png;base64,\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\" y=\"-110.33689\"/>\n   </g>\n   <g id=\"patch_73\">\n    <path d=\"M 437.096226 182.33689 \nL 437.096226 111.270852 \n\" style=\"fill:none;stroke:#000000;stroke-linecap:square;stroke-linejoin:miter;stroke-width:0.8;\"/>\n   </g>\n   <g id=\"patch_74\">\n    <path d=\"M 508.162264 182.33689 \nL 508.162264 111.270852 \n\" style=\"fill:none;stroke:#000000;stroke-linecap:square;stroke-linejoin:miter;stroke-width:0.8;\"/>\n   </g>\n   <g id=\"patch_75\">\n    <path d=\"M 437.096226 182.33689 \nL 508.162264 182.33689 \n\" style=\"fill:none;stroke:#000000;stroke-linecap:square;stroke-linejoin:miter;stroke-width:0.8;\"/>\n   </g>\n   <g id=\"patch_76\">\n    <path d=\"M 437.096226 111.270852 \nL 508.162264 111.270852 \n\" style=\"fill:none;stroke:#000000;stroke-linecap:square;stroke-linejoin:miter;stroke-width:0.8;\"/>\n   </g>\n   <g id=\"text_15\">\n    <!-- sneaker -->\n    <g transform=\"translate(448.917058 105.270852)scale(0.12 -0.12)\">\n     <use xlink:href=\"#DejaVuSans-115\"/>\n     <use x=\"52.099609\" xlink:href=\"#DejaVuSans-110\"/>\n     <use x=\"115.478516\" xlink:href=\"#DejaVuSans-101\"/>\n     <use x=\"177.001953\" xlink:href=\"#DejaVuSans-97\"/>\n     <use x=\"238.28125\" xlink:href=\"#DejaVuSans-107\"/>\n     <use x=\"292.566406\" xlink:href=\"#DejaVuSans-101\"/>\n     <use x=\"354.089844\" xlink:href=\"#DejaVuSans-114\"/>\n    </g>\n   </g>\n  </g>\n  <g id=\"axes_16\">\n   <g id=\"patch_77\">\n    <path d=\"M 522.375472 182.33689 \nL 593.441509 182.33689 \nL 593.441509 111.270852 \nL 522.375472 111.270852 \nz\n\" style=\"fill:#ffffff;\"/>\n   </g>\n   <g clip-path=\"url(#p8a8e8e951a)\">\n    <image height=\"72\" id=\"imaged00937c643\" transform=\"scale(1 -1)translate(0 -72)\" width=\"72\" x=\"522.375472\" xlink:href=\"data:image/png;base64,\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\" y=\"-110.33689\"/>\n   </g>\n   <g id=\"patch_78\">\n    <path d=\"M 522.375472 182.33689 \nL 522.375472 111.270852 \n\" style=\"fill:none;stroke:#000000;stroke-linecap:square;stroke-linejoin:miter;stroke-width:0.8;\"/>\n   </g>\n   <g id=\"patch_79\">\n    <path d=\"M 593.441509 182.33689 \nL 593.441509 111.270852 \n\" style=\"fill:none;stroke:#000000;stroke-linecap:square;stroke-linejoin:miter;stroke-width:0.8;\"/>\n   </g>\n   <g id=\"patch_80\">\n    <path d=\"M 522.375472 182.33689 \nL 593.441509 182.33689 \n\" style=\"fill:none;stroke:#000000;stroke-linecap:square;stroke-linejoin:miter;stroke-width:0.8;\"/>\n   </g>\n   <g id=\"patch_81\">\n    <path d=\"M 522.375472 111.270852 \nL 593.441509 111.270852 \n\" style=\"fill:none;stroke:#000000;stroke-linecap:square;stroke-linejoin:miter;stroke-width:0.8;\"/>\n   </g>\n   <g id=\"text_16\">\n    <!-- ankle boot -->\n    <g transform=\"translate(526.185366 105.270852)scale(0.12 -0.12)\">\n     <use xlink:href=\"#DejaVuSans-97\"/>\n     <use x=\"61.279297\" xlink:href=\"#DejaVuSans-110\"/>\n     <use x=\"124.658203\" xlink:href=\"#DejaVuSans-107\"/>\n     <use x=\"182.568359\" xlink:href=\"#DejaVuSans-108\"/>\n     <use x=\"210.351562\" xlink:href=\"#DejaVuSans-101\"/>\n     <use x=\"271.875\" xlink:href=\"#DejaVuSans-32\"/>\n     <use x=\"303.662109\" xlink:href=\"#DejaVuSans-98\"/>\n     <use x=\"367.138672\" xlink:href=\"#DejaVuSans-111\"/>\n     <use x=\"428.320312\" xlink:href=\"#DejaVuSans-111\"/>\n     <use x=\"489.501953\" xlink:href=\"#DejaVuSans-116\"/>\n    </g>\n   </g>\n  </g>\n  <g id=\"axes_17\">\n   <g id=\"patch_82\">\n    <path d=\"M 607.654717 182.33689 \nL 678.720755 182.33689 \nL 678.720755 111.270852 \nL 607.654717 111.270852 \nz\n\" style=\"fill:#ffffff;\"/>\n   </g>\n   <g clip-path=\"url(#p4e2e834f0b)\">\n    <image height=\"72\" id=\"imagefd14ad8ff6\" transform=\"scale(1 -1)translate(0 -72)\" width=\"72\" x=\"607.654717\" xlink:href=\"data:image/png;base64,\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\" y=\"-110.33689\"/>\n   </g>\n   <g id=\"patch_83\">\n    <path d=\"M 607.654717 182.33689 \nL 607.654717 111.270852 \n\" style=\"fill:none;stroke:#000000;stroke-linecap:square;stroke-linejoin:miter;stroke-width:0.8;\"/>\n   </g>\n   <g id=\"patch_84\">\n    <path d=\"M 678.720755 182.33689 \nL 678.720755 111.270852 \n\" style=\"fill:none;stroke:#000000;stroke-linecap:square;stroke-linejoin:miter;stroke-width:0.8;\"/>\n   </g>\n   <g id=\"patch_85\">\n    <path d=\"M 607.654717 182.33689 \nL 678.720755 182.33689 \n\" style=\"fill:none;stroke:#000000;stroke-linecap:square;stroke-linejoin:miter;stroke-width:0.8;\"/>\n   </g>\n   <g id=\"patch_86\">\n    <path d=\"M 607.654717 111.270852 \nL 678.720755 111.270852 \n\" style=\"fill:none;stroke:#000000;stroke-linecap:square;stroke-linejoin:miter;stroke-width:0.8;\"/>\n   </g>\n   <g id=\"text_17\">\n    <!-- trouser -->\n    <g transform=\"translate(621.746173 105.270852)scale(0.12 -0.12)\">\n     <use xlink:href=\"#DejaVuSans-116\"/>\n     <use x=\"39.208984\" xlink:href=\"#DejaVuSans-114\"/>\n     <use x=\"78.072266\" xlink:href=\"#DejaVuSans-111\"/>\n     <use x=\"139.253906\" xlink:href=\"#DejaVuSans-117\"/>\n     <use x=\"202.632812\" xlink:href=\"#DejaVuSans-115\"/>\n     <use x=\"254.732422\" xlink:href=\"#DejaVuSans-101\"/>\n     <use x=\"316.255859\" xlink:href=\"#DejaVuSans-114\"/>\n    </g>\n   </g>\n  </g>\n  <g id=\"axes_18\">\n   <g id=\"patch_87\">\n    <path d=\"M 692.933962 182.33689 \nL 764 182.33689 \nL 764 111.270852 \nL 692.933962 111.270852 \nz\n\" style=\"fill:#ffffff;\"/>\n   </g>\n   <g clip-path=\"url(#p9b56123054)\">\n    <image height=\"72\" id=\"image7b97a2e68d\" transform=\"scale(1 -1)translate(0 -72)\" width=\"72\" x=\"692.933962\" xlink:href=\"data:image/png;base64,\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\" y=\"-110.33689\"/>\n   </g>\n   <g id=\"patch_88\">\n    <path d=\"M 692.933962 182.33689 \nL 692.933962 111.270852 \n\" style=\"fill:none;stroke:#000000;stroke-linecap:square;stroke-linejoin:miter;stroke-width:0.8;\"/>\n   </g>\n   <g id=\"patch_89\">\n    <path d=\"M 764 182.33689 \nL 764 111.270852 \n\" style=\"fill:none;stroke:#000000;stroke-linecap:square;stroke-linejoin:miter;stroke-width:0.8;\"/>\n   </g>\n   <g id=\"patch_90\">\n    <path d=\"M 692.933962 182.33689 \nL 764 182.33689 \n\" style=\"fill:none;stroke:#000000;stroke-linecap:square;stroke-linejoin:miter;stroke-width:0.8;\"/>\n   </g>\n   <g id=\"patch_91\">\n    <path d=\"M 692.933962 111.270852 \nL 764 111.270852 \n\" style=\"fill:none;stroke:#000000;stroke-linecap:square;stroke-linejoin:miter;stroke-width:0.8;\"/>\n   </g>\n   <g id=\"text_18\">\n    <!-- t-shirt -->\n    <g transform=\"translate(710.536356 105.270852)scale(0.12 -0.12)\">\n     <use xlink:href=\"#DejaVuSans-116\"/>\n     <use x=\"39.208984\" xlink:href=\"#DejaVuSans-45\"/>\n     <use x=\"75.292969\" xlink:href=\"#DejaVuSans-115\"/>\n     <use x=\"127.392578\" xlink:href=\"#DejaVuSans-104\"/>\n     <use x=\"190.771484\" xlink:href=\"#DejaVuSans-105\"/>\n     <use x=\"218.554688\" xlink:href=\"#DejaVuSans-114\"/>\n     <use x=\"259.667969\" xlink:href=\"#DejaVuSans-116\"/>\n    </g>\n   </g>\n  </g>\n </g>\n <defs>\n  <clipPath id=\"p35ca6aab8d\">\n   <rect height=\"71.066038\" width=\"71.066038\" x=\"10.7\" y=\"22.318125\"/>\n  </clipPath>\n  <clipPath id=\"p4272d9a1c4\">\n   <rect height=\"71.066038\" width=\"71.066038\" x=\"95.979245\" y=\"22.318125\"/>\n  </clipPath>\n  <clipPath id=\"p311f72a09c\">\n   <rect height=\"71.066038\" width=\"71.066038\" x=\"181.258491\" y=\"22.318125\"/>\n  </clipPath>\n  <clipPath id=\"p9bea089af2\">\n   <rect height=\"71.066038\" width=\"71.066038\" x=\"266.537736\" y=\"22.318125\"/>\n  </clipPath>\n  <clipPath id=\"p823b78e3e1\">\n   <rect height=\"71.066038\" width=\"71.066038\" x=\"351.816981\" y=\"22.318125\"/>\n  </clipPath>\n  <clipPath id=\"pef7f18a401\">\n   <rect height=\"71.066038\" width=\"71.066038\" x=\"437.096226\" y=\"22.318125\"/>\n  </clipPath>\n  <clipPath id=\"pf57cf1c883\">\n   <rect height=\"71.066038\" width=\"71.066038\" x=\"522.375472\" y=\"22.318125\"/>\n  </clipPath>\n  <clipPath id=\"pd88a397c23\">\n   <rect height=\"71.066038\" width=\"71.066038\" x=\"607.654717\" y=\"22.318125\"/>\n  </clipPath>\n  <clipPath id=\"pb07a17173d\">\n   <rect height=\"71.066038\" width=\"71.066038\" x=\"692.933962\" y=\"22.318125\"/>\n  </clipPath>\n  <clipPath id=\"p1ef703bc4d\">\n   <rect height=\"71.066038\" width=\"71.066038\" x=\"10.7\" y=\"111.270852\"/>\n  </clipPath>\n  <clipPath id=\"pb5960d4dbe\">\n   <rect height=\"71.066038\" width=\"71.066038\" x=\"95.979245\" y=\"111.270852\"/>\n  </clipPath>\n  <clipPath id=\"pb2aa23a8f8\">\n   <rect height=\"71.066038\" width=\"71.066038\" x=\"181.258491\" y=\"111.270852\"/>\n  </clipPath>\n  <clipPath id=\"pfc16b04db6\">\n   <rect height=\"71.066038\" width=\"71.066038\" x=\"266.537736\" y=\"111.270852\"/>\n  </clipPath>\n  <clipPath id=\"p6ce2ee7752\">\n   <rect height=\"71.066038\" width=\"71.066038\" x=\"351.816981\" y=\"111.270852\"/>\n  </clipPath>\n  <clipPath id=\"p27ce512827\">\n   <rect height=\"71.066038\" width=\"71.066038\" x=\"437.096226\" y=\"111.270852\"/>\n  </clipPath>\n  <clipPath id=\"p8a8e8e951a\">\n   <rect height=\"71.066038\" width=\"71.066038\" x=\"522.375472\" y=\"111.270852\"/>\n  </clipPath>\n  <clipPath id=\"p4e2e834f0b\">\n   <rect height=\"71.066038\" width=\"71.066038\" x=\"607.654717\" y=\"111.270852\"/>\n  </clipPath>\n  <clipPath id=\"p9b56123054\">\n   <rect height=\"71.066038\" width=\"71.066038\" x=\"692.933962\" y=\"111.270852\"/>\n  </clipPath>\n </defs>\n</svg>\n"
          },
          "metadata": {
            "needs_background": "light"
          }
        }
      ]
    },
    {
      "cell_type": "markdown",
      "source": [
        "3.5.2 Reading a Minibatch"
      ],
      "metadata": {
        "id": "z4Gbv4BWxRMC"
      }
    }
  ]
}
