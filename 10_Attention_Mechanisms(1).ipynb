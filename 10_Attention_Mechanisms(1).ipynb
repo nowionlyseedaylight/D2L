{
  "nbformat": 4,
  "nbformat_minor": 0,
  "metadata": {
    "colab": {
      "name": "10. Attention Mechanisms(1).ipynb",
      "provenance": [],
      "authorship_tag": "ABX9TyNC5rKFrDQhQss2ga80opee"
    },
    "kernelspec": {
      "name": "python3",
      "display_name": "Python 3"
    },
    "language_info": {
      "name": "python"
    }
  },
  "cells": [
    {
      "cell_type": "code",
      "execution_count": null,
      "metadata": {
        "id": "vhImezqxLGkL"
      },
      "outputs": [],
      "source": [
        "!pip install d2l==0.14.2"
      ]
    },
    {
      "cell_type": "markdown",
      "source": [
        "# **10.5 Multi-Head Attention**\n",
        "\n",
        "10.5.1 Model\n",
        "\n",
        "10.5.2 Implementation\n"
      ],
      "metadata": {
        "id": "GpOVtpCBLfVO"
      }
    },
    {
      "cell_type": "code",
      "source": [
        "import math\n",
        "import torch\n",
        "from torch import nn\n",
        "from d2l import torch as d2l"
      ],
      "metadata": {
        "id": "u9j_wJjELocA"
      },
      "execution_count": null,
      "outputs": []
    },
    {
      "cell_type": "code",
      "source": [
        "#@save\n",
        "  class MultiHeadAttention(nn.Module):\n",
        "  \"\"\"Multi-head attention.\"\"\"\n",
        "  def __init__(self, key_size, query_size, value_size, num_hiddens,\n",
        "      num_heads, dropout, bias=False, **kwargs):\n",
        "        super(MultiHeadAttention, self).__init__(**kwargs)\n",
        "        self.num_heads = num_heads\n",
        "        self.attention = d2l.DotProductAttention(dropout)\n",
        "        self.W_q = nn.Linear(query_size, num_hiddens, bias=bias)\n",
        "        self.W_k = nn.Linear(key_size, num_hiddens, bias=bias)\n",
        "        self.W_v = nn.Linear(value_size, num_hiddens, bias=bias)\n",
        "        self.W_o = nn.Linear(num_hiddens, num_hiddens, bias=bias)\n",
        "\n",
        "  def forward(self, queries, keys, values, valid_lens):\n",
        "    # Shape of `queries`, `keys`, or `values`:\n",
        "    # (`batch_size`, no. of queries or key-value pairs, `num_hiddens`)\n",
        "    # Shape of `valid_lens`:\n",
        "    # (`batch_size`,) or (`batch_size`, no. of queries)\n",
        "    # After transposing, shape of output `queries`, `keys`, or `values`:\n",
        "    # (`batch_size` * `num_heads`, no. of queries or key-value pairs,\n",
        "    # `num_hiddens` / `num_heads`)\n",
        "    queries = transpose_qkv(self.W_q(queries), self.num_heads)\n",
        "    keys = transpose_qkv(self.W_k(keys), self.num_heads)\n",
        "    values = transpose_qkv(self.W_v(values), self.num_heads)\n",
        "    if valid_lens is not None:\n",
        "      # On axis 0, copy the first item (scalar or vector) for\n",
        "      # `num_heads` times, then copy the next item, and so on\n",
        "      valid_lens = torch.repeat_interleave(\n",
        "        valid_lens, repeats=self.num_heads, dim=0)\n",
        "      \n",
        "    # Shape of `output`: (`batch_size` * `num_heads`, no. of queries,\n",
        "    # `num_hiddens` / `num_heads`)\n",
        "    output = self.attention(queries, keys, values, valid_lens)\n",
        "\n",
        "    # Shape of `output_concat`:\n",
        "    # (`batch_size`, no. of queries, `num_hiddens`)\n",
        "    output_concat = transpose_output(output, self.num_heads)\n",
        "    return self.W_o(output_concat)"
      ],
      "metadata": {
        "id": "lyRgYkTcLvGY"
      },
      "execution_count": null,
      "outputs": []
    },
    {
      "cell_type": "code",
      "source": [
        "#@save\n",
        "def transpose_qkv(X, num_heads):\n",
        "  \"\"\"Transposition for parallel computation of multiple attention heads.\"\"\"\n",
        "  # Shape of input `X`:\n",
        "  # (`batch_size`, no. of queries or key-value pairs, `num_hiddens`).\n",
        "  # Shape of output `X`:\n",
        "  # (`batch_size`, no. of queries or key-value pairs, `num_heads`,\n",
        "  # `num_hiddens` / `num_heads`)\n",
        "  X = X.reshape(X.shape[0], X.shape[1], num_heads, -1)\n",
        "  # Shape of output `X`:\n",
        "\n",
        "  # (`batch_size`, `num_heads`, no. of queries or key-value pairs,\n",
        "  # `num_hiddens` / `num_heads`)\n",
        "  X = X.permute(0, 2, 1, 3)\n",
        "  # Shape of `output`:\n",
        "  # (`batch_size` * `num_heads`, no. of queries or key-value pairs,\n",
        "  # `num_hiddens` / `num_heads`)\n",
        "  return X.reshape(-1, X.shape[2], X.shape[3])\n",
        "\n",
        "#@save\n",
        "def transpose_output(X, num_heads):\n",
        "  \"\"\"Reverse the operation of `transpose_qkv`.\"\"\"\n",
        "  X = X.reshape(-1, num_heads, X.shape[1], X.shape[2])\n",
        "  X = X.permute(0, 2, 1, 3)\n",
        "  return X.reshape(X.shape[0], X.shape[1], -1)"
      ],
      "metadata": {
        "id": "aLxTjKRuMICs"
      },
      "execution_count": null,
      "outputs": []
    },
    {
      "cell_type": "code",
      "source": [
        "num_hiddens, num_heads = 100, 5\n",
        "attention = MultiHeadAttention(num_hiddens, num_hiddens, num_hiddens,\n",
        "num_hiddens, num_heads, 0.5)\n",
        "attention.eval()"
      ],
      "metadata": {
        "id": "WtFNSngYMWT2"
      },
      "execution_count": null,
      "outputs": []
    },
    {
      "cell_type": "code",
      "source": [
        "batch_size, num_queries, num_kvpairs, valid_lens = 2, 4, 6, torch.tensor([3, 2])\n",
        "X = torch.ones((batch_size, num_queries, num_hiddens))\n",
        "Y = torch.ones((batch_size, num_kvpairs, num_hiddens))\n",
        "attention(X, Y, Y, valid_lens).shape"
      ],
      "metadata": {
        "id": "usr9lzBRMWso"
      },
      "execution_count": null,
      "outputs": []
    },
    {
      "cell_type": "markdown",
      "source": [
        "# **10.6 Self-Attention and Positional Encoding**"
      ],
      "metadata": {
        "id": "M1WbuK73MaC_"
      }
    },
    {
      "cell_type": "code",
      "source": [
        "import math\n",
        "import torch\n",
        "from torch import nn\n",
        "from d2l import torch as d2l"
      ],
      "metadata": {
        "id": "-wdqdcT3Mb-M"
      },
      "execution_count": null,
      "outputs": []
    },
    {
      "cell_type": "markdown",
      "source": [
        "10.6.1 Self-Attention"
      ],
      "metadata": {
        "id": "O4YQeqdRMdtr"
      }
    },
    {
      "cell_type": "code",
      "source": [
        "num_hiddens, num_heads = 100, 5\n",
        "attention = d2l.MultiHeadAttention(num_hiddens, num_hiddens, num_hiddens,\n",
        "      num_hiddens, num_heads, 0.5)\n",
        "attention.eval()"
      ],
      "metadata": {
        "id": "t4vUW8VnMeNP"
      },
      "execution_count": null,
      "outputs": []
    },
    {
      "cell_type": "code",
      "source": [
        "batch_size, num_queries, valid_lens = 2, 4, torch.tensor([3, 2])\n",
        "X = torch.ones((batch_size, num_queries, num_hiddens))\n",
        "attention(X, X, X, valid_lens).shape"
      ],
      "metadata": {
        "id": "1jo7_lZzMiKB"
      },
      "execution_count": null,
      "outputs": []
    },
    {
      "cell_type": "markdown",
      "source": [
        "10.6.2 Comparing CNNs, RNNs, and Self-Attention\n",
        "\n",
        "10.6.3 Positional Encoding"
      ],
      "metadata": {
        "id": "14XKhzocMkBX"
      }
    },
    {
      "cell_type": "code",
      "source": [
        "#@save\n",
        "class PositionalEncoding(nn.Module):\n",
        "  \"\"\"Positional encoding.\"\"\"\n",
        "  def __init__(self, num_hiddens, dropout, max_len=1000):\n",
        "    super(PositionalEncoding, self).__init__()\n",
        "    self.dropout = nn.Dropout(dropout)\n",
        "    # Create a long enough `P`\n",
        "    self.P = torch.zeros((1, max_len, num_hiddens))\n",
        "    X = torch.arange(max_len, dtype=torch.float32).reshape(\n",
        "      -1, 1) / torch.pow(10000, torch.arange(\n",
        "       0, num_hiddens, 2, dtype=torch.float32) / num_hiddens)\n",
        "    self.P[:, :, 0::2] = torch.sin(X)\n",
        "    self.P[:, :, 1::2] = torch.cos(X)\n",
        "\n",
        "  def forward(self, X):\n",
        "    X = X + self.P[:, :X.shape[1], :].to(X.device)\n",
        "    return self.dropout(X)"
      ],
      "metadata": {
        "id": "8NIXVDQFMjrC"
      },
      "execution_count": null,
      "outputs": []
    },
    {
      "cell_type": "code",
      "source": [
        "encoding_dim, num_steps = 32, 60\n",
        "pos_encoding = PositionalEncoding(encoding_dim, 0)\n",
        "pos_encoding.eval()\n",
        "X = pos_encoding(torch.zeros((1, num_steps, encoding_dim)))\n",
        "P = pos_encoding.P[:, :X.shape[1], :]\n",
        "d2l.plot(torch.arange(num_steps), P[0, :, 6:10].T, xlabel='Row (position)',\n",
        "    figsize=(6, 2.5), legend=[\"Col %d\" % d for d in torch.arange(6, 10)])"
      ],
      "metadata": {
        "id": "LWOWI4h2NCEz"
      },
      "execution_count": null,
      "outputs": []
    },
    {
      "cell_type": "code",
      "source": [
        "for i in range(8):\n",
        "print(f'{i} in binary is {i:>03b}')"
      ],
      "metadata": {
        "id": "yUJC8akyNFkZ"
      },
      "execution_count": null,
      "outputs": []
    },
    {
      "cell_type": "code",
      "source": [
        "P = P[0, :, :].unsqueeze(0).unsqueeze(0)\n",
        "d2l.show_heatmaps(P, xlabel='Column (encoding dimension)',\n",
        "          ylabel='Row (position)', figsize=(3.5, 4), cmap='Blues')"
      ],
      "metadata": {
        "id": "vidP81P5NH7h"
      },
      "execution_count": null,
      "outputs": []
    },
    {
      "cell_type": "markdown",
      "source": [
        "# **10.7 Transformer**\n",
        "\n",
        "10.7.1 Model"
      ],
      "metadata": {
        "id": "Y5dCUQH8NLS5"
      }
    },
    {
      "cell_type": "code",
      "source": [
        "import math\n",
        "import pandas as pd\n",
        "import torch\n",
        "from torch import nn\n",
        "from d2l import torch as d2l"
      ],
      "metadata": {
        "id": "r9iT3avmNPTJ"
      },
      "execution_count": null,
      "outputs": []
    },
    {
      "cell_type": "markdown",
      "source": [
        "10.7.2 Positionwise Feed-Forward Networks"
      ],
      "metadata": {
        "id": "PZCHAsyBNPvG"
      }
    },
    {
      "cell_type": "code",
      "source": [
        "#@save\n",
        "class PositionWiseFFN(nn.Module):\n",
        "  \"\"\"Positionwise feed-forward network.\"\"\"\n",
        "  def __init__(self, ffn_num_input, ffn_num_hiddens, ffn_num_outputs,\n",
        "        **kwargs):\n",
        "    super(PositionWiseFFN, self).__init__(**kwargs)\n",
        "    self.dense1 = nn.Linear(ffn_num_input, ffn_num_hiddens)\n",
        "    self.relu = nn.ReLU()\n",
        "    self.dense2 = nn.Linear(ffn_num_hiddens, ffn_num_outputs)\n",
        "\n",
        "  def forward(self, X):\n",
        "    return self.dense2(self.relu(self.dense1(X)))"
      ],
      "metadata": {
        "id": "bmChDsIkNRJS"
      },
      "execution_count": null,
      "outputs": []
    },
    {
      "cell_type": "code",
      "source": [
        "ffn = PositionWiseFFN(4, 4, 8)\n",
        "ffn.eval()\n",
        "ffn(torch.ones((2, 3, 4)))[0]"
      ],
      "metadata": {
        "id": "FH7ndtleNYVU"
      },
      "execution_count": null,
      "outputs": []
    },
    {
      "cell_type": "markdown",
      "source": [
        "10.7.3 Residual Connection and Layer Normalization"
      ],
      "metadata": {
        "id": "ZGpKpaSvNZ_J"
      }
    },
    {
      "cell_type": "code",
      "source": [
        "ln = nn.LayerNorm(2)\n",
        "bn = nn.BatchNorm1d(2)\n",
        "X = torch.tensor([[1, 2], [2, 3]], dtype=torch.float32)\n",
        "# Compute mean and variance from `X` in the training mode\n",
        "print('layer norm:', ln(X), '\\nbatch norm:', bn(X))"
      ],
      "metadata": {
        "id": "GMg1wVkzNaWC"
      },
      "execution_count": null,
      "outputs": []
    },
    {
      "cell_type": "code",
      "source": [
        "#@save\n",
        "class AddNorm(nn.Module):\n",
        "  \"\"\"Residual connection followed by layer normalization.\"\"\"\n",
        "  def __init__(self, normalized_shape, dropout, **kwargs):\n",
        "    super(AddNorm, self).__init__(**kwargs)\n",
        "    self.dropout = nn.Dropout(dropout)\n",
        "    self.ln = nn.LayerNorm(normalized_shape)\n",
        "\n",
        "  def forward(self, X, Y):\n",
        "    return self.ln(self.dropout(Y) + X)"
      ],
      "metadata": {
        "id": "kPGMfzMdNexJ"
      },
      "execution_count": null,
      "outputs": []
    },
    {
      "cell_type": "code",
      "source": [
        "add_norm = AddNorm([3, 4], 0.5) # Normalized_shape is input.size()[1:]\n",
        "add_norm.eval()\n",
        "add_norm(torch.ones((2, 3, 4)), torch.ones((2, 3, 4))).shape"
      ],
      "metadata": {
        "id": "fpqyJ18gNjaz"
      },
      "execution_count": null,
      "outputs": []
    },
    {
      "cell_type": "markdown",
      "source": [
        "10.7.4 Encoder"
      ],
      "metadata": {
        "id": "SM41UCwVNj10"
      }
    },
    {
      "cell_type": "code",
      "source": [
        "#@save\n",
        "class EncoderBlock(nn.Module):\n",
        "  \"\"\"Transformer encoder block.\"\"\"\n",
        "  def __init__(self, key_size, query_size, value_size, num_hiddens,\n",
        "      norm_shape, ffn_num_input, ffn_num_hiddens, num_heads,\n",
        "      dropout, use_bias=False, **kwargs):\n",
        "    super(EncoderBlock, self).__init__(**kwargs)\n",
        "    self.attention = d2l.MultiHeadAttention(\n",
        "          key_size, query_size, value_size, num_hiddens, num_heads, dropout,\n",
        "          use_bias)\n",
        "    self.addnorm1 = AddNorm(norm_shape, dropout)\n",
        "    self.ffn = PositionWiseFFN(\n",
        "        ffn_num_input, ffn_num_hiddens, num_hiddens)\n",
        "    self.addnorm2 = AddNorm(norm_shape, dropout)\n",
        "\n",
        "  def forward(self, X, valid_lens):\n",
        "    Y = self.addnorm1(X, self.attention(X, X, X, valid_lens))\n",
        "    return self.addnorm2(Y, self.ffn(Y))"
      ],
      "metadata": {
        "id": "zdA99mcjNlL9"
      },
      "execution_count": null,
      "outputs": []
    },
    {
      "cell_type": "code",
      "source": [
        "X = torch.ones((2, 100, 24))\n",
        "valid_lens = torch.tensor([3, 2])\n",
        "encoder_blk = EncoderBlock(24, 24, 24, 24, [100, 24], 24, 48, 8, 0.5)\n",
        "encoder_blk.eval()\n",
        "encoder_blk(X, valid_lens).shape"
      ],
      "metadata": {
        "id": "2AalArOQNvo0"
      },
      "execution_count": null,
      "outputs": []
    },
    {
      "cell_type": "code",
      "source": [
        "#@save\n",
        "class TransformerEncoder(d2l.Encoder):\n",
        "  \"\"\"Transformer encoder.\"\"\"\n",
        "  def __init__(self, vocab_size, key_size, query_size, value_size,\n",
        "        num_hiddens, norm_shape, ffn_num_input, ffn_num_hiddens,\n",
        "        num_heads, num_layers, dropout, use_bias=False, **kwargs):\n",
        "    super(TransformerEncoder, self).__init__(**kwargs)\n",
        "    self.num_hiddens = num_hiddens\n",
        "    self.embedding = nn.Embedding(vocab_size, num_hiddens)\n",
        "    self.pos_encoding = d2l.PositionalEncoding(num_hiddens, dropout)\n",
        "    self.blks = nn.Sequential()\n",
        "    for i in range(num_layers):\n",
        "      self.blks.add_module(\"block\"+str(i),\n",
        "        EncoderBlock(key_size, query_size, value_size, num_hiddens,\n",
        "        norm_shape, ffn_num_input, ffn_num_hiddens,\n",
        "        num_heads, dropout, use_bias))\n",
        "      \n",
        "  def forward(self, X, valid_lens, *args):\n",
        "    # Since positional encoding values are between -1 and 1, the embedding\n",
        "    # values are multiplied by the square root of the embedding dimension\n",
        "    # to rescale before they are summed up\n",
        "    X = self.pos_encoding(self.embedding(X) * math.sqrt(self.num_hiddens))\n",
        "    self.attention_weights = [None] * len(self.blks)\n",
        "    for i, blk in enumerate(self.blks):\n",
        "      X = blk(X, valid_lens)\n",
        "      self.attention_weights[\n",
        "        i] = blk.attention.attention.attention_weights\n",
        "    return X"
      ],
      "metadata": {
        "id": "JaT1dlsQNx2W"
      },
      "execution_count": null,
      "outputs": []
    },
    {
      "cell_type": "code",
      "source": [
        "encoder = TransformerEncoder(\n",
        "  200, 24, 24, 24, 24, [100, 24], 24, 48, 8, 2, 0.5)\n",
        "encoder.eval()\n",
        "encoder(torch.ones((2, 100), dtype=torch.long), valid_lens).shape"
      ],
      "metadata": {
        "id": "L6Qv0rGJOC_t"
      },
      "execution_count": null,
      "outputs": []
    },
    {
      "cell_type": "markdown",
      "source": [
        "10.7.5 Decoder"
      ],
      "metadata": {
        "id": "hH1FYt_BOFg-"
      }
    },
    {
      "cell_type": "code",
      "source": [
        "class DecoderBlock(nn.Module):\n",
        "  # The `i`-th block in the decoder\n",
        "  def __init__(self, key_size, query_size, value_size, num_hiddens,\n",
        "      norm_shape, ffn_num_input, ffn_num_hiddens, num_heads,\n",
        "      dropout, i, **kwargs):\n",
        "    super(DecoderBlock, self).__init__(**kwargs)\n",
        "    self.i = i\n",
        "    self.attention1 = d2l.MultiHeadAttention(\n",
        "      key_size, query_size, value_size, num_hiddens, num_heads, dropout)\n",
        "    self.addnorm1 = AddNorm(norm_shape, dropout)\n",
        "    self.attention2 = d2l.MultiHeadAttention(\n",
        "      key_size, query_size, value_size, num_hiddens, num_heads, dropout)\n",
        "    self.addnorm2 = AddNorm(norm_shape, dropout)\n",
        "    self.ffn = PositionWiseFFN(ffn_num_input, ffn_num_hiddens,\n",
        "      num_hiddens)\n",
        "    self.addnorm3 = AddNorm(norm_shape, dropout)\n",
        "\n",
        "  def forward(self, X, state):\n",
        "    enc_outputs, enc_valid_lens = state[0], state[1]\n",
        "    # During training, all the tokens of any output sequence are processed\n",
        "    # at the same time, so `state[2][self.i]` is `None` as initialized.\n",
        "    # When decoding any output sequence token by token during prediction,\n",
        "    # `state[2][self.i]` contains representations of the decoded output at\n",
        "    # the `i`-th block up to the current time step\n",
        "    if state[2][self.i] is None:\n",
        "      key_values = X\n",
        "    else:\n",
        "      key_values = torch.cat((state[2][self.i], X), axis=1)\n",
        "      state[2][self.i] = key_values\n",
        "    if self.training:\n",
        "      batch_size, num_steps, _ = X.shape\n",
        "      # Shape of `dec_valid_lens`: (`batch_size`, `num_steps`), where\n",
        "      # every row is [1, 2, ..., `num_steps`]\n",
        "      dec_valid_lens = torch.arange(\n",
        "        1, num_steps + 1, device=X.device).repeat(batch_size, 1)\n",
        "    else:\n",
        "      dec_valid_lens = None\n",
        "\n",
        "    # Self-attention\n",
        "    X2 = self.attention1(X, key_values, key_values, dec_valid_lens)\n",
        "    Y = self.addnorm1(X, X2)\n",
        "    # Encoder-decoder attention. Shape of `enc_outputs`:\n",
        "    # (`batch_size`, `num_steps`, `num_hiddens`)\n",
        "    Y2 = self.attention2(Y, enc_outputs, enc_outputs, enc_valid_lens)\n",
        "    Z = self.addnorm2(Y, Y2)\n",
        "    return self.addnorm3(Z, self.ffn(Z)), state"
      ],
      "metadata": {
        "id": "WWroBJdwOFS6"
      },
      "execution_count": null,
      "outputs": []
    }
  ]
}