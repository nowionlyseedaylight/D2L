{
  "nbformat": 4,
  "nbformat_minor": 0,
  "metadata": {
    "colab": {
      "name": "11. Optimization Algorithms.ipynb",
      "provenance": [],
      "authorship_tag": "ABX9TyOAEJm12sqNQDygDbQTDLKx"
    },
    "kernelspec": {
      "name": "python3",
      "display_name": "Python 3"
    },
    "language_info": {
      "name": "python"
    }
  },
  "cells": [
    {
      "cell_type": "markdown",
      "source": [
        "# **11.1 Optimization and Deep Learning**\n",
        "\n",
        "11.1.1 Goal of Optimization"
      ],
      "metadata": {
        "id": "ro4pYeAKyQZW"
      }
    },
    {
      "cell_type": "code",
      "execution_count": null,
      "metadata": {
        "id": "N5h22jVZxtIx"
      },
      "outputs": [],
      "source": [
        "%matplotlib inline\n",
        "import numpy as np\n",
        "import torch\n",
        "from mpl_toolkits import mplot"
      ]
    },
    {
      "cell_type": "code",
      "source": [
        "def f(x):\n",
        "  return x * torch.cos(np.pi * x)\n",
        "  \n",
        "def g(x):\n",
        "  return f(x) + 0.2 * torch.cos(5 * np.pi * x)"
      ],
      "metadata": {
        "id": "ppUYJTCYyVhL"
      },
      "execution_count": null,
      "outputs": []
    },
    {
      "cell_type": "code",
      "source": [
        "def annotate(text, xy, xytext): #@save\n",
        "d2l.plt.gca().annotate(text, xy=xy, xytext=xytext,\n",
        "      arrowprops=dict(arrowstyle='->'))\n",
        "x = torch.arange(0.5, 1.5, 0.01)\n",
        "d2l.set_figsize((4.5, 2.5))\n",
        "d2l.plot(x, [f(x), g(x)], 'x', 'risk')\n",
        "annotate('min of\\nempirical risk', (1.0, -1.2), (0.5, -1.1))\n",
        "annotate('min of risk', (1.1, -1.05), (0.95, -0.5))"
      ],
      "metadata": {
        "id": "6V6pWv7wyYvh"
      },
      "execution_count": null,
      "outputs": []
    },
    {
      "cell_type": "markdown",
      "source": [
        "11.1.2 Optimization Challenges in Deep Learning"
      ],
      "metadata": {
        "id": "Cs9qMSMxydgJ"
      }
    },
    {
      "cell_type": "code",
      "source": [
        "x = torch.arange(-1.0, 2.0, 0.01)\n",
        "d2l.plot(x, [f(x), ], 'x', 'f(x)')\n",
        "annotate('local minimum', (-0.3, -0.25), (-0.77, -1.0))\n",
        "annotate('global minimum', (1.1, -0.95), (0.6, 0.8))"
      ],
      "metadata": {
        "id": "Xz73cS5Gyb5V"
      },
      "execution_count": null,
      "outputs": []
    },
    {
      "cell_type": "code",
      "source": [
        "x = torch.arange(-2.0, 2.0, 0.01)\n",
        "d2l.plot(x, [x**3], 'x', 'f(x)')\n",
        "annotate('saddle point', (0, -0.2), (-0.52, -5.0))"
      ],
      "metadata": {
        "id": "gSmlFYRIyhya"
      },
      "execution_count": null,
      "outputs": []
    },
    {
      "cell_type": "code",
      "source": [
        "x, y = torch.meshgrid(\n",
        "        torch.linspace(-1.0, 1.0, 101), torch.linspace(-1.0, 1.0, 101))\n",
        "z = x**2 - y**2\n",
        "\n",
        "ax = d2l.plt.figure().add_subplot(111, projection='3d')\n",
        "ax.plot_wireframe(x, y, z, **{'rstride': 10, 'cstride': 10})\n",
        "ax.plot([0], [0], [0], 'rx')\n",
        "ticks = [-1, 0, 1]\n",
        "d2l.plt.xticks(ticks)\n",
        "d2l.plt.yticks(ticks)\n",
        "ax.set_zticks(ticks)\n",
        "d2l.plt.xlabel('x')\n",
        "d2l.plt.ylabel('y');"
      ],
      "metadata": {
        "id": "Z8B5q2mPykHe"
      },
      "execution_count": null,
      "outputs": []
    },
    {
      "cell_type": "code",
      "source": [
        "x = torch.arange(-2.0, 5.0, 0.01)\n",
        "d2l.plot(x, [torch.tanh(x)], 'x', 'f(x)')\n",
        "annotate('vanishing gradient', (4, 1), (2, 0.0))"
      ],
      "metadata": {
        "id": "BLrQWR7Uypki"
      },
      "execution_count": null,
      "outputs": []
    },
    {
      "cell_type": "markdown",
      "source": [
        "# **11.2 Convexity**\n",
        "\n",
        "11.2.1 Definitions"
      ],
      "metadata": {
        "id": "46BgKVqxyrv0"
      }
    },
    {
      "cell_type": "code",
      "source": [
        "%matplotlib inline\n",
        "import numpy as np\n",
        "import torch\n",
        "from mpl_toolkits import mplot3d\n",
        "from d2l import torch as d2l"
      ],
      "metadata": {
        "id": "C2qUdUC-yuh_"
      },
      "execution_count": null,
      "outputs": []
    },
    {
      "cell_type": "code",
      "source": [
        "f = lambda x: 0.5 * x**2 # Convex\n",
        "g = lambda x: torch.cos(np.pi * x) # Nonconvex\n",
        "h = lambda x: torch.exp(0.5 * x) # Convex\n",
        "\n",
        "x, segment = torch.arange(-2, 2, 0.01), torch.tensor([-1.5, 1])\n",
        "d2l.use_svg_display()\n",
        "_, axes = d2l.plt.subplots(1, 3, figsize=(9, 3))\n",
        "for ax, func in zip(axes, [f, g, h]):\n",
        "  d2l.plot([x, segment], [func(x), func(segment)], axes=ax)"
      ],
      "metadata": {
        "id": "eEm7n725ywcD"
      },
      "execution_count": null,
      "outputs": []
    },
    {
      "cell_type": "markdown",
      "source": [
        "11.2.2 Properties"
      ],
      "metadata": {
        "id": "lO7yv2w8y3-u"
      }
    },
    {
      "cell_type": "code",
      "source": [
        "f = lambda x: (x - 1) ** 2\n",
        "d2l.set_figsize()\n",
        "d2l.plot([x, segment], [f(x), f(segment)], 'x', 'f(x)')"
      ],
      "metadata": {
        "id": "32GPNAvgy10t"
      },
      "execution_count": null,
      "outputs": []
    },
    {
      "cell_type": "markdown",
      "source": [
        "11.2.3 Constraints"
      ],
      "metadata": {
        "id": "1fDYtZDBy8UR"
      }
    },
    {
      "cell_type": "markdown",
      "source": [
        "# **11.3 Gradient Descent**\n",
        "\n",
        "11.3.1 One-Dimensional Gradient Descent"
      ],
      "metadata": {
        "id": "9-uQwzyNy_F1"
      }
    },
    {
      "cell_type": "code",
      "source": [
        "%matplotlib inline\n",
        "import numpy as np\n",
        "import torch\n",
        "from d2l import torch as d2l"
      ],
      "metadata": {
        "id": "Zo0TmoC8zBmF"
      },
      "execution_count": null,
      "outputs": []
    },
    {
      "cell_type": "code",
      "source": [
        "def f(x): # Objective function\n",
        "  return x ** 2\n",
        "def f_grad(x): # Gradient (derivative) of the objective function\n",
        "  return 2 * x"
      ],
      "metadata": {
        "id": "trUcf8iKzDFO"
      },
      "execution_count": null,
      "outputs": []
    },
    {
      "cell_type": "code",
      "source": [
        "def gd(eta, f_grad):\n",
        "  x = 10.0\n",
        "  results = [x]\n",
        "  for i in range(10):\n",
        "    x -= eta * f_grad(x)\n",
        "    results.append(float(x))\n",
        "    print(f'epoch 10, x: {x:f}')\n",
        "  return results\n",
        "results = gd(0.2, f_grad)"
      ],
      "metadata": {
        "id": "TSEqTnYpzFOJ"
      },
      "execution_count": null,
      "outputs": []
    },
    {
      "cell_type": "code",
      "source": [
        "def show_trace(results, f):\n",
        "  n = max(abs(min(results)), abs(max(results)))\n",
        "  f_line = torch.arange(-n, n, 0.01)\n",
        "  d2l.set_figsize()\n",
        "  d2l.plot([f_line, results], [[f(x) for x in f_line], [\n",
        "      f(x) for x in results]], 'x', 'f(x)', fmts=['-', '-o'])\n",
        "  \n",
        "show_trace(results, f)"
      ],
      "metadata": {
        "id": "1uz7h7aGzLpp"
      },
      "execution_count": null,
      "outputs": []
    },
    {
      "cell_type": "code",
      "source": [
        "show_trace(gd(0.05, f_grad), f)"
      ],
      "metadata": {
        "id": "ykTH6b9IzTEd"
      },
      "execution_count": null,
      "outputs": []
    },
    {
      "cell_type": "code",
      "source": [
        "show_trace(gd(1.1, f_grad), f)"
      ],
      "metadata": {
        "id": "unhQu0b9zU9F"
      },
      "execution_count": null,
      "outputs": []
    },
    {
      "cell_type": "code",
      "source": [
        "c = torch.tensor(0.15 * np.pi)\n",
        "\n",
        "def f(x): # Objective function\n",
        "  return x * torch.cos(c * x)\n",
        "\n",
        "def f_grad(x): # Gradient of the objective function\n",
        "  return torch.cos(c * x) - c * x * torch.sin(c * x)\n",
        "  \n",
        "show_trace(gd(2, f_grad), f)"
      ],
      "metadata": {
        "id": "aSBYkPH4zW2Z"
      },
      "execution_count": null,
      "outputs": []
    },
    {
      "cell_type": "markdown",
      "source": [
        "11.3.2 Multivariate Gradient Descent"
      ],
      "metadata": {
        "id": "-UNdwspnzcIh"
      }
    },
    {
      "cell_type": "code",
      "source": [
        "def train_2d(trainer, steps=20, f_grad=None): #@save\n",
        "  \"\"\"Optimize a 2D objective function with a customized trainer.\"\"\"\n",
        "  # `s1` and `s2` are internal state variables that will be used later\n",
        "  x1, x2, s1, s2 = -5, -2, 0, 0\n",
        "  results = [(x1, x2)]\n",
        "  for i in range(steps):\n",
        "    if f_grad:\n",
        "      x1, x2, s1, s2 = trainer(x1, x2, s1, s2, f_grad)\n",
        "    else:\n",
        "      x1, x2, s1, s2 = trainer(x1, x2, s1, s2)\n",
        "    results.append((x1, x2))\n",
        "  print(f'epoch {i + 1}, x1: {float(x1):f}, x2: {float(x2):f}')\n",
        "  return results\n",
        "\n",
        "def show_trace_2d(f, results): #@save\n",
        "  \"\"\"Show the trace of 2D variables during optimization.\"\"\"\n",
        "  d2l.set_figsize()\n",
        "  d2l.plt.plot(*zip(*results), '-o', color='#ff7f0e')\n",
        "  x1, x2 = torch.meshgrid(torch.arange(-5.5, 1.0, 0.1),\n",
        "      torch.arange(-3.0, 1.0, 0.1))\n",
        "  d2l.plt.contour(x1, x2, f(x1, x2), colors='#1f77b4')\n",
        "  d2l.plt.xlabel('x1')\n",
        "  d2l.plt.ylabel('x2')"
      ],
      "metadata": {
        "id": "fA0wbO3dzcnS"
      },
      "execution_count": null,
      "outputs": []
    },
    {
      "cell_type": "code",
      "source": [
        "def f_2d(x1, x2): # Objective function\n",
        "  return x1 ** 2 + 2 * x2 ** 2\n",
        "def f_2d_grad(x1, x2): # Gradient of the objective function\n",
        "  return (2 * x1, 4 * x2)\n",
        "def gd_2d(x1, x2, s1, s2, f_grad):\n",
        "  g1, g2 = f_grad(x1, x2)\n",
        "  return (x1 - eta * g1, x2 - eta * g2, 0, 0)\n",
        "  \n",
        "eta = 0.1\n",
        "show_trace_2d(f_2d, train_2d(gd_2d, f_grad=f_2d_grad))"
      ],
      "metadata": {
        "id": "0dAcVOvBzpvB"
      },
      "execution_count": null,
      "outputs": []
    },
    {
      "cell_type": "markdown",
      "source": [
        "11.3.3 Adaptive Methods"
      ],
      "metadata": {
        "id": "niCKuMXAzwZn"
      }
    },
    {
      "cell_type": "code",
      "source": [
        "c = torch.tensor(0.5)\n",
        "\n",
        "def f(x): # Objective function\n",
        "  return torch.cosh(c * x)\n",
        "def f_grad(x): # Gradient of the objective function\n",
        "  return c * torch.sinh(c * x)\n",
        "def f_hess(x): # Hessian of the objective function\n",
        "  return c**2 * torch.cosh(c * x)\n",
        "def newton(eta=1):\n",
        "  x = 10.0\n",
        "  results = [x]\n",
        "  for i in range(10):\n",
        "    x -= eta * f_grad(x) / f_hess(x)\n",
        "    results.append(float(x))\n",
        "  print('epoch 10, x:', x)\n",
        "  return results\n",
        "  \n",
        "show_trace(newton(), f)"
      ],
      "metadata": {
        "id": "PIJYlg-rzytq"
      },
      "execution_count": null,
      "outputs": []
    },
    {
      "cell_type": "code",
      "source": [
        "c = torch.tensor(0.15 * np.pi)\n",
        "\n",
        "def f(x): # Objective function\n",
        "  return x * torch.cos(c * x)\n",
        "def f_grad(x): # Gradient of the objective function\n",
        "  return torch.cos(c * x) - c * x * torch.sin(c * x)\n",
        "def f_hess(x): # Hessian of the objective function\n",
        "  return - 2 * c * torch.sin(c * x) - x * c**2 * torch.cos(c * x)\n",
        "\n",
        "show_trace(newton(), f)"
      ],
      "metadata": {
        "id": "pci4LlS0z7U3"
      },
      "execution_count": null,
      "outputs": []
    },
    {
      "cell_type": "code",
      "source": [
        "show_trace(newton(0.5), f)"
      ],
      "metadata": {
        "id": "6wxJbq2Rz_C7"
      },
      "execution_count": null,
      "outputs": []
    }
  ]
}